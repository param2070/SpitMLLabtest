{
  "metadata": {
    "kernelspec": {
      "language": "python",
      "display_name": "Python 3",
      "name": "python3"
    },
    "language_info": {
      "pygments_lexer": "ipython3",
      "nbconvert_exporter": "python",
      "version": "3.6.4",
      "file_extension": ".py",
      "codemirror_mode": {
        "name": "ipython",
        "version": 3
      },
      "name": "python",
      "mimetype": "text/x-python"
    },
    "colab": {
      "provenance": []
    }
  },
  "nbformat_minor": 0,
  "nbformat": 4,
  "cells": [
    {
      "cell_type": "code",
      "source": [
        "# Import Libraries\n",
        "\n",
        "# 1. Libraries for EDA\n",
        "import numpy as np\n",
        "import pandas as pd\n",
        "import matplotlib.pyplot as plt\n",
        "import seaborn as sns\n",
        "import plotly.express as px\n",
        "\n",
        "# Pre-Processing Libraries\n",
        "from sklearn.impute import SimpleImputer\n",
        "from sklearn.compose import ColumnTransformer\n",
        "from sklearn.preprocessing import OneHotEncoder\n",
        "\n",
        "# Modelling Algorithms\n",
        "from sklearn.linear_model import LogisticRegression\n",
        "from sklearn.naive_bayes import GaussianNB\n",
        "from sklearn.neighbors import KNeighborsClassifier\n",
        "from sklearn.tree import DecisionTreeClassifier\n",
        "from sklearn.ensemble import RandomForestClassifier\n",
        "from sklearn.ensemble import GradientBoostingClassifier\n",
        "from sklearn.svm import SVC\n",
        "from xgboost import XGBClassifier\n",
        "\n",
        "# Testing\n",
        "from sklearn.model_selection import RepeatedStratifiedKFold\n",
        "from sklearn.model_selection import GridSearchCV\n",
        "\n",
        "print(\"Libraries Imported\")"
      ],
      "metadata": {
        "colab": {
          "base_uri": "https://localhost:8080/"
        },
        "id": "Icemz2QOwSaw",
        "outputId": "5157534b-c0ad-470e-d1e4-c3098fa4a2d1"
      },
      "execution_count": 1,
      "outputs": [
        {
          "output_type": "stream",
          "name": "stdout",
          "text": [
            "Libraries Imported\n"
          ]
        }
      ]
    },
    {
      "cell_type": "markdown",
      "source": [
        "## Loading Data"
      ],
      "metadata": {
        "id": "AD3wFLtpwSa-"
      }
    },
    {
      "cell_type": "code",
      "source": [
        "train_df = pd.read_csv(\"train.csv\")\n",
        "test_df = pd.read_csv(\"test.csv\")\n",
        "\n",
        "print(\"Data Loaded Successfully\")"
      ],
      "metadata": {
        "colab": {
          "base_uri": "https://localhost:8080/"
        },
        "id": "AWU4FNBIwSbD",
        "outputId": "db86ea5c-5c8c-40e4-9fc6-01ca2c1f52d6"
      },
      "execution_count": 2,
      "outputs": [
        {
          "output_type": "stream",
          "name": "stdout",
          "text": [
            "Data Loaded Successfully\n"
          ]
        }
      ]
    },
    {
      "cell_type": "markdown",
      "source": [
        "## Some Info About the Data"
      ],
      "metadata": {
        "id": "KBDnmGZRwSbF"
      }
    },
    {
      "cell_type": "code",
      "source": [
        "# First 5 rows of dataset\n",
        "train_df.head()"
      ],
      "metadata": {
        "colab": {
          "base_uri": "https://localhost:8080/",
          "height": 357
        },
        "id": "EMX5XiUiwSbI",
        "outputId": "19294202-61d2-4cff-b3d8-e0971f0989c2"
      },
      "execution_count": 3,
      "outputs": [
        {
          "output_type": "execute_result",
          "data": {
            "text/plain": [
              "  PassengerId HomePlanet CryoSleep  Cabin  Destination   Age    VIP  \\\n",
              "0     0001_01     Europa     False  B/0/P  TRAPPIST-1e  39.0  False   \n",
              "1     0002_01      Earth     False  F/0/S  TRAPPIST-1e  24.0  False   \n",
              "2     0003_01     Europa     False  A/0/S  TRAPPIST-1e  58.0   True   \n",
              "3     0003_02     Europa     False  A/0/S  TRAPPIST-1e  33.0  False   \n",
              "4     0004_01      Earth     False  F/1/S  TRAPPIST-1e  16.0  False   \n",
              "\n",
              "   RoomService  FoodCourt  ShoppingMall     Spa  VRDeck               Name  \\\n",
              "0          0.0        0.0           0.0     0.0     0.0    Maham Ofracculy   \n",
              "1        109.0        9.0          25.0   549.0    44.0       Juanna Vines   \n",
              "2         43.0     3576.0           0.0  6715.0    49.0      Altark Susent   \n",
              "3          0.0     1283.0         371.0  3329.0   193.0       Solam Susent   \n",
              "4        303.0       70.0         151.0   565.0     2.0  Willy Santantines   \n",
              "\n",
              "   Transported  \n",
              "0        False  \n",
              "1         True  \n",
              "2        False  \n",
              "3        False  \n",
              "4         True  "
            ],
            "text/html": [
              "\n",
              "  <div id=\"df-366e843e-e679-4f1d-91dc-39649f97645a\">\n",
              "    <div class=\"colab-df-container\">\n",
              "      <div>\n",
              "<style scoped>\n",
              "    .dataframe tbody tr th:only-of-type {\n",
              "        vertical-align: middle;\n",
              "    }\n",
              "\n",
              "    .dataframe tbody tr th {\n",
              "        vertical-align: top;\n",
              "    }\n",
              "\n",
              "    .dataframe thead th {\n",
              "        text-align: right;\n",
              "    }\n",
              "</style>\n",
              "<table border=\"1\" class=\"dataframe\">\n",
              "  <thead>\n",
              "    <tr style=\"text-align: right;\">\n",
              "      <th></th>\n",
              "      <th>PassengerId</th>\n",
              "      <th>HomePlanet</th>\n",
              "      <th>CryoSleep</th>\n",
              "      <th>Cabin</th>\n",
              "      <th>Destination</th>\n",
              "      <th>Age</th>\n",
              "      <th>VIP</th>\n",
              "      <th>RoomService</th>\n",
              "      <th>FoodCourt</th>\n",
              "      <th>ShoppingMall</th>\n",
              "      <th>Spa</th>\n",
              "      <th>VRDeck</th>\n",
              "      <th>Name</th>\n",
              "      <th>Transported</th>\n",
              "    </tr>\n",
              "  </thead>\n",
              "  <tbody>\n",
              "    <tr>\n",
              "      <th>0</th>\n",
              "      <td>0001_01</td>\n",
              "      <td>Europa</td>\n",
              "      <td>False</td>\n",
              "      <td>B/0/P</td>\n",
              "      <td>TRAPPIST-1e</td>\n",
              "      <td>39.0</td>\n",
              "      <td>False</td>\n",
              "      <td>0.0</td>\n",
              "      <td>0.0</td>\n",
              "      <td>0.0</td>\n",
              "      <td>0.0</td>\n",
              "      <td>0.0</td>\n",
              "      <td>Maham Ofracculy</td>\n",
              "      <td>False</td>\n",
              "    </tr>\n",
              "    <tr>\n",
              "      <th>1</th>\n",
              "      <td>0002_01</td>\n",
              "      <td>Earth</td>\n",
              "      <td>False</td>\n",
              "      <td>F/0/S</td>\n",
              "      <td>TRAPPIST-1e</td>\n",
              "      <td>24.0</td>\n",
              "      <td>False</td>\n",
              "      <td>109.0</td>\n",
              "      <td>9.0</td>\n",
              "      <td>25.0</td>\n",
              "      <td>549.0</td>\n",
              "      <td>44.0</td>\n",
              "      <td>Juanna Vines</td>\n",
              "      <td>True</td>\n",
              "    </tr>\n",
              "    <tr>\n",
              "      <th>2</th>\n",
              "      <td>0003_01</td>\n",
              "      <td>Europa</td>\n",
              "      <td>False</td>\n",
              "      <td>A/0/S</td>\n",
              "      <td>TRAPPIST-1e</td>\n",
              "      <td>58.0</td>\n",
              "      <td>True</td>\n",
              "      <td>43.0</td>\n",
              "      <td>3576.0</td>\n",
              "      <td>0.0</td>\n",
              "      <td>6715.0</td>\n",
              "      <td>49.0</td>\n",
              "      <td>Altark Susent</td>\n",
              "      <td>False</td>\n",
              "    </tr>\n",
              "    <tr>\n",
              "      <th>3</th>\n",
              "      <td>0003_02</td>\n",
              "      <td>Europa</td>\n",
              "      <td>False</td>\n",
              "      <td>A/0/S</td>\n",
              "      <td>TRAPPIST-1e</td>\n",
              "      <td>33.0</td>\n",
              "      <td>False</td>\n",
              "      <td>0.0</td>\n",
              "      <td>1283.0</td>\n",
              "      <td>371.0</td>\n",
              "      <td>3329.0</td>\n",
              "      <td>193.0</td>\n",
              "      <td>Solam Susent</td>\n",
              "      <td>False</td>\n",
              "    </tr>\n",
              "    <tr>\n",
              "      <th>4</th>\n",
              "      <td>0004_01</td>\n",
              "      <td>Earth</td>\n",
              "      <td>False</td>\n",
              "      <td>F/1/S</td>\n",
              "      <td>TRAPPIST-1e</td>\n",
              "      <td>16.0</td>\n",
              "      <td>False</td>\n",
              "      <td>303.0</td>\n",
              "      <td>70.0</td>\n",
              "      <td>151.0</td>\n",
              "      <td>565.0</td>\n",
              "      <td>2.0</td>\n",
              "      <td>Willy Santantines</td>\n",
              "      <td>True</td>\n",
              "    </tr>\n",
              "  </tbody>\n",
              "</table>\n",
              "</div>\n",
              "      <button class=\"colab-df-convert\" onclick=\"convertToInteractive('df-366e843e-e679-4f1d-91dc-39649f97645a')\"\n",
              "              title=\"Convert this dataframe to an interactive table.\"\n",
              "              style=\"display:none;\">\n",
              "        \n",
              "  <svg xmlns=\"http://www.w3.org/2000/svg\" height=\"24px\"viewBox=\"0 0 24 24\"\n",
              "       width=\"24px\">\n",
              "    <path d=\"M0 0h24v24H0V0z\" fill=\"none\"/>\n",
              "    <path d=\"M18.56 5.44l.94 2.06.94-2.06 2.06-.94-2.06-.94-.94-2.06-.94 2.06-2.06.94zm-11 1L8.5 8.5l.94-2.06 2.06-.94-2.06-.94L8.5 2.5l-.94 2.06-2.06.94zm10 10l.94 2.06.94-2.06 2.06-.94-2.06-.94-.94-2.06-.94 2.06-2.06.94z\"/><path d=\"M17.41 7.96l-1.37-1.37c-.4-.4-.92-.59-1.43-.59-.52 0-1.04.2-1.43.59L10.3 9.45l-7.72 7.72c-.78.78-.78 2.05 0 2.83L4 21.41c.39.39.9.59 1.41.59.51 0 1.02-.2 1.41-.59l7.78-7.78 2.81-2.81c.8-.78.8-2.07 0-2.86zM5.41 20L4 18.59l7.72-7.72 1.47 1.35L5.41 20z\"/>\n",
              "  </svg>\n",
              "      </button>\n",
              "      \n",
              "  <style>\n",
              "    .colab-df-container {\n",
              "      display:flex;\n",
              "      flex-wrap:wrap;\n",
              "      gap: 12px;\n",
              "    }\n",
              "\n",
              "    .colab-df-convert {\n",
              "      background-color: #E8F0FE;\n",
              "      border: none;\n",
              "      border-radius: 50%;\n",
              "      cursor: pointer;\n",
              "      display: none;\n",
              "      fill: #1967D2;\n",
              "      height: 32px;\n",
              "      padding: 0 0 0 0;\n",
              "      width: 32px;\n",
              "    }\n",
              "\n",
              "    .colab-df-convert:hover {\n",
              "      background-color: #E2EBFA;\n",
              "      box-shadow: 0px 1px 2px rgba(60, 64, 67, 0.3), 0px 1px 3px 1px rgba(60, 64, 67, 0.15);\n",
              "      fill: #174EA6;\n",
              "    }\n",
              "\n",
              "    [theme=dark] .colab-df-convert {\n",
              "      background-color: #3B4455;\n",
              "      fill: #D2E3FC;\n",
              "    }\n",
              "\n",
              "    [theme=dark] .colab-df-convert:hover {\n",
              "      background-color: #434B5C;\n",
              "      box-shadow: 0px 1px 3px 1px rgba(0, 0, 0, 0.15);\n",
              "      filter: drop-shadow(0px 1px 2px rgba(0, 0, 0, 0.3));\n",
              "      fill: #FFFFFF;\n",
              "    }\n",
              "  </style>\n",
              "\n",
              "      <script>\n",
              "        const buttonEl =\n",
              "          document.querySelector('#df-366e843e-e679-4f1d-91dc-39649f97645a button.colab-df-convert');\n",
              "        buttonEl.style.display =\n",
              "          google.colab.kernel.accessAllowed ? 'block' : 'none';\n",
              "\n",
              "        async function convertToInteractive(key) {\n",
              "          const element = document.querySelector('#df-366e843e-e679-4f1d-91dc-39649f97645a');\n",
              "          const dataTable =\n",
              "            await google.colab.kernel.invokeFunction('convertToInteractive',\n",
              "                                                     [key], {});\n",
              "          if (!dataTable) return;\n",
              "\n",
              "          const docLinkHtml = 'Like what you see? Visit the ' +\n",
              "            '<a target=\"_blank\" href=https://colab.research.google.com/notebooks/data_table.ipynb>data table notebook</a>'\n",
              "            + ' to learn more about interactive tables.';\n",
              "          element.innerHTML = '';\n",
              "          dataTable['output_type'] = 'display_data';\n",
              "          await google.colab.output.renderOutput(dataTable, element);\n",
              "          const docLink = document.createElement('div');\n",
              "          docLink.innerHTML = docLinkHtml;\n",
              "          element.appendChild(docLink);\n",
              "        }\n",
              "      </script>\n",
              "    </div>\n",
              "  </div>\n",
              "  "
            ]
          },
          "metadata": {},
          "execution_count": 3
        }
      ]
    },
    {
      "cell_type": "code",
      "source": [
        "# Get some info on our dataset\n",
        "train_df.info()"
      ],
      "metadata": {
        "colab": {
          "base_uri": "https://localhost:8080/"
        },
        "id": "ZRYo7nscwSbK",
        "outputId": "de0f04a1-3638-458c-8993-e41a01958e7f"
      },
      "execution_count": 4,
      "outputs": [
        {
          "output_type": "stream",
          "name": "stdout",
          "text": [
            "<class 'pandas.core.frame.DataFrame'>\n",
            "RangeIndex: 8693 entries, 0 to 8692\n",
            "Data columns (total 14 columns):\n",
            " #   Column        Non-Null Count  Dtype  \n",
            "---  ------        --------------  -----  \n",
            " 0   PassengerId   8693 non-null   object \n",
            " 1   HomePlanet    8492 non-null   object \n",
            " 2   CryoSleep     8476 non-null   object \n",
            " 3   Cabin         8494 non-null   object \n",
            " 4   Destination   8511 non-null   object \n",
            " 5   Age           8514 non-null   float64\n",
            " 6   VIP           8490 non-null   object \n",
            " 7   RoomService   8512 non-null   float64\n",
            " 8   FoodCourt     8510 non-null   float64\n",
            " 9   ShoppingMall  8485 non-null   float64\n",
            " 10  Spa           8510 non-null   float64\n",
            " 11  VRDeck        8505 non-null   float64\n",
            " 12  Name          8493 non-null   object \n",
            " 13  Transported   8693 non-null   bool   \n",
            "dtypes: bool(1), float64(6), object(7)\n",
            "memory usage: 891.5+ KB\n"
          ]
        }
      ]
    },
    {
      "cell_type": "markdown",
      "source": [
        "**Observation**\n",
        "* There are a total of 8693 entries/data-points\n",
        "* There are 14 columns, and 13 feature columns and one target variable `Transported`\n",
        "* Our dataset has 3 datatypes\n",
        "    * 6 Float Values\n",
        "    * 7 Objects/String\n",
        "    * 1 Bool (This is the target variable, we'll convert this to 0's & 1's)\n"
      ],
      "metadata": {
        "id": "5FmJIMwiwSbM"
      }
    },
    {
      "cell_type": "code",
      "source": [
        "# Some description of the numeric columns\n",
        "train_df.describe()"
      ],
      "metadata": {
        "colab": {
          "base_uri": "https://localhost:8080/",
          "height": 344
        },
        "id": "PMpKcN64wSbO",
        "outputId": "d8cce1b1-18b7-4244-9e6a-aa6e206efaab"
      },
      "execution_count": 5,
      "outputs": [
        {
          "output_type": "execute_result",
          "data": {
            "text/plain": [
              "               Age   RoomService     FoodCourt  ShoppingMall           Spa  \\\n",
              "count  8514.000000   8512.000000   8510.000000   8485.000000   8510.000000   \n",
              "mean     28.827930    224.687617    458.077203    173.729169    311.138778   \n",
              "std      14.489021    666.717663   1611.489240    604.696458   1136.705535   \n",
              "min       0.000000      0.000000      0.000000      0.000000      0.000000   \n",
              "25%      19.000000      0.000000      0.000000      0.000000      0.000000   \n",
              "50%      27.000000      0.000000      0.000000      0.000000      0.000000   \n",
              "75%      38.000000     47.000000     76.000000     27.000000     59.000000   \n",
              "max      79.000000  14327.000000  29813.000000  23492.000000  22408.000000   \n",
              "\n",
              "             VRDeck  \n",
              "count   8505.000000  \n",
              "mean     304.854791  \n",
              "std     1145.717189  \n",
              "min        0.000000  \n",
              "25%        0.000000  \n",
              "50%        0.000000  \n",
              "75%       46.000000  \n",
              "max    24133.000000  "
            ],
            "text/html": [
              "\n",
              "  <div id=\"df-35449e44-72e2-45ea-823a-cf78a80d7f4e\">\n",
              "    <div class=\"colab-df-container\">\n",
              "      <div>\n",
              "<style scoped>\n",
              "    .dataframe tbody tr th:only-of-type {\n",
              "        vertical-align: middle;\n",
              "    }\n",
              "\n",
              "    .dataframe tbody tr th {\n",
              "        vertical-align: top;\n",
              "    }\n",
              "\n",
              "    .dataframe thead th {\n",
              "        text-align: right;\n",
              "    }\n",
              "</style>\n",
              "<table border=\"1\" class=\"dataframe\">\n",
              "  <thead>\n",
              "    <tr style=\"text-align: right;\">\n",
              "      <th></th>\n",
              "      <th>Age</th>\n",
              "      <th>RoomService</th>\n",
              "      <th>FoodCourt</th>\n",
              "      <th>ShoppingMall</th>\n",
              "      <th>Spa</th>\n",
              "      <th>VRDeck</th>\n",
              "    </tr>\n",
              "  </thead>\n",
              "  <tbody>\n",
              "    <tr>\n",
              "      <th>count</th>\n",
              "      <td>8514.000000</td>\n",
              "      <td>8512.000000</td>\n",
              "      <td>8510.000000</td>\n",
              "      <td>8485.000000</td>\n",
              "      <td>8510.000000</td>\n",
              "      <td>8505.000000</td>\n",
              "    </tr>\n",
              "    <tr>\n",
              "      <th>mean</th>\n",
              "      <td>28.827930</td>\n",
              "      <td>224.687617</td>\n",
              "      <td>458.077203</td>\n",
              "      <td>173.729169</td>\n",
              "      <td>311.138778</td>\n",
              "      <td>304.854791</td>\n",
              "    </tr>\n",
              "    <tr>\n",
              "      <th>std</th>\n",
              "      <td>14.489021</td>\n",
              "      <td>666.717663</td>\n",
              "      <td>1611.489240</td>\n",
              "      <td>604.696458</td>\n",
              "      <td>1136.705535</td>\n",
              "      <td>1145.717189</td>\n",
              "    </tr>\n",
              "    <tr>\n",
              "      <th>min</th>\n",
              "      <td>0.000000</td>\n",
              "      <td>0.000000</td>\n",
              "      <td>0.000000</td>\n",
              "      <td>0.000000</td>\n",
              "      <td>0.000000</td>\n",
              "      <td>0.000000</td>\n",
              "    </tr>\n",
              "    <tr>\n",
              "      <th>25%</th>\n",
              "      <td>19.000000</td>\n",
              "      <td>0.000000</td>\n",
              "      <td>0.000000</td>\n",
              "      <td>0.000000</td>\n",
              "      <td>0.000000</td>\n",
              "      <td>0.000000</td>\n",
              "    </tr>\n",
              "    <tr>\n",
              "      <th>50%</th>\n",
              "      <td>27.000000</td>\n",
              "      <td>0.000000</td>\n",
              "      <td>0.000000</td>\n",
              "      <td>0.000000</td>\n",
              "      <td>0.000000</td>\n",
              "      <td>0.000000</td>\n",
              "    </tr>\n",
              "    <tr>\n",
              "      <th>75%</th>\n",
              "      <td>38.000000</td>\n",
              "      <td>47.000000</td>\n",
              "      <td>76.000000</td>\n",
              "      <td>27.000000</td>\n",
              "      <td>59.000000</td>\n",
              "      <td>46.000000</td>\n",
              "    </tr>\n",
              "    <tr>\n",
              "      <th>max</th>\n",
              "      <td>79.000000</td>\n",
              "      <td>14327.000000</td>\n",
              "      <td>29813.000000</td>\n",
              "      <td>23492.000000</td>\n",
              "      <td>22408.000000</td>\n",
              "      <td>24133.000000</td>\n",
              "    </tr>\n",
              "  </tbody>\n",
              "</table>\n",
              "</div>\n",
              "      <button class=\"colab-df-convert\" onclick=\"convertToInteractive('df-35449e44-72e2-45ea-823a-cf78a80d7f4e')\"\n",
              "              title=\"Convert this dataframe to an interactive table.\"\n",
              "              style=\"display:none;\">\n",
              "        \n",
              "  <svg xmlns=\"http://www.w3.org/2000/svg\" height=\"24px\"viewBox=\"0 0 24 24\"\n",
              "       width=\"24px\">\n",
              "    <path d=\"M0 0h24v24H0V0z\" fill=\"none\"/>\n",
              "    <path d=\"M18.56 5.44l.94 2.06.94-2.06 2.06-.94-2.06-.94-.94-2.06-.94 2.06-2.06.94zm-11 1L8.5 8.5l.94-2.06 2.06-.94-2.06-.94L8.5 2.5l-.94 2.06-2.06.94zm10 10l.94 2.06.94-2.06 2.06-.94-2.06-.94-.94-2.06-.94 2.06-2.06.94z\"/><path d=\"M17.41 7.96l-1.37-1.37c-.4-.4-.92-.59-1.43-.59-.52 0-1.04.2-1.43.59L10.3 9.45l-7.72 7.72c-.78.78-.78 2.05 0 2.83L4 21.41c.39.39.9.59 1.41.59.51 0 1.02-.2 1.41-.59l7.78-7.78 2.81-2.81c.8-.78.8-2.07 0-2.86zM5.41 20L4 18.59l7.72-7.72 1.47 1.35L5.41 20z\"/>\n",
              "  </svg>\n",
              "      </button>\n",
              "      \n",
              "  <style>\n",
              "    .colab-df-container {\n",
              "      display:flex;\n",
              "      flex-wrap:wrap;\n",
              "      gap: 12px;\n",
              "    }\n",
              "\n",
              "    .colab-df-convert {\n",
              "      background-color: #E8F0FE;\n",
              "      border: none;\n",
              "      border-radius: 50%;\n",
              "      cursor: pointer;\n",
              "      display: none;\n",
              "      fill: #1967D2;\n",
              "      height: 32px;\n",
              "      padding: 0 0 0 0;\n",
              "      width: 32px;\n",
              "    }\n",
              "\n",
              "    .colab-df-convert:hover {\n",
              "      background-color: #E2EBFA;\n",
              "      box-shadow: 0px 1px 2px rgba(60, 64, 67, 0.3), 0px 1px 3px 1px rgba(60, 64, 67, 0.15);\n",
              "      fill: #174EA6;\n",
              "    }\n",
              "\n",
              "    [theme=dark] .colab-df-convert {\n",
              "      background-color: #3B4455;\n",
              "      fill: #D2E3FC;\n",
              "    }\n",
              "\n",
              "    [theme=dark] .colab-df-convert:hover {\n",
              "      background-color: #434B5C;\n",
              "      box-shadow: 0px 1px 3px 1px rgba(0, 0, 0, 0.15);\n",
              "      filter: drop-shadow(0px 1px 2px rgba(0, 0, 0, 0.3));\n",
              "      fill: #FFFFFF;\n",
              "    }\n",
              "  </style>\n",
              "\n",
              "      <script>\n",
              "        const buttonEl =\n",
              "          document.querySelector('#df-35449e44-72e2-45ea-823a-cf78a80d7f4e button.colab-df-convert');\n",
              "        buttonEl.style.display =\n",
              "          google.colab.kernel.accessAllowed ? 'block' : 'none';\n",
              "\n",
              "        async function convertToInteractive(key) {\n",
              "          const element = document.querySelector('#df-35449e44-72e2-45ea-823a-cf78a80d7f4e');\n",
              "          const dataTable =\n",
              "            await google.colab.kernel.invokeFunction('convertToInteractive',\n",
              "                                                     [key], {});\n",
              "          if (!dataTable) return;\n",
              "\n",
              "          const docLinkHtml = 'Like what you see? Visit the ' +\n",
              "            '<a target=\"_blank\" href=https://colab.research.google.com/notebooks/data_table.ipynb>data table notebook</a>'\n",
              "            + ' to learn more about interactive tables.';\n",
              "          element.innerHTML = '';\n",
              "          dataTable['output_type'] = 'display_data';\n",
              "          await google.colab.output.renderOutput(dataTable, element);\n",
              "          const docLink = document.createElement('div');\n",
              "          docLink.innerHTML = docLinkHtml;\n",
              "          element.appendChild(docLink);\n",
              "        }\n",
              "      </script>\n",
              "    </div>\n",
              "  </div>\n",
              "  "
            ]
          },
          "metadata": {},
          "execution_count": 5
        }
      ]
    },
    {
      "cell_type": "markdown",
      "source": [
        "**Observation**\n",
        "\n",
        "* Age Column\n",
        "    * Ages start from 0 and go till 79\n",
        "    * 75% poeple are less than the age of `38`\n",
        "    \n",
        "* RoomService, FoodCourt, ShoppingMall, Spa, VRDeck\n",
        "    * The most poeple were billed at the FoodCourt\n",
        "    * The cheapest luxury was the Room Service, which is pretty obvious why\n",
        "    * These columns DON'T contradict with our common sense, so they are pretty good at they are\n",
        "    \n",
        "  "
      ],
      "metadata": {
        "id": "hTBQBZqywSbQ"
      }
    },
    {
      "cell_type": "code",
      "source": [
        "train_df.isna().sum()"
      ],
      "metadata": {
        "colab": {
          "base_uri": "https://localhost:8080/"
        },
        "id": "1tRcfL5jwSbS",
        "outputId": "e3a9cd21-1bd1-4fd0-cdef-4db5849b0e3b"
      },
      "execution_count": 6,
      "outputs": [
        {
          "output_type": "execute_result",
          "data": {
            "text/plain": [
              "PassengerId       0\n",
              "HomePlanet      201\n",
              "CryoSleep       217\n",
              "Cabin           199\n",
              "Destination     182\n",
              "Age             179\n",
              "VIP             203\n",
              "RoomService     181\n",
              "FoodCourt       183\n",
              "ShoppingMall    208\n",
              "Spa             183\n",
              "VRDeck          188\n",
              "Name            200\n",
              "Transported       0\n",
              "dtype: int64"
            ]
          },
          "metadata": {},
          "execution_count": 6
        }
      ]
    },
    {
      "cell_type": "code",
      "source": [
        "# Check for Null values\n",
        "fig, ax = plt.subplots(2, 1, figsize=(10, 8), dpi=120)\n",
        "train_df.isna().sum().plot(kind=\"barh\", color=[\"#003049\", \"#d62828\"], ax=ax[0]) # Train\n",
        "test_df.isna().sum().plot(kind=\"barh\", color=[\"#000000\", \"#14213d\"], ax=ax[1])  # Test\n",
        "plt.show()"
      ],
      "metadata": {
        "colab": {
          "base_uri": "https://localhost:8080/",
          "height": 501
        },
        "id": "krmnjhsewSbT",
        "outputId": "dac2cdc5-975b-4013-9953-618adaed455e"
      },
      "execution_count": 7,
      "outputs": [
        {
          "output_type": "display_data",
          "data": {
            "text/plain": [
              "<Figure size 1200x960 with 2 Axes>"
            ],
            "image/png": "[encoded data removed]"
          },
          "metadata": {
            "needs_background": "light"
          }
        }
      ]
    },
    {
      "cell_type": "markdown",
      "source": [
        "## Doing Some EDA\n",
        "* Exploring the numeric features (Histrograms)\n",
        "* Exploring the categroical columns (Bar Charts, Scatter Plots)\n",
        "* Exploring the relation of columns to getting Transported or NOT"
      ],
      "metadata": {
        "id": "PizXWLiYwSbU"
      }
    },
    {
      "cell_type": "markdown",
      "source": [
        "### Exploring numeric features"
      ],
      "metadata": {
        "id": "WCyCeCuywSbV"
      }
    },
    {
      "cell_type": "code",
      "source": [
        "# 1. What are the numeric columns\n",
        "train_df.select_dtypes(\"Float64\").columns"
      ],
      "metadata": {
        "colab": {
          "base_uri": "https://localhost:8080/"
        },
        "id": "j9gMHWVPwSbW",
        "outputId": "339b483c-6c42-4b31-efed-7f6dcbaa3962"
      },
      "execution_count": 8,
      "outputs": [
        {
          "output_type": "execute_result",
          "data": {
            "text/plain": [
              "Index(['Age', 'RoomService', 'FoodCourt', 'ShoppingMall', 'Spa', 'VRDeck'], dtype='object')"
            ]
          },
          "metadata": {},
          "execution_count": 8
        }
      ]
    },
    {
      "cell_type": "code",
      "source": [
        "# 2. Let's plot the distribution of Age\n",
        "px.histogram(data_frame = train_df, x=\"Age\")"
      ],
      "metadata": {
        "colab": {
          "base_uri": "https://localhost:8080/",
          "height": 542
        },
        "id": "BotzfQcowSbX",
        "outputId": "816ff953-96a4-46da-d1b7-85189368c438"
      },
      "execution_count": 9,
      "outputs": [
        {
          "output_type": "display_data",
          "data": {
            "text/html": [
              "<html>\n",
              "<head><meta charset=\"utf-8\" /></head>\n",
              "<body>\n",
              "    <div>            <script src=\"https://cdnjs.cloudflare.com/ajax/libs/mathjax/2.7.5/MathJax.js?config=TeX-AMS-MML_SVG\"></script><script type=\"text/javascript\">if (window.MathJax) {MathJax.Hub.Config({SVG: {font: \"STIX-Web\"}});}</script>                <script type=\"text/javascript\">window.PlotlyConfig = {MathJaxConfig: 'local'};</script>\n",
              "        <script src=\"https://cdn.plot.ly/plotly-2.8.3.min.js\"></script>                <div id=\"2e2884d7-6ef1-4fa2-aeeb-af75a065f008\" class=\"plotly-graph-div\" style=\"height:525px; width:100%;\"></div>            <script type=\"text/javascript\">                                    window.PLOTLYENV=window.PLOTLYENV || {};                                    if (document.getElementById(\"2e2884d7-6ef1-4fa2-aeeb-af75a065f008\")) {                    Plotly.newPlot(                        \"2e2884d7-6ef1-4fa2-aeeb-af75a065f008\",                        [{\"alignmentgroup\":\"True\",\"bingroup\":\"x\",\"hovertemplate\":\"Age=%{x}<br>count=%{y}<extra></extra>\",\"legendgroup\":\"\",\"marker\":{\"color\":\"#636efa\",\"pattern\":{\"shape\":\"\"}},\"name\":\"\",\"offsetgroup\":\"\",\"orientation\":\"v\",\"showlegend\":false,\"x\":[39.0,24.0,58.0,33.0,16.0,44.0,26.0,28.0,35.0,14.0,34.0,45.0,32.0,48.0,28.0,31.0,27.0,24.0,45.0,0.0,14.0,1.0,49.0,29.0,10.0,1.0,7.0,21.0,62.0,15.0,34.0,43.0,32.0,47.0,2.0,20.0,28.0,23.0,15.0,20.0,30.0,17.0,45.0,55.0,4.0,21.0,21.0,19.0,35.0,56.0,null,25.0,2.0,38.0,27.0,36.0,22.0,62.0,15.0,33.0,62.0,0.0,18.0,21.0,null,42.0,19.0,17.0,14.0,37.0,42.0,27.0,28.0,38.0,13.0,42.0,2.0,8.0,24.0,40.0,43.0,45.0,35.0,26.0,27.0,19.0,0.0,3.0,54.0,26.0,26.0,23.0,2.0,31.0,18.0,24.0,9.0,6.0,27.0,21.0,23.0,31.0,0.0,32.0,40.0,42.0,28.0,29.0,48.0,64.0,27.0,26.0,33.0,39.0,13.0,24.0,29.0,18.0,67.0,35.0,61.0,45.0,22.0,19.0,36.0,19.0,47.0,13.0,34.0,35.0,24.0,26.0,31.0,20.0,56.0,50.0,42.0,null,38.0,41.0,22.0,26.0,17.0,57.0,17.0,35.0,13.0,27.0,31.0,24.0,19.0,32.0,58.0,21.0,38.0,38.0,19.0,0.0,3.0,20.0,24.0,37.0,25.0,56.0,49.0,11.0,1.0,8.0,39.0,2.0,23.0,0.0,39.0,25.0,36.0,52.0,18.0,15.0,35.0,47.0,45.0,null,51.0,29.0,null,19.0,24.0,29.0,11.0,17.0,13.0,35.0,21.0,21.0,38.0,19.0,2.0,0.0,13.0,25.0,16.0,1.0,15.0,21.0,23.0,33.0,21.0,41.0,16.0,42.0,20.0,24.0,16.0,21.0,32.0,58.0,24.0,30.0,27.0,32.0,43.0,42.0,37.0,35.0,33.0,18.0,21.0,43.0,14.0,46.0,33.0,21.0,33.0,47.0,54.0,30.0,29.0,21.0,24.0,21.0,60.0,22.0,26.0,26.0,28.0,39.0,13.0,47.0,63.0,null,50.0,35.0,45.0,19.0,21.0,29.0,22.0,14.0,42.0,57.0,39.0,28.0,19.0,19.0,26.0,17.0,43.0,9.0,40.0,50.0,24.0,57.0,16.0,23.0,23.0,28.0,23.0,23.0,18.0,18.0,67.0,60.0,null,49.0,0.0,26.0,35.0,24.0,20.0,18.0,21.0,59.0,13.0,43.0,29.0,19.0,2.0,32.0,33.0,25.0,29.0,29.0,44.0,2.0,19.0,0.0,18.0,38.0,5.0,31.0,30.0,15.0,27.0,22.0,36.0,14.0,23.0,18.0,36.0,41.0,50.0,32.0,26.0,15.0,33.0,null,26.0,61.0,24.0,30.0,24.0,24.0,41.0,20.0,22.0,63.0,18.0,21.0,79.0,56.0,13.0,33.0,32.0,31.0,26.0,18.0,38.0,23.0,28.0,34.0,0.0,14.0,23.0,49.0,14.0,18.0,27.0,48.0,31.0,61.0,18.0,45.0,22.0,30.0,30.0,32.0,43.0,17.0,23.0,20.0,39.0,35.0,31.0,21.0,16.0,60.0,18.0,42.0,68.0,22.0,59.0,null,37.0,3.0,31.0,31.0,29.0,20.0,46.0,29.0,43.0,17.0,27.0,47.0,45.0,17.0,10.0,56.0,39.0,40.0,40.0,34.0,32.0,35.0,32.0,26.0,25.0,26.0,22.0,22.0,24.0,32.0,11.0,22.0,19.0,34.0,74.0,28.0,42.0,43.0,55.0,19.0,6.0,7.0,28.0,15.0,24.0,31.0,22.0,1.0,50.0,34.0,14.0,19.0,null,36.0,34.0,25.0,36.0,16.0,30.0,37.0,15.0,36.0,27.0,27.0,12.0,22.0,27.0,13.0,27.0,28.0,21.0,39.0,28.0,14.0,27.0,46.0,27.0,21.0,21.0,42.0,22.0,10.0,43.0,42.0,18.0,54.0,24.0,64.0,18.0,53.0,23.0,39.0,59.0,32.0,55.0,21.0,50.0,55.0,null,35.0,null,55.0,23.0,42.0,35.0,47.0,null,34.0,46.0,26.0,1.0,null,33.0,34.0,49.0,22.0,28.0,null,36.0,30.0,49.0,38.0,31.0,17.0,26.0,23.0,24.0,23.0,24.0,32.0,43.0,23.0,42.0,29.0,40.0,37.0,61.0,33.0,19.0,21.0,4.0,12.0,44.0,22.0,33.0,32.0,28.0,28.0,31.0,13.0,14.0,33.0,null,23.0,36.0,22.0,19.0,42.0,30.0,16.0,55.0,55.0,19.0,null,18.0,21.0,65.0,55.0,50.0,49.0,22.0,33.0,3.0,0.0,33.0,48.0,5.0,23.0,53.0,18.0,20.0,23.0,48.0,19.0,null,9.0,24.0,46.0,23.0,21.0,19.0,0.0,4.0,26.0,9.0,24.0,24.0,25.0,21.0,21.0,37.0,44.0,43.0,7.0,33.0,24.0,31.0,27.0,34.0,58.0,7.0,3.0,21.0,21.0,39.0,43.0,22.0,44.0,38.0,32.0,55.0,31.0,39.0,35.0,37.0,13.0,21.0,20.0,20.0,63.0,36.0,29.0,36.0,79.0,30.0,30.0,19.0,33.0,20.0,38.0,7.0,58.0,33.0,3.0,39.0,37.0,32.0,28.0,38.0,21.0,18.0,15.0,44.0,44.0,36.0,28.0,15.0,45.0,26.0,46.0,25.0,46.0,15.0,37.0,20.0,45.0,7.0,5.0,38.0,30.0,null,0.0,20.0,41.0,18.0,29.0,19.0,34.0,36.0,54.0,19.0,21.0,23.0,35.0,34.0,22.0,24.0,18.0,24.0,33.0,24.0,18.0,19.0,43.0,44.0,25.0,25.0,23.0,23.0,20.0,2.0,26.0,38.0,1.0,12.0,2.0,25.0,1.0,0.0,54.0,21.0,19.0,24.0,20.0,23.0,29.0,14.0,19.0,23.0,62.0,23.0,65.0,47.0,67.0,14.0,41.0,14.0,19.0,22.0,34.0,65.0,42.0,22.0,54.0,34.0,27.0,67.0,33.0,30.0,22.0,35.0,23.0,49.0,36.0,31.0,54.0,0.0,null,54.0,10.0,0.0,7.0,25.0,37.0,15.0,26.0,7.0,30.0,19.0,30.0,21.0,21.0,59.0,28.0,32.0,19.0,7.0,16.0,31.0,30.0,26.0,20.0,24.0,39.0,19.0,27.0,34.0,28.0,29.0,38.0,null,1.0,36.0,31.0,1.0,31.0,10.0,null,42.0,0.0,41.0,0.0,0.0,59.0,13.0,24.0,20.0,71.0,23.0,15.0,18.0,19.0,4.0,42.0,51.0,13.0,27.0,42.0,41.0,21.0,31.0,36.0,31.0,14.0,32.0,32.0,27.0,57.0,13.0,30.0,14.0,27.0,32.0,54.0,23.0,38.0,32.0,24.0,36.0,11.0,6.0,36.0,22.0,null,37.0,55.0,null,20.0,16.0,19.0,38.0,35.0,33.0,37.0,46.0,41.0,13.0,31.0,52.0,48.0,27.0,16.0,32.0,25.0,26.0,44.0,32.0,18.0,23.0,44.0,29.0,19.0,41.0,28.0,19.0,32.0,74.0,31.0,38.0,20.0,24.0,26.0,44.0,33.0,31.0,null,22.0,33.0,34.0,11.0,41.0,30.0,30.0,25.0,31.0,38.0,15.0,19.0,29.0,30.0,29.0,36.0,24.0,30.0,0.0,15.0,38.0,13.0,18.0,16.0,8.0,19.0,26.0,15.0,38.0,45.0,48.0,17.0,28.0,41.0,19.0,14.0,21.0,48.0,19.0,29.0,20.0,44.0,19.0,64.0,21.0,32.0,20.0,24.0,44.0,57.0,51.0,34.0,45.0,24.0,23.0,30.0,20.0,22.0,null,71.0,18.0,16.0,28.0,36.0,6.0,26.0,27.0,49.0,29.0,46.0,35.0,17.0,37.0,24.0,47.0,26.0,46.0,27.0,56.0,18.0,15.0,3.0,42.0,1.0,56.0,20.0,21.0,5.0,12.0,39.0,60.0,31.0,58.0,19.0,29.0,19.0,44.0,20.0,18.0,36.0,25.0,15.0,18.0,0.0,54.0,0.0,20.0,21.0,8.0,46.0,31.0,3.0,30.0,23.0,14.0,25.0,61.0,31.0,13.0,24.0,47.0,15.0,46.0,49.0,37.0,44.0,16.0,58.0,20.0,36.0,31.0,21.0,22.0,27.0,58.0,38.0,30.0,20.0,19.0,57.0,26.0,38.0,15.0,null,35.0,38.0,35.0,14.0,27.0,25.0,37.0,25.0,41.0,50.0,33.0,27.0,23.0,18.0,31.0,54.0,0.0,11.0,4.0,19.0,7.0,20.0,33.0,26.0,35.0,23.0,60.0,34.0,null,42.0,22.0,18.0,5.0,18.0,29.0,39.0,17.0,58.0,5.0,23.0,26.0,40.0,20.0,38.0,31.0,34.0,9.0,36.0,26.0,18.0,55.0,28.0,18.0,28.0,23.0,20.0,22.0,27.0,13.0,32.0,53.0,34.0,42.0,19.0,54.0,12.0,35.0,55.0,26.0,49.0,22.0,null,30.0,39.0,14.0,29.0,34.0,8.0,7.0,3.0,0.0,10.0,16.0,41.0,18.0,25.0,32.0,26.0,26.0,18.0,27.0,26.0,28.0,19.0,31.0,35.0,46.0,37.0,29.0,17.0,30.0,28.0,16.0,40.0,23.0,24.0,36.0,34.0,59.0,20.0,15.0,19.0,64.0,24.0,23.0,30.0,0.0,8.0,1.0,48.0,12.0,30.0,10.0,11.0,58.0,52.0,36.0,32.0,16.0,25.0,28.0,32.0,28.0,16.0,50.0,20.0,23.0,45.0,23.0,53.0,8.0,6.0,3.0,13.0,60.0,1.0,40.0,51.0,31.0,28.0,20.0,14.0,23.0,4.0,20.0,75.0,24.0,18.0,21.0,59.0,27.0,38.0,41.0,36.0,29.0,22.0,23.0,32.0,21.0,26.0,61.0,30.0,40.0,37.0,41.0,32.0,30.0,27.0,22.0,54.0,27.0,52.0,15.0,27.0,30.0,19.0,22.0,43.0,25.0,51.0,34.0,21.0,21.0,23.0,38.0,30.0,31.0,44.0,14.0,18.0,19.0,null,36.0,10.0,1.0,4.0,21.0,24.0,8.0,18.0,33.0,31.0,43.0,20.0,28.0,30.0,28.0,19.0,22.0,27.0,22.0,2.0,4.0,10.0,9.0,37.0,2.0,44.0,11.0,22.0,40.0,30.0,37.0,26.0,19.0,57.0,1.0,17.0,26.0,21.0,28.0,36.0,25.0,40.0,23.0,2.0,10.0,43.0,0.0,24.0,42.0,30.0,19.0,26.0,47.0,28.0,24.0,29.0,32.0,44.0,17.0,35.0,23.0,34.0,25.0,67.0,22.0,null,27.0,14.0,42.0,19.0,22.0,31.0,10.0,39.0,41.0,0.0,22.0,21.0,40.0,25.0,23.0,33.0,20.0,40.0,27.0,21.0,25.0,2.0,19.0,41.0,43.0,19.0,22.0,16.0,42.0,20.0,35.0,53.0,17.0,6.0,22.0,41.0,19.0,39.0,23.0,31.0,38.0,1.0,13.0,21.0,44.0,36.0,19.0,7.0,39.0,28.0,28.0,14.0,18.0,23.0,33.0,18.0,47.0,42.0,17.0,21.0,17.0,26.0,23.0,15.0,18.0,65.0,33.0,27.0,41.0,42.0,null,37.0,17.0,24.0,39.0,59.0,32.0,29.0,8.0,28.0,35.0,24.0,1.0,4.0,28.0,46.0,67.0,44.0,14.0,23.0,51.0,20.0,0.0,0.0,23.0,24.0,41.0,30.0,27.0,13.0,16.0,30.0,8.0,59.0,43.0,30.0,46.0,39.0,21.0,70.0,34.0,33.0,44.0,16.0,63.0,37.0,29.0,29.0,22.0,26.0,76.0,61.0,46.0,19.0,13.0,null,30.0,23.0,63.0,21.0,32.0,33.0,39.0,49.0,27.0,16.0,38.0,42.0,19.0,26.0,32.0,56.0,0.0,38.0,30.0,21.0,11.0,3.0,17.0,35.0,17.0,0.0,46.0,63.0,35.0,61.0,19.0,43.0,14.0,78.0,21.0,32.0,31.0,40.0,13.0,36.0,31.0,18.0,40.0,28.0,41.0,35.0,14.0,20.0,23.0,22.0,25.0,18.0,25.0,30.0,46.0,27.0,53.0,21.0,32.0,32.0,33.0,26.0,47.0,13.0,34.0,21.0,20.0,21.0,51.0,18.0,26.0,53.0,30.0,37.0,45.0,62.0,38.0,24.0,18.0,23.0,16.0,37.0,22.0,18.0,25.0,26.0,25.0,55.0,28.0,23.0,22.0,26.0,13.0,18.0,38.0,28.0,57.0,0.0,18.0,25.0,35.0,37.0,33.0,35.0,47.0,23.0,null,27.0,23.0,31.0,19.0,53.0,37.0,18.0,42.0,7.0,7.0,24.0,20.0,24.0,42.0,49.0,47.0,16.0,26.0,24.0,38.0,0.0,37.0,39.0,25.0,25.0,35.0,0.0,46.0,4.0,19.0,29.0,19.0,47.0,1.0,4.0,37.0,61.0,32.0,4.0,16.0,25.0,22.0,41.0,25.0,19.0,21.0,14.0,18.0,34.0,33.0,14.0,28.0,43.0,3.0,0.0,47.0,28.0,40.0,17.0,21.0,null,41.0,20.0,56.0,57.0,48.0,37.0,20.0,36.0,38.0,22.0,31.0,0.0,21.0,49.0,44.0,null,29.0,16.0,20.0,26.0,19.0,34.0,38.0,51.0,7.0,3.0,26.0,27.0,7.0,19.0,28.0,27.0,31.0,26.0,43.0,23.0,14.0,47.0,17.0,64.0,13.0,18.0,29.0,70.0,23.0,23.0,35.0,17.0,26.0,15.0,19.0,20.0,51.0,17.0,27.0,43.0,5.0,17.0,40.0,38.0,20.0,13.0,15.0,15.0,59.0,24.0,null,52.0,38.0,26.0,17.0,17.0,20.0,15.0,30.0,22.0,18.0,22.0,20.0,22.0,34.0,28.0,50.0,19.0,21.0,0.0,4.0,59.0,15.0,24.0,26.0,67.0,55.0,50.0,23.0,21.0,15.0,41.0,59.0,18.0,21.0,14.0,50.0,32.0,46.0,null,58.0,15.0,35.0,30.0,30.0,43.0,21.0,15.0,37.0,28.0,28.0,40.0,42.0,21.0,31.0,51.0,73.0,26.0,33.0,39.0,19.0,12.0,10.0,0.0,0.0,1.0,33.0,23.0,5.0,24.0,26.0,30.0,33.0,56.0,25.0,null,25.0,18.0,60.0,41.0,16.0,17.0,26.0,31.0,67.0,16.0,24.0,19.0,48.0,30.0,22.0,28.0,23.0,29.0,22.0,48.0,26.0,23.0,55.0,46.0,38.0,2.0,3.0,20.0,65.0,null,25.0,54.0,25.0,14.0,53.0,0.0,39.0,22.0,31.0,24.0,35.0,35.0,32.0,61.0,58.0,26.0,4.0,1.0,8.0,7.0,25.0,6.0,29.0,64.0,31.0,25.0,30.0,0.0,29.0,37.0,49.0,36.0,20.0,20.0,18.0,17.0,48.0,26.0,35.0,30.0,22.0,5.0,43.0,52.0,50.0,29.0,19.0,39.0,38.0,21.0,25.0,42.0,36.0,19.0,42.0,40.0,14.0,50.0,18.0,46.0,null,15.0,22.0,0.0,52.0,38.0,46.0,23.0,63.0,24.0,50.0,20.0,55.0,21.0,56.0,45.0,18.0,47.0,36.0,57.0,13.0,27.0,20.0,47.0,15.0,34.0,21.0,51.0,23.0,58.0,37.0,44.0,25.0,15.0,40.0,29.0,36.0,21.0,35.0,24.0,2.0,0.0,43.0,63.0,30.0,38.0,27.0,54.0,39.0,41.0,22.0,23.0,34.0,26.0,39.0,15.0,64.0,25.0,35.0,19.0,26.0,3.0,29.0,44.0,27.0,17.0,37.0,19.0,44.0,22.0,22.0,21.0,31.0,17.0,30.0,15.0,42.0,55.0,28.0,33.0,19.0,24.0,4.0,2.0,30.0,31.0,17.0,40.0,33.0,46.0,30.0,17.0,19.0,22.0,20.0,36.0,0.0,17.0,null,15.0,20.0,19.0,24.0,43.0,26.0,42.0,21.0,50.0,25.0,64.0,50.0,24.0,27.0,42.0,30.0,20.0,31.0,26.0,39.0,null,32.0,25.0,6.0,3.0,11.0,52.0,14.0,68.0,18.0,55.0,22.0,34.0,17.0,38.0,13.0,19.0,30.0,27.0,17.0,45.0,28.0,23.0,24.0,23.0,29.0,46.0,17.0,20.0,24.0,40.0,null,38.0,65.0,19.0,54.0,38.0,40.0,21.0,22.0,33.0,18.0,43.0,13.0,26.0,22.0,21.0,25.0,29.0,49.0,29.0,45.0,45.0,30.0,29.0,26.0,16.0,20.0,33.0,18.0,24.0,29.0,40.0,27.0,35.0,31.0,26.0,49.0,23.0,23.0,14.0,21.0,18.0,null,19.0,22.0,17.0,13.0,26.0,null,16.0,20.0,20.0,23.0,61.0,27.0,3.0,4.0,13.0,19.0,18.0,66.0,39.0,21.0,7.0,56.0,15.0,null,13.0,18.0,38.0,45.0,21.0,19.0,49.0,21.0,18.0,43.0,27.0,0.0,27.0,21.0,20.0,35.0,20.0,24.0,41.0,23.0,27.0,58.0,53.0,30.0,24.0,31.0,46.0,20.0,20.0,30.0,24.0,34.0,20.0,48.0,25.0,43.0,27.0,47.0,26.0,37.0,42.0,61.0,29.0,32.0,51.0,43.0,25.0,31.0,13.0,20.0,29.0,16.0,15.0,50.0,41.0,43.0,32.0,36.0,18.0,47.0,29.0,null,14.0,25.0,63.0,22.0,32.0,31.0,24.0,39.0,20.0,20.0,19.0,20.0,31.0,17.0,24.0,27.0,28.0,41.0,25.0,26.0,27.0,22.0,62.0,58.0,37.0,54.0,26.0,44.0,34.0,47.0,27.0,22.0,46.0,29.0,43.0,42.0,39.0,30.0,43.0,19.0,26.0,46.0,3.0,21.0,1.0,22.0,27.0,28.0,36.0,19.0,18.0,47.0,18.0,6.0,20.0,18.0,37.0,22.0,37.0,6.0,36.0,46.0,75.0,37.0,22.0,33.0,35.0,19.0,34.0,23.0,37.0,24.0,54.0,52.0,60.0,1.0,null,22.0,27.0,48.0,47.0,25.0,49.0,33.0,67.0,5.0,60.0,56.0,59.0,44.0,33.0,28.0,29.0,13.0,34.0,45.0,39.0,18.0,57.0,null,25.0,22.0,32.0,29.0,21.0,16.0,45.0,44.0,27.0,26.0,46.0,24.0,15.0,53.0,28.0,11.0,7.0,0.0,15.0,31.0,9.0,44.0,35.0,30.0,13.0,45.0,4.0,21.0,20.0,24.0,3.0,29.0,28.0,44.0,50.0,35.0,19.0,22.0,30.0,36.0,20.0,22.0,22.0,32.0,35.0,41.0,57.0,3.0,11.0,4.0,17.0,30.0,11.0,23.0,58.0,22.0,24.0,20.0,37.0,49.0,46.0,30.0,36.0,21.0,25.0,42.0,13.0,25.0,29.0,17.0,36.0,44.0,18.0,22.0,22.0,43.0,29.0,24.0,18.0,42.0,43.0,32.0,15.0,22.0,20.0,34.0,70.0,18.0,26.0,17.0,13.0,19.0,32.0,33.0,21.0,23.0,24.0,17.0,34.0,31.0,43.0,43.0,33.0,28.0,27.0,7.0,16.0,42.0,27.0,19.0,42.0,13.0,16.0,21.0,28.0,69.0,15.0,48.0,42.0,42.0,23.0,26.0,45.0,30.0,36.0,null,35.0,21.0,50.0,52.0,21.0,41.0,35.0,26.0,17.0,69.0,27.0,25.0,27.0,25.0,36.0,14.0,27.0,22.0,24.0,null,4.0,19.0,19.0,38.0,39.0,23.0,57.0,18.0,43.0,28.0,33.0,37.0,28.0,28.0,18.0,29.0,29.0,28.0,24.0,59.0,43.0,20.0,23.0,27.0,38.0,38.0,48.0,25.0,25.0,24.0,69.0,20.0,18.0,28.0,23.0,24.0,44.0,29.0,6.0,42.0,78.0,36.0,37.0,41.0,18.0,62.0,0.0,55.0,16.0,32.0,19.0,7.0,4.0,30.0,24.0,34.0,30.0,3.0,32.0,55.0,0.0,51.0,0.0,21.0,2.0,19.0,24.0,20.0,42.0,17.0,32.0,28.0,21.0,56.0,28.0,42.0,18.0,24.0,20.0,22.0,22.0,21.0,28.0,26.0,50.0,26.0,30.0,29.0,8.0,45.0,35.0,18.0,23.0,29.0,18.0,28.0,34.0,0.0,4.0,28.0,8.0,20.0,20.0,25.0,31.0,37.0,21.0,24.0,34.0,0.0,25.0,43.0,null,45.0,63.0,17.0,35.0,12.0,null,17.0,32.0,23.0,17.0,34.0,15.0,14.0,22.0,19.0,40.0,25.0,51.0,22.0,50.0,26.0,39.0,18.0,22.0,26.0,19.0,16.0,24.0,34.0,55.0,42.0,14.0,28.0,26.0,33.0,24.0,23.0,16.0,36.0,44.0,22.0,30.0,20.0,21.0,14.0,27.0,19.0,21.0,null,13.0,71.0,28.0,18.0,23.0,34.0,20.0,17.0,21.0,33.0,34.0,51.0,21.0,null,31.0,36.0,39.0,26.0,51.0,24.0,27.0,31.0,24.0,57.0,36.0,55.0,null,18.0,27.0,50.0,24.0,20.0,24.0,18.0,44.0,27.0,58.0,29.0,23.0,3.0,0.0,33.0,12.0,44.0,20.0,59.0,18.0,72.0,23.0,11.0,1.0,25.0,25.0,24.0,54.0,17.0,48.0,40.0,2.0,32.0,15.0,52.0,16.0,16.0,16.0,6.0,10.0,27.0,45.0,26.0,29.0,38.0,19.0,43.0,15.0,31.0,52.0,49.0,29.0,18.0,41.0,9.0,null,58.0,39.0,13.0,36.0,23.0,24.0,33.0,18.0,2.0,0.0,36.0,15.0,31.0,42.0,27.0,36.0,0.0,3.0,22.0,56.0,23.0,25.0,29.0,17.0,13.0,35.0,53.0,24.0,38.0,21.0,29.0,46.0,58.0,53.0,21.0,27.0,31.0,23.0,41.0,29.0,54.0,43.0,36.0,48.0,34.0,42.0,17.0,22.0,37.0,38.0,21.0,23.0,27.0,23.0,19.0,28.0,33.0,24.0,0.0,41.0,19.0,44.0,43.0,14.0,18.0,25.0,0.0,4.0,24.0,38.0,44.0,57.0,3.0,5.0,3.0,18.0,8.0,21.0,35.0,47.0,28.0,49.0,23.0,19.0,34.0,40.0,26.0,23.0,22.0,51.0,44.0,50.0,28.0,13.0,21.0,20.0,14.0,38.0,29.0,36.0,16.0,40.0,null,18.0,17.0,32.0,27.0,34.0,53.0,36.0,41.0,51.0,61.0,59.0,17.0,27.0,57.0,39.0,55.0,42.0,36.0,42.0,32.0,6.0,15.0,28.0,37.0,44.0,71.0,44.0,36.0,18.0,3.0,12.0,0.0,29.0,9.0,27.0,24.0,38.0,28.0,26.0,16.0,24.0,33.0,24.0,29.0,25.0,0.0,13.0,7.0,32.0,34.0,49.0,43.0,0.0,6.0,23.0,43.0,23.0,43.0,41.0,54.0,51.0,44.0,48.0,45.0,20.0,33.0,21.0,68.0,23.0,16.0,35.0,22.0,51.0,2.0,29.0,0.0,39.0,55.0,22.0,20.0,25.0,18.0,28.0,26.0,28.0,54.0,56.0,25.0,26.0,14.0,21.0,43.0,37.0,null,38.0,14.0,20.0,33.0,33.0,13.0,37.0,15.0,33.0,24.0,49.0,24.0,24.0,26.0,40.0,31.0,47.0,19.0,38.0,33.0,45.0,1.0,32.0,70.0,19.0,55.0,48.0,66.0,13.0,40.0,35.0,32.0,51.0,37.0,31.0,37.0,38.0,19.0,33.0,19.0,31.0,43.0,22.0,24.0,21.0,14.0,30.0,22.0,11.0,4.0,0.0,30.0,21.0,40.0,57.0,35.0,32.0,32.0,30.0,69.0,21.0,17.0,16.0,25.0,25.0,52.0,13.0,37.0,13.0,45.0,55.0,22.0,39.0,35.0,19.0,7.0,19.0,21.0,37.0,35.0,22.0,62.0,41.0,16.0,26.0,36.0,null,22.0,40.0,50.0,57.0,15.0,23.0,60.0,73.0,35.0,28.0,27.0,14.0,26.0,22.0,22.0,71.0,25.0,27.0,1.0,52.0,0.0,30.0,52.0,12.0,22.0,24.0,22.0,15.0,21.0,56.0,50.0,20.0,32.0,28.0,74.0,25.0,31.0,6.0,17.0,12.0,47.0,46.0,31.0,36.0,15.0,38.0,48.0,21.0,4.0,31.0,31.0,62.0,29.0,30.0,26.0,43.0,32.0,24.0,49.0,21.0,18.0,18.0,14.0,21.0,25.0,56.0,0.0,55.0,14.0,13.0,43.0,39.0,null,24.0,26.0,22.0,26.0,19.0,38.0,38.0,77.0,28.0,22.0,20.0,18.0,10.0,34.0,43.0,31.0,40.0,25.0,68.0,20.0,27.0,1.0,60.0,28.0,11.0,0.0,9.0,38.0,18.0,40.0,21.0,24.0,26.0,47.0,46.0,55.0,50.0,10.0,17.0,20.0,37.0,24.0,43.0,0.0,24.0,22.0,14.0,3.0,22.0,23.0,56.0,36.0,58.0,1.0,39.0,33.0,19.0,null,33.0,17.0,28.0,21.0,45.0,62.0,43.0,27.0,1.0,31.0,18.0,21.0,7.0,22.0,26.0,30.0,17.0,null,10.0,25.0,21.0,53.0,21.0,28.0,20.0,54.0,9.0,20.0,19.0,32.0,22.0,35.0,26.0,51.0,8.0,40.0,2.0,19.0,32.0,16.0,64.0,35.0,33.0,9.0,21.0,28.0,28.0,31.0,32.0,43.0,60.0,43.0,43.0,19.0,21.0,38.0,17.0,29.0,2.0,22.0,18.0,16.0,52.0,52.0,14.0,25.0,34.0,20.0,28.0,null,20.0,44.0,64.0,27.0,24.0,38.0,47.0,8.0,1.0,0.0,20.0,41.0,35.0,31.0,14.0,25.0,26.0,26.0,30.0,49.0,19.0,15.0,27.0,39.0,32.0,11.0,44.0,36.0,56.0,42.0,40.0,53.0,31.0,14.0,31.0,42.0,32.0,34.0,55.0,42.0,40.0,48.0,37.0,17.0,60.0,19.0,30.0,32.0,28.0,26.0,24.0,47.0,32.0,73.0,17.0,47.0,null,13.0,22.0,61.0,19.0,45.0,18.0,32.0,52.0,25.0,9.0,18.0,26.0,20.0,6.0,5.0,40.0,20.0,18.0,42.0,14.0,33.0,23.0,35.0,53.0,56.0,35.0,18.0,25.0,20.0,44.0,26.0,23.0,39.0,25.0,42.0,20.0,4.0,64.0,0.0,19.0,6.0,23.0,22.0,18.0,21.0,37.0,24.0,38.0,11.0,6.0,49.0,55.0,15.0,19.0,16.0,48.0,25.0,23.0,27.0,39.0,28.0,72.0,47.0,65.0,40.0,18.0,27.0,21.0,37.0,31.0,33.0,53.0,27.0,74.0,null,23.0,74.0,23.0,26.0,0.0,0.0,24.0,28.0,17.0,26.0,39.0,17.0,15.0,37.0,38.0,33.0,16.0,41.0,7.0,20.0,44.0,42.0,29.0,22.0,21.0,21.0,21.0,13.0,16.0,36.0,36.0,26.0,28.0,14.0,29.0,19.0,51.0,64.0,41.0,null,16.0,20.0,31.0,38.0,59.0,18.0,33.0,33.0,49.0,4.0,0.0,0.0,24.0,52.0,50.0,31.0,25.0,62.0,49.0,24.0,33.0,20.0,46.0,26.0,52.0,28.0,39.0,29.0,19.0,15.0,33.0,47.0,34.0,26.0,15.0,null,27.0,38.0,21.0,1.0,38.0,0.0,32.0,27.0,48.0,22.0,28.0,19.0,37.0,46.0,26.0,16.0,0.0,0.0,26.0,13.0,23.0,70.0,21.0,40.0,18.0,23.0,15.0,28.0,45.0,18.0,23.0,36.0,25.0,28.0,29.0,31.0,14.0,31.0,39.0,17.0,56.0,36.0,21.0,48.0,53.0,5.0,21.0,50.0,18.0,28.0,28.0,18.0,37.0,19.0,27.0,37.0,43.0,17.0,21.0,55.0,14.0,24.0,26.0,19.0,20.0,14.0,19.0,15.0,25.0,24.0,22.0,26.0,23.0,20.0,53.0,55.0,22.0,35.0,40.0,22.0,22.0,21.0,64.0,40.0,8.0,25.0,19.0,24.0,11.0,31.0,46.0,31.0,17.0,16.0,57.0,28.0,27.0,28.0,26.0,17.0,36.0,24.0,18.0,20.0,10.0,null,23.0,36.0,27.0,54.0,38.0,29.0,37.0,36.0,18.0,28.0,61.0,19.0,29.0,37.0,29.0,38.0,41.0,23.0,48.0,0.0,46.0,36.0,42.0,null,16.0,43.0,40.0,22.0,39.0,37.0,28.0,29.0,14.0,15.0,17.0,4.0,24.0,null,22.0,38.0,30.0,29.0,26.0,41.0,50.0,34.0,24.0,24.0,45.0,35.0,23.0,23.0,21.0,19.0,24.0,2.0,0.0,20.0,35.0,34.0,26.0,26.0,32.0,25.0,30.0,57.0,23.0,32.0,27.0,20.0,21.0,19.0,16.0,18.0,18.0,22.0,null,35.0,8.0,5.0,40.0,31.0,9.0,56.0,39.0,18.0,45.0,33.0,2.0,1.0,2.0,16.0,18.0,28.0,45.0,24.0,35.0,16.0,40.0,5.0,29.0,31.0,27.0,34.0,15.0,43.0,30.0,61.0,48.0,17.0,19.0,29.0,2.0,24.0,19.0,34.0,19.0,39.0,26.0,53.0,18.0,null,45.0,32.0,18.0,48.0,24.0,52.0,55.0,43.0,24.0,8.0,18.0,38.0,18.0,23.0,26.0,21.0,45.0,24.0,44.0,20.0,47.0,16.0,28.0,8.0,20.0,22.0,42.0,23.0,30.0,18.0,35.0,42.0,46.0,29.0,35.0,48.0,24.0,38.0,51.0,77.0,22.0,38.0,42.0,55.0,7.0,null,25.0,15.0,13.0,23.0,null,33.0,26.0,67.0,27.0,33.0,18.0,36.0,18.0,51.0,54.0,33.0,18.0,57.0,23.0,24.0,20.0,32.0,21.0,null,41.0,27.0,49.0,18.0,34.0,73.0,40.0,63.0,21.0,21.0,23.0,31.0,41.0,15.0,36.0,24.0,27.0,24.0,19.0,25.0,39.0,15.0,31.0,25.0,57.0,null,18.0,33.0,23.0,34.0,38.0,21.0,31.0,13.0,54.0,13.0,18.0,null,43.0,56.0,63.0,9.0,9.0,0.0,16.0,42.0,9.0,22.0,47.0,30.0,29.0,null,22.0,19.0,31.0,17.0,38.0,13.0,36.0,0.0,21.0,18.0,36.0,27.0,5.0,18.0,25.0,14.0,23.0,2.0,1.0,7.0,6.0,56.0,4.0,65.0,36.0,25.0,41.0,20.0,18.0,15.0,23.0,29.0,33.0,14.0,55.0,30.0,21.0,26.0,33.0,18.0,9.0,0.0,19.0,18.0,38.0,42.0,28.0,37.0,29.0,42.0,18.0,34.0,34.0,18.0,24.0,24.0,56.0,2.0,12.0,37.0,60.0,55.0,20.0,28.0,28.0,37.0,18.0,14.0,29.0,51.0,45.0,45.0,41.0,21.0,28.0,0.0,46.0,41.0,13.0,55.0,20.0,21.0,49.0,27.0,0.0,22.0,17.0,23.0,44.0,29.0,19.0,3.0,29.0,19.0,22.0,33.0,null,50.0,54.0,43.0,17.0,26.0,44.0,51.0,29.0,4.0,40.0,27.0,8.0,3.0,11.0,24.0,25.0,28.0,25.0,27.0,25.0,0.0,58.0,3.0,4.0,2.0,34.0,5.0,3.0,46.0,22.0,8.0,17.0,4.0,12.0,40.0,16.0,41.0,8.0,14.0,2.0,59.0,45.0,52.0,33.0,51.0,38.0,14.0,42.0,28.0,34.0,21.0,30.0,null,26.0,23.0,20.0,59.0,37.0,32.0,37.0,27.0,42.0,29.0,2.0,10.0,0.0,21.0,8.0,null,27.0,13.0,49.0,38.0,21.0,22.0,14.0,24.0,24.0,34.0,1.0,null,26.0,null,32.0,2.0,10.0,49.0,14.0,29.0,25.0,36.0,22.0,21.0,36.0,54.0,30.0,0.0,1.0,42.0,47.0,25.0,18.0,22.0,27.0,24.0,null,22.0,60.0,38.0,23.0,21.0,55.0,20.0,50.0,22.0,21.0,26.0,36.0,46.0,26.0,24.0,14.0,46.0,15.0,30.0,null,38.0,48.0,31.0,41.0,43.0,23.0,48.0,47.0,19.0,25.0,28.0,16.0,45.0,31.0,19.0,21.0,null,22.0,23.0,54.0,0.0,4.0,23.0,19.0,34.0,18.0,40.0,58.0,39.0,23.0,11.0,43.0,29.0,36.0,13.0,54.0,45.0,33.0,46.0,15.0,35.0,23.0,15.0,27.0,15.0,27.0,16.0,37.0,45.0,58.0,null,38.0,28.0,47.0,41.0,28.0,23.0,24.0,58.0,36.0,24.0,56.0,15.0,19.0,27.0,47.0,37.0,39.0,20.0,20.0,38.0,46.0,13.0,24.0,32.0,null,44.0,19.0,30.0,23.0,4.0,0.0,17.0,44.0,31.0,41.0,33.0,43.0,43.0,36.0,19.0,24.0,17.0,23.0,17.0,18.0,34.0,13.0,66.0,27.0,19.0,55.0,40.0,23.0,7.0,12.0,37.0,22.0,25.0,46.0,37.0,50.0,28.0,26.0,28.0,23.0,23.0,34.0,65.0,20.0,29.0,30.0,3.0,40.0,32.0,31.0,13.0,29.0,28.0,19.0,24.0,22.0,13.0,21.0,24.0,47.0,27.0,18.0,36.0,68.0,31.0,28.0,36.0,17.0,13.0,30.0,58.0,43.0,20.0,29.0,15.0,30.0,33.0,25.0,62.0,41.0,27.0,18.0,27.0,19.0,37.0,24.0,29.0,44.0,19.0,39.0,63.0,39.0,41.0,27.0,56.0,22.0,26.0,24.0,18.0,13.0,32.0,30.0,25.0,55.0,19.0,24.0,32.0,24.0,32.0,36.0,28.0,52.0,29.0,23.0,32.0,35.0,41.0,16.0,33.0,6.0,15.0,38.0,56.0,4.0,21.0,22.0,37.0,6.0,22.0,26.0,22.0,20.0,null,24.0,25.0,48.0,24.0,3.0,24.0,25.0,1.0,20.0,22.0,28.0,17.0,28.0,47.0,34.0,29.0,14.0,36.0,40.0,49.0,51.0,41.0,44.0,47.0,22.0,13.0,18.0,28.0,22.0,50.0,47.0,55.0,21.0,39.0,21.0,37.0,31.0,23.0,28.0,23.0,20.0,28.0,40.0,54.0,18.0,27.0,43.0,25.0,13.0,15.0,37.0,32.0,19.0,21.0,27.0,39.0,22.0,25.0,34.0,54.0,42.0,36.0,43.0,23.0,57.0,54.0,51.0,32.0,33.0,8.0,44.0,27.0,48.0,13.0,5.0,18.0,23.0,23.0,35.0,25.0,32.0,0.0,5.0,16.0,18.0,29.0,55.0,41.0,38.0,27.0,55.0,75.0,50.0,23.0,37.0,33.0,45.0,47.0,13.0,29.0,19.0,30.0,39.0,31.0,29.0,16.0,18.0,38.0,50.0,21.0,22.0,20.0,36.0,23.0,31.0,39.0,50.0,40.0,28.0,38.0,37.0,59.0,41.0,33.0,54.0,40.0,43.0,26.0,65.0,22.0,28.0,35.0,30.0,28.0,23.0,24.0,16.0,18.0,20.0,29.0,29.0,21.0,2.0,43.0,28.0,31.0,23.0,26.0,43.0,28.0,24.0,27.0,13.0,27.0,2.0,24.0,2.0,50.0,27.0,26.0,31.0,28.0,4.0,9.0,0.0,35.0,3.0,25.0,63.0,34.0,35.0,26.0,39.0,34.0,36.0,46.0,26.0,28.0,20.0,35.0,11.0,14.0,4.0,11.0,31.0,15.0,39.0,7.0,24.0,22.0,26.0,53.0,40.0,19.0,54.0,21.0,25.0,48.0,41.0,13.0,57.0,25.0,48.0,34.0,16.0,0.0,15.0,37.0,37.0,49.0,18.0,25.0,null,43.0,20.0,54.0,30.0,37.0,30.0,20.0,20.0,24.0,44.0,0.0,15.0,19.0,20.0,20.0,34.0,17.0,20.0,42.0,28.0,43.0,55.0,21.0,17.0,54.0,25.0,null,45.0,31.0,19.0,30.0,24.0,null,42.0,29.0,37.0,64.0,24.0,23.0,22.0,23.0,21.0,37.0,17.0,35.0,33.0,37.0,32.0,31.0,null,34.0,9.0,25.0,29.0,1.0,30.0,64.0,31.0,27.0,null,25.0,28.0,32.0,36.0,26.0,36.0,37.0,45.0,22.0,24.0,23.0,31.0,37.0,28.0,23.0,14.0,40.0,42.0,53.0,46.0,28.0,25.0,34.0,58.0,31.0,24.0,52.0,25.0,17.0,27.0,29.0,45.0,28.0,25.0,57.0,68.0,26.0,52.0,36.0,41.0,14.0,16.0,24.0,62.0,26.0,45.0,41.0,36.0,13.0,48.0,null,22.0,39.0,45.0,42.0,33.0,27.0,47.0,20.0,32.0,54.0,23.0,9.0,17.0,26.0,38.0,24.0,30.0,2.0,4.0,9.0,30.0,5.0,2.0,32.0,53.0,46.0,2.0,1.0,11.0,3.0,33.0,3.0,38.0,21.0,41.0,64.0,27.0,41.0,19.0,42.0,30.0,38.0,63.0,17.0,2.0,19.0,37.0,50.0,38.0,28.0,35.0,27.0,15.0,29.0,65.0,27.0,0.0,21.0,19.0,39.0,60.0,30.0,30.0,40.0,26.0,38.0,22.0,null,65.0,61.0,20.0,24.0,16.0,35.0,21.0,23.0,17.0,24.0,27.0,26.0,26.0,20.0,28.0,37.0,23.0,49.0,50.0,4.0,32.0,44.0,20.0,30.0,29.0,22.0,35.0,0.0,6.0,38.0,34.0,34.0,null,53.0,28.0,31.0,56.0,36.0,30.0,32.0,44.0,54.0,24.0,44.0,25.0,35.0,29.0,22.0,22.0,22.0,18.0,22.0,52.0,0.0,1.0,34.0,6.0,22.0,31.0,31.0,20.0,25.0,23.0,53.0,32.0,27.0,48.0,37.0,21.0,29.0,46.0,19.0,22.0,54.0,43.0,18.0,36.0,20.0,63.0,50.0,13.0,43.0,16.0,31.0,0.0,10.0,10.0,55.0,18.0,7.0,1.0,44.0,27.0,20.0,49.0,22.0,21.0,26.0,65.0,20.0,0.0,16.0,22.0,0.0,21.0,30.0,14.0,45.0,22.0,21.0,37.0,29.0,29.0,21.0,52.0,36.0,59.0,21.0,25.0,23.0,36.0,38.0,0.0,19.0,30.0,23.0,55.0,44.0,30.0,39.0,19.0,24.0,37.0,24.0,17.0,17.0,14.0,13.0,35.0,32.0,18.0,21.0,25.0,36.0,20.0,22.0,27.0,null,38.0,23.0,21.0,18.0,20.0,28.0,57.0,10.0,23.0,22.0,24.0,52.0,31.0,15.0,40.0,18.0,28.0,40.0,32.0,35.0,52.0,34.0,46.0,23.0,44.0,59.0,42.0,18.0,29.0,15.0,19.0,49.0,19.0,36.0,59.0,24.0,4.0,20.0,24.0,31.0,23.0,3.0,22.0,20.0,0.0,13.0,47.0,51.0,22.0,3.0,4.0,16.0,24.0,1.0,31.0,34.0,20.0,19.0,19.0,35.0,3.0,36.0,20.0,null,58.0,56.0,27.0,25.0,39.0,43.0,42.0,24.0,19.0,32.0,32.0,61.0,64.0,21.0,26.0,35.0,43.0,3.0,56.0,45.0,25.0,12.0,2.0,46.0,32.0,20.0,24.0,28.0,12.0,11.0,16.0,29.0,24.0,22.0,21.0,38.0,35.0,79.0,22.0,42.0,34.0,52.0,43.0,30.0,35.0,18.0,27.0,46.0,15.0,44.0,20.0,35.0,19.0,47.0,26.0,24.0,23.0,26.0,5.0,35.0,18.0,32.0,13.0,15.0,18.0,41.0,36.0,33.0,41.0,47.0,32.0,36.0,13.0,34.0,24.0,16.0,12.0,24.0,35.0,26.0,39.0,18.0,23.0,29.0,38.0,31.0,49.0,17.0,23.0,15.0,11.0,30.0,42.0,21.0,41.0,14.0,27.0,29.0,25.0,54.0,46.0,18.0,22.0,29.0,26.0,36.0,19.0,56.0,20.0,10.0,14.0,27.0,35.0,13.0,21.0,22.0,29.0,32.0,20.0,44.0,22.0,39.0,19.0,0.0,0.0,12.0,7.0,32.0,11.0,18.0,49.0,61.0,7.0,25.0,51.0,56.0,31.0,16.0,29.0,17.0,47.0,25.0,28.0,32.0,56.0,25.0,13.0,41.0,28.0,25.0,11.0,20.0,24.0,41.0,29.0,59.0,31.0,16.0,65.0,21.0,27.0,37.0,42.0,36.0,24.0,null,19.0,26.0,19.0,26.0,35.0,24.0,9.0,40.0,23.0,4.0,20.0,21.0,4.0,19.0,18.0,26.0,13.0,16.0,14.0,40.0,34.0,21.0,29.0,40.0,16.0,37.0,41.0,16.0,39.0,30.0,40.0,63.0,32.0,47.0,23.0,23.0,19.0,44.0,29.0,21.0,23.0,26.0,47.0,20.0,48.0,4.0,25.0,0.0,29.0,21.0,20.0,34.0,9.0,12.0,13.0,27.0,34.0,18.0,16.0,43.0,0.0,20.0,45.0,35.0,21.0,14.0,46.0,22.0,2.0,3.0,28.0,60.0,48.0,18.0,31.0,26.0,41.0,26.0,29.0,24.0,25.0,0.0,30.0,18.0,32.0,28.0,21.0,25.0,47.0,null,8.0,24.0,30.0,24.0,13.0,16.0,23.0,16.0,29.0,46.0,13.0,22.0,29.0,46.0,24.0,33.0,38.0,57.0,null,38.0,28.0,25.0,22.0,33.0,35.0,24.0,31.0,16.0,28.0,8.0,20.0,26.0,43.0,70.0,17.0,14.0,21.0,37.0,15.0,20.0,36.0,14.0,21.0,28.0,20.0,26.0,25.0,29.0,39.0,18.0,37.0,28.0,18.0,30.0,35.0,26.0,0.0,42.0,36.0,31.0,27.0,25.0,32.0,14.0,16.0,51.0,21.0,31.0,9.0,7.0,3.0,2.0,7.0,18.0,33.0,23.0,13.0,32.0,27.0,23.0,25.0,18.0,23.0,31.0,32.0,22.0,38.0,21.0,28.0,38.0,20.0,23.0,48.0,15.0,30.0,40.0,36.0,20.0,17.0,38.0,38.0,14.0,null,21.0,18.0,26.0,35.0,46.0,13.0,39.0,49.0,28.0,27.0,21.0,29.0,27.0,38.0,18.0,35.0,37.0,60.0,31.0,4.0,34.0,46.0,18.0,38.0,29.0,13.0,26.0,30.0,42.0,36.0,23.0,34.0,26.0,31.0,48.0,10.0,27.0,32.0,24.0,20.0,48.0,35.0,14.0,28.0,null,42.0,8.0,30.0,44.0,40.0,38.0,22.0,32.0,16.0,33.0,38.0,23.0,16.0,16.0,11.0,22.0,43.0,20.0,22.0,0.0,30.0,18.0,0.0,41.0,39.0,37.0,26.0,49.0,28.0,13.0,64.0,24.0,18.0,18.0,25.0,19.0,33.0,null,50.0,30.0,44.0,52.0,7.0,30.0,27.0,24.0,13.0,61.0,32.0,17.0,36.0,16.0,21.0,24.0,28.0,null,13.0,39.0,24.0,38.0,20.0,21.0,27.0,49.0,6.0,41.0,33.0,6.0,35.0,46.0,31.0,32.0,31.0,20.0,57.0,37.0,21.0,43.0,49.0,17.0,29.0,36.0,37.0,17.0,45.0,20.0,24.0,28.0,15.0,53.0,51.0,14.0,1.0,26.0,20.0,23.0,22.0,22.0,13.0,28.0,40.0,21.0,35.0,22.0,37.0,21.0,50.0,27.0,20.0,15.0,25.0,31.0,null,18.0,2.0,27.0,0.0,22.0,null,56.0,28.0,42.0,20.0,27.0,29.0,36.0,23.0,64.0,19.0,1.0,49.0,0.0,18.0,39.0,37.0,44.0,43.0,33.0,20.0,0.0,4.0,20.0,50.0,47.0,17.0,26.0,21.0,20.0,26.0,null,34.0,11.0,0.0,28.0,33.0,22.0,28.0,11.0,60.0,43.0,27.0,37.0,23.0,57.0,29.0,28.0,42.0,43.0,26.0,72.0,49.0,29.0,18.0,26.0,19.0,18.0,14.0,44.0,34.0,18.0,36.0,27.0,35.0,52.0,22.0,34.0,37.0,22.0,26.0,14.0,53.0,17.0,30.0,65.0,19.0,36.0,3.0,6.0,4.0,21.0,8.0,35.0,18.0,34.0,45.0,31.0,14.0,23.0,61.0,54.0,28.0,46.0,32.0,49.0,20.0,25.0,19.0,28.0,68.0,16.0,19.0,49.0,15.0,26.0,22.0,23.0,31.0,27.0,28.0,20.0,43.0,22.0,27.0,35.0,37.0,24.0,18.0,15.0,28.0,24.0,39.0,35.0,52.0,48.0,27.0,50.0,24.0,26.0,24.0,15.0,42.0,51.0,43.0,31.0,14.0,31.0,33.0,21.0,13.0,29.0,22.0,22.0,18.0,35.0,20.0,18.0,66.0,33.0,48.0,38.0,62.0,19.0,44.0,25.0,15.0,20.0,34.0,23.0,45.0,39.0,33.0,14.0,26.0,47.0,null,28.0,22.0,17.0,16.0,9.0,15.0,33.0,61.0,19.0,61.0,42.0,4.0,12.0,0.0,19.0,null,29.0,59.0,20.0,70.0,3.0,37.0,58.0,44.0,24.0,20.0,24.0,27.0,28.0,24.0,29.0,25.0,20.0,34.0,28.0,null,23.0,39.0,35.0,18.0,20.0,42.0,32.0,50.0,23.0,19.0,29.0,35.0,18.0,24.0,23.0,51.0,42.0,19.0,23.0,19.0,22.0,25.0,31.0,23.0,22.0,55.0,40.0,24.0,25.0,42.0,33.0,54.0,22.0,22.0,19.0,47.0,23.0,61.0,21.0,46.0,36.0,15.0,33.0,35.0,21.0,21.0,43.0,34.0,47.0,27.0,46.0,46.0,40.0,59.0,45.0,19.0,32.0,39.0,40.0,44.0,26.0,22.0,2.0,18.0,53.0,22.0,46.0,28.0,31.0,36.0,46.0,0.0,3.0,12.0,2.0,41.0,11.0,41.0,17.0,21.0,21.0,27.0,54.0,15.0,39.0,31.0,28.0,21.0,29.0,45.0,44.0,12.0,18.0,20.0,43.0,46.0,53.0,21.0,23.0,9.0,19.0,52.0,31.0,62.0,27.0,23.0,28.0,27.0,58.0,24.0,27.0,33.0,28.0,39.0,27.0,36.0,64.0,41.0,null,27.0,null,22.0,23.0,40.0,2.0,0.0,27.0,0.0,17.0,45.0,62.0,14.0,24.0,51.0,49.0,52.0,35.0,22.0,17.0,47.0,25.0,11.0,17.0,41.0,55.0,29.0,19.0,23.0,32.0,27.0,25.0,24.0,30.0,50.0,51.0,27.0,35.0,48.0,27.0,19.0,18.0,25.0,41.0,62.0,30.0,6.0,15.0,34.0,34.0,23.0,51.0,63.0,42.0,19.0,5.0,2.0,15.0,36.0,32.0,19.0,26.0,33.0,38.0,22.0,32.0,30.0,51.0,29.0,16.0,32.0,24.0,23.0,46.0,49.0,17.0,35.0,43.0,20.0,24.0,28.0,19.0,39.0,34.0,29.0,14.0,null,30.0,null,32.0,7.0,34.0,47.0,19.0,52.0,19.0,18.0,32.0,21.0,22.0,13.0,25.0,33.0,27.0,21.0,17.0,15.0,58.0,29.0,34.0,28.0,29.0,25.0,23.0,22.0,38.0,38.0,0.0,null,0.0,37.0,2.0,40.0,47.0,34.0,43.0,21.0,43.0,33.0,28.0,57.0,null,46.0,19.0,27.0,2.0,0.0,25.0,47.0,38.0,24.0,24.0,25.0,29.0,44.0,20.0,23.0,26.0,20.0,27.0,23.0,33.0,30.0,32.0,19.0,41.0,50.0,36.0,21.0,45.0,26.0,44.0,24.0,15.0,58.0,13.0,19.0,25.0,24.0,20.0,34.0,13.0,null,39.0,0.0,10.0,9.0,34.0,11.0,0.0,24.0,16.0,42.0,41.0,36.0,27.0,32.0,11.0,26.0,28.0,25.0,5.0,null,13.0,30.0,15.0,0.0,49.0,52.0,15.0,40.0,0.0,32.0,15.0,26.0,31.0,8.0,18.0,3.0,44.0,15.0,27.0,22.0,2.0,32.0,16.0,34.0,32.0,28.0,27.0,35.0,25.0,24.0,61.0,28.0,29.0,41.0,20.0,18.0,28.0,18.0,33.0,35.0,68.0,19.0,33.0,55.0,15.0,23.0,23.0,15.0,49.0,33.0,26.0,26.0,18.0,17.0,39.0,8.0,46.0,32.0,19.0,36.0,28.0,39.0,16.0,7.0,1.0,30.0,44.0,28.0,29.0,41.0,13.0,18.0,27.0,26.0,24.0,26.0,27.0,58.0,54.0,18.0,13.0,13.0,28.0,57.0,32.0,32.0,21.0,34.0,33.0,36.0,50.0,28.0,56.0,42.0,39.0,13.0,28.0,55.0,36.0,null,37.0,50.0,27.0,23.0,16.0,33.0,46.0,26.0,24.0,26.0,2.0,33.0,32.0,3.0,2.0,6.0,null,0.0,4.0,58.0,22.0,51.0,37.0,17.0,21.0,null,null,31.0,43.0,null,15.0,18.0,33.0,31.0,41.0,22.0,40.0,49.0,14.0,22.0,22.0,25.0,42.0,16.0,12.0,18.0,33.0,14.0,36.0,23.0,24.0,4.0,null,18.0,21.0,27.0,34.0,28.0,35.0,16.0,36.0,30.0,4.0,19.0,3.0,51.0,null,45.0,18.0,23.0,15.0,34.0,47.0,27.0,26.0,25.0,34.0,27.0,39.0,31.0,4.0,19.0,59.0,19.0,25.0,28.0,37.0,43.0,18.0,36.0,14.0,42.0,29.0,23.0,16.0,8.0,20.0,50.0,38.0,39.0,33.0,30.0,40.0,22.0,52.0,26.0,19.0,33.0,33.0,20.0,28.0,10.0,23.0,28.0,23.0,54.0,57.0,24.0,37.0,59.0,53.0,22.0,18.0,17.0,25.0,18.0,20.0,24.0,33.0,34.0,24.0,37.0,23.0,32.0,13.0,23.0,23.0,27.0,47.0,38.0,28.0,21.0,null,64.0,43.0,21.0,36.0,22.0,24.0,21.0,57.0,46.0,42.0,16.0,40.0,3.0,8.0,3.0,35.0,12.0,null,47.0,19.0,46.0,28.0,5.0,7.0,3.0,1.0,7.0,60.0,34.0,28.0,64.0,13.0,15.0,65.0,53.0,58.0,19.0,null,16.0,48.0,33.0,31.0,44.0,40.0,34.0,21.0,20.0,9.0,33.0,2.0,53.0,0.0,38.0,21.0,31.0,7.0,12.0,0.0,17.0,55.0,2.0,32.0,16.0,0.0,29.0,25.0,39.0,42.0,0.0,14.0,29.0,54.0,35.0,null,18.0,14.0,53.0,48.0,21.0,44.0,25.0,0.0,27.0,40.0,44.0,36.0,3.0,9.0,1.0,17.0,47.0,null,33.0,16.0,30.0,18.0,26.0,19.0,28.0,35.0,40.0,26.0,45.0,18.0,54.0,13.0,26.0,16.0,37.0,17.0,16.0,18.0,21.0,24.0,22.0,41.0,15.0,36.0,23.0,31.0,19.0,23.0,47.0,40.0,34.0,2.0,8.0,0.0,18.0,11.0,18.0,19.0,2.0,25.0,0.0,27.0,34.0,19.0,22.0,22.0,52.0,30.0,65.0,31.0,51.0,21.0,27.0,31.0,28.0,29.0,23.0,11.0,23.0,34.0,20.0,20.0,16.0,18.0,20.0,20.0,27.0,55.0,53.0,37.0,55.0,24.0,24.0,49.0,17.0,39.0,5.0,10.0,1.0,16.0,51.0,5.0,19.0,0.0,20.0,0.0,1.0,38.0,40.0,18.0,36.0,23.0,42.0,37.0,24.0,12.0,2.0,28.0,44.0,26.0,36.0,28.0,14.0,14.0,28.0,27.0,21.0,24.0,18.0,24.0,8.0,36.0,32.0,19.0,12.0,21.0,13.0,20.0,35.0,23.0,17.0,29.0,27.0,22.0,26.0,1.0,7.0,78.0,24.0,26.0,50.0,16.0,57.0,29.0,27.0,42.0,28.0,18.0,38.0,32.0,21.0,6.0,27.0,32.0,23.0,29.0,22.0,31.0,0.0,2.0,null,28.0,20.0,28.0,42.0,32.0,19.0,20.0,20.0,21.0,32.0,16.0,21.0,12.0,21.0,31.0,18.0,35.0,44.0,13.0,21.0,37.0,null,34.0,21.0,38.0,31.0,61.0,20.0,39.0,29.0,68.0,38.0,31.0,41.0,29.0,25.0,27.0,21.0,30.0,40.0,59.0,35.0,41.0,36.0,58.0,27.0,24.0,50.0,22.0,26.0,16.0,56.0,25.0,13.0,53.0,21.0,18.0,38.0,20.0,24.0,56.0,47.0,21.0,null,26.0,34.0,35.0,35.0,49.0,24.0,62.0,25.0,42.0,25.0,21.0,17.0,41.0,50.0,20.0,15.0,29.0,20.0,35.0,22.0,43.0,54.0,15.0,38.0,44.0,34.0,15.0,24.0,29.0,19.0,27.0,26.0,46.0,64.0,17.0,45.0,27.0,29.0,18.0,26.0,39.0,59.0,20.0,17.0,47.0,29.0,16.0,48.0,39.0,28.0,12.0,24.0,30.0,34.0,37.0,47.0,0.0,23.0,0.0,20.0,35.0,18.0,17.0,18.0,53.0,35.0,48.0,68.0,27.0,28.0,37.0,35.0,31.0,14.0,1.0,4.0,30.0,11.0,45.0,29.0,32.0,15.0,25.0,25.0,60.0,24.0,35.0,36.0,22.0,32.0,57.0,30.0,46.0,28.0,26.0,55.0,66.0,20.0,31.0,13.0,50.0,21.0,25.0,46.0,0.0,2.0,36.0,19.0,35.0,41.0,22.0,25.0,24.0,37.0,5.0,null,41.0,44.0,23.0,28.0,27.0,40.0,27.0,17.0,32.0,29.0,29.0,41.0,48.0,27.0,14.0,32.0,47.0,14.0,37.0,33.0,33.0,44.0,37.0,18.0,33.0,21.0,38.0,16.0,58.0,41.0,28.0,28.0,31.0,27.0,7.0,25.0,34.0,21.0,29.0,23.0,31.0,50.0,25.0,25.0,23.0,46.0,0.0,53.0,25.0,30.0,18.0,20.0,54.0,20.0,32.0,31.0,55.0,16.0,0.0,3.0,33.0,45.0,6.0,33.0,14.0,24.0,47.0,37.0,14.0,44.0,11.0,15.0,39.0,15.0,60.0,49.0,23.0,9.0,0.0,17.0,42.0,16.0,0.0,26.0,56.0,26.0,41.0,27.0,31.0,40.0,40.0,15.0,50.0,42.0,50.0,39.0,27.0,20.0,30.0,16.0,36.0,68.0,22.0,36.0,3.0,28.0,32.0,10.0,0.0,9.0,37.0,31.0,31.0,43.0,15.0,58.0,30.0,24.0,49.0,73.0,14.0,50.0,12.0,2.0,49.0,32.0,null,33.0,23.0,23.0,43.0,36.0,26.0,29.0,21.0,30.0,23.0,13.0,22.0,25.0,52.0,22.0,31.0,23.0,35.0,26.0,14.0,39.0,8.0,29.0,15.0,48.0,9.0,25.0,13.0,25.0,27.0,32.0,20.0,40.0,18.0,21.0,38.0,62.0,23.0,48.0,27.0,32.0,53.0,26.0,46.0,32.0,40.0,27.0,28.0,29.0,37.0,0.0,12.0,25.0,null,3.0,9.0,27.0,59.0,24.0,16.0,16.0,46.0,25.0,39.0,15.0,16.0,35.0,43.0,7.0,29.0,60.0,49.0,50.0,40.0,49.0,18.0,29.0,56.0,29.0,29.0,22.0,24.0,23.0,28.0,19.0,32.0,37.0,26.0,43.0,25.0,11.0,4.0,32.0,15.0,17.0,37.0,20.0,47.0,16.0,8.0,22.0,39.0,57.0,29.0,null,70.0,13.0,49.0,25.0,19.0,15.0,37.0,null,28.0,22.0,26.0,25.0,19.0,20.0,35.0,37.0,37.0,13.0,20.0,65.0,29.0,0.0,4.0,19.0,17.0,28.0,28.0,21.0,45.0,21.0,20.0,38.0,24.0,22.0,44.0,41.0,21.0,26.0,54.0,19.0,32.0,null,26.0,28.0,21.0,38.0,43.0,12.0,25.0,27.0,22.0,20.0,24.0,34.0,42.0,24.0,28.0,29.0,31.0,29.0,14.0,16.0,16.0,27.0,null,23.0,16.0,30.0,24.0,36.0,25.0,29.0,21.0,26.0,30.0,31.0,20.0,null,33.0,35.0,46.0,63.0,37.0,23.0,5.0,16.0,20.0,49.0,3.0,41.0,null,14.0,26.0,51.0,36.0,16.0,18.0,48.0,24.0,19.0,21.0,24.0,21.0,13.0,39.0,27.0,23.0,43.0,19.0,30.0,52.0,35.0,16.0,21.0,45.0,22.0,null,0.0,63.0,56.0,40.0,1.0,24.0,36.0,13.0,13.0,37.0,44.0,32.0,57.0,26.0,62.0,2.0,1.0,24.0,1.0,63.0,20.0,15.0,32.0,24.0,32.0,36.0,13.0,29.0,27.0,30.0,27.0,14.0,32.0,33.0,35.0,21.0,57.0,42.0,20.0,18.0,49.0,23.0,24.0,24.0,23.0,24.0,26.0,28.0,17.0,20.0,22.0,23.0,22.0,29.0,null,31.0,37.0,44.0,34.0,23.0,18.0,18.0,23.0,18.0,22.0,10.0,null,31.0,48.0,51.0,25.0,32.0,8.0,49.0,28.0,3.0,null,31.0,11.0,27.0,33.0,32.0,20.0,33.0,65.0,18.0,19.0,33.0,null,31.0,37.0,19.0,18.0,47.0,26.0,25.0,38.0,53.0,38.0,28.0,46.0,18.0,14.0,32.0,44.0,28.0,2.0,28.0,27.0,29.0,14.0,14.0,17.0,35.0,36.0,51.0,54.0,37.0,37.0,24.0,null,38.0,28.0,0.0,16.0,25.0,22.0,24.0,37.0,21.0,53.0,0.0,2.0,64.0,24.0,40.0,32.0,54.0,30.0,37.0,20.0,22.0,57.0,34.0,51.0,47.0,22.0,36.0,16.0,60.0,39.0,18.0,30.0,45.0,30.0,21.0,0.0,51.0,22.0,26.0,10.0,21.0,14.0,null,43.0,22.0,22.0,23.0,25.0,35.0,30.0,37.0,21.0,36.0,13.0,22.0,36.0,17.0,38.0,34.0,20.0,17.0,36.0,52.0,32.0,35.0,null,36.0,36.0,21.0,33.0,40.0,24.0,35.0,29.0,33.0,51.0,10.0,41.0,26.0,39.0,14.0,28.0,18.0,41.0,33.0,26.0,31.0,63.0,30.0,27.0,47.0,37.0,14.0,27.0,61.0,39.0,22.0,30.0,26.0,25.0,42.0,33.0,60.0,16.0,50.0,22.0,15.0,27.0,58.0,48.0,36.0,60.0,46.0,58.0,40.0,3.0,23.0,21.0,29.0,23.0,41.0,20.0,24.0,21.0,55.0,21.0,42.0,40.0,30.0,26.0,43.0,20.0,19.0,40.0,17.0,62.0,32.0,37.0,40.0,25.0,17.0,46.0,38.0,43.0,28.0,31.0,35.0,19.0,24.0,20.0,16.0,45.0,19.0,23.0,19.0,32.0,41.0,30.0,41.0,7.0,39.0,47.0,21.0,29.0,19.0,50.0,28.0,38.0,24.0,31.0,38.0,26.0,28.0,45.0,47.0,60.0,42.0,43.0,17.0,17.0,20.0,18.0,24.0,25.0,20.0,23.0,48.0,26.0,36.0,27.0,41.0,21.0,71.0,64.0,33.0,24.0,35.0,13.0,11.0,null,43.0,36.0,22.0,56.0,34.0,46.0,43.0,25.0,26.0,14.0,63.0,29.0,45.0,15.0,19.0,53.0,45.0,41.0,68.0,5.0,27.0,20.0,54.0,18.0,45.0,26.0,37.0,30.0,51.0,3.0,3.0,19.0,19.0,6.0,4.0,23.0,37.0,18.0,29.0,25.0,52.0,24.0,0.0,25.0,26.0,32.0,58.0,44.0,41.0,24.0,41.0,23.0,27.0,61.0,18.0,18.0,null,15.0,12.0,40.0,19.0,18.0,48.0,37.0,35.0,29.0,54.0,null,22.0,18.0,26.0,19.0,22.0,17.0,18.0,39.0,37.0,17.0,25.0,9.0,15.0,19.0,18.0,50.0,14.0,19.0,33.0,23.0,39.0,14.0,14.0,45.0,22.0,36.0,19.0,59.0,31.0,31.0,39.0,28.0,19.0,29.0,0.0,15.0,18.0,49.0,36.0,40.0,56.0,67.0,44.0,17.0,27.0,23.0,28.0,54.0,26.0,40.0,39.0,40.0,20.0,18.0,17.0,35.0,31.0,40.0,50.0,21.0,29.0,63.0,19.0,36.0,48.0,33.0,28.0,39.0,27.0,58.0,44.0,23.0,21.0,53.0,14.0,17.0,25.0,44.0,24.0,24.0,24.0,0.0,7.0,3.0,18.0,4.0,40.0,16.0,25.0,10.0,40.0,19.0,15.0,24.0,21.0,29.0,37.0,49.0,42.0,54.0,33.0,27.0,53.0,28.0,24.0,20.0,0.0,24.0,28.0,42.0,32.0,36.0,40.0,30.0,34.0,37.0,41.0,25.0,39.0,0.0,54.0,16.0,0.0,13.0,46.0,23.0,18.0,27.0,24.0,27.0,24.0,25.0,30.0,19.0,18.0,49.0,64.0,26.0,53.0,27.0,27.0,25.0,33.0,27.0,20.0,39.0,27.0,19.0,22.0,3.0,24.0,41.0,18.0,63.0,19.0,39.0,null,41.0,44.0,39.0,29.0,37.0,41.0,18.0,null,55.0,21.0,28.0,43.0,32.0,23.0,5.0,14.0,24.0,22.0,14.0,20.0,17.0,20.0,22.0,15.0,67.0,28.0,57.0,21.0,34.0,17.0,33.0,33.0,28.0,18.0,28.0,13.0,38.0,39.0,18.0,43.0,32.0,29.0,45.0,25.0,64.0,18.0,44.0,15.0,21.0,33.0,3.0,19.0,37.0,24.0,26.0,26.0,26.0,22.0,26.0,27.0,27.0,37.0,22.0,24.0,23.0,18.0,28.0,4.0,23.0,2.0,46.0,0.0,16.0,19.0,34.0,34.0,24.0,28.0,44.0,35.0,20.0,18.0,43.0,48.0,46.0,75.0,24.0,34.0,29.0,46.0,22.0,42.0,46.0,15.0,42.0,31.0,9.0,34.0,21.0,16.0,40.0,23.0,6.0,17.0,37.0,30.0,32.0,41.0,43.0,17.0,37.0,18.0,1.0,38.0,25.0,6.0,1.0,7.0,24.0,19.0,26.0,49.0,18.0,25.0,46.0,33.0,10.0,38.0,23.0,26.0,16.0,29.0,35.0,58.0,17.0,16.0,2.0,13.0,18.0,29.0,21.0,43.0,69.0,40.0,1.0,36.0,60.0,17.0,49.0,23.0,39.0,53.0,26.0,31.0,48.0,26.0,25.0,25.0,30.0,null,23.0,24.0,47.0,37.0,24.0,21.0,42.0,39.0,28.0,32.0,31.0,13.0,41.0,21.0,null,9.0,36.0,30.0,27.0,40.0,41.0,16.0,36.0,15.0,39.0,21.0,24.0,28.0,47.0,55.0,null,22.0,26.0,62.0,53.0,29.0,21.0,18.0,34.0,19.0,14.0,21.0,55.0,18.0,33.0,35.0,31.0,27.0,null,13.0,24.0,22.0,32.0,18.0,53.0,4.0,24.0,23.0,1.0,18.0,21.0,40.0,49.0,25.0,21.0,40.0,47.0,25.0,36.0,39.0,26.0,0.0,14.0,7.0,50.0,22.0,17.0,35.0,22.0,26.0,24.0,59.0,24.0,17.0,28.0,38.0,2.0,36.0,32.0,15.0,54.0,18.0,22.0,23.0,14.0,26.0,73.0,29.0,29.0,12.0,27.0,31.0,26.0,35.0,25.0,40.0,18.0,52.0,35.0,51.0,35.0,14.0,null,26.0,21.0,45.0,29.0,39.0,37.0,22.0,22.0,30.0,1.0,0.0,9.0,18.0,29.0,52.0,27.0,54.0,28.0,65.0,26.0,29.0,20.0,39.0,37.0,20.0,40.0,0.0,33.0,23.0,32.0,20.0,60.0,53.0,26.0,35.0,19.0,43.0,29.0,20.0,19.0,21.0,39.0,12.0,20.0,18.0,31.0,35.0,44.0,62.0,23.0,23.0,19.0,29.0,31.0,33.0,41.0,60.0,41.0,69.0,44.0,18.0,26.0,30.0,34.0,18.0,49.0,71.0,19.0,23.0,31.0,40.0,28.0,17.0,24.0,54.0,21.0,2.0,20.0,20.0,36.0,25.0,58.0,37.0,26.0,45.0,44.0,24.0,13.0,4.0,24.0,27.0,39.0,23.0,4.0,0.0,22.0,27.0,22.0,26.0,60.0,18.0,20.0,25.0,24.0,38.0,18.0,45.0,13.0,28.0,5.0,20.0,2.0,42.0,0.0,18.0,26.0,3.0,49.0,19.0,19.0,15.0,53.0,0.0,39.0,45.0,10.0,1.0,9.0,40.0,26.0,18.0,47.0,31.0,null,23.0,32.0,32.0,21.0,null,22.0,18.0,28.0,38.0,46.0,44.0,38.0,28.0,31.0,18.0,18.0,4.0,0.0,0.0,23.0,35.0,43.0,18.0,18.0,18.0,49.0,19.0,22.0,4.0,0.0,null,39.0,36.0,53.0,23.0,24.0,25.0,30.0,20.0,40.0,18.0,57.0,47.0,26.0,29.0,32.0,30.0,18.0,49.0,33.0,18.0,29.0,34.0,43.0,18.0,31.0,15.0,3.0,37.0,1.0,27.0,15.0,33.0,65.0,19.0,30.0,37.0,15.0,19.0,20.0,19.0,21.0,20.0,18.0,27.0,23.0,25.0,72.0,35.0,29.0,11.0,7.0,null,28.0,41.0,null,19.0,8.0,4.0,38.0,21.0,18.0,10.0,29.0,25.0,40.0,19.0,38.0,19.0,0.0,4.0,29.0,46.0,32.0,26.0,23.0,32.0,31.0,34.0,45.0,61.0,21.0,null,15.0,14.0,18.0,39.0,62.0,40.0,21.0,12.0,27.0,28.0,0.0,17.0,23.0,6.0,29.0,41.0,27.0,34.0,36.0,30.0,30.0,29.0,21.0,21.0,18.0,11.0,65.0,25.0,0.0,24.0,19.0,23.0,45.0,52.0,55.0,24.0,31.0,18.0,22.0,39.0,19.0,33.0,14.0,30.0,30.0,21.0,45.0,17.0,39.0,22.0,37.0,48.0,33.0,37.0,27.0,29.0,38.0,16.0,18.0,null,47.0,15.0,13.0,19.0,17.0,31.0,19.0,25.0,26.0,25.0,2.0,7.0,2.0,19.0,1.0,4.0,49.0,61.0,57.0,52.0,22.0,37.0,15.0,28.0,40.0,13.0,24.0,25.0,25.0,43.0,46.0,3.0,3.0,3.0,8.0,57.0,11.0,20.0,27.0,20.0,14.0,24.0,21.0,33.0,32.0,22.0,15.0,41.0,31.0,35.0,48.0,15.0,37.0,21.0,34.0,19.0,52.0,15.0,24.0,45.0,13.0,18.0,19.0,20.0,20.0,27.0,22.0,17.0,23.0,29.0,24.0,26.0,36.0,25.0,36.0,32.0,16.0,32.0,48.0,25.0,46.0,32.0,50.0,31.0,27.0,52.0,34.0,40.0,36.0,19.0,33.0,23.0,57.0,24.0,19.0,54.0,28.0,26.0,43.0,39.0,21.0,24.0,35.0,61.0,21.0,14.0,38.0,23.0,31.0,66.0,56.0,21.0,49.0,21.0,27.0,23.0,27.0,49.0,38.0,60.0,47.0,29.0,19.0,32.0,22.0,35.0,28.0,22.0,42.0,37.0,31.0,33.0,48.0,31.0,18.0,44.0,22.0,18.0,48.0,2.0,0.0,43.0,51.0,48.0,51.0,20.0,41.0,27.0,56.0,26.0,21.0,null,23.0,28.0,40.0,39.0,16.0,20.0,24.0,45.0,33.0,19.0,15.0,18.0,21.0,37.0,53.0,19.0,17.0,58.0,18.0,25.0,39.0,40.0,27.0,3.0,18.0,18.0,29.0,22.0,34.0,19.0,26.0,33.0,34.0,18.0,40.0,53.0,8.0,54.0,29.0,56.0,21.0,25.0,33.0,22.0,50.0,24.0,25.0,59.0,26.0,19.0,37.0,22.0,44.0,25.0,23.0,6.0,39.0,26.0,14.0,3.0,21.0,24.0,18.0,37.0,21.0,67.0,28.0,13.0,26.0,33.0,18.0,24.0,26.0,21.0,27.0,15.0,24.0,31.0,10.0,23.0,50.0,13.0,43.0,20.0,21.0,18.0,16.0,47.0,35.0,15.0,46.0,6.0,26.0,49.0,28.0,37.0,17.0,38.0,18.0,55.0,28.0,25.0,17.0,22.0,4.0,3.0,21.0,24.0,50.0,3.0,19.0,22.0,20.0,18.0,27.0,29.0,23.0,48.0,32.0,55.0,49.0,15.0,50.0,35.0,29.0,38.0,29.0,39.0,49.0,39.0,19.0,19.0,14.0,40.0,40.0,20.0,6.0,41.0,37.0,31.0,8.0,55.0,16.0,29.0,40.0,27.0,21.0,25.0,44.0,34.0,1.0,1.0,42.0,18.0,21.0,24.0,null,18.0,27.0,13.0,10.0,8.0,40.0,35.0,13.0,19.0,44.0,36.0,29.0,28.0,36.0,24.0,14.0,50.0,20.0,38.0,33.0,54.0,20.0,23.0,65.0,51.0,36.0,38.0,28.0,32.0,55.0,23.0,38.0,18.0,32.0,44.0,62.0,66.0,20.0,19.0,null,25.0,20.0,18.0,20.0,14.0,49.0,49.0,19.0,53.0,31.0,18.0,24.0,35.0,27.0,38.0,23.0,22.0,38.0,28.0,25.0,45.0,22.0,30.0,25.0,24.0,44.0,6.0,0.0,14.0,37.0,15.0,0.0,17.0,58.0,15.0,53.0,29.0,24.0,40.0,21.0,30.0,20.0,20.0,18.0,36.0,20.0,4.0,59.0,20.0,4.0,23.0,25.0,20.0,22.0,6.0,14.0,0.0,4.0,37.0,14.0,34.0,3.0,18.0,27.0,19.0,37.0,29.0,37.0,32.0,22.0,38.0,24.0,63.0,23.0,41.0,20.0,48.0,44.0,15.0,29.0,64.0,19.0,28.0,44.0,13.0,45.0,25.0,19.0,29.0,21.0,13.0,25.0,46.0,37.0,19.0,29.0,21.0,13.0,15.0,42.0,null,26.0,19.0,18.0,50.0,28.0,24.0,31.0,19.0,20.0,23.0,19.0,27.0,16.0,76.0,41.0,24.0,12.0,28.0,36.0,20.0,7.0,21.0,33.0,32.0,34.0,38.0,null,28.0,25.0,24.0,18.0,24.0,30.0,38.0,39.0,31.0,33.0,15.0,23.0,24.0,44.0,22.0,28.0,34.0,8.0,26.0,29.0,58.0,4.0,1.0,17.0,27.0,24.0,16.0,28.0,23.0,33.0,24.0,6.0,19.0,31.0,19.0,18.0,35.0,32.0,19.0,24.0,33.0,20.0,27.0,26.0,28.0,19.0,24.0,52.0,23.0,23.0,25.0,22.0,35.0,24.0,24.0,26.0,37.0,14.0,36.0,0.0,17.0,18.0,43.0,21.0,34.0,57.0,18.0,73.0,31.0,25.0,20.0,24.0,null,21.0,22.0,39.0,26.0,32.0,1.0,7.0,4.0,21.0,12.0,28.0,0.0,18.0,52.0,18.0,51.0,21.0,28.0,34.0,13.0,35.0,27.0,35.0,51.0,53.0,29.0,41.0,47.0,22.0,19.0,22.0,25.0,null,17.0,0.0,5.0,30.0,17.0,53.0,9.0,17.0,16.0,29.0,29.0,46.0,27.0,39.0,15.0,30.0,41.0,47.0,32.0,15.0,23.0,20.0,33.0,18.0,31.0,25.0,19.0,32.0,45.0,43.0,21.0,48.0,0.0,29.0,41.0,23.0,48.0,18.0,30.0,26.0,18.0,27.0,58.0,22.0,17.0,28.0,27.0,51.0,37.0,14.0,43.0,27.0,60.0,33.0,39.0,21.0,21.0,28.0,30.0,42.0,25.0,25.0,25.0,54.0,41.0,36.0,33.0,36.0,55.0,16.0,28.0,26.0,42.0,30.0,31.0,22.0,26.0,25.0,44.0,29.0,22.0,23.0,30.0,23.0,13.0,53.0,0.0,27.0,27.0,10.0,2.0,5.0,24.0,32.0,22.0,22.0,44.0,55.0,22.0,8.0,15.0,1.0,9.0,48.0,16.0,27.0,3.0,25.0,70.0,30.0,57.0,42.0,14.0,43.0,34.0,21.0,32.0,21.0,25.0,25.0,38.0,36.0,44.0,37.0,47.0,38.0,28.0,38.0,53.0,26.0,13.0,64.0,16.0,13.0,55.0,26.0,23.0,55.0,50.0,26.0,36.0,33.0,21.0,41.0,33.0,23.0,31.0,28.0,13.0,null,35.0,25.0,19.0,56.0,18.0,22.0,34.0,11.0,37.0,22.0,45.0,19.0,39.0,28.0,36.0,1.0,10.0,12.0,31.0,12.0,3.0,30.0,41.0,19.0,38.0,36.0,0.0,20.0,23.0,35.0,36.0,41.0,38.0,33.0,54.0,33.0,54.0,32.0,24.0,53.0,26.0,31.0,18.0,39.0,37.0,35.0,34.0,28.0,43.0,2.0,24.0,18.0,21.0,24.0,35.0,53.0,32.0,44.0,33.0,40.0,31.0,23.0,44.0,41.0,31.0,30.0,33.0,30.0,26.0,22.0,37.0,15.0,52.0,35.0,40.0,60.0,24.0,31.0,43.0,9.0,51.0,25.0,20.0,22.0,21.0,50.0,24.0,45.0,22.0,7.0,11.0,1.0,0.0,8.0,36.0,2.0,0.0,22.0,41.0,49.0,30.0,37.0,14.0,30.0,62.0,13.0,32.0,33.0,38.0,29.0,25.0,26.0,19.0,16.0,61.0,28.0,13.0,44.0,22.0,30.0,21.0,20.0,31.0,33.0,26.0,21.0,23.0,0.0,32.0,30.0,41.0,18.0,26.0,32.0,44.0],\"xaxis\":\"x\",\"yaxis\":\"y\",\"type\":\"histogram\"}],                        {\"template\":{\"data\":{\"bar\":[{\"error_x\":{\"color\":\"#2a3f5f\"},\"error_y\":{\"color\":\"#2a3f5f\"},\"marker\":{\"line\":{\"color\":\"#E5ECF6\",\"width\":0.5},\"pattern\":{\"fillmode\":\"overlay\",\"size\":10,\"solidity\":0.2}},\"type\":\"bar\"}],\"barpolar\":[{\"marker\":{\"line\":{\"color\":\"#E5ECF6\",\"width\":0.5},\"pattern\":{\"fillmode\":\"overlay\",\"size\":10,\"solidity\":0.2}},\"type\":\"barpolar\"}],\"carpet\":[{\"aaxis\":{\"endlinecolor\":\"#2a3f5f\",\"gridcolor\":\"white\",\"linecolor\":\"white\",\"minorgridcolor\":\"white\",\"startlinecolor\":\"#2a3f5f\"},\"baxis\":{\"endlinecolor\":\"#2a3f5f\",\"gridcolor\":\"white\",\"linecolor\":\"white\",\"minorgridcolor\":\"white\",\"startlinecolor\":\"#2a3f5f\"},\"type\":\"carpet\"}],\"choropleth\":[{\"colorbar\":{\"outlinewidth\":0,\"ticks\":\"\"},\"type\":\"choropleth\"}],\"contour\":[{\"colorbar\":{\"outlinewidth\":0,\"ticks\":\"\"},\"colorscale\":[[0.0,\"#0d0887\"],[0.1111111111111111,\"#46039f\"],[0.2222222222222222,\"#7201a8\"],[0.3333333333333333,\"#9c179e\"],[0.4444444444444444,\"#bd3786\"],[0.5555555555555556,\"#d8576b\"],[0.6666666666666666,\"#ed7953\"],[0.7777777777777778,\"#fb9f3a\"],[0.8888888888888888,\"#fdca26\"],[1.0,\"#f0f921\"]],\"type\":\"contour\"}],\"contourcarpet\":[{\"colorbar\":{\"outlinewidth\":0,\"ticks\":\"\"},\"type\":\"contourcarpet\"}],\"heatmap\":[{\"colorbar\":{\"outlinewidth\":0,\"ticks\":\"\"},\"colorscale\":[[0.0,\"#0d0887\"],[0.1111111111111111,\"#46039f\"],[0.2222222222222222,\"#7201a8\"],[0.3333333333333333,\"#9c179e\"],[0.4444444444444444,\"#bd3786\"],[0.5555555555555556,\"#d8576b\"],[0.6666666666666666,\"#ed7953\"],[0.7777777777777778,\"#fb9f3a\"],[0.8888888888888888,\"#fdca26\"],[1.0,\"#f0f921\"]],\"type\":\"heatmap\"}],\"heatmapgl\":[{\"colorbar\":{\"outlinewidth\":0,\"ticks\":\"\"},\"colorscale\":[[0.0,\"#0d0887\"],[0.1111111111111111,\"#46039f\"],[0.2222222222222222,\"#7201a8\"],[0.3333333333333333,\"#9c179e\"],[0.4444444444444444,\"#bd3786\"],[0.5555555555555556,\"#d8576b\"],[0.6666666666666666,\"#ed7953\"],[0.7777777777777778,\"#fb9f3a\"],[0.8888888888888888,\"#fdca26\"],[1.0,\"#f0f921\"]],\"type\":\"heatmapgl\"}],\"histogram\":[{\"marker\":{\"pattern\":{\"fillmode\":\"overlay\",\"size\":10,\"solidity\":0.2}},\"type\":\"histogram\"}],\"histogram2d\":[{\"colorbar\":{\"outlinewidth\":0,\"ticks\":\"\"},\"colorscale\":[[0.0,\"#0d0887\"],[0.1111111111111111,\"#46039f\"],[0.2222222222222222,\"#7201a8\"],[0.3333333333333333,\"#9c179e\"],[0.4444444444444444,\"#bd3786\"],[0.5555555555555556,\"#d8576b\"],[0.6666666666666666,\"#ed7953\"],[0.7777777777777778,\"#fb9f3a\"],[0.8888888888888888,\"#fdca26\"],[1.0,\"#f0f921\"]],\"type\":\"histogram2d\"}],\"histogram2dcontour\":[{\"colorbar\":{\"outlinewidth\":0,\"ticks\":\"\"},\"colorscale\":[[0.0,\"#0d0887\"],[0.1111111111111111,\"#46039f\"],[0.2222222222222222,\"#7201a8\"],[0.3333333333333333,\"#9c179e\"],[0.4444444444444444,\"#bd3786\"],[0.5555555555555556,\"#d8576b\"],[0.6666666666666666,\"#ed7953\"],[0.7777777777777778,\"#fb9f3a\"],[0.8888888888888888,\"#fdca26\"],[1.0,\"#f0f921\"]],\"type\":\"histogram2dcontour\"}],\"mesh3d\":[{\"colorbar\":{\"outlinewidth\":0,\"ticks\":\"\"},\"type\":\"mesh3d\"}],\"parcoords\":[{\"line\":{\"colorbar\":{\"outlinewidth\":0,\"ticks\":\"\"}},\"type\":\"parcoords\"}],\"pie\":[{\"automargin\":true,\"type\":\"pie\"}],\"scatter\":[{\"marker\":{\"colorbar\":{\"outlinewidth\":0,\"ticks\":\"\"}},\"type\":\"scatter\"}],\"scatter3d\":[{\"line\":{\"colorbar\":{\"outlinewidth\":0,\"ticks\":\"\"}},\"marker\":{\"colorbar\":{\"outlinewidth\":0,\"ticks\":\"\"}},\"type\":\"scatter3d\"}],\"scattercarpet\":[{\"marker\":{\"colorbar\":{\"outlinewidth\":0,\"ticks\":\"\"}},\"type\":\"scattercarpet\"}],\"scattergeo\":[{\"marker\":{\"colorbar\":{\"outlinewidth\":0,\"ticks\":\"\"}},\"type\":\"scattergeo\"}],\"scattergl\":[{\"marker\":{\"colorbar\":{\"outlinewidth\":0,\"ticks\":\"\"}},\"type\":\"scattergl\"}],\"scattermapbox\":[{\"marker\":{\"colorbar\":{\"outlinewidth\":0,\"ticks\":\"\"}},\"type\":\"scattermapbox\"}],\"scatterpolar\":[{\"marker\":{\"colorbar\":{\"outlinewidth\":0,\"ticks\":\"\"}},\"type\":\"scatterpolar\"}],\"scatterpolargl\":[{\"marker\":{\"colorbar\":{\"outlinewidth\":0,\"ticks\":\"\"}},\"type\":\"scatterpolargl\"}],\"scatterternary\":[{\"marker\":{\"colorbar\":{\"outlinewidth\":0,\"ticks\":\"\"}},\"type\":\"scatterternary\"}],\"surface\":[{\"colorbar\":{\"outlinewidth\":0,\"ticks\":\"\"},\"colorscale\":[[0.0,\"#0d0887\"],[0.1111111111111111,\"#46039f\"],[0.2222222222222222,\"#7201a8\"],[0.3333333333333333,\"#9c179e\"],[0.4444444444444444,\"#bd3786\"],[0.5555555555555556,\"#d8576b\"],[0.6666666666666666,\"#ed7953\"],[0.7777777777777778,\"#fb9f3a\"],[0.8888888888888888,\"#fdca26\"],[1.0,\"#f0f921\"]],\"type\":\"surface\"}],\"table\":[{\"cells\":{\"fill\":{\"color\":\"#EBF0F8\"},\"line\":{\"color\":\"white\"}},\"header\":{\"fill\":{\"color\":\"#C8D4E3\"},\"line\":{\"color\":\"white\"}},\"type\":\"table\"}]},\"layout\":{\"annotationdefaults\":{\"arrowcolor\":\"#2a3f5f\",\"arrowhead\":0,\"arrowwidth\":1},\"autotypenumbers\":\"strict\",\"coloraxis\":{\"colorbar\":{\"outlinewidth\":0,\"ticks\":\"\"}},\"colorscale\":{\"diverging\":[[0,\"#8e0152\"],[0.1,\"#c51b7d\"],[0.2,\"#de77ae\"],[0.3,\"#f1b6da\"],[0.4,\"#fde0ef\"],[0.5,\"#f7f7f7\"],[0.6,\"#e6f5d0\"],[0.7,\"#b8e186\"],[0.8,\"#7fbc41\"],[0.9,\"#4d9221\"],[1,\"#276419\"]],\"sequential\":[[0.0,\"#0d0887\"],[0.1111111111111111,\"#46039f\"],[0.2222222222222222,\"#7201a8\"],[0.3333333333333333,\"#9c179e\"],[0.4444444444444444,\"#bd3786\"],[0.5555555555555556,\"#d8576b\"],[0.6666666666666666,\"#ed7953\"],[0.7777777777777778,\"#fb9f3a\"],[0.8888888888888888,\"#fdca26\"],[1.0,\"#f0f921\"]],\"sequentialminus\":[[0.0,\"#0d0887\"],[0.1111111111111111,\"#46039f\"],[0.2222222222222222,\"#7201a8\"],[0.3333333333333333,\"#9c179e\"],[0.4444444444444444,\"#bd3786\"],[0.5555555555555556,\"#d8576b\"],[0.6666666666666666,\"#ed7953\"],[0.7777777777777778,\"#fb9f3a\"],[0.8888888888888888,\"#fdca26\"],[1.0,\"#f0f921\"]]},\"colorway\":[\"#636efa\",\"#EF553B\",\"#00cc96\",\"#ab63fa\",\"#FFA15A\",\"#19d3f3\",\"#FF6692\",\"#B6E880\",\"#FF97FF\",\"#FECB52\"],\"font\":{\"color\":\"#2a3f5f\"},\"geo\":{\"bgcolor\":\"white\",\"lakecolor\":\"white\",\"landcolor\":\"#E5ECF6\",\"showlakes\":true,\"showland\":true,\"subunitcolor\":\"white\"},\"hoverlabel\":{\"align\":\"left\"},\"hovermode\":\"closest\",\"mapbox\":{\"style\":\"light\"},\"paper_bgcolor\":\"white\",\"plot_bgcolor\":\"#E5ECF6\",\"polar\":{\"angularaxis\":{\"gridcolor\":\"white\",\"linecolor\":\"white\",\"ticks\":\"\"},\"bgcolor\":\"#E5ECF6\",\"radialaxis\":{\"gridcolor\":\"white\",\"linecolor\":\"white\",\"ticks\":\"\"}},\"scene\":{\"xaxis\":{\"backgroundcolor\":\"#E5ECF6\",\"gridcolor\":\"white\",\"gridwidth\":2,\"linecolor\":\"white\",\"showbackground\":true,\"ticks\":\"\",\"zerolinecolor\":\"white\"},\"yaxis\":{\"backgroundcolor\":\"#E5ECF6\",\"gridcolor\":\"white\",\"gridwidth\":2,\"linecolor\":\"white\",\"showbackground\":true,\"ticks\":\"\",\"zerolinecolor\":\"white\"},\"zaxis\":{\"backgroundcolor\":\"#E5ECF6\",\"gridcolor\":\"white\",\"gridwidth\":2,\"linecolor\":\"white\",\"showbackground\":true,\"ticks\":\"\",\"zerolinecolor\":\"white\"}},\"shapedefaults\":{\"line\":{\"color\":\"#2a3f5f\"}},\"ternary\":{\"aaxis\":{\"gridcolor\":\"white\",\"linecolor\":\"white\",\"ticks\":\"\"},\"baxis\":{\"gridcolor\":\"white\",\"linecolor\":\"white\",\"ticks\":\"\"},\"bgcolor\":\"#E5ECF6\",\"caxis\":{\"gridcolor\":\"white\",\"linecolor\":\"white\",\"ticks\":\"\"}},\"title\":{\"x\":0.05},\"xaxis\":{\"automargin\":true,\"gridcolor\":\"white\",\"linecolor\":\"white\",\"ticks\":\"\",\"title\":{\"standoff\":15},\"zerolinecolor\":\"white\",\"zerolinewidth\":2},\"yaxis\":{\"automargin\":true,\"gridcolor\":\"white\",\"linecolor\":\"white\",\"ticks\":\"\",\"title\":{\"standoff\":15},\"zerolinecolor\":\"white\",\"zerolinewidth\":2}}},\"xaxis\":{\"anchor\":\"y\",\"domain\":[0.0,1.0],\"title\":{\"text\":\"Age\"}},\"yaxis\":{\"anchor\":\"x\",\"domain\":[0.0,1.0],\"title\":{\"text\":\"count\"}},\"legend\":{\"tracegroupgap\":0},\"margin\":{\"t\":60},\"barmode\":\"relative\"},                        {\"responsive\": true}                    ).then(function(){\n",
              "                            \n",
              "var gd = document.getElementById('2e2884d7-6ef1-4fa2-aeeb-af75a065f008');\n",
              "var x = new MutationObserver(function (mutations, observer) {{\n",
              "        var display = window.getComputedStyle(gd).display;\n",
              "        if (!display || display === 'none') {{\n",
              "            console.log([gd, 'removed!']);\n",
              "            Plotly.purge(gd);\n",
              "            observer.disconnect();\n",
              "        }}\n",
              "}});\n",
              "\n",
              "// Listen for the removal of the full notebook cells\n",
              "var notebookContainer = gd.closest('#notebook-container');\n",
              "if (notebookContainer) {{\n",
              "    x.observe(notebookContainer, {childList: true});\n",
              "}}\n",
              "\n",
              "// Listen for the clearing of the current output cell\n",
              "var outputEl = gd.closest('.output');\n",
              "if (outputEl) {{\n",
              "    x.observe(outputEl, {childList: true});\n",
              "}}\n",
              "\n",
              "                        })                };                            </script>        </div>\n",
              "</body>\n",
              "</html>"
            ]
          },
          "metadata": {}
        }
      ]
    },
    {
      "cell_type": "code",
      "source": [
        "# 3. Let's plot the distribution of the Room Service Bills\n",
        "px.histogram(data_frame = train_df, x=\"RoomService\")"
      ],
      "metadata": {
        "colab": {
          "base_uri": "https://localhost:8080/",
          "height": 542
        },
        "id": "EDbrCVSEwSbY",
        "outputId": "a9feefca-e0d1-446a-f780-cc4f06cf1f72"
      },
      "execution_count": 10,
      "outputs": [
        {
          "output_type": "display_data",
          "data": {
            "text/html": [
              "<html>\n",
              "<head><meta charset=\"utf-8\" /></head>\n",
              "<body>\n",
              "    <div>            <script src=\"https://cdnjs.cloudflare.com/ajax/libs/mathjax/2.7.5/MathJax.js?config=TeX-AMS-MML_SVG\"></script><script type=\"text/javascript\">if (window.MathJax) {MathJax.Hub.Config({SVG: {font: \"STIX-Web\"}});}</script>                <script type=\"text/javascript\">window.PlotlyConfig = {MathJaxConfig: 'local'};</script>\n",
              "        <script src=\"https://cdn.plot.ly/plotly-2.8.3.min.js\"></script>                <div id=\"fa060168-9226-4de8-9bcb-e1a9b43ca5d4\" class=\"plotly-graph-div\" style=\"height:525px; width:100%;\"></div>            <script type=\"text/javascript\">                                    window.PLOTLYENV=window.PLOTLYENV || {};                                    if (document.getElementById(\"fa060168-9226-4de8-9bcb-e1a9b43ca5d4\")) {                    Plotly.newPlot(                        \"fa060168-9226-4de8-9bcb-e1a9b43ca5d4\",                        [{\"alignmentgroup\":\"True\",\"bingroup\":\"x\",\"hovertemplate\":\"RoomService=%{x}<br>count=%{y}<extra></extra>\",\"legendgroup\":\"\",\"marker\":{\"color\":\"#636efa\",\"pattern\":{\"shape\":\"\"}},\"name\":\"\",\"offsetgroup\":\"\",\"orientation\":\"v\",\"showlegend\":false,\"x\":[0.0,109.0,43.0,0.0,303.0,0.0,42.0,0.0,0.0,0.0,0.0,39.0,73.0,719.0,8.0,32.0,1286.0,0.0,0.0,0.0,412.0,0.0,0.0,0.0,0.0,null,0.0,980.0,0.0,0.0,22.0,1125.0,0.0,214.0,0.0,null,0.0,784.0,0.0,554.0,0.0,0.0,0.0,0.0,0.0,0.0,970.0,0.0,790.0,0.0,4.0,0.0,0.0,0.0,279.0,0.0,45.0,0.0,0.0,0.0,1.0,0.0,1.0,1946.0,793.0,887.0,190.0,16.0,0.0,46.0,1.0,147.0,14.0,0.0,0.0,7406.0,0.0,0.0,688.0,0.0,211.0,0.0,0.0,null,1.0,0.0,0.0,0.0,0.0,0.0,0.0,311.0,0.0,0.0,0.0,0.0,0.0,0.0,0.0,1743.0,0.0,562.0,0.0,0.0,0.0,2209.0,0.0,0.0,0.0,0.0,82.0,0.0,1.0,0.0,0.0,0.0,0.0,55.0,0.0,701.0,2353.0,2103.0,0.0,0.0,2738.0,0.0,97.0,0.0,0.0,0.0,0.0,440.0,null,0.0,0.0,0.0,1072.0,0.0,0.0,0.0,4119.0,0.0,0.0,50.0,0.0,0.0,0.0,1365.0,0.0,0.0,0.0,0.0,0.0,287.0,0.0,3414.0,1.0,0.0,0.0,0.0,0.0,17.0,62.0,0.0,84.0,0.0,0.0,0.0,0.0,0.0,null,0.0,406.0,1052.0,0.0,0.0,0.0,0.0,0.0,0.0,0.0,0.0,0.0,0.0,2.0,0.0,0.0,902.0,0.0,848.0,192.0,147.0,367.0,0.0,1517.0,0.0,0.0,0.0,0.0,122.0,0.0,0.0,0.0,2237.0,1215.0,1933.0,0.0,1230.0,915.0,0.0,1406.0,0.0,0.0,0.0,181.0,0.0,4.0,85.0,0.0,56.0,null,0.0,637.0,0.0,0.0,313.0,0.0,0.0,0.0,0.0,0.0,2947.0,0.0,null,0.0,335.0,272.0,702.0,0.0,1664.0,0.0,0.0,0.0,66.0,0.0,0.0,118.0,0.0,0.0,0.0,44.0,0.0,0.0,0.0,0.0,0.0,146.0,0.0,0.0,3.0,0.0,0.0,0.0,0.0,0.0,0.0,0.0,0.0,0.0,0.0,90.0,0.0,0.0,0.0,0.0,0.0,0.0,368.0,0.0,1194.0,null,7.0,0.0,331.0,0.0,386.0,0.0,0.0,0.0,0.0,0.0,1018.0,0.0,0.0,0.0,17.0,0.0,247.0,443.0,0.0,0.0,5715.0,695.0,0.0,417.0,0.0,0.0,0.0,0.0,121.0,0.0,0.0,434.0,142.0,520.0,0.0,2001.0,0.0,0.0,null,0.0,0.0,148.0,358.0,0.0,0.0,2832.0,0.0,0.0,0.0,0.0,0.0,0.0,0.0,116.0,0.0,17.0,0.0,5649.0,0.0,0.0,0.0,0.0,198.0,0.0,0.0,0.0,348.0,82.0,0.0,0.0,3.0,13.0,0.0,0.0,391.0,69.0,0.0,0.0,1.0,0.0,0.0,28.0,1056.0,1770.0,0.0,353.0,177.0,null,0.0,0.0,1134.0,0.0,0.0,691.0,0.0,0.0,0.0,0.0,0.0,0.0,8.0,1094.0,0.0,0.0,417.0,0.0,2.0,0.0,0.0,0.0,1483.0,0.0,4.0,0.0,0.0,0.0,46.0,382.0,7.0,null,null,0.0,7.0,2484.0,1869.0,1352.0,0.0,0.0,9.0,757.0,0.0,0.0,0.0,0.0,0.0,0.0,5.0,0.0,0.0,210.0,0.0,0.0,0.0,0.0,2156.0,0.0,0.0,0.0,0.0,0.0,865.0,928.0,4.0,0.0,0.0,0.0,0.0,0.0,0.0,0.0,0.0,0.0,0.0,null,0.0,0.0,0.0,null,0.0,0.0,0.0,0.0,172.0,0.0,0.0,0.0,0.0,0.0,0.0,513.0,0.0,10.0,0.0,1821.0,1246.0,0.0,0.0,0.0,0.0,0.0,0.0,0.0,0.0,0.0,0.0,0.0,0.0,0.0,113.0,1445.0,0.0,0.0,62.0,39.0,0.0,553.0,0.0,1172.0,0.0,0.0,0.0,0.0,0.0,20.0,98.0,3573.0,0.0,0.0,0.0,0.0,0.0,0.0,0.0,0.0,1471.0,9.0,59.0,930.0,0.0,0.0,666.0,0.0,13.0,126.0,0.0,0.0,0.0,0.0,0.0,0.0,0.0,0.0,0.0,1440.0,0.0,840.0,0.0,0.0,0.0,697.0,0.0,0.0,1908.0,0.0,0.0,530.0,0.0,0.0,0.0,0.0,0.0,0.0,0.0,1911.0,14.0,0.0,0.0,0.0,53.0,null,0.0,0.0,0.0,0.0,0.0,0.0,0.0,0.0,2648.0,0.0,5.0,0.0,234.0,801.0,0.0,43.0,0.0,null,21.0,0.0,0.0,0.0,0.0,0.0,1252.0,0.0,0.0,0.0,0.0,0.0,0.0,27.0,434.0,4.0,0.0,149.0,0.0,0.0,0.0,0.0,0.0,0.0,0.0,0.0,1.0,0.0,0.0,0.0,103.0,0.0,0.0,0.0,629.0,0.0,0.0,614.0,0.0,0.0,0.0,0.0,0.0,2.0,0.0,0.0,0.0,0.0,0.0,1019.0,0.0,1724.0,0.0,0.0,0.0,105.0,0.0,0.0,237.0,0.0,0.0,0.0,0.0,0.0,0.0,0.0,86.0,0.0,null,1264.0,0.0,0.0,0.0,1.0,0.0,0.0,0.0,null,0.0,0.0,0.0,0.0,269.0,0.0,0.0,0.0,1.0,0.0,3887.0,3097.0,1973.0,0.0,0.0,164.0,505.0,0.0,0.0,0.0,0.0,21.0,0.0,2698.0,0.0,121.0,0.0,0.0,0.0,0.0,0.0,0.0,0.0,1695.0,457.0,0.0,1577.0,0.0,0.0,0.0,0.0,0.0,0.0,0.0,0.0,521.0,0.0,0.0,0.0,139.0,0.0,7.0,0.0,0.0,712.0,0.0,0.0,0.0,76.0,0.0,3594.0,0.0,0.0,15.0,0.0,19.0,0.0,0.0,0.0,47.0,0.0,1.0,0.0,0.0,0.0,1248.0,755.0,0.0,29.0,0.0,0.0,0.0,0.0,0.0,0.0,0.0,0.0,0.0,0.0,0.0,0.0,0.0,558.0,0.0,0.0,562.0,14.0,0.0,0.0,713.0,0.0,0.0,797.0,0.0,0.0,0.0,0.0,0.0,0.0,0.0,0.0,0.0,0.0,0.0,0.0,0.0,0.0,0.0,183.0,0.0,159.0,0.0,1227.0,836.0,0.0,1209.0,0.0,0.0,0.0,2.0,0.0,0.0,0.0,0.0,0.0,751.0,0.0,0.0,0.0,815.0,0.0,174.0,786.0,324.0,15.0,14.0,0.0,0.0,77.0,494.0,0.0,663.0,2651.0,0.0,0.0,0.0,0.0,0.0,0.0,217.0,0.0,0.0,34.0,0.0,0.0,0.0,0.0,0.0,2.0,0.0,280.0,112.0,2.0,null,0.0,0.0,12.0,0.0,381.0,784.0,3103.0,875.0,0.0,0.0,0.0,1.0,172.0,0.0,0.0,0.0,0.0,47.0,200.0,0.0,0.0,4.0,0.0,0.0,0.0,0.0,2492.0,853.0,0.0,0.0,157.0,47.0,18.0,0.0,0.0,0.0,0.0,0.0,13.0,379.0,0.0,0.0,0.0,0.0,0.0,0.0,646.0,0.0,0.0,0.0,14.0,0.0,0.0,174.0,0.0,0.0,0.0,55.0,0.0,594.0,891.0,0.0,72.0,0.0,0.0,0.0,877.0,0.0,null,0.0,0.0,3.0,0.0,0.0,0.0,631.0,1377.0,792.0,0.0,0.0,0.0,0.0,58.0,0.0,null,0.0,0.0,null,0.0,0.0,0.0,0.0,0.0,0.0,0.0,0.0,0.0,6.0,3.0,0.0,1.0,0.0,0.0,0.0,31.0,387.0,1192.0,8030.0,0.0,4301.0,252.0,0.0,621.0,0.0,253.0,0.0,885.0,0.0,0.0,1050.0,0.0,0.0,0.0,0.0,0.0,0.0,0.0,0.0,1633.0,0.0,0.0,0.0,0.0,0.0,0.0,0.0,1.0,0.0,48.0,187.0,0.0,0.0,0.0,759.0,null,0.0,1454.0,231.0,0.0,0.0,1081.0,756.0,0.0,0.0,0.0,4.0,0.0,0.0,521.0,0.0,0.0,0.0,0.0,507.0,0.0,0.0,0.0,0.0,2.0,null,182.0,0.0,0.0,0.0,0.0,0.0,null,0.0,0.0,0.0,0.0,0.0,0.0,415.0,0.0,0.0,0.0,0.0,79.0,638.0,202.0,694.0,0.0,0.0,556.0,0.0,0.0,0.0,0.0,0.0,0.0,0.0,0.0,0.0,0.0,0.0,1862.0,437.0,0.0,233.0,0.0,0.0,490.0,null,787.0,528.0,173.0,82.0,55.0,0.0,0.0,8.0,0.0,0.0,936.0,0.0,0.0,0.0,0.0,0.0,855.0,98.0,0.0,0.0,2.0,null,null,0.0,0.0,0.0,0.0,0.0,0.0,0.0,0.0,0.0,0.0,482.0,412.0,620.0,0.0,0.0,0.0,0.0,0.0,0.0,0.0,2386.0,0.0,0.0,0.0,0.0,0.0,null,29.0,0.0,0.0,0.0,0.0,131.0,0.0,0.0,0.0,0.0,0.0,0.0,0.0,0.0,636.0,0.0,0.0,0.0,0.0,0.0,2357.0,0.0,96.0,0.0,0.0,0.0,0.0,0.0,0.0,0.0,2997.0,60.0,null,0.0,0.0,0.0,0.0,0.0,0.0,0.0,0.0,204.0,0.0,0.0,600.0,0.0,0.0,2.0,0.0,42.0,0.0,0.0,71.0,null,0.0,393.0,0.0,0.0,0.0,0.0,1.0,0.0,0.0,0.0,0.0,0.0,0.0,65.0,0.0,0.0,0.0,0.0,0.0,0.0,2.0,0.0,142.0,0.0,354.0,0.0,0.0,0.0,0.0,0.0,27.0,614.0,0.0,0.0,585.0,889.0,0.0,0.0,8168.0,0.0,0.0,0.0,704.0,4.0,0.0,0.0,1277.0,0.0,0.0,0.0,1365.0,1084.0,0.0,0.0,2066.0,0.0,0.0,0.0,0.0,0.0,0.0,0.0,0.0,6.0,0.0,286.0,0.0,0.0,0.0,733.0,621.0,0.0,789.0,1758.0,0.0,105.0,213.0,0.0,0.0,null,68.0,0.0,1.0,218.0,0.0,0.0,0.0,0.0,0.0,0.0,0.0,0.0,0.0,0.0,278.0,0.0,0.0,0.0,0.0,0.0,948.0,1946.0,0.0,0.0,0.0,2508.0,0.0,0.0,0.0,0.0,0.0,0.0,70.0,0.0,1450.0,1507.0,0.0,405.0,120.0,0.0,28.0,0.0,0.0,0.0,775.0,0.0,0.0,1174.0,0.0,0.0,0.0,0.0,1489.0,491.0,0.0,0.0,43.0,0.0,1535.0,0.0,0.0,0.0,0.0,0.0,0.0,0.0,77.0,0.0,0.0,0.0,965.0,591.0,0.0,0.0,0.0,0.0,245.0,926.0,0.0,0.0,0.0,0.0,0.0,21.0,0.0,0.0,338.0,189.0,705.0,0.0,1088.0,0.0,0.0,0.0,1072.0,485.0,42.0,2058.0,0.0,386.0,0.0,0.0,0.0,0.0,0.0,0.0,1656.0,1.0,0.0,36.0,737.0,8.0,4.0,0.0,0.0,0.0,259.0,13.0,0.0,0.0,1381.0,0.0,328.0,891.0,0.0,0.0,0.0,0.0,2988.0,0.0,0.0,0.0,711.0,0.0,0.0,0.0,0.0,443.0,0.0,360.0,0.0,0.0,0.0,0.0,0.0,0.0,181.0,112.0,806.0,0.0,0.0,0.0,50.0,0.0,0.0,0.0,0.0,202.0,0.0,5.0,0.0,0.0,0.0,0.0,0.0,3.0,0.0,0.0,0.0,0.0,0.0,0.0,0.0,0.0,null,0.0,0.0,0.0,200.0,356.0,894.0,0.0,0.0,null,0.0,555.0,92.0,0.0,0.0,73.0,0.0,0.0,0.0,0.0,35.0,0.0,5.0,0.0,0.0,0.0,0.0,319.0,0.0,0.0,0.0,1890.0,1114.0,0.0,0.0,1.0,0.0,398.0,1240.0,1226.0,1006.0,0.0,0.0,65.0,765.0,0.0,0.0,0.0,0.0,0.0,539.0,4.0,0.0,0.0,3992.0,0.0,0.0,0.0,0.0,1015.0,0.0,54.0,1.0,0.0,0.0,12.0,7172.0,0.0,9.0,206.0,163.0,0.0,0.0,1.0,5022.0,0.0,0.0,0.0,877.0,0.0,1030.0,341.0,0.0,0.0,0.0,1018.0,0.0,0.0,758.0,4.0,938.0,641.0,0.0,0.0,333.0,0.0,428.0,0.0,0.0,433.0,null,0.0,0.0,0.0,0.0,0.0,305.0,16.0,5.0,0.0,0.0,0.0,0.0,0.0,0.0,22.0,0.0,0.0,0.0,0.0,2.0,13.0,1158.0,0.0,0.0,0.0,825.0,432.0,0.0,0.0,0.0,295.0,0.0,553.0,172.0,0.0,0.0,612.0,0.0,0.0,0.0,null,0.0,0.0,0.0,0.0,1215.0,0.0,0.0,0.0,0.0,1300.0,139.0,0.0,414.0,305.0,0.0,0.0,0.0,954.0,0.0,0.0,0.0,0.0,0.0,4.0,3202.0,0.0,1.0,0.0,1150.0,0.0,0.0,0.0,0.0,0.0,0.0,127.0,0.0,158.0,2.0,2436.0,0.0,1481.0,0.0,0.0,0.0,7.0,876.0,0.0,0.0,5.0,1.0,0.0,0.0,0.0,0.0,714.0,233.0,null,null,0.0,3482.0,0.0,324.0,0.0,0.0,0.0,0.0,0.0,0.0,1112.0,86.0,0.0,0.0,31.0,2210.0,1313.0,1744.0,0.0,1554.0,285.0,0.0,437.0,139.0,103.0,84.0,0.0,0.0,813.0,4.0,0.0,0.0,320.0,852.0,8.0,0.0,0.0,1279.0,553.0,21.0,68.0,0.0,1.0,1336.0,0.0,0.0,0.0,0.0,0.0,762.0,49.0,0.0,0.0,0.0,0.0,0.0,0.0,0.0,1006.0,0.0,0.0,26.0,587.0,742.0,145.0,2400.0,104.0,0.0,0.0,0.0,112.0,0.0,3677.0,2973.0,0.0,0.0,0.0,0.0,0.0,1220.0,0.0,0.0,0.0,0.0,164.0,0.0,0.0,596.0,28.0,0.0,0.0,28.0,27.0,0.0,0.0,1.0,5.0,0.0,0.0,0.0,0.0,0.0,0.0,0.0,0.0,0.0,0.0,0.0,0.0,4694.0,0.0,928.0,9.0,0.0,1891.0,0.0,112.0,0.0,null,2.0,143.0,null,0.0,0.0,0.0,1.0,0.0,0.0,0.0,0.0,0.0,140.0,17.0,1639.0,1104.0,2249.0,0.0,0.0,0.0,0.0,5.0,181.0,113.0,0.0,0.0,0.0,0.0,0.0,0.0,8.0,120.0,0.0,0.0,95.0,0.0,953.0,14.0,1752.0,0.0,0.0,0.0,0.0,0.0,0.0,0.0,0.0,0.0,0.0,0.0,0.0,0.0,28.0,0.0,0.0,470.0,2215.0,0.0,0.0,0.0,0.0,0.0,116.0,0.0,0.0,0.0,0.0,5.0,4.0,0.0,0.0,0.0,null,11.0,0.0,0.0,42.0,0.0,1465.0,0.0,null,1218.0,8.0,0.0,0.0,1744.0,0.0,0.0,34.0,731.0,0.0,0.0,0.0,0.0,0.0,2424.0,0.0,0.0,10.0,0.0,7.0,0.0,975.0,3037.0,120.0,717.0,0.0,0.0,0.0,942.0,0.0,382.0,0.0,2765.0,708.0,0.0,0.0,0.0,0.0,0.0,0.0,302.0,3.0,0.0,null,0.0,null,0.0,0.0,null,3.0,0.0,3702.0,0.0,0.0,15.0,0.0,1.0,0.0,0.0,0.0,0.0,0.0,401.0,0.0,1434.0,0.0,196.0,414.0,0.0,0.0,0.0,0.0,213.0,null,1062.0,0.0,231.0,12.0,37.0,373.0,5.0,673.0,3.0,null,0.0,0.0,0.0,0.0,0.0,0.0,0.0,0.0,1250.0,0.0,1139.0,0.0,0.0,0.0,0.0,44.0,0.0,0.0,0.0,30.0,662.0,0.0,0.0,399.0,6.0,0.0,0.0,null,0.0,null,0.0,0.0,0.0,2.0,162.0,281.0,0.0,0.0,0.0,0.0,0.0,0.0,0.0,0.0,16.0,0.0,0.0,2.0,1430.0,0.0,583.0,0.0,12.0,0.0,0.0,0.0,null,0.0,167.0,177.0,1289.0,9.0,270.0,430.0,8.0,0.0,121.0,19.0,0.0,0.0,51.0,0.0,0.0,0.0,51.0,null,8.0,356.0,29.0,546.0,6726.0,1751.0,2300.0,0.0,0.0,216.0,1624.0,0.0,10.0,0.0,63.0,776.0,0.0,0.0,1.0,235.0,0.0,600.0,860.0,0.0,0.0,0.0,0.0,0.0,0.0,0.0,0.0,0.0,770.0,0.0,717.0,721.0,624.0,736.0,0.0,0.0,1054.0,0.0,1146.0,75.0,426.0,2.0,0.0,0.0,0.0,0.0,0.0,0.0,0.0,0.0,0.0,0.0,0.0,0.0,1146.0,579.0,0.0,0.0,2138.0,0.0,78.0,651.0,0.0,0.0,0.0,0.0,0.0,0.0,0.0,38.0,0.0,212.0,388.0,2.0,0.0,0.0,0.0,0.0,437.0,1.0,46.0,607.0,938.0,0.0,0.0,0.0,0.0,1750.0,0.0,0.0,0.0,0.0,null,26.0,0.0,0.0,0.0,1443.0,0.0,1671.0,2019.0,0.0,0.0,0.0,546.0,1356.0,0.0,0.0,0.0,0.0,2.0,0.0,0.0,0.0,0.0,0.0,0.0,0.0,0.0,1172.0,48.0,2.0,0.0,0.0,9.0,0.0,0.0,0.0,552.0,21.0,0.0,2538.0,203.0,0.0,0.0,0.0,93.0,485.0,38.0,320.0,2.0,0.0,701.0,0.0,0.0,0.0,0.0,0.0,0.0,null,0.0,485.0,0.0,0.0,616.0,2318.0,0.0,0.0,171.0,0.0,0.0,0.0,0.0,0.0,0.0,241.0,26.0,0.0,0.0,20.0,0.0,0.0,262.0,0.0,12.0,20.0,0.0,3.0,426.0,0.0,0.0,0.0,270.0,174.0,0.0,0.0,1010.0,1508.0,1367.0,0.0,1377.0,0.0,0.0,0.0,0.0,0.0,0.0,1320.0,0.0,9.0,0.0,0.0,0.0,0.0,0.0,0.0,0.0,0.0,0.0,1365.0,0.0,0.0,0.0,0.0,128.0,0.0,0.0,0.0,0.0,0.0,0.0,556.0,0.0,0.0,1409.0,0.0,14.0,1290.0,0.0,0.0,0.0,613.0,0.0,0.0,0.0,0.0,1.0,null,0.0,0.0,27.0,880.0,773.0,0.0,0.0,0.0,0.0,0.0,0.0,2416.0,0.0,0.0,0.0,0.0,579.0,3.0,0.0,464.0,0.0,0.0,0.0,194.0,0.0,0.0,0.0,0.0,0.0,0.0,0.0,0.0,1773.0,null,0.0,0.0,768.0,0.0,712.0,0.0,854.0,0.0,0.0,854.0,0.0,0.0,7.0,0.0,0.0,828.0,0.0,0.0,292.0,0.0,0.0,19.0,0.0,0.0,0.0,9.0,11.0,0.0,0.0,0.0,34.0,0.0,0.0,0.0,112.0,0.0,0.0,0.0,4.0,759.0,0.0,227.0,0.0,0.0,1458.0,6.0,602.0,0.0,0.0,0.0,0.0,0.0,526.0,0.0,0.0,554.0,0.0,0.0,31.0,0.0,0.0,0.0,58.0,null,999.0,139.0,0.0,0.0,756.0,0.0,0.0,0.0,0.0,0.0,0.0,0.0,682.0,2594.0,552.0,584.0,4483.0,0.0,2.0,0.0,64.0,0.0,148.0,0.0,272.0,873.0,311.0,0.0,0.0,0.0,0.0,0.0,36.0,0.0,0.0,0.0,34.0,0.0,0.0,0.0,2.0,0.0,75.0,0.0,0.0,172.0,0.0,0.0,0.0,0.0,0.0,0.0,0.0,639.0,1734.0,0.0,737.0,0.0,0.0,0.0,0.0,0.0,345.0,0.0,834.0,0.0,41.0,0.0,548.0,0.0,0.0,852.0,1663.0,0.0,1281.0,0.0,238.0,0.0,0.0,0.0,0.0,0.0,0.0,0.0,0.0,0.0,403.0,0.0,0.0,0.0,882.0,0.0,194.0,0.0,2502.0,2.0,0.0,598.0,145.0,0.0,0.0,0.0,10.0,1153.0,19.0,496.0,26.0,98.0,0.0,4.0,0.0,0.0,0.0,0.0,0.0,0.0,406.0,0.0,9.0,0.0,803.0,1102.0,804.0,0.0,0.0,0.0,938.0,0.0,59.0,0.0,0.0,995.0,27.0,0.0,0.0,0.0,0.0,0.0,0.0,900.0,10.0,0.0,0.0,0.0,0.0,0.0,0.0,59.0,0.0,2000.0,492.0,0.0,0.0,0.0,232.0,0.0,0.0,0.0,91.0,0.0,0.0,0.0,1867.0,null,0.0,0.0,0.0,0.0,122.0,0.0,3.0,0.0,0.0,0.0,0.0,0.0,490.0,46.0,0.0,0.0,0.0,0.0,0.0,366.0,null,0.0,1.0,0.0,1722.0,0.0,0.0,0.0,1874.0,29.0,0.0,4.0,0.0,970.0,0.0,3551.0,0.0,0.0,0.0,880.0,2.0,0.0,886.0,0.0,13.0,339.0,0.0,0.0,0.0,11.0,0.0,0.0,947.0,1893.0,0.0,45.0,0.0,0.0,0.0,1178.0,0.0,1113.0,0.0,3.0,0.0,0.0,361.0,0.0,0.0,0.0,269.0,130.0,0.0,171.0,0.0,0.0,21.0,0.0,0.0,0.0,0.0,1200.0,0.0,0.0,0.0,0.0,0.0,0.0,0.0,0.0,0.0,0.0,1709.0,0.0,2381.0,1049.0,0.0,1.0,471.0,746.0,1511.0,758.0,0.0,143.0,600.0,0.0,0.0,0.0,0.0,0.0,911.0,0.0,253.0,null,0.0,0.0,0.0,0.0,625.0,254.0,91.0,0.0,1502.0,123.0,0.0,0.0,0.0,0.0,0.0,314.0,3.0,0.0,412.0,2301.0,null,14.0,0.0,0.0,2.0,0.0,null,0.0,13.0,0.0,0.0,0.0,0.0,3.0,0.0,0.0,0.0,784.0,10.0,0.0,0.0,0.0,6.0,0.0,3.0,0.0,1.0,18.0,0.0,948.0,0.0,0.0,0.0,0.0,0.0,0.0,803.0,0.0,0.0,237.0,0.0,0.0,165.0,77.0,0.0,0.0,0.0,0.0,0.0,0.0,0.0,0.0,0.0,0.0,1581.0,20.0,0.0,0.0,0.0,0.0,0.0,0.0,0.0,1.0,672.0,357.0,0.0,0.0,33.0,56.0,0.0,0.0,631.0,0.0,0.0,0.0,0.0,154.0,5.0,0.0,0.0,2904.0,520.0,0.0,71.0,819.0,0.0,0.0,0.0,0.0,0.0,2127.0,0.0,173.0,418.0,44.0,0.0,0.0,0.0,0.0,912.0,0.0,901.0,0.0,0.0,4.0,0.0,0.0,0.0,0.0,0.0,688.0,0.0,1.0,523.0,0.0,0.0,null,123.0,489.0,1.0,0.0,0.0,649.0,0.0,0.0,0.0,21.0,13.0,0.0,null,0.0,336.0,0.0,828.0,0.0,0.0,0.0,0.0,0.0,null,0.0,0.0,15.0,0.0,5.0,24.0,198.0,0.0,214.0,null,0.0,0.0,0.0,0.0,0.0,310.0,0.0,235.0,3.0,1822.0,1.0,null,0.0,1228.0,2050.0,0.0,2.0,0.0,221.0,740.0,0.0,0.0,0.0,0.0,0.0,0.0,0.0,5711.0,396.0,0.0,0.0,1252.0,173.0,0.0,0.0,0.0,0.0,736.0,0.0,0.0,0.0,0.0,0.0,0.0,23.0,0.0,0.0,1187.0,null,82.0,0.0,0.0,1644.0,0.0,517.0,608.0,0.0,0.0,0.0,0.0,2.0,45.0,0.0,0.0,0.0,0.0,728.0,0.0,0.0,0.0,0.0,479.0,0.0,0.0,506.0,1228.0,0.0,2616.0,0.0,577.0,0.0,0.0,995.0,0.0,1586.0,0.0,578.0,1086.0,760.0,3309.0,0.0,664.0,0.0,741.0,0.0,0.0,1.0,0.0,0.0,1609.0,0.0,379.0,0.0,null,0.0,0.0,0.0,35.0,0.0,0.0,0.0,1.0,0.0,0.0,0.0,0.0,0.0,0.0,0.0,null,null,2229.0,924.0,5.0,0.0,0.0,809.0,0.0,0.0,0.0,0.0,0.0,520.0,1173.0,0.0,null,0.0,1598.0,127.0,0.0,0.0,571.0,0.0,691.0,0.0,0.0,0.0,1130.0,0.0,139.0,0.0,62.0,886.0,0.0,0.0,0.0,0.0,0.0,0.0,0.0,0.0,912.0,33.0,1087.0,0.0,0.0,17.0,0.0,0.0,0.0,1507.0,0.0,0.0,0.0,0.0,0.0,1007.0,4.0,0.0,null,0.0,207.0,0.0,0.0,155.0,0.0,0.0,0.0,2840.0,null,4.0,0.0,0.0,0.0,0.0,0.0,0.0,1299.0,0.0,0.0,309.0,0.0,0.0,0.0,0.0,0.0,0.0,1046.0,0.0,4.0,330.0,0.0,null,3865.0,0.0,0.0,293.0,0.0,454.0,11.0,76.0,11.0,511.0,0.0,180.0,715.0,0.0,0.0,0.0,0.0,324.0,5.0,52.0,0.0,0.0,0.0,0.0,16.0,0.0,0.0,0.0,63.0,3.0,0.0,0.0,158.0,0.0,593.0,0.0,1097.0,0.0,2646.0,0.0,0.0,0.0,0.0,0.0,764.0,0.0,8.0,0.0,0.0,0.0,0.0,0.0,508.0,0.0,0.0,0.0,74.0,0.0,0.0,0.0,0.0,0.0,0.0,0.0,1612.0,0.0,256.0,20.0,0.0,0.0,0.0,0.0,0.0,1150.0,0.0,0.0,0.0,0.0,64.0,0.0,0.0,0.0,0.0,null,718.0,0.0,0.0,0.0,13.0,null,0.0,0.0,915.0,0.0,0.0,2598.0,632.0,313.0,0.0,0.0,0.0,378.0,0.0,0.0,0.0,0.0,0.0,0.0,1065.0,0.0,0.0,0.0,0.0,0.0,0.0,260.0,10.0,0.0,0.0,0.0,0.0,null,0.0,0.0,0.0,0.0,0.0,0.0,0.0,0.0,0.0,0.0,578.0,0.0,1633.0,666.0,824.0,0.0,0.0,0.0,0.0,0.0,0.0,0.0,0.0,0.0,0.0,180.0,0.0,3.0,0.0,0.0,0.0,0.0,0.0,0.0,0.0,0.0,0.0,0.0,0.0,0.0,0.0,717.0,1.0,0.0,0.0,0.0,0.0,2532.0,0.0,0.0,0.0,664.0,0.0,2.0,0.0,1.0,1.0,106.0,0.0,0.0,0.0,24.0,0.0,0.0,0.0,0.0,0.0,0.0,0.0,0.0,0.0,0.0,0.0,0.0,2.0,308.0,0.0,0.0,0.0,0.0,0.0,0.0,0.0,90.0,0.0,0.0,0.0,2.0,0.0,505.0,0.0,null,2267.0,0.0,15.0,0.0,0.0,0.0,190.0,0.0,22.0,0.0,0.0,0.0,0.0,381.0,0.0,0.0,6.0,0.0,0.0,95.0,0.0,0.0,0.0,0.0,0.0,350.0,503.0,792.0,0.0,0.0,0.0,0.0,1.0,0.0,1196.0,0.0,0.0,0.0,0.0,0.0,0.0,0.0,0.0,0.0,86.0,0.0,0.0,0.0,506.0,90.0,0.0,0.0,0.0,0.0,0.0,0.0,0.0,0.0,0.0,0.0,0.0,0.0,0.0,0.0,0.0,1.0,0.0,121.0,0.0,0.0,3.0,0.0,0.0,0.0,0.0,0.0,0.0,6.0,274.0,0.0,4.0,0.0,0.0,44.0,0.0,0.0,0.0,0.0,0.0,542.0,66.0,196.0,0.0,0.0,0.0,1272.0,0.0,0.0,124.0,1.0,122.0,0.0,0.0,0.0,0.0,0.0,0.0,0.0,0.0,0.0,0.0,0.0,0.0,733.0,1.0,0.0,809.0,null,1749.0,0.0,1304.0,0.0,0.0,0.0,1.0,0.0,0.0,0.0,0.0,0.0,0.0,1099.0,0.0,0.0,0.0,0.0,4.0,0.0,3.0,766.0,0.0,78.0,0.0,249.0,3.0,0.0,1617.0,2581.0,14.0,0.0,0.0,0.0,0.0,0.0,30.0,0.0,85.0,19.0,0.0,0.0,1178.0,0.0,0.0,323.0,42.0,0.0,576.0,787.0,0.0,193.0,354.0,0.0,0.0,0.0,0.0,616.0,0.0,0.0,0.0,0.0,0.0,0.0,0.0,0.0,5.0,0.0,0.0,0.0,0.0,5.0,1.0,0.0,2.0,0.0,2.0,0.0,43.0,0.0,0.0,null,0.0,0.0,0.0,42.0,0.0,0.0,0.0,25.0,1280.0,125.0,0.0,0.0,0.0,null,0.0,105.0,0.0,0.0,0.0,0.0,0.0,0.0,0.0,0.0,0.0,0.0,97.0,1.0,0.0,0.0,0.0,3.0,42.0,null,0.0,0.0,0.0,0.0,0.0,43.0,232.0,105.0,0.0,0.0,0.0,0.0,0.0,4.0,0.0,25.0,0.0,0.0,0.0,0.0,1404.0,808.0,0.0,0.0,0.0,0.0,0.0,58.0,0.0,null,1377.0,120.0,238.0,424.0,131.0,622.0,0.0,0.0,432.0,0.0,0.0,0.0,3471.0,0.0,0.0,0.0,0.0,48.0,33.0,null,0.0,0.0,0.0,18.0,1193.0,0.0,0.0,0.0,0.0,0.0,null,0.0,0.0,3340.0,0.0,0.0,2.0,0.0,328.0,0.0,0.0,0.0,0.0,0.0,0.0,0.0,0.0,null,0.0,0.0,0.0,0.0,0.0,0.0,0.0,64.0,396.0,0.0,0.0,0.0,0.0,0.0,0.0,null,0.0,381.0,0.0,0.0,0.0,824.0,0.0,0.0,0.0,1037.0,0.0,80.0,0.0,0.0,2.0,55.0,0.0,513.0,0.0,227.0,0.0,0.0,2.0,0.0,0.0,1.0,821.0,183.0,0.0,0.0,null,913.0,0.0,0.0,132.0,519.0,0.0,0.0,0.0,0.0,90.0,0.0,0.0,0.0,25.0,0.0,357.0,0.0,406.0,0.0,3361.0,14.0,0.0,0.0,58.0,984.0,0.0,0.0,0.0,0.0,1192.0,0.0,0.0,71.0,799.0,1387.0,1.0,1060.0,28.0,418.0,1049.0,312.0,0.0,90.0,4.0,0.0,38.0,0.0,0.0,0.0,0.0,0.0,0.0,205.0,0.0,16.0,0.0,339.0,0.0,0.0,2627.0,0.0,974.0,149.0,1008.0,12.0,0.0,0.0,3.0,1540.0,0.0,0.0,0.0,0.0,0.0,0.0,0.0,0.0,0.0,2478.0,86.0,158.0,0.0,796.0,0.0,0.0,0.0,0.0,0.0,0.0,0.0,0.0,847.0,0.0,0.0,0.0,0.0,0.0,0.0,0.0,0.0,0.0,967.0,0.0,0.0,0.0,0.0,6.0,9.0,0.0,309.0,0.0,0.0,0.0,2.0,0.0,0.0,0.0,35.0,0.0,95.0,0.0,0.0,0.0,716.0,55.0,0.0,3.0,0.0,0.0,0.0,659.0,2.0,0.0,0.0,3537.0,45.0,0.0,0.0,0.0,772.0,2739.0,0.0,0.0,629.0,0.0,14.0,325.0,781.0,3478.0,0.0,0.0,0.0,1144.0,0.0,653.0,0.0,0.0,0.0,0.0,0.0,0.0,0.0,324.0,0.0,0.0,886.0,0.0,355.0,39.0,0.0,0.0,0.0,0.0,46.0,0.0,400.0,0.0,667.0,1217.0,1448.0,103.0,1632.0,1258.0,0.0,0.0,0.0,0.0,0.0,0.0,0.0,0.0,16.0,0.0,89.0,0.0,0.0,20.0,0.0,0.0,0.0,0.0,0.0,0.0,0.0,0.0,0.0,1417.0,0.0,3.0,0.0,0.0,0.0,4.0,null,0.0,0.0,0.0,400.0,1796.0,0.0,0.0,8.0,0.0,460.0,0.0,0.0,309.0,0.0,0.0,0.0,0.0,931.0,null,258.0,6498.0,1843.0,4.0,1.0,0.0,0.0,0.0,0.0,0.0,0.0,0.0,0.0,0.0,0.0,2025.0,0.0,0.0,7.0,0.0,0.0,714.0,0.0,0.0,0.0,0.0,0.0,536.0,0.0,0.0,1417.0,0.0,0.0,0.0,0.0,0.0,3.0,437.0,880.0,1851.0,0.0,0.0,0.0,939.0,1339.0,0.0,0.0,null,0.0,0.0,0.0,0.0,1901.0,1616.0,0.0,1680.0,719.0,451.0,0.0,0.0,0.0,0.0,227.0,0.0,0.0,834.0,949.0,0.0,0.0,0.0,1100.0,0.0,0.0,1025.0,0.0,0.0,0.0,27.0,169.0,0.0,0.0,0.0,0.0,0.0,0.0,40.0,0.0,0.0,0.0,111.0,0.0,0.0,15.0,0.0,0.0,0.0,0.0,850.0,664.0,40.0,0.0,0.0,0.0,19.0,16.0,0.0,0.0,null,0.0,0.0,89.0,0.0,0.0,0.0,null,661.0,0.0,246.0,0.0,0.0,0.0,0.0,0.0,0.0,0.0,null,0.0,0.0,12.0,0.0,1363.0,128.0,0.0,154.0,0.0,59.0,0.0,0.0,0.0,760.0,490.0,247.0,0.0,612.0,0.0,0.0,36.0,0.0,0.0,0.0,0.0,0.0,0.0,0.0,2.0,0.0,0.0,0.0,0.0,1367.0,558.0,0.0,0.0,1277.0,558.0,950.0,0.0,0.0,610.0,0.0,1620.0,0.0,0.0,0.0,0.0,0.0,0.0,0.0,0.0,0.0,326.0,0.0,0.0,0.0,0.0,4.0,3.0,992.0,0.0,0.0,0.0,176.0,0.0,1268.0,1331.0,553.0,27.0,37.0,0.0,1184.0,469.0,0.0,406.0,0.0,0.0,0.0,0.0,0.0,0.0,0.0,0.0,0.0,3002.0,0.0,0.0,0.0,0.0,0.0,354.0,715.0,156.0,488.0,5493.0,0.0,0.0,0.0,6.0,0.0,0.0,571.0,0.0,0.0,13.0,0.0,0.0,0.0,0.0,9.0,0.0,0.0,412.0,0.0,1.0,0.0,0.0,null,0.0,24.0,0.0,0.0,0.0,0.0,401.0,0.0,0.0,0.0,0.0,0.0,646.0,49.0,0.0,0.0,14.0,0.0,0.0,0.0,36.0,0.0,0.0,0.0,0.0,1371.0,0.0,0.0,563.0,0.0,0.0,0.0,0.0,439.0,0.0,2.0,786.0,0.0,0.0,412.0,0.0,0.0,39.0,427.0,0.0,0.0,0.0,0.0,267.0,0.0,0.0,2320.0,22.0,0.0,0.0,0.0,2044.0,0.0,0.0,0.0,0.0,429.0,444.0,0.0,802.0,0.0,0.0,641.0,33.0,22.0,115.0,0.0,118.0,0.0,3.0,0.0,0.0,0.0,0.0,0.0,0.0,552.0,0.0,0.0,0.0,857.0,3.0,0.0,106.0,0.0,0.0,null,0.0,954.0,735.0,0.0,65.0,0.0,0.0,0.0,192.0,0.0,0.0,0.0,875.0,383.0,38.0,0.0,754.0,0.0,0.0,0.0,141.0,689.0,0.0,0.0,0.0,0.0,0.0,134.0,7.0,null,0.0,0.0,0.0,0.0,27.0,715.0,0.0,941.0,0.0,0.0,0.0,30.0,0.0,3.0,0.0,0.0,546.0,0.0,8.0,0.0,0.0,0.0,0.0,721.0,null,0.0,0.0,0.0,0.0,8.0,2.0,0.0,0.0,35.0,0.0,0.0,0.0,130.0,0.0,0.0,0.0,0.0,0.0,0.0,0.0,0.0,698.0,0.0,0.0,399.0,0.0,0.0,0.0,0.0,31.0,0.0,0.0,36.0,0.0,0.0,1549.0,0.0,110.0,2244.0,994.0,null,0.0,0.0,13.0,0.0,1170.0,23.0,3559.0,0.0,0.0,0.0,0.0,0.0,1956.0,3087.0,0.0,1219.0,0.0,0.0,0.0,0.0,0.0,42.0,0.0,0.0,0.0,0.0,0.0,0.0,0.0,0.0,0.0,0.0,0.0,83.0,0.0,0.0,0.0,2.0,160.0,433.0,572.0,1340.0,137.0,null,27.0,0.0,0.0,0.0,849.0,0.0,0.0,6.0,426.0,452.0,820.0,1.0,101.0,0.0,26.0,9.0,0.0,0.0,0.0,60.0,631.0,25.0,0.0,0.0,0.0,0.0,0.0,0.0,14.0,0.0,0.0,0.0,0.0,0.0,375.0,0.0,29.0,0.0,0.0,null,0.0,0.0,0.0,0.0,null,191.0,0.0,4102.0,0.0,0.0,0.0,0.0,42.0,686.0,176.0,3.0,661.0,250.0,0.0,0.0,0.0,0.0,22.0,0.0,0.0,0.0,0.0,0.0,0.0,1.0,77.0,0.0,267.0,0.0,0.0,0.0,0.0,0.0,0.0,1.0,374.0,0.0,165.0,25.0,0.0,2.0,1.0,5.0,0.0,0.0,0.0,36.0,19.0,0.0,0.0,0.0,0.0,1246.0,0.0,0.0,0.0,0.0,0.0,0.0,0.0,0.0,0.0,0.0,0.0,0.0,0.0,2.0,0.0,454.0,514.0,0.0,672.0,0.0,595.0,65.0,0.0,null,8.0,0.0,0.0,141.0,290.0,1399.0,84.0,0.0,0.0,0.0,0.0,0.0,0.0,0.0,0.0,372.0,0.0,0.0,703.0,77.0,0.0,0.0,0.0,0.0,0.0,0.0,45.0,0.0,0.0,0.0,0.0,0.0,0.0,0.0,0.0,182.0,0.0,0.0,0.0,0.0,0.0,35.0,0.0,0.0,183.0,0.0,null,0.0,0.0,1144.0,225.0,0.0,0.0,0.0,14327.0,0.0,0.0,0.0,0.0,0.0,3148.0,0.0,0.0,0.0,818.0,0.0,0.0,0.0,2614.0,130.0,179.0,1420.0,0.0,0.0,0.0,0.0,0.0,0.0,0.0,0.0,154.0,866.0,0.0,0.0,0.0,0.0,8.0,706.0,null,0.0,0.0,0.0,0.0,962.0,531.0,574.0,37.0,0.0,0.0,0.0,0.0,0.0,0.0,282.0,204.0,0.0,0.0,233.0,850.0,25.0,0.0,0.0,0.0,185.0,248.0,0.0,0.0,298.0,0.0,0.0,0.0,0.0,256.0,935.0,0.0,0.0,2130.0,0.0,123.0,0.0,588.0,845.0,0.0,0.0,50.0,0.0,0.0,0.0,223.0,0.0,0.0,0.0,2.0,0.0,0.0,63.0,0.0,13.0,0.0,0.0,138.0,21.0,0.0,0.0,0.0,0.0,0.0,null,1028.0,211.0,0.0,0.0,22.0,665.0,30.0,0.0,0.0,564.0,17.0,588.0,0.0,0.0,0.0,0.0,0.0,526.0,0.0,363.0,944.0,0.0,0.0,542.0,0.0,20.0,0.0,1.0,0.0,0.0,12.0,21.0,2260.0,0.0,161.0,0.0,0.0,148.0,14.0,330.0,0.0,4531.0,12.0,423.0,0.0,1721.0,0.0,0.0,0.0,8.0,0.0,0.0,654.0,0.0,529.0,750.0,108.0,362.0,126.0,0.0,9.0,0.0,0.0,74.0,null,0.0,0.0,274.0,0.0,0.0,0.0,0.0,44.0,0.0,0.0,176.0,0.0,647.0,0.0,8.0,0.0,0.0,695.0,0.0,62.0,2.0,460.0,0.0,0.0,3284.0,0.0,1301.0,0.0,0.0,1.0,0.0,0.0,0.0,0.0,261.0,725.0,197.0,0.0,0.0,0.0,0.0,0.0,0.0,0.0,223.0,0.0,0.0,2083.0,623.0,0.0,210.0,1242.0,0.0,0.0,0.0,988.0,0.0,0.0,0.0,269.0,0.0,153.0,0.0,0.0,0.0,11.0,0.0,3.0,0.0,0.0,1016.0,0.0,2147.0,457.0,0.0,87.0,957.0,0.0,0.0,0.0,0.0,0.0,0.0,0.0,2756.0,0.0,0.0,0.0,0.0,0.0,0.0,0.0,530.0,61.0,36.0,0.0,0.0,610.0,479.0,642.0,0.0,0.0,0.0,1120.0,0.0,0.0,0.0,819.0,0.0,0.0,0.0,1337.0,0.0,0.0,1033.0,0.0,0.0,1331.0,0.0,54.0,1092.0,0.0,0.0,0.0,648.0,4.0,0.0,1042.0,4.0,1904.0,0.0,0.0,0.0,0.0,5.0,1285.0,0.0,1157.0,1307.0,0.0,10.0,8.0,0.0,0.0,0.0,433.0,1176.0,0.0,228.0,0.0,null,600.0,0.0,639.0,0.0,0.0,0.0,530.0,0.0,0.0,971.0,null,1961.0,0.0,606.0,0.0,0.0,1309.0,542.0,0.0,0.0,0.0,4608.0,0.0,1.0,0.0,0.0,8151.0,0.0,2575.0,0.0,3926.0,0.0,0.0,0.0,0.0,0.0,793.0,0.0,1471.0,9.0,0.0,0.0,0.0,6.0,0.0,25.0,0.0,0.0,null,83.0,0.0,29.0,0.0,0.0,0.0,0.0,0.0,0.0,0.0,0.0,0.0,0.0,256.0,0.0,0.0,0.0,43.0,56.0,0.0,0.0,0.0,5049.0,0.0,0.0,0.0,107.0,0.0,0.0,1528.0,0.0,0.0,0.0,0.0,0.0,0.0,859.0,0.0,0.0,0.0,0.0,7.0,0.0,0.0,0.0,0.0,38.0,0.0,0.0,814.0,0.0,732.0,0.0,0.0,98.0,0.0,151.0,0.0,382.0,1.0,0.0,0.0,0.0,0.0,6.0,582.0,576.0,0.0,0.0,0.0,0.0,0.0,322.0,0.0,523.0,41.0,949.0,0.0,0.0,0.0,0.0,0.0,0.0,0.0,0.0,0.0,0.0,0.0,878.0,0.0,1961.0,0.0,0.0,261.0,0.0,0.0,0.0,0.0,0.0,51.0,1364.0,0.0,717.0,168.0,0.0,666.0,10.0,0.0,0.0,0.0,0.0,0.0,2206.0,0.0,275.0,0.0,0.0,0.0,0.0,0.0,0.0,0.0,263.0,271.0,30.0,1.0,0.0,0.0,0.0,0.0,1231.0,0.0,218.0,0.0,0.0,6.0,607.0,922.0,0.0,705.0,202.0,290.0,0.0,0.0,0.0,0.0,0.0,41.0,0.0,241.0,0.0,0.0,0.0,0.0,0.0,0.0,13.0,0.0,38.0,89.0,0.0,0.0,662.0,0.0,0.0,0.0,0.0,467.0,0.0,0.0,35.0,0.0,0.0,0.0,1.0,1177.0,3905.0,0.0,0.0,0.0,0.0,0.0,0.0,0.0,0.0,0.0,0.0,0.0,0.0,1744.0,0.0,0.0,null,4702.0,0.0,0.0,0.0,454.0,0.0,0.0,0.0,0.0,0.0,751.0,0.0,0.0,0.0,0.0,456.0,0.0,0.0,286.0,0.0,0.0,13.0,0.0,0.0,809.0,134.0,37.0,0.0,164.0,25.0,1082.0,0.0,43.0,1690.0,0.0,0.0,0.0,0.0,0.0,0.0,0.0,0.0,0.0,943.0,0.0,0.0,0.0,0.0,0.0,null,0.0,0.0,0.0,0.0,0.0,386.0,253.0,0.0,0.0,2048.0,581.0,0.0,2.0,2497.0,0.0,0.0,83.0,628.0,246.0,4.0,743.0,0.0,0.0,0.0,0.0,1269.0,766.0,2.0,1781.0,2116.0,748.0,20.0,0.0,3.0,481.0,0.0,0.0,0.0,0.0,0.0,0.0,138.0,0.0,0.0,164.0,0.0,389.0,0.0,552.0,142.0,358.0,469.0,1.0,0.0,3458.0,948.0,0.0,2.0,0.0,846.0,0.0,1267.0,0.0,0.0,0.0,1109.0,0.0,4.0,0.0,0.0,0.0,0.0,0.0,0.0,0.0,0.0,848.0,9920.0,0.0,0.0,0.0,489.0,724.0,1.0,226.0,0.0,0.0,0.0,0.0,0.0,0.0,2703.0,0.0,null,null,685.0,0.0,0.0,0.0,1020.0,0.0,518.0,0.0,31.0,2.0,0.0,0.0,0.0,0.0,0.0,0.0,0.0,0.0,0.0,665.0,0.0,0.0,658.0,0.0,0.0,0.0,0.0,4027.0,702.0,142.0,0.0,0.0,0.0,0.0,0.0,0.0,39.0,0.0,0.0,0.0,null,0.0,0.0,758.0,0.0,0.0,0.0,31.0,0.0,508.0,0.0,85.0,0.0,0.0,1.0,0.0,null,0.0,0.0,5645.0,10.0,0.0,817.0,0.0,41.0,0.0,0.0,0.0,690.0,0.0,0.0,0.0,39.0,0.0,0.0,1565.0,0.0,0.0,0.0,550.0,127.0,0.0,0.0,0.0,51.0,1.0,0.0,0.0,0.0,1696.0,0.0,0.0,0.0,7.0,0.0,2445.0,0.0,0.0,0.0,0.0,0.0,749.0,714.0,583.0,0.0,0.0,0.0,0.0,753.0,5.0,688.0,245.0,0.0,654.0,0.0,590.0,0.0,0.0,0.0,0.0,0.0,380.0,0.0,0.0,0.0,958.0,0.0,0.0,0.0,170.0,0.0,0.0,30.0,765.0,0.0,0.0,0.0,0.0,125.0,0.0,0.0,458.0,0.0,0.0,0.0,0.0,0.0,0.0,890.0,0.0,804.0,0.0,0.0,0.0,0.0,47.0,1.0,19.0,0.0,0.0,0.0,158.0,2803.0,643.0,1909.0,0.0,0.0,0.0,0.0,0.0,332.0,0.0,56.0,807.0,215.0,0.0,1188.0,0.0,635.0,0.0,0.0,13.0,0.0,0.0,56.0,286.0,0.0,1035.0,0.0,0.0,0.0,0.0,0.0,0.0,0.0,0.0,0.0,0.0,2267.0,1410.0,348.0,12.0,233.0,821.0,0.0,0.0,0.0,0.0,178.0,0.0,0.0,0.0,0.0,0.0,0.0,0.0,0.0,0.0,0.0,null,0.0,0.0,0.0,0.0,0.0,0.0,0.0,0.0,0.0,0.0,390.0,0.0,0.0,0.0,69.0,0.0,0.0,156.0,0.0,0.0,0.0,0.0,2029.0,0.0,0.0,0.0,0.0,1.0,0.0,0.0,0.0,0.0,0.0,70.0,57.0,0.0,0.0,715.0,247.0,0.0,160.0,88.0,542.0,439.0,5.0,0.0,0.0,158.0,12.0,11.0,0.0,0.0,0.0,0.0,null,0.0,0.0,0.0,0.0,0.0,0.0,0.0,0.0,610.0,0.0,0.0,559.0,0.0,0.0,2233.0,0.0,0.0,0.0,0.0,571.0,14.0,850.0,0.0,183.0,0.0,0.0,0.0,0.0,6769.0,0.0,661.0,815.0,0.0,514.0,0.0,0.0,751.0,104.0,0.0,0.0,0.0,1.0,35.0,0.0,0.0,0.0,0.0,0.0,0.0,0.0,513.0,0.0,0.0,89.0,0.0,2309.0,0.0,1.0,0.0,3553.0,0.0,112.0,0.0,0.0,0.0,0.0,0.0,0.0,0.0,621.0,0.0,0.0,546.0,0.0,0.0,761.0,0.0,0.0,0.0,0.0,0.0,0.0,149.0,36.0,229.0,0.0,0.0,0.0,0.0,0.0,0.0,0.0,0.0,483.0,0.0,7.0,0.0,0.0,0.0,0.0,0.0,null,104.0,0.0,0.0,0.0,20.0,1364.0,0.0,0.0,0.0,0.0,0.0,0.0,18.0,8.0,0.0,0.0,0.0,0.0,4518.0,0.0,0.0,10.0,0.0,781.0,201.0,1331.0,750.0,0.0,0.0,0.0,0.0,0.0,0.0,0.0,0.0,0.0,0.0,162.0,223.0,16.0,0.0,0.0,84.0,0.0,0.0,0.0,0.0,0.0,0.0,2.0,0.0,48.0,0.0,0.0,0.0,0.0,152.0,0.0,0.0,0.0,0.0,0.0,0.0,0.0,0.0,4.0,0.0,149.0,0.0,0.0,0.0,0.0,1547.0,89.0,0.0,0.0,628.0,72.0,0.0,0.0,0.0,163.0,300.0,0.0,758.0,0.0,null,423.0,0.0,157.0,2093.0,836.0,1379.0,12.0,0.0,0.0,2.0,1.0,0.0,0.0,3215.0,0.0,112.0,0.0,null,0.0,0.0,17.0,0.0,0.0,0.0,0.0,448.0,0.0,1086.0,0.0,0.0,3090.0,0.0,200.0,0.0,0.0,0.0,441.0,0.0,0.0,1442.0,0.0,1208.0,555.0,276.0,0.0,0.0,2956.0,0.0,0.0,0.0,0.0,0.0,94.0,0.0,477.0,0.0,781.0,1.0,0.0,9.0,0.0,1017.0,0.0,0.0,0.0,0.0,0.0,28.0,0.0,140.0,718.0,3.0,0.0,0.0,0.0,0.0,0.0,0.0,0.0,0.0,0.0,0.0,0.0,0.0,0.0,982.0,0.0,0.0,0.0,0.0,0.0,0.0,0.0,0.0,0.0,852.0,0.0,0.0,0.0,0.0,0.0,0.0,521.0,0.0,158.0,0.0,2042.0,0.0,0.0,0.0,0.0,0.0,0.0,0.0,2413.0,0.0,3.0,805.0,419.0,1946.0,0.0,0.0,508.0,0.0,178.0,0.0,0.0,3.0,0.0,1883.0,2904.0,8.0,33.0,301.0,0.0,125.0,3.0,0.0,8142.0,0.0,0.0,0.0,3811.0,2209.0,41.0,0.0,0.0,14.0,0.0,657.0,0.0,0.0,0.0,605.0,0.0,0.0,0.0,0.0,0.0,0.0,0.0,0.0,0.0,3564.0,239.0,1119.0,4397.0,0.0,0.0,13.0,104.0,0.0,0.0,0.0,0.0,206.0,0.0,0.0,0.0,0.0,0.0,0.0,0.0,0.0,0.0,513.0,828.0,679.0,1156.0,0.0,0.0,0.0,916.0,0.0,0.0,0.0,0.0,551.0,0.0,7.0,0.0,0.0,0.0,270.0,0.0,0.0,457.0,0.0,0.0,0.0,0.0,236.0,0.0,0.0,0.0,0.0,0.0,0.0,0.0,28.0,3.0,3478.0,0.0,0.0,0.0,1682.0,0.0,0.0,0.0,0.0,1.0,0.0,460.0,0.0,0.0,0.0,980.0,0.0,0.0,0.0,382.0,0.0,5.0,0.0,0.0,0.0,0.0,0.0,628.0,0.0,12.0,0.0,0.0,0.0,0.0,0.0,0.0,0.0,61.0,0.0,0.0,0.0,0.0,0.0,0.0,1042.0,0.0,5.0,3.0,0.0,2026.0,0.0,55.0,0.0,915.0,null,0.0,0.0,2006.0,258.0,0.0,0.0,24.0,425.0,1603.0,71.0,0.0,25.0,1696.0,0.0,0.0,1.0,199.0,0.0,0.0,559.0,0.0,301.0,395.0,0.0,0.0,2044.0,6.0,0.0,0.0,null,0.0,0.0,null,2189.0,630.0,368.0,737.0,0.0,0.0,0.0,0.0,102.0,0.0,0.0,108.0,379.0,0.0,0.0,124.0,0.0,0.0,690.0,2031.0,0.0,0.0,0.0,135.0,0.0,20.0,158.0,0.0,2.0,0.0,2.0,0.0,78.0,0.0,0.0,0.0,0.0,0.0,0.0,17.0,0.0,0.0,0.0,0.0,1669.0,0.0,0.0,0.0,0.0,3616.0,0.0,0.0,0.0,0.0,0.0,0.0,0.0,6.0,0.0,0.0,898.0,0.0,458.0,78.0,0.0,0.0,0.0,0.0,3.0,2.0,19.0,0.0,1.0,0.0,0.0,0.0,0.0,null,0.0,627.0,0.0,0.0,0.0,0.0,0.0,0.0,0.0,5.0,0.0,0.0,18.0,0.0,0.0,0.0,484.0,1884.0,0.0,0.0,0.0,2223.0,676.0,0.0,49.0,593.0,0.0,0.0,410.0,0.0,0.0,106.0,0.0,0.0,0.0,0.0,0.0,0.0,0.0,0.0,0.0,0.0,0.0,0.0,0.0,1960.0,114.0,360.0,577.0,0.0,858.0,773.0,0.0,0.0,null,801.0,1144.0,0.0,0.0,0.0,0.0,2.0,358.0,435.0,0.0,null,0.0,0.0,0.0,0.0,0.0,114.0,0.0,0.0,0.0,0.0,0.0,0.0,0.0,0.0,0.0,0.0,54.0,0.0,0.0,0.0,0.0,0.0,0.0,431.0,0.0,0.0,59.0,0.0,294.0,0.0,365.0,93.0,null,0.0,0.0,1533.0,0.0,1233.0,801.0,null,null,0.0,0.0,24.0,0.0,30.0,114.0,83.0,0.0,0.0,552.0,14.0,0.0,0.0,0.0,0.0,0.0,0.0,45.0,0.0,0.0,0.0,0.0,810.0,0.0,0.0,0.0,0.0,0.0,636.0,0.0,0.0,610.0,0.0,null,0.0,0.0,0.0,0.0,32.0,null,0.0,0.0,0.0,0.0,899.0,1256.0,22.0,0.0,0.0,0.0,1179.0,14.0,0.0,0.0,0.0,0.0,0.0,0.0,0.0,1290.0,352.0,89.0,414.0,0.0,0.0,0.0,0.0,0.0,0.0,0.0,0.0,0.0,0.0,0.0,0.0,0.0,1192.0,1.0,0.0,0.0,0.0,397.0,601.0,0.0,151.0,0.0,0.0,0.0,0.0,0.0,57.0,19.0,0.0,388.0,0.0,0.0,0.0,0.0,0.0,0.0,0.0,0.0,0.0,127.0,0.0,771.0,0.0,0.0,0.0,0.0,0.0,228.0,861.0,395.0,1979.0,1143.0,0.0,0.0,0.0,0.0,0.0,3.0,699.0,19.0,0.0,0.0,0.0,0.0,2081.0,126.0,0.0,18.0,695.0,0.0,0.0,0.0,0.0,0.0,0.0,0.0,0.0,0.0,0.0,0.0,0.0,289.0,115.0,0.0,0.0,0.0,285.0,0.0,0.0,0.0,0.0,102.0,0.0,0.0,2.0,94.0,68.0,0.0,166.0,588.0,0.0,635.0,0.0,0.0,0.0,0.0,2532.0,345.0,0.0,0.0,752.0,0.0,null,1175.0,0.0,3.0,0.0,0.0,0.0,0.0,0.0,0.0,0.0,0.0,0.0,1228.0,0.0,0.0,0.0,0.0,0.0,0.0,0.0,0.0,2.0,null,12.0,0.0,0.0,0.0,0.0,0.0,0.0,0.0,590.0,0.0,0.0,0.0,402.0,90.0,0.0,0.0,4.0,0.0,0.0,0.0,0.0,17.0,32.0,864.0,0.0,1002.0,1880.0,0.0,0.0,77.0,0.0,1595.0,0.0,null,0.0,0.0,0.0,707.0,61.0,0.0,null,0.0,0.0,0.0,0.0,0.0,62.0,0.0,0.0,0.0,0.0,239.0,0.0,0.0,0.0,0.0,0.0,0.0,0.0,994.0,0.0,0.0,0.0,0.0,null,700.0,18.0,0.0,0.0,0.0,0.0,0.0,0.0,0.0,0.0,0.0,0.0,0.0,68.0,0.0,0.0,0.0,2664.0,0.0,3135.0,0.0,0.0,0.0,0.0,1373.0,0.0,0.0,103.0,1288.0,1244.0,1717.0,1337.0,0.0,1203.0,545.0,0.0,null,0.0,0.0,1610.0,470.0,0.0,0.0,0.0,0.0,0.0,0.0,0.0,0.0,0.0,0.0,1964.0,76.0,51.0,0.0,0.0,0.0,0.0,2937.0,76.0,0.0,399.0,0.0,0.0,47.0,0.0,0.0,0.0,0.0,1.0,0.0,0.0,null,0.0,0.0,0.0,2167.0,null,0.0,0.0,8.0,0.0,0.0,108.0,0.0,0.0,0.0,113.0,2.0,866.0,145.0,20.0,470.0,3.0,0.0,0.0,0.0,1751.0,52.0,14.0,0.0,0.0,768.0,null,0.0,0.0,38.0,1339.0,0.0,944.0,0.0,0.0,0.0,0.0,21.0,32.0,null,142.0,0.0,null,0.0,3481.0,0.0,181.0,0.0,0.0,0.0,0.0,355.0,0.0,0.0,0.0,7.0,0.0,0.0,1912.0,0.0,null,0.0,0.0,71.0,0.0,735.0,0.0,2.0,0.0,0.0,3211.0,22.0,0.0,0.0,0.0,0.0,0.0,0.0,0.0,0.0,0.0,0.0,0.0,69.0,0.0,0.0,6103.0,0.0,0.0,190.0,362.0,0.0,2191.0,0.0,0.0,0.0,0.0,null,0.0,862.0,725.0,0.0,0.0,0.0,0.0,0.0,0.0,473.0,0.0,0.0,146.0,0.0,0.0,0.0,501.0,0.0,0.0,130.0,0.0,43.0,1719.0,528.0,0.0,0.0,0.0,173.0,118.0,0.0,0.0,1988.0,0.0,995.0,0.0,0.0,0.0,0.0,69.0,0.0,0.0,0.0,0.0,0.0,1944.0,439.0,0.0,0.0,0.0,9.0,0.0,0.0,559.0,160.0,1228.0,0.0,245.0,9.0,0.0,0.0,0.0,28.0,0.0,0.0,0.0,0.0,0.0,26.0,0.0,1998.0,969.0,135.0,60.0,0.0,3839.0,0.0,951.0,0.0,0.0,0.0,3358.0,456.0,0.0,0.0,0.0,0.0,0.0,0.0,0.0,1.0,27.0,0.0,0.0,0.0,712.0,3.0,0.0,0.0,1967.0,0.0,1962.0,0.0,0.0,554.0,0.0,1.0,0.0,0.0,0.0,0.0,0.0,0.0,0.0,0.0,0.0,1058.0,2261.0,0.0,907.0,0.0,888.0,null,0.0,0.0,0.0,0.0,779.0,418.0,0.0,468.0,0.0,0.0,0.0,0.0,0.0,0.0,0.0,0.0,0.0,0.0,0.0,0.0,0.0,0.0,26.0,0.0,0.0,0.0,0.0,0.0,0.0,1216.0,0.0,782.0,0.0,56.0,0.0,0.0,0.0,235.0,1043.0,0.0,332.0,0.0,0.0,42.0,0.0,64.0,0.0,3332.0,0.0,0.0,2224.0,4.0,0.0,0.0,0.0,0.0,0.0,526.0,1.0,0.0,0.0,0.0,21.0,244.0,0.0,0.0,143.0,0.0,0.0,0.0,453.0,0.0,0.0,590.0,0.0,0.0,1040.0,0.0,0.0,61.0,0.0,10.0,0.0,0.0,0.0,0.0,0.0,0.0,527.0,0.0,3.0,301.0,906.0,159.0,0.0,0.0,0.0,0.0,1058.0,0.0,9.0,0.0,0.0,0.0,0.0,415.0,0.0,0.0,0.0,3.0,0.0,0.0,1.0,0.0,0.0,602.0,457.0,0.0,null,0.0,0.0,0.0,0.0,907.0,0.0,0.0,0.0,288.0,0.0,0.0,0.0,0.0,0.0,0.0,0.0,0.0,1631.0,0.0,0.0,0.0,43.0,0.0,862.0,0.0,0.0,0.0,0.0,0.0,0.0,0.0,0.0,0.0,102.0,3.0,0.0,0.0,438.0,3.0,0.0,0.0,0.0,0.0,0.0,0.0,0.0,0.0,0.0,0.0,0.0,150.0,0.0,106.0,1.0,300.0,541.0,1.0,1030.0,622.0,0.0,0.0,23.0,0.0,30.0,0.0,501.0,21.0,0.0,0.0,0.0,0.0,0.0,0.0,0.0,0.0,0.0,0.0,3191.0,741.0,0.0,0.0,0.0,0.0,593.0,0.0,0.0,180.0,197.0,49.0,0.0,1781.0,0.0,1046.0,0.0,40.0,100.0,0.0,0.0,42.0,0.0,0.0,473.0,28.0,401.0,0.0,0.0,0.0,0.0,0.0,61.0,207.0,305.0,0.0,0.0,null,0.0,5959.0,0.0,null,0.0,360.0,0.0,0.0,0.0,83.0,31.0,null,627.0,678.0,185.0,0.0,0.0,728.0,3.0,0.0,0.0,1.0,19.0,738.0,1059.0,0.0,2754.0,0.0,814.0,0.0,0.0,0.0,15.0,2916.0,1413.0,399.0,0.0,1711.0,2.0,0.0,2.0,0.0,0.0,1318.0,0.0,0.0,0.0,0.0,0.0,0.0,0.0,0.0,0.0,0.0,0.0,0.0,0.0,0.0,0.0,3.0,0.0,0.0,0.0,0.0,0.0,821.0,2611.0,1236.0,0.0,0.0,2.0,0.0,0.0,0.0,9.0,40.0,0.0,0.0,240.0,0.0,0.0,0.0,0.0,0.0,0.0,4.0,0.0,6.0,0.0,0.0,105.0,0.0,0.0,0.0,0.0,294.0,0.0,0.0,193.0,85.0,1110.0,0.0,0.0,1.0,0.0,550.0,0.0,879.0,0.0,0.0,1126.0,549.0,null,0.0,0.0,0.0,0.0,0.0,0.0,0.0,20.0,0.0,0.0,0.0,960.0,null,244.0,120.0,509.0,0.0,286.0,0.0,0.0,0.0,0.0,1243.0,0.0,0.0,786.0,0.0,0.0,0.0,0.0,0.0,0.0,27.0,0.0,0.0,0.0,244.0,0.0,36.0,0.0,174.0,558.0,0.0,0.0,193.0,2.0,2.0,0.0,523.0,0.0,30.0,30.0,1770.0,0.0,66.0,null,1577.0,0.0,511.0,0.0,0.0,2110.0,0.0,0.0,0.0,3580.0,1442.0,1092.0,5.0,0.0,0.0,0.0,0.0,15.0,0.0,2502.0,1366.0,657.0,0.0,0.0,0.0,0.0,390.0,0.0,0.0,0.0,0.0,0.0,0.0,420.0,122.0,0.0,313.0,18.0,4.0,0.0,118.0,0.0,0.0,0.0,0.0,10.0,0.0,0.0,388.0,0.0,2.0,0.0,0.0,0.0,0.0,380.0,3591.0,828.0,0.0,0.0,0.0,30.0,2.0,80.0,653.0,1.0,0.0,32.0,0.0,0.0,0.0,0.0,8209.0,0.0,0.0,220.0,0.0,0.0,0.0,0.0,0.0,0.0,0.0,0.0,0.0,214.0,0.0,463.0,2484.0,0.0,0.0,0.0,0.0,0.0,11.0,761.0,3651.0,0.0,0.0,0.0,0.0,0.0,767.0,0.0,37.0,1103.0,0.0,81.0,2703.0,0.0,0.0,0.0,0.0,0.0,618.0,8.0,0.0,0.0,0.0,3010.0,145.0,0.0,0.0,0.0,0.0,0.0,711.0,0.0,0.0,0.0,0.0,0.0,0.0,0.0,0.0,null,0.0,0.0,2771.0,0.0,1132.0,0.0,0.0,0.0,0.0,0.0,812.0,0.0,0.0,0.0,0.0,0.0,0.0,0.0,0.0,574.0,751.0,1000.0,0.0,0.0,332.0,0.0,1144.0,0.0,0.0,0.0,5888.0,40.0,110.0,2647.0,0.0,118.0,0.0,1.0,0.0,0.0,1.0,0.0,0.0,0.0,0.0,83.0,0.0,338.0,0.0,0.0,0.0,0.0,1730.0,0.0,60.0,0.0,9.0,0.0,0.0,0.0,0.0,0.0,0.0,688.0,18.0,0.0,0.0,416.0,0.0,0.0,0.0,1.0,0.0,0.0,0.0,0.0,1.0,0.0,325.0,1405.0,0.0,0.0,98.0,527.0,748.0,0.0,0.0,1146.0,7.0,0.0,0.0,1199.0,0.0,0.0,0.0,0.0,0.0,0.0,406.0,0.0,258.0,0.0,0.0,null,0.0,810.0,0.0,19.0,0.0,358.0,0.0,1720.0,166.0,0.0,0.0,0.0,0.0,0.0,0.0,0.0,769.0,1333.0,0.0,0.0,0.0,0.0,0.0,535.0,0.0,0.0,0.0,0.0,0.0,0.0,0.0,1095.0,1823.0,0.0,11.0,482.0,0.0,0.0,0.0,0.0,328.0,6.0,0.0,52.0,0.0,0.0,0.0,1052.0,0.0,558.0,0.0,0.0,0.0,1227.0,166.0,0.0,0.0,9.0,0.0,634.0,550.0,0.0,99.0,19.0,0.0,0.0,0.0,0.0,6256.0,0.0,0.0,0.0,0.0,131.0,0.0,0.0,0.0,569.0,0.0,0.0,0.0,0.0,0.0,248.0,0.0,0.0,0.0,1610.0,0.0,0.0,37.0,0.0,0.0,0.0,0.0,0.0,34.0,196.0,46.0,102.0,0.0,0.0,0.0,0.0,0.0,0.0,0.0,0.0,1.0,472.0,0.0,485.0,0.0,0.0,1432.0,0.0,0.0,4.0,0.0,0.0,0.0,397.0,0.0,0.0,90.0,0.0,3030.0,589.0,0.0,0.0,0.0,84.0,7.0,0.0,0.0,0.0,0.0,0.0,580.0,0.0,0.0,2.0,31.0,0.0,0.0,0.0,1811.0,0.0,0.0,0.0,10.0,0.0,100.0,868.0,30.0,640.0,0.0,0.0,1.0,0.0,691.0,376.0,0.0,0.0,null,0.0,0.0,0.0,0.0,24.0,31.0,0.0,0.0,0.0,0.0,0.0,649.0,0.0,1969.0,838.0,3809.0,0.0,0.0,0.0,0.0,0.0,153.0,0.0,17.0,0.0,0.0,0.0,0.0,0.0,0.0,0.0,676.0,0.0,0.0,0.0,0.0,0.0,0.0,0.0,0.0,0.0,0.0,0.0,0.0,0.0,0.0,668.0,0.0,0.0,0.0,16.0,0.0,0.0,0.0,31.0,779.0,null,0.0,0.0,0.0,0.0,1222.0,0.0,172.0,0.0,0.0,0.0,0.0,0.0,5.0,0.0,1.0,0.0,0.0,6.0,0.0,0.0,0.0,0.0,0.0,1544.0,null,0.0,0.0,40.0,0.0,0.0,12.0,0.0,1369.0,0.0,null,0.0,0.0,0.0,0.0,1.0,0.0,0.0,0.0,0.0,0.0,355.0,1.0,2686.0,721.0,0.0,505.0,2.0,0.0,1842.0,595.0,null,635.0,0.0,33.0,1.0,3.0,0.0,18.0,0.0,0.0,0.0,19.0,0.0,0.0,9.0,0.0,0.0,4.0,81.0,0.0,0.0,48.0,150.0,90.0,0.0,0.0,49.0,0.0,0.0,0.0,0.0,0.0,6.0,97.0,0.0,0.0,0.0,79.0,0.0,0.0,0.0,0.0,0.0,0.0,381.0,3.0,44.0,0.0,0.0,0.0,0.0,831.0,0.0,0.0,0.0,0.0,0.0,11.0,0.0,0.0,0.0,0.0,0.0,0.0,0.0,0.0,0.0,18.0,0.0,0.0,0.0,0.0,0.0,691.0,0.0,0.0,90.0,0.0,1663.0,0.0,0.0,0.0,0.0,953.0,0.0,1157.0,0.0,0.0,279.0,0.0,7.0,293.0,644.0,4.0,753.0,0.0,0.0,0.0,0.0,0.0,0.0,5.0,116.0,0.0,0.0,0.0,0.0,0.0,0.0,0.0,0.0,0.0,539.0,0.0,598.0,0.0,0.0,0.0,0.0,0.0,19.0,0.0,0.0,0.0,0.0,0.0,209.0,625.0,0.0,0.0,6.0,1282.0,null,487.0,0.0,0.0,22.0,0.0,0.0,3.0,0.0,0.0,1054.0,32.0,0.0,85.0,0.0,0.0,0.0,14.0,0.0,201.0,0.0,5.0,0.0,72.0,0.0,511.0,749.0,0.0,499.0,2.0,0.0,1007.0,0.0,0.0,309.0,0.0,52.0,0.0,0.0,0.0,0.0,396.0,0.0,84.0,0.0,0.0,0.0,32.0,0.0,0.0,304.0,0.0,0.0,0.0,86.0,29.0,0.0,0.0,0.0,0.0,0.0,0.0,0.0,0.0,0.0,0.0,0.0,67.0,1242.0,1852.0,1150.0,0.0,0.0,0.0,0.0,1309.0,5.0,0.0,0.0,1722.0,0.0,4.0,218.0,0.0,0.0,836.0,0.0,0.0,0.0,467.0,0.0,0.0,380.0,532.0,2.0,0.0,1399.0,149.0,0.0,0.0,0.0,0.0,null,0.0,0.0,0.0,773.0,0.0,0.0,799.0,0.0,988.0,0.0,697.0,0.0,0.0,506.0,0.0,0.0,0.0,477.0,0.0,0.0,0.0,1403.0,0.0,30.0,0.0,0.0,41.0,0.0,0.0,0.0,0.0,0.0,0.0,49.0,0.0,0.0,0.0,0.0,0.0,0.0,0.0,0.0,0.0,336.0,0.0,435.0,0.0,1.0,0.0,64.0,0.0,963.0,0.0,462.0,0.0,0.0,0.0,0.0,0.0,0.0,0.0,0.0,0.0,0.0,0.0,0.0,781.0,0.0,86.0,163.0,9.0,0.0,2.0,0.0,0.0,0.0,0.0,0.0,0.0,0.0,1214.0,44.0,0.0,289.0,0.0,0.0,0.0,0.0,0.0,0.0,0.0,4210.0,1.0,0.0,0.0,0.0,324.0,0.0,1.0,0.0,341.0,52.0,725.0,0.0,857.0,0.0,1.0,0.0,0.0,0.0,1997.0,0.0,0.0,0.0,0.0,0.0,112.0,0.0,29.0,0.0,0.0,0.0,0.0,1004.0,1.0,0.0,0.0,32.0,0.0,0.0,0.0,0.0,0.0,1161.0,0.0,8243.0,0.0,0.0,39.0,0.0,2.0,244.0,0.0,0.0,188.0,0.0,0.0,0.0,0.0,0.0,65.0,null,319.0,0.0,0.0,770.0,18.0,49.0,1264.0,3784.0,0.0,0.0,0.0,0.0,490.0,0.0,0.0,0.0,21.0,590.0,0.0,870.0,null,0.0,3.0,53.0,0.0,11.0,2502.0,348.0,0.0,0.0,5327.0,0.0,59.0,686.0,1093.0,1914.0,0.0,114.0,0.0,129.0,0.0,0.0,0.0,387.0,487.0,0.0,0.0,0.0,0.0,3.0,0.0,0.0,0.0,0.0,3.0,0.0,0.0,5757.0,0.0,10.0,0.0,0.0,1042.0,0.0,1763.0,0.0,0.0,4.0,0.0,0.0,4.0,748.0,0.0,637.0,0.0,6.0,0.0,210.0,0.0,0.0,0.0,0.0,0.0,0.0,12.0,547.0,0.0,10.0,0.0,0.0,50.0,0.0,0.0,0.0,0.0,0.0,0.0,0.0,13.0,0.0,0.0,0.0,0.0,2.0,4.0,0.0,4.0,0.0,0.0,27.0,0.0,11.0,0.0,0.0,187.0,1234.0,9.0,135.0,0.0,1.0,0.0,0.0,0.0,2.0,1739.0,224.0,0.0,0.0,987.0,330.0,0.0,0.0,0.0,0.0,1455.0,133.0,0.0,1146.0,0.0,0.0,2048.0,20.0,0.0,1.0,0.0,0.0,0.0,3.0,0.0,0.0,777.0,0.0,0.0,0.0,200.0,0.0,345.0,125.0,886.0,450.0,0.0,909.0,733.0,0.0,806.0,0.0,949.0,0.0,506.0,0.0,1.0,21.0,0.0,4924.0,0.0,null,368.0,0.0,0.0,51.0,1.0,0.0,0.0,0.0,0.0,0.0,0.0,0.0,0.0,76.0,0.0,217.0,203.0,84.0,0.0,2239.0,679.0,0.0,312.0,0.0,1584.0,426.0,139.0,0.0,0.0,0.0,0.0,0.0,0.0,2002.0,32.0,34.0,258.0,694.0,1254.0,647.0,0.0,0.0,266.0,0.0,354.0,null,193.0,22.0,null,227.0,0.0,null,0.0,0.0,4.0,179.0,1613.0,947.0,24.0,0.0,2758.0,0.0,22.0,0.0,151.0,0.0,1.0,520.0,74.0,804.0,32.0,0.0,0.0,1.0,0.0,0.0,476.0,0.0,0.0,0.0,0.0,0.0,0.0,0.0,257.0,0.0,0.0,2.0,0.0,0.0,0.0,697.0,0.0,874.0,0.0,0.0,11.0,0.0,0.0,698.0,0.0,0.0,0.0,588.0,null,0.0,63.0,0.0,14.0,0.0,0.0,1771.0,0.0,10.0,0.0,570.0,81.0,0.0,0.0,0.0,0.0,0.0,413.0,0.0,0.0,0.0,0.0,0.0,0.0,586.0,0.0,857.0,0.0,198.0,0.0,0.0,128.0,0.0,1212.0,1369.0,1384.0,88.0,0.0,230.0,0.0,0.0,0.0,4.0,0.0,903.0,0.0,0.0,0.0,0.0,3.0,null,0.0,735.0,0.0,1037.0,0.0,1032.0,0.0,22.0,726.0,0.0,0.0,0.0,0.0,0.0,0.0,1054.0,0.0,0.0,0.0,0.0,0.0,0.0,0.0,0.0,121.0,0.0,0.0,0.0,0.0,0.0,null,0.0,0.0,0.0,0.0,0.0,0.0,0.0,1471.0,876.0,0.0,0.0,0.0,0.0,0.0,1186.0,0.0,0.0,0.0,0.0,0.0,0.0,23.0,0.0,16.0,0.0,522.0,0.0,720.0,0.0,0.0,0.0,0.0,0.0,0.0,0.0,0.0,0.0,0.0,0.0,0.0,0.0,0.0,0.0,771.0,1.0,528.0,1737.0,0.0,null,0.0,327.0,null,3036.0,0.0,0.0,0.0,1806.0,0.0,0.0,0.0,0.0,194.0,0.0,0.0,0.0,0.0,0.0,null,0.0,0.0,0.0,0.0,1708.0,0.0,0.0,1231.0,13.0,0.0,0.0,null,0.0,0.0,503.0,1.0,1.0,324.0,24.0,311.0,0.0,42.0,0.0,0.0,0.0,0.0,0.0,0.0,0.0,0.0,0.0,null,0.0,0.0,0.0,0.0,0.0,80.0,479.0,32.0,2101.0,0.0,604.0,0.0,null,2555.0,0.0,2.0,0.0,0.0,0.0,0.0,0.0,0.0,0.0,2.0,224.0,128.0,38.0,0.0,0.0,3.0,0.0,304.0,0.0,522.0,1297.0,0.0,63.0,null,1.0,3146.0,1954.0,0.0,0.0,0.0,0.0,0.0,0.0,0.0,0.0,266.0,0.0,1410.0,0.0,0.0,0.0,0.0,0.0,6899.0,0.0,0.0,0.0,1006.0,132.0,0.0,866.0,0.0,887.0,815.0,1269.0,1062.0,0.0,0.0,0.0,0.0,0.0,0.0,0.0,160.0,455.0,24.0,0.0,0.0,0.0,0.0,0.0,0.0,0.0,0.0,0.0,23.0,0.0,0.0,1.0,34.0,0.0,0.0,0.0,0.0,0.0,0.0,0.0,0.0,1258.0,0.0,11.0,0.0,866.0,0.0,0.0,0.0,8.0,0.0,null,3402.0,0.0,1736.0,0.0,0.0,15.0,0.0,1478.0,null,0.0,1215.0,0.0,0.0,37.0,0.0,101.0,0.0,733.0,0.0,0.0,0.0,0.0,794.0,0.0,0.0,0.0,0.0,0.0,2575.0,1789.0,590.0,6.0,3.0,410.0,0.0,0.0,83.0,1.0,0.0,0.0,0.0,0.0,1.0,0.0,0.0,0.0,0.0,0.0,0.0,0.0,0.0,0.0,0.0,0.0,169.0,640.0,0.0,0.0,0.0,574.0,9.0,0.0,23.0,0.0,48.0,1060.0,724.0,0.0,65.0,0.0,0.0,49.0,0.0,459.0,0.0,0.0,148.0,270.0,0.0,0.0,698.0,0.0,0.0,87.0,802.0,null,0.0,0.0,1003.0,0.0,0.0,0.0,1.0,381.0,0.0,0.0,0.0,1569.0,0.0,0.0,8586.0,0.0,0.0,0.0,0.0,0.0,757.0,0.0,0.0,15.0,0.0,0.0,6.0,2.0,0.0,623.0,0.0,0.0,745.0,1.0,676.0,0.0,0.0,0.0,0.0,0.0,0.0,0.0,0.0,0.0,3.0,6.0,8.0,0.0,2.0,699.0,102.0,0.0,0.0,0.0,28.0,0.0,0.0,0.0,0.0,0.0,0.0,0.0,39.0,1030.0,0.0,0.0,0.0,0.0,0.0,0.0,240.0,86.0,0.0,0.0,1.0,0.0,0.0,0.0,0.0,0.0,126.0],\"xaxis\":\"x\",\"yaxis\":\"y\",\"type\":\"histogram\"}],                        {\"template\":{\"data\":{\"bar\":[{\"error_x\":{\"color\":\"#2a3f5f\"},\"error_y\":{\"color\":\"#2a3f5f\"},\"marker\":{\"line\":{\"color\":\"#E5ECF6\",\"width\":0.5},\"pattern\":{\"fillmode\":\"overlay\",\"size\":10,\"solidity\":0.2}},\"type\":\"bar\"}],\"barpolar\":[{\"marker\":{\"line\":{\"color\":\"#E5ECF6\",\"width\":0.5},\"pattern\":{\"fillmode\":\"overlay\",\"size\":10,\"solidity\":0.2}},\"type\":\"barpolar\"}],\"carpet\":[{\"aaxis\":{\"endlinecolor\":\"#2a3f5f\",\"gridcolor\":\"white\",\"linecolor\":\"white\",\"minorgridcolor\":\"white\",\"startlinecolor\":\"#2a3f5f\"},\"baxis\":{\"endlinecolor\":\"#2a3f5f\",\"gridcolor\":\"white\",\"linecolor\":\"white\",\"minorgridcolor\":\"white\",\"startlinecolor\":\"#2a3f5f\"},\"type\":\"carpet\"}],\"choropleth\":[{\"colorbar\":{\"outlinewidth\":0,\"ticks\":\"\"},\"type\":\"choropleth\"}],\"contour\":[{\"colorbar\":{\"outlinewidth\":0,\"ticks\":\"\"},\"colorscale\":[[0.0,\"#0d0887\"],[0.1111111111111111,\"#46039f\"],[0.2222222222222222,\"#7201a8\"],[0.3333333333333333,\"#9c179e\"],[0.4444444444444444,\"#bd3786\"],[0.5555555555555556,\"#d8576b\"],[0.6666666666666666,\"#ed7953\"],[0.7777777777777778,\"#fb9f3a\"],[0.8888888888888888,\"#fdca26\"],[1.0,\"#f0f921\"]],\"type\":\"contour\"}],\"contourcarpet\":[{\"colorbar\":{\"outlinewidth\":0,\"ticks\":\"\"},\"type\":\"contourcarpet\"}],\"heatmap\":[{\"colorbar\":{\"outlinewidth\":0,\"ticks\":\"\"},\"colorscale\":[[0.0,\"#0d0887\"],[0.1111111111111111,\"#46039f\"],[0.2222222222222222,\"#7201a8\"],[0.3333333333333333,\"#9c179e\"],[0.4444444444444444,\"#bd3786\"],[0.5555555555555556,\"#d8576b\"],[0.6666666666666666,\"#ed7953\"],[0.7777777777777778,\"#fb9f3a\"],[0.8888888888888888,\"#fdca26\"],[1.0,\"#f0f921\"]],\"type\":\"heatmap\"}],\"heatmapgl\":[{\"colorbar\":{\"outlinewidth\":0,\"ticks\":\"\"},\"colorscale\":[[0.0,\"#0d0887\"],[0.1111111111111111,\"#46039f\"],[0.2222222222222222,\"#7201a8\"],[0.3333333333333333,\"#9c179e\"],[0.4444444444444444,\"#bd3786\"],[0.5555555555555556,\"#d8576b\"],[0.6666666666666666,\"#ed7953\"],[0.7777777777777778,\"#fb9f3a\"],[0.8888888888888888,\"#fdca26\"],[1.0,\"#f0f921\"]],\"type\":\"heatmapgl\"}],\"histogram\":[{\"marker\":{\"pattern\":{\"fillmode\":\"overlay\",\"size\":10,\"solidity\":0.2}},\"type\":\"histogram\"}],\"histogram2d\":[{\"colorbar\":{\"outlinewidth\":0,\"ticks\":\"\"},\"colorscale\":[[0.0,\"#0d0887\"],[0.1111111111111111,\"#46039f\"],[0.2222222222222222,\"#7201a8\"],[0.3333333333333333,\"#9c179e\"],[0.4444444444444444,\"#bd3786\"],[0.5555555555555556,\"#d8576b\"],[0.6666666666666666,\"#ed7953\"],[0.7777777777777778,\"#fb9f3a\"],[0.8888888888888888,\"#fdca26\"],[1.0,\"#f0f921\"]],\"type\":\"histogram2d\"}],\"histogram2dcontour\":[{\"colorbar\":{\"outlinewidth\":0,\"ticks\":\"\"},\"colorscale\":[[0.0,\"#0d0887\"],[0.1111111111111111,\"#46039f\"],[0.2222222222222222,\"#7201a8\"],[0.3333333333333333,\"#9c179e\"],[0.4444444444444444,\"#bd3786\"],[0.5555555555555556,\"#d8576b\"],[0.6666666666666666,\"#ed7953\"],[0.7777777777777778,\"#fb9f3a\"],[0.8888888888888888,\"#fdca26\"],[1.0,\"#f0f921\"]],\"type\":\"histogram2dcontour\"}],\"mesh3d\":[{\"colorbar\":{\"outlinewidth\":0,\"ticks\":\"\"},\"type\":\"mesh3d\"}],\"parcoords\":[{\"line\":{\"colorbar\":{\"outlinewidth\":0,\"ticks\":\"\"}},\"type\":\"parcoords\"}],\"pie\":[{\"automargin\":true,\"type\":\"pie\"}],\"scatter\":[{\"marker\":{\"colorbar\":{\"outlinewidth\":0,\"ticks\":\"\"}},\"type\":\"scatter\"}],\"scatter3d\":[{\"line\":{\"colorbar\":{\"outlinewidth\":0,\"ticks\":\"\"}},\"marker\":{\"colorbar\":{\"outlinewidth\":0,\"ticks\":\"\"}},\"type\":\"scatter3d\"}],\"scattercarpet\":[{\"marker\":{\"colorbar\":{\"outlinewidth\":0,\"ticks\":\"\"}},\"type\":\"scattercarpet\"}],\"scattergeo\":[{\"marker\":{\"colorbar\":{\"outlinewidth\":0,\"ticks\":\"\"}},\"type\":\"scattergeo\"}],\"scattergl\":[{\"marker\":{\"colorbar\":{\"outlinewidth\":0,\"ticks\":\"\"}},\"type\":\"scattergl\"}],\"scattermapbox\":[{\"marker\":{\"colorbar\":{\"outlinewidth\":0,\"ticks\":\"\"}},\"type\":\"scattermapbox\"}],\"scatterpolar\":[{\"marker\":{\"colorbar\":{\"outlinewidth\":0,\"ticks\":\"\"}},\"type\":\"scatterpolar\"}],\"scatterpolargl\":[{\"marker\":{\"colorbar\":{\"outlinewidth\":0,\"ticks\":\"\"}},\"type\":\"scatterpolargl\"}],\"scatterternary\":[{\"marker\":{\"colorbar\":{\"outlinewidth\":0,\"ticks\":\"\"}},\"type\":\"scatterternary\"}],\"surface\":[{\"colorbar\":{\"outlinewidth\":0,\"ticks\":\"\"},\"colorscale\":[[0.0,\"#0d0887\"],[0.1111111111111111,\"#46039f\"],[0.2222222222222222,\"#7201a8\"],[0.3333333333333333,\"#9c179e\"],[0.4444444444444444,\"#bd3786\"],[0.5555555555555556,\"#d8576b\"],[0.6666666666666666,\"#ed7953\"],[0.7777777777777778,\"#fb9f3a\"],[0.8888888888888888,\"#fdca26\"],[1.0,\"#f0f921\"]],\"type\":\"surface\"}],\"table\":[{\"cells\":{\"fill\":{\"color\":\"#EBF0F8\"},\"line\":{\"color\":\"white\"}},\"header\":{\"fill\":{\"color\":\"#C8D4E3\"},\"line\":{\"color\":\"white\"}},\"type\":\"table\"}]},\"layout\":{\"annotationdefaults\":{\"arrowcolor\":\"#2a3f5f\",\"arrowhead\":0,\"arrowwidth\":1},\"autotypenumbers\":\"strict\",\"coloraxis\":{\"colorbar\":{\"outlinewidth\":0,\"ticks\":\"\"}},\"colorscale\":{\"diverging\":[[0,\"#8e0152\"],[0.1,\"#c51b7d\"],[0.2,\"#de77ae\"],[0.3,\"#f1b6da\"],[0.4,\"#fde0ef\"],[0.5,\"#f7f7f7\"],[0.6,\"#e6f5d0\"],[0.7,\"#b8e186\"],[0.8,\"#7fbc41\"],[0.9,\"#4d9221\"],[1,\"#276419\"]],\"sequential\":[[0.0,\"#0d0887\"],[0.1111111111111111,\"#46039f\"],[0.2222222222222222,\"#7201a8\"],[0.3333333333333333,\"#9c179e\"],[0.4444444444444444,\"#bd3786\"],[0.5555555555555556,\"#d8576b\"],[0.6666666666666666,\"#ed7953\"],[0.7777777777777778,\"#fb9f3a\"],[0.8888888888888888,\"#fdca26\"],[1.0,\"#f0f921\"]],\"sequentialminus\":[[0.0,\"#0d0887\"],[0.1111111111111111,\"#46039f\"],[0.2222222222222222,\"#7201a8\"],[0.3333333333333333,\"#9c179e\"],[0.4444444444444444,\"#bd3786\"],[0.5555555555555556,\"#d8576b\"],[0.6666666666666666,\"#ed7953\"],[0.7777777777777778,\"#fb9f3a\"],[0.8888888888888888,\"#fdca26\"],[1.0,\"#f0f921\"]]},\"colorway\":[\"#636efa\",\"#EF553B\",\"#00cc96\",\"#ab63fa\",\"#FFA15A\",\"#19d3f3\",\"#FF6692\",\"#B6E880\",\"#FF97FF\",\"#FECB52\"],\"font\":{\"color\":\"#2a3f5f\"},\"geo\":{\"bgcolor\":\"white\",\"lakecolor\":\"white\",\"landcolor\":\"#E5ECF6\",\"showlakes\":true,\"showland\":true,\"subunitcolor\":\"white\"},\"hoverlabel\":{\"align\":\"left\"},\"hovermode\":\"closest\",\"mapbox\":{\"style\":\"light\"},\"paper_bgcolor\":\"white\",\"plot_bgcolor\":\"#E5ECF6\",\"polar\":{\"angularaxis\":{\"gridcolor\":\"white\",\"linecolor\":\"white\",\"ticks\":\"\"},\"bgcolor\":\"#E5ECF6\",\"radialaxis\":{\"gridcolor\":\"white\",\"linecolor\":\"white\",\"ticks\":\"\"}},\"scene\":{\"xaxis\":{\"backgroundcolor\":\"#E5ECF6\",\"gridcolor\":\"white\",\"gridwidth\":2,\"linecolor\":\"white\",\"showbackground\":true,\"ticks\":\"\",\"zerolinecolor\":\"white\"},\"yaxis\":{\"backgroundcolor\":\"#E5ECF6\",\"gridcolor\":\"white\",\"gridwidth\":2,\"linecolor\":\"white\",\"showbackground\":true,\"ticks\":\"\",\"zerolinecolor\":\"white\"},\"zaxis\":{\"backgroundcolor\":\"#E5ECF6\",\"gridcolor\":\"white\",\"gridwidth\":2,\"linecolor\":\"white\",\"showbackground\":true,\"ticks\":\"\",\"zerolinecolor\":\"white\"}},\"shapedefaults\":{\"line\":{\"color\":\"#2a3f5f\"}},\"ternary\":{\"aaxis\":{\"gridcolor\":\"white\",\"linecolor\":\"white\",\"ticks\":\"\"},\"baxis\":{\"gridcolor\":\"white\",\"linecolor\":\"white\",\"ticks\":\"\"},\"bgcolor\":\"#E5ECF6\",\"caxis\":{\"gridcolor\":\"white\",\"linecolor\":\"white\",\"ticks\":\"\"}},\"title\":{\"x\":0.05},\"xaxis\":{\"automargin\":true,\"gridcolor\":\"white\",\"linecolor\":\"white\",\"ticks\":\"\",\"title\":{\"standoff\":15},\"zerolinecolor\":\"white\",\"zerolinewidth\":2},\"yaxis\":{\"automargin\":true,\"gridcolor\":\"white\",\"linecolor\":\"white\",\"ticks\":\"\",\"title\":{\"standoff\":15},\"zerolinecolor\":\"white\",\"zerolinewidth\":2}}},\"xaxis\":{\"anchor\":\"y\",\"domain\":[0.0,1.0],\"title\":{\"text\":\"RoomService\"}},\"yaxis\":{\"anchor\":\"x\",\"domain\":[0.0,1.0],\"title\":{\"text\":\"count\"}},\"legend\":{\"tracegroupgap\":0},\"margin\":{\"t\":60},\"barmode\":\"relative\"},                        {\"responsive\": true}                    ).then(function(){\n",
              "                            \n",
              "var gd = document.getElementById('fa060168-9226-4de8-9bcb-e1a9b43ca5d4');\n",
              "var x = new MutationObserver(function (mutations, observer) {{\n",
              "        var display = window.getComputedStyle(gd).display;\n",
              "        if (!display || display === 'none') {{\n",
              "            console.log([gd, 'removed!']);\n",
              "            Plotly.purge(gd);\n",
              "            observer.disconnect();\n",
              "        }}\n",
              "}});\n",
              "\n",
              "// Listen for the removal of the full notebook cells\n",
              "var notebookContainer = gd.closest('#notebook-container');\n",
              "if (notebookContainer) {{\n",
              "    x.observe(notebookContainer, {childList: true});\n",
              "}}\n",
              "\n",
              "// Listen for the clearing of the current output cell\n",
              "var outputEl = gd.closest('.output');\n",
              "if (outputEl) {{\n",
              "    x.observe(outputEl, {childList: true});\n",
              "}}\n",
              "\n",
              "                        })                };                            </script>        </div>\n",
              "</body>\n",
              "</html>"
            ]
          },
          "metadata": {}
        }
      ]
    },
    {
      "cell_type": "code",
      "source": [
        "# 4. Let's plot the distribution of the  Bills\n",
        "px.histogram(data_frame = train_df, x=\"FoodCourt\")"
      ],
      "metadata": {
        "colab": {
          "base_uri": "https://localhost:8080/",
          "height": 542
        },
        "id": "i1zfQDz_wSbZ",
        "outputId": "aec78e6d-b92e-4719-fe47-c7342a9fbb98"
      },
      "execution_count": 11,
      "outputs": [
        {
          "output_type": "display_data",
          "data": {
            "text/html": [
              "<html>\n",
              "<head><meta charset=\"utf-8\" /></head>\n",
              "<body>\n",
              "    <div>            <script src=\"https://cdnjs.cloudflare.com/ajax/libs/mathjax/2.7.5/MathJax.js?config=TeX-AMS-MML_SVG\"></script><script type=\"text/javascript\">if (window.MathJax) {MathJax.Hub.Config({SVG: {font: \"STIX-Web\"}});}</script>                <script type=\"text/javascript\">window.PlotlyConfig = {MathJaxConfig: 'local'};</script>\n",
              "        <script src=\"https://cdn.plot.ly/plotly-2.8.3.min.js\"></script>                <div id=\"f42d84d3-517d-4694-93bd-599e871397d7\" class=\"plotly-graph-div\" style=\"height:525px; width:100%;\"></div>            <script type=\"text/javascript\">                                    window.PLOTLYENV=window.PLOTLYENV || {};                                    if (document.getElementById(\"f42d84d3-517d-4694-93bd-599e871397d7\")) {                    Plotly.newPlot(                        \"f42d84d3-517d-4694-93bd-599e871397d7\",                        [{\"alignmentgroup\":\"True\",\"bingroup\":\"x\",\"hovertemplate\":\"FoodCourt=%{x}<br>count=%{y}<extra></extra>\",\"legendgroup\":\"\",\"marker\":{\"color\":\"#636efa\",\"pattern\":{\"shape\":\"\"}},\"name\":\"\",\"offsetgroup\":\"\",\"orientation\":\"v\",\"showlegend\":false,\"x\":[0.0,9.0,3576.0,1283.0,70.0,483.0,1539.0,0.0,785.0,0.0,0.0,7295.0,0.0,1.0,974.0,0.0,122.0,1.0,0.0,0.0,0.0,0.0,0.0,0.0,0.0,0.0,0.0,2.0,0.0,225.0,6073.0,0.0,850.0,0.0,0.0,0.0,0.0,964.0,492.0,195.0,0.0,0.0,164.0,0.0,0.0,0.0,0.0,0.0,0.0,112.0,0.0,0.0,0.0,0.0,605.0,0.0,1096.0,592.0,0.0,0.0,153.0,0.0,258.0,37.0,0.0,0.0,0.0,2165.0,1.0,83.0,8397.0,0.0,0.0,5840.0,0.0,0.0,0.0,0.0,0.0,0.0,0.0,0.0,0.0,0.0,697.0,0.0,0.0,0.0,1208.0,856.0,2811.0,427.0,0.0,0.0,0.0,null,0.0,0.0,0.0,5.0,0.0,0.0,0.0,410.0,331.0,11418.0,0.0,0.0,2537.0,0.0,157.0,0.0,2223.0,2344.0,0.0,0.0,0.0,597.0,0.0,0.0,334.0,6.0,0.0,0.0,0.0,14.0,418.0,0.0,22.0,0.0,0.0,0.0,0.0,420.0,0.0,0.0,0.0,0.0,0.0,0.0,0.0,0.0,0.0,1688.0,0.0,0.0,0.0,0.0,0.0,0.0,0.0,0.0,985.0,0.0,10346.0,0.0,219.0,0.0,0.0,0.0,0.0,146.0,0.0,0.0,3.0,0.0,0.0,0.0,0.0,0.0,0.0,0.0,0.0,0.0,972.0,0.0,0.0,0.0,0.0,0.0,0.0,2433.0,0.0,2.0,1720.0,0.0,0.0,1.0,0.0,0.0,0.0,188.0,281.0,56.0,0.0,0.0,0.0,0.0,0.0,84.0,3.0,0.0,0.0,0.0,80.0,12.0,0.0,0.0,0.0,0.0,0.0,0.0,0.0,2.0,0.0,0.0,7.0,0.0,null,0.0,888.0,0.0,0.0,0.0,1249.0,1.0,0.0,0.0,0.0,3571.0,86.0,0.0,1.0,0.0,0.0,695.0,615.0,172.0,0.0,0.0,0.0,0.0,4810.0,29.0,0.0,0.0,0.0,231.0,25.0,0.0,2390.0,0.0,97.0,0.0,918.0,0.0,654.0,0.0,0.0,1281.0,0.0,587.0,0.0,0.0,4458.0,0.0,0.0,0.0,6500.0,0.0,2.0,0.0,0.0,0.0,0.0,422.0,584.0,175.0,0.0,0.0,230.0,540.0,0.0,0.0,0.0,0.0,0.0,2628.0,0.0,2.0,5.0,0.0,0.0,0.0,0.0,0.0,0.0,4651.0,317.0,0.0,0.0,2.0,1.0,0.0,349.0,0.0,0.0,0.0,0.0,0.0,0.0,0.0,0.0,2876.0,0.0,0.0,0.0,0.0,0.0,1198.0,0.0,0.0,0.0,212.0,36.0,0.0,107.0,0.0,0.0,95.0,0.0,5.0,0.0,0.0,0.0,1068.0,215.0,0.0,235.0,0.0,0.0,2491.0,0.0,0.0,0.0,0.0,0.0,0.0,773.0,0.0,0.0,0.0,747.0,0.0,0.0,44.0,5728.0,111.0,11003.0,608.0,0.0,0.0,420.0,0.0,0.0,0.0,896.0,null,21.0,465.0,0.0,113.0,0.0,150.0,0.0,7255.0,157.0,0.0,0.0,1170.0,0.0,3584.0,2.0,0.0,0.0,null,4118.0,10116.0,0.0,1026.0,0.0,10.0,0.0,891.0,0.0,0.0,0.0,11.0,0.0,0.0,0.0,5637.0,0.0,1043.0,429.0,0.0,0.0,0.0,0.0,0.0,0.0,0.0,0.0,0.0,0.0,0.0,0.0,4288.0,0.0,0.0,185.0,0.0,0.0,0.0,0.0,0.0,0.0,869.0,70.0,0.0,0.0,0.0,852.0,10.0,654.0,0.0,0.0,0.0,0.0,45.0,7972.0,10.0,0.0,0.0,6.0,0.0,0.0,5.0,34.0,0.0,118.0,14.0,33.0,1794.0,0.0,0.0,null,0.0,0.0,0.0,0.0,929.0,0.0,0.0,0.0,35.0,0.0,0.0,0.0,1737.0,0.0,0.0,0.0,0.0,16521.0,5755.0,0.0,0.0,0.0,2492.0,0.0,0.0,0.0,null,263.0,0.0,213.0,0.0,11.0,0.0,1119.0,0.0,0.0,0.0,0.0,715.0,1308.0,5.0,1073.0,0.0,0.0,0.0,0.0,1793.0,0.0,0.0,0.0,0.0,691.0,15.0,86.0,0.0,0.0,12.0,0.0,0.0,0.0,6506.0,0.0,165.0,1428.0,12.0,0.0,0.0,293.0,0.0,642.0,0.0,0.0,410.0,0.0,0.0,0.0,33.0,0.0,334.0,5085.0,0.0,0.0,0.0,0.0,0.0,1542.0,0.0,0.0,809.0,0.0,null,0.0,790.0,233.0,0.0,0.0,0.0,0.0,0.0,0.0,0.0,0.0,0.0,0.0,25.0,0.0,1.0,2.0,0.0,152.0,0.0,4.0,0.0,0.0,0.0,0.0,0.0,null,0.0,0.0,3385.0,0.0,0.0,0.0,0.0,654.0,3113.0,1111.0,0.0,0.0,null,0.0,0.0,0.0,0.0,0.0,0.0,0.0,368.0,0.0,0.0,0.0,0.0,0.0,0.0,0.0,0.0,1496.0,1778.0,0.0,7.0,0.0,0.0,0.0,123.0,0.0,3344.0,4967.0,0.0,0.0,0.0,266.0,0.0,0.0,0.0,0.0,0.0,0.0,0.0,0.0,2.0,0.0,863.0,8.0,576.0,0.0,0.0,2506.0,525.0,0.0,0.0,0.0,25.0,530.0,0.0,0.0,0.0,0.0,0.0,215.0,0.0,0.0,0.0,0.0,96.0,0.0,0.0,0.0,922.0,0.0,0.0,0.0,0.0,0.0,0.0,0.0,0.0,0.0,0.0,3488.0,581.0,0.0,0.0,0.0,0.0,237.0,0.0,0.0,0.0,0.0,4949.0,null,0.0,0.0,0.0,0.0,2.0,0.0,0.0,0.0,0.0,0.0,0.0,0.0,0.0,0.0,0.0,23.0,0.0,0.0,0.0,781.0,714.0,38.0,2.0,0.0,835.0,0.0,16.0,0.0,3425.0,0.0,0.0,142.0,0.0,1344.0,0.0,0.0,0.0,287.0,0.0,0.0,3879.0,0.0,0.0,0.0,0.0,6.0,12180.0,0.0,0.0,0.0,715.0,0.0,0.0,0.0,0.0,0.0,16.0,0.0,0.0,0.0,4.0,2.0,3004.0,2.0,33.0,0.0,0.0,0.0,0.0,0.0,0.0,166.0,142.0,0.0,0.0,0.0,0.0,0.0,0.0,0.0,0.0,0.0,0.0,3462.0,0.0,13248.0,0.0,0.0,110.0,0.0,42.0,0.0,0.0,0.0,0.0,0.0,0.0,1.0,284.0,0.0,0.0,0.0,59.0,0.0,561.0,0.0,0.0,0.0,0.0,653.0,0.0,2.0,0.0,5.0,0.0,0.0,0.0,701.0,179.0,1111.0,2956.0,0.0,0.0,0.0,0.0,0.0,0.0,378.0,0.0,0.0,7.0,0.0,0.0,0.0,null,0.0,850.0,0.0,0.0,473.0,4754.0,0.0,162.0,0.0,687.0,0.0,0.0,0.0,3.0,5.0,0.0,0.0,0.0,12804.0,null,0.0,0.0,0.0,0.0,0.0,124.0,0.0,2792.0,0.0,388.0,5738.0,1736.0,0.0,0.0,0.0,7461.0,172.0,0.0,0.0,84.0,0.0,0.0,1095.0,7767.0,0.0,0.0,0.0,0.0,null,7992.0,760.0,null,0.0,0.0,0.0,null,0.0,12045.0,1127.0,11.0,0.0,0.0,0.0,0.0,741.0,7.0,0.0,0.0,0.0,5.0,474.0,0.0,0.0,0.0,306.0,0.0,631.0,0.0,0.0,885.0,0.0,0.0,0.0,0.0,0.0,0.0,0.0,0.0,314.0,317.0,0.0,32.0,0.0,0.0,null,0.0,1.0,0.0,0.0,0.0,11.0,0.0,0.0,0.0,0.0,0.0,3.0,784.0,0.0,541.0,0.0,2727.0,942.0,1736.0,300.0,0.0,791.0,0.0,0.0,1.0,0.0,0.0,7447.0,0.0,0.0,0.0,0.0,0.0,0.0,0.0,0.0,0.0,0.0,0.0,0.0,4.0,0.0,0.0,0.0,0.0,131.0,15.0,0.0,1410.0,0.0,6.0,12.0,0.0,5.0,0.0,0.0,0.0,0.0,0.0,0.0,0.0,0.0,0.0,84.0,0.0,0.0,0.0,0.0,null,306.0,162.0,0.0,0.0,0.0,2349.0,0.0,0.0,537.0,0.0,0.0,447.0,0.0,0.0,0.0,0.0,0.0,0.0,0.0,20.0,773.0,3262.0,null,0.0,0.0,0.0,1328.0,0.0,0.0,0.0,113.0,709.0,0.0,null,0.0,0.0,0.0,0.0,1.0,0.0,0.0,0.0,0.0,0.0,0.0,0.0,0.0,565.0,0.0,59.0,2.0,0.0,0.0,0.0,78.0,355.0,0.0,0.0,271.0,0.0,0.0,0.0,0.0,24.0,6138.0,4076.0,0.0,0.0,0.0,0.0,0.0,3011.0,0.0,0.0,46.0,402.0,0.0,0.0,0.0,3.0,0.0,0.0,0.0,1755.0,143.0,0.0,0.0,0.0,0.0,0.0,0.0,97.0,0.0,0.0,null,122.0,5225.0,5212.0,0.0,0.0,841.0,0.0,0.0,0.0,0.0,0.0,0.0,0.0,0.0,null,0.0,0.0,799.0,0.0,2987.0,0.0,11330.0,1291.0,1847.0,1328.0,7201.0,333.0,0.0,0.0,3564.0,0.0,58.0,0.0,0.0,592.0,0.0,0.0,0.0,0.0,0.0,null,0.0,0.0,1356.0,0.0,0.0,0.0,0.0,33.0,0.0,575.0,0.0,0.0,4227.0,243.0,0.0,670.0,0.0,0.0,558.0,122.0,1116.0,0.0,5473.0,8.0,0.0,0.0,510.0,0.0,0.0,0.0,0.0,212.0,0.0,0.0,1.0,null,0.0,0.0,905.0,0.0,592.0,0.0,0.0,493.0,0.0,1311.0,0.0,0.0,0.0,34.0,0.0,0.0,42.0,0.0,0.0,393.0,43.0,1026.0,0.0,13.0,185.0,4677.0,4224.0,69.0,192.0,null,17.0,0.0,0.0,0.0,0.0,0.0,3628.0,0.0,0.0,3106.0,1.0,1.0,0.0,0.0,0.0,0.0,0.0,0.0,0.0,178.0,0.0,0.0,null,null,415.0,0.0,0.0,0.0,0.0,0.0,0.0,0.0,59.0,27723.0,368.0,0.0,0.0,0.0,0.0,0.0,0.0,299.0,50.0,0.0,0.0,0.0,0.0,0.0,0.0,3863.0,0.0,0.0,0.0,3300.0,439.0,0.0,4.0,987.0,0.0,47.0,4.0,0.0,0.0,847.0,0.0,0.0,0.0,0.0,0.0,0.0,0.0,160.0,0.0,0.0,0.0,0.0,0.0,8.0,0.0,0.0,486.0,0.0,0.0,14.0,0.0,118.0,0.0,761.0,1531.0,0.0,0.0,2.0,106.0,0.0,0.0,782.0,0.0,0.0,0.0,0.0,0.0,39.0,0.0,997.0,1268.0,2381.0,0.0,null,0.0,0.0,466.0,0.0,3.0,0.0,2801.0,41.0,0.0,30.0,21.0,0.0,1125.0,0.0,0.0,0.0,442.0,0.0,510.0,3.0,0.0,0.0,0.0,0.0,0.0,79.0,2.0,0.0,0.0,0.0,190.0,508.0,0.0,0.0,0.0,0.0,0.0,0.0,734.0,51.0,0.0,4.0,222.0,770.0,567.0,0.0,0.0,0.0,null,0.0,184.0,0.0,0.0,6153.0,0.0,0.0,0.0,0.0,0.0,2147.0,0.0,4380.0,0.0,0.0,0.0,0.0,0.0,0.0,0.0,200.0,0.0,0.0,0.0,258.0,0.0,0.0,20.0,224.0,186.0,100.0,1826.0,0.0,0.0,1248.0,0.0,0.0,0.0,138.0,484.0,0.0,251.0,0.0,1646.0,774.0,0.0,2838.0,801.0,13561.0,0.0,2509.0,0.0,533.0,2732.0,368.0,0.0,905.0,0.0,null,0.0,414.0,287.0,1.0,0.0,0.0,19.0,0.0,0.0,1.0,0.0,0.0,0.0,304.0,0.0,51.0,0.0,0.0,495.0,0.0,0.0,0.0,55.0,0.0,184.0,0.0,0.0,216.0,0.0,0.0,24.0,0.0,1.0,0.0,490.0,0.0,0.0,null,0.0,2345.0,2121.0,0.0,0.0,0.0,null,0.0,0.0,1269.0,null,0.0,0.0,673.0,7069.0,0.0,0.0,31.0,0.0,0.0,3782.0,470.0,7139.0,170.0,7.0,0.0,0.0,0.0,0.0,0.0,0.0,0.0,230.0,2376.0,1376.0,0.0,1389.0,15.0,1.0,0.0,0.0,0.0,1519.0,0.0,100.0,0.0,0.0,17.0,0.0,0.0,0.0,169.0,24.0,1819.0,0.0,0.0,0.0,0.0,0.0,0.0,0.0,0.0,17394.0,1336.0,26.0,3621.0,2127.0,51.0,3.0,4342.0,0.0,0.0,0.0,0.0,5.0,0.0,594.0,0.0,0.0,3.0,817.0,193.0,865.0,3750.0,0.0,9.0,0.0,0.0,0.0,0.0,1575.0,0.0,0.0,129.0,0.0,0.0,0.0,0.0,0.0,930.0,9.0,0.0,0.0,0.0,27.0,32.0,null,0.0,0.0,0.0,0.0,666.0,0.0,0.0,0.0,2.0,0.0,0.0,0.0,0.0,0.0,0.0,0.0,0.0,1303.0,null,807.0,160.0,0.0,0.0,82.0,1.0,0.0,62.0,0.0,2390.0,0.0,0.0,787.0,0.0,0.0,0.0,0.0,67.0,0.0,859.0,0.0,0.0,0.0,0.0,87.0,89.0,0.0,260.0,0.0,0.0,450.0,554.0,0.0,0.0,26.0,1234.0,null,0.0,760.0,13.0,0.0,574.0,0.0,4.0,0.0,1164.0,0.0,3.0,0.0,0.0,0.0,0.0,0.0,0.0,54.0,0.0,244.0,0.0,1.0,726.0,0.0,0.0,0.0,0.0,0.0,0.0,36.0,0.0,1563.0,201.0,0.0,0.0,0.0,0.0,0.0,0.0,808.0,108.0,0.0,0.0,0.0,0.0,0.0,13.0,478.0,1310.0,0.0,0.0,0.0,0.0,0.0,0.0,1.0,0.0,0.0,809.0,0.0,21.0,490.0,7.0,null,3240.0,0.0,0.0,0.0,0.0,782.0,3368.0,0.0,24.0,0.0,0.0,338.0,0.0,0.0,0.0,0.0,0.0,603.0,11026.0,0.0,null,0.0,0.0,0.0,94.0,2.0,0.0,0.0,275.0,639.0,0.0,0.0,0.0,0.0,0.0,0.0,169.0,0.0,0.0,0.0,3722.0,763.0,0.0,0.0,20.0,852.0,0.0,640.0,2334.0,0.0,0.0,4.0,811.0,68.0,231.0,94.0,1333.0,3578.0,6398.0,8882.0,4424.0,0.0,699.0,0.0,127.0,0.0,1218.0,0.0,153.0,0.0,0.0,0.0,0.0,317.0,0.0,0.0,316.0,0.0,0.0,13527.0,0.0,43.0,710.0,0.0,0.0,1.0,3441.0,0.0,415.0,0.0,22.0,0.0,0.0,0.0,0.0,60.0,0.0,0.0,0.0,1983.0,0.0,null,0.0,0.0,25.0,0.0,583.0,128.0,0.0,16263.0,0.0,0.0,3.0,88.0,0.0,0.0,0.0,0.0,0.0,809.0,841.0,748.0,10153.0,354.0,0.0,44.0,0.0,0.0,0.0,0.0,39.0,0.0,1810.0,0.0,652.0,51.0,0.0,79.0,0.0,0.0,2043.0,0.0,0.0,4286.0,0.0,0.0,0.0,0.0,0.0,0.0,0.0,0.0,877.0,0.0,0.0,10.0,0.0,0.0,444.0,0.0,0.0,0.0,0.0,0.0,0.0,0.0,0.0,0.0,0.0,382.0,433.0,0.0,0.0,6.0,361.0,0.0,0.0,0.0,869.0,0.0,0.0,21066.0,0.0,0.0,0.0,0.0,8037.0,3578.0,0.0,2972.0,0.0,0.0,0.0,0.0,0.0,0.0,0.0,5.0,0.0,602.0,0.0,3166.0,0.0,0.0,0.0,85.0,0.0,0.0,0.0,0.0,25.0,1670.0,1.0,2676.0,194.0,6.0,856.0,0.0,0.0,5734.0,0.0,0.0,0.0,0.0,0.0,865.0,0.0,18.0,5183.0,162.0,809.0,0.0,1535.0,0.0,0.0,4.0,1.0,0.0,6.0,0.0,75.0,133.0,0.0,0.0,0.0,0.0,0.0,0.0,0.0,0.0,0.0,1211.0,741.0,null,0.0,58.0,0.0,0.0,0.0,0.0,0.0,0.0,286.0,0.0,0.0,0.0,5063.0,0.0,0.0,0.0,0.0,0.0,0.0,1.0,3559.0,2406.0,0.0,3343.0,4081.0,0.0,0.0,911.0,0.0,20.0,10.0,0.0,590.0,4451.0,1342.0,0.0,717.0,0.0,2.0,0.0,null,0.0,0.0,0.0,0.0,0.0,0.0,11.0,10.0,0.0,0.0,1095.0,0.0,9314.0,0.0,0.0,0.0,0.0,2.0,0.0,593.0,305.0,0.0,0.0,0.0,8718.0,0.0,0.0,0.0,0.0,0.0,0.0,1.0,0.0,62.0,0.0,0.0,2.0,null,0.0,0.0,0.0,0.0,0.0,0.0,0.0,0.0,0.0,0.0,0.0,0.0,0.0,0.0,1433.0,0.0,0.0,951.0,0.0,226.0,0.0,0.0,0.0,0.0,0.0,25.0,820.0,402.0,0.0,0.0,0.0,0.0,0.0,220.0,0.0,0.0,0.0,0.0,774.0,0.0,0.0,0.0,3585.0,0.0,1935.0,0.0,59.0,0.0,236.0,421.0,0.0,0.0,0.0,0.0,0.0,280.0,32.0,4587.0,0.0,1180.0,654.0,1108.0,1968.0,0.0,0.0,0.0,0.0,14.0,0.0,20.0,0.0,2347.0,5.0,29813.0,2229.0,0.0,3206.0,0.0,0.0,0.0,86.0,600.0,0.0,0.0,329.0,416.0,14.0,1220.0,18.0,0.0,0.0,0.0,8.0,0.0,0.0,0.0,539.0,162.0,0.0,0.0,0.0,1109.0,483.0,1179.0,1.0,1368.0,32.0,10.0,0.0,0.0,0.0,3341.0,0.0,0.0,0.0,4.0,0.0,0.0,0.0,0.0,0.0,0.0,0.0,0.0,0.0,0.0,0.0,0.0,0.0,0.0,313.0,0.0,140.0,1064.0,0.0,544.0,302.0,1.0,746.0,0.0,0.0,0.0,37.0,0.0,8.0,0.0,412.0,0.0,null,22.0,0.0,null,0.0,3381.0,0.0,0.0,0.0,0.0,297.0,12077.0,0.0,428.0,0.0,2426.0,2012.0,4715.0,0.0,0.0,0.0,2210.0,0.0,763.0,0.0,0.0,0.0,0.0,0.0,454.0,37.0,0.0,760.0,0.0,0.0,4106.0,null,0.0,0.0,0.0,910.0,0.0,0.0,0.0,0.0,785.0,null,22.0,0.0,0.0,0.0,0.0,null,0.0,1223.0,722.0,5412.0,0.0,82.0,null,null,409.0,0.0,0.0,0.0,8926.0,4.0,0.0,0.0,0.0,0.0,0.0,4756.0,0.0,0.0,30.0,0.0,0.0,33.0,0.0,0.0,0.0,0.0,0.0,0.0,0.0,0.0,400.0,46.0,0.0,19.0,0.0,1.0,557.0,0.0,810.0,780.0,0.0,0.0,0.0,0.0,544.0,0.0,5553.0,0.0,0.0,395.0,0.0,0.0,2115.0,0.0,0.0,1829.0,0.0,31.0,0.0,0.0,0.0,223.0,0.0,0.0,0.0,56.0,2.0,0.0,0.0,0.0,0.0,0.0,537.0,11.0,0.0,421.0,236.0,3.0,0.0,0.0,0.0,0.0,0.0,2.0,0.0,0.0,0.0,0.0,0.0,93.0,0.0,0.0,0.0,0.0,1.0,0.0,0.0,null,0.0,4.0,0.0,27.0,0.0,null,0.0,0.0,0.0,0.0,195.0,192.0,738.0,0.0,0.0,2762.0,0.0,0.0,0.0,0.0,0.0,44.0,12.0,0.0,0.0,13.0,5.0,2506.0,0.0,2467.0,null,0.0,9.0,0.0,8759.0,0.0,55.0,2144.0,0.0,17.0,0.0,0.0,775.0,5407.0,0.0,0.0,0.0,0.0,0.0,0.0,412.0,1.0,0.0,37.0,0.0,646.0,0.0,0.0,9.0,0.0,1482.0,0.0,0.0,1912.0,0.0,179.0,100.0,12809.0,48.0,0.0,0.0,0.0,0.0,156.0,1124.0,0.0,0.0,0.0,0.0,0.0,0.0,0.0,0.0,0.0,0.0,1949.0,0.0,0.0,0.0,44.0,0.0,0.0,3024.0,0.0,0.0,8.0,0.0,0.0,0.0,303.0,0.0,676.0,20.0,0.0,0.0,0.0,166.0,0.0,0.0,8150.0,632.0,0.0,0.0,148.0,0.0,419.0,121.0,0.0,9.0,2.0,0.0,0.0,0.0,61.0,0.0,0.0,0.0,0.0,7.0,0.0,0.0,0.0,0.0,0.0,0.0,0.0,0.0,16.0,0.0,0.0,1471.0,0.0,0.0,604.0,0.0,0.0,0.0,0.0,0.0,0.0,1.0,0.0,228.0,0.0,6.0,6.0,0.0,0.0,0.0,0.0,0.0,29.0,0.0,0.0,0.0,0.0,815.0,2174.0,0.0,3053.0,0.0,286.0,0.0,313.0,0.0,0.0,0.0,0.0,0.0,27.0,1136.0,0.0,0.0,4.0,0.0,4.0,0.0,0.0,0.0,0.0,34.0,382.0,790.0,33.0,0.0,1554.0,1284.0,302.0,680.0,0.0,0.0,1297.0,7116.0,0.0,1347.0,193.0,104.0,243.0,0.0,1514.0,79.0,846.0,0.0,0.0,487.0,2684.0,138.0,0.0,0.0,617.0,1.0,0.0,1650.0,0.0,548.0,0.0,0.0,0.0,0.0,0.0,0.0,1776.0,0.0,0.0,2373.0,0.0,0.0,746.0,0.0,0.0,5876.0,0.0,0.0,0.0,0.0,9.0,0.0,0.0,1115.0,null,0.0,0.0,0.0,4.0,726.0,1772.0,0.0,0.0,143.0,0.0,0.0,0.0,0.0,0.0,548.0,0.0,0.0,0.0,0.0,82.0,0.0,1.0,0.0,0.0,0.0,0.0,0.0,0.0,0.0,0.0,0.0,756.0,0.0,1.0,3.0,0.0,0.0,837.0,1721.0,0.0,2.0,0.0,1195.0,4.0,0.0,0.0,702.0,0.0,0.0,8.0,0.0,0.0,1.0,null,0.0,0.0,0.0,320.0,933.0,37.0,9923.0,0.0,87.0,5659.0,802.0,0.0,0.0,437.0,0.0,0.0,0.0,767.0,2595.0,0.0,0.0,0.0,0.0,0.0,0.0,0.0,0.0,0.0,0.0,0.0,0.0,0.0,0.0,0.0,169.0,0.0,0.0,0.0,0.0,null,0.0,0.0,0.0,0.0,0.0,213.0,6807.0,824.0,1.0,250.0,11.0,186.0,0.0,0.0,3935.0,0.0,0.0,0.0,0.0,126.0,757.0,null,896.0,null,0.0,0.0,null,0.0,22.0,756.0,0.0,2.0,23.0,0.0,0.0,0.0,4.0,0.0,0.0,0.0,0.0,1431.0,null,0.0,656.0,40.0,0.0,0.0,0.0,0.0,93.0,0.0,0.0,0.0,351.0,0.0,904.0,0.0,0.0,0.0,1311.0,0.0,307.0,0.0,0.0,0.0,0.0,20.0,2.0,760.0,0.0,0.0,9.0,0.0,2.0,0.0,0.0,0.0,25.0,2119.0,0.0,0.0,179.0,11.0,0.0,25.0,0.0,2062.0,0.0,0.0,0.0,9.0,689.0,28.0,30.0,0.0,308.0,0.0,44.0,0.0,3.0,0.0,0.0,0.0,0.0,1971.0,0.0,0.0,641.0,0.0,141.0,0.0,0.0,null,54.0,0.0,8525.0,0.0,417.0,null,0.0,82.0,3135.0,1.0,0.0,0.0,0.0,0.0,210.0,0.0,1280.0,0.0,null,6.0,0.0,0.0,0.0,611.0,5252.0,0.0,1577.0,1001.0,0.0,0.0,53.0,0.0,0.0,0.0,8403.0,1.0,256.0,1390.0,1438.0,49.0,0.0,216.0,1.0,0.0,3331.0,329.0,0.0,0.0,788.0,8.0,0.0,0.0,878.0,0.0,2551.0,0.0,0.0,0.0,0.0,12.0,27.0,0.0,0.0,0.0,0.0,0.0,0.0,139.0,0.0,null,0.0,0.0,2342.0,2.0,77.0,0.0,2.0,0.0,0.0,0.0,0.0,0.0,0.0,0.0,0.0,0.0,2065.0,0.0,0.0,453.0,0.0,0.0,null,0.0,0.0,0.0,0.0,1547.0,0.0,30.0,587.0,0.0,0.0,0.0,0.0,6013.0,946.0,0.0,0.0,0.0,1284.0,1.0,0.0,0.0,0.0,0.0,0.0,7452.0,0.0,null,0.0,0.0,0.0,0.0,0.0,0.0,0.0,0.0,0.0,0.0,0.0,3.0,0.0,0.0,0.0,8.0,0.0,4018.0,0.0,57.0,0.0,0.0,0.0,0.0,0.0,140.0,4513.0,0.0,4.0,0.0,1117.0,0.0,0.0,0.0,427.0,730.0,0.0,0.0,null,0.0,323.0,0.0,0.0,0.0,0.0,0.0,0.0,0.0,7.0,350.0,0.0,0.0,0.0,0.0,0.0,9032.0,0.0,1.0,353.0,0.0,0.0,0.0,788.0,0.0,0.0,0.0,0.0,0.0,null,0.0,31.0,0.0,0.0,0.0,0.0,0.0,0.0,11.0,11.0,0.0,1653.0,3810.0,131.0,0.0,0.0,0.0,19.0,596.0,2804.0,0.0,233.0,0.0,264.0,0.0,0.0,0.0,0.0,1573.0,574.0,623.0,0.0,0.0,0.0,0.0,0.0,0.0,950.0,0.0,3281.0,15.0,2344.0,0.0,0.0,0.0,0.0,540.0,30.0,0.0,0.0,0.0,0.0,0.0,382.0,0.0,null,16.0,null,0.0,0.0,3315.0,0.0,0.0,0.0,0.0,165.0,632.0,0.0,5082.0,56.0,0.0,0.0,0.0,0.0,0.0,0.0,4.0,0.0,0.0,653.0,0.0,0.0,0.0,0.0,0.0,201.0,0.0,0.0,1440.0,16.0,0.0,0.0,0.0,0.0,0.0,0.0,2.0,null,0.0,0.0,6074.0,0.0,0.0,0.0,12.0,0.0,0.0,927.0,0.0,782.0,0.0,0.0,0.0,0.0,0.0,0.0,0.0,0.0,0.0,0.0,13.0,43.0,0.0,0.0,1638.0,1076.0,0.0,0.0,0.0,0.0,957.0,0.0,0.0,0.0,0.0,335.0,0.0,0.0,0.0,0.0,0.0,0.0,null,0.0,0.0,0.0,0.0,4.0,2.0,0.0,0.0,0.0,0.0,180.0,0.0,0.0,0.0,0.0,0.0,25.0,0.0,2126.0,0.0,216.0,0.0,5.0,4082.0,4494.0,1897.0,0.0,810.0,1429.0,0.0,0.0,0.0,0.0,52.0,0.0,0.0,372.0,0.0,0.0,3.0,0.0,0.0,17.0,0.0,18.0,0.0,0.0,56.0,46.0,0.0,0.0,0.0,1.0,0.0,0.0,1209.0,39.0,0.0,0.0,0.0,463.0,0.0,0.0,269.0,0.0,0.0,35.0,0.0,0.0,0.0,0.0,104.0,5971.0,0.0,0.0,0.0,12.0,0.0,6748.0,0.0,178.0,1376.0,0.0,0.0,0.0,0.0,0.0,0.0,0.0,0.0,1216.0,37.0,0.0,18481.0,193.0,0.0,0.0,1026.0,0.0,0.0,0.0,0.0,35.0,null,0.0,0.0,2.0,83.0,0.0,0.0,0.0,27071.0,0.0,649.0,0.0,760.0,0.0,0.0,4.0,4209.0,2834.0,0.0,0.0,0.0,0.0,0.0,0.0,377.0,null,0.0,0.0,0.0,0.0,0.0,0.0,0.0,0.0,880.0,0.0,952.0,0.0,0.0,0.0,590.0,8766.0,null,0.0,0.0,467.0,0.0,558.0,627.0,0.0,0.0,1855.0,0.0,3157.0,559.0,0.0,0.0,2333.0,0.0,0.0,3439.0,1347.0,0.0,630.0,10679.0,6229.0,0.0,0.0,0.0,0.0,0.0,5.0,0.0,1025.0,0.0,0.0,0.0,0.0,0.0,0.0,170.0,0.0,0.0,0.0,0.0,0.0,0.0,597.0,0.0,0.0,0.0,0.0,0.0,0.0,0.0,0.0,0.0,0.0,50.0,30.0,0.0,0.0,0.0,10.0,110.0,0.0,0.0,2804.0,0.0,0.0,10.0,null,1794.0,0.0,0.0,0.0,217.0,0.0,0.0,0.0,0.0,0.0,0.0,0.0,0.0,0.0,0.0,354.0,0.0,0.0,0.0,0.0,336.0,0.0,59.0,0.0,373.0,0.0,33.0,4.0,7.0,0.0,0.0,120.0,4.0,0.0,0.0,0.0,0.0,1.0,113.0,0.0,0.0,0.0,813.0,0.0,0.0,0.0,0.0,0.0,0.0,0.0,0.0,0.0,2052.0,325.0,0.0,0.0,0.0,null,790.0,733.0,0.0,0.0,753.0,0.0,2.0,0.0,0.0,3456.0,0.0,559.0,0.0,103.0,0.0,1.0,0.0,692.0,0.0,5151.0,695.0,0.0,0.0,0.0,0.0,335.0,0.0,0.0,0.0,0.0,0.0,0.0,0.0,0.0,0.0,0.0,0.0,0.0,398.0,432.0,0.0,2053.0,0.0,171.0,0.0,null,0.0,0.0,0.0,661.0,457.0,0.0,0.0,0.0,388.0,0.0,0.0,null,0.0,284.0,0.0,0.0,0.0,30.0,0.0,60.0,0.0,0.0,17432.0,0.0,3859.0,396.0,0.0,0.0,267.0,235.0,1.0,0.0,0.0,53.0,0.0,0.0,0.0,0.0,0.0,0.0,0.0,0.0,0.0,0.0,0.0,1652.0,397.0,0.0,0.0,0.0,0.0,2.0,0.0,0.0,0.0,0.0,0.0,0.0,0.0,8444.0,0.0,588.0,4.0,0.0,3846.0,787.0,5193.0,0.0,0.0,312.0,0.0,0.0,0.0,827.0,490.0,2.0,2576.0,0.0,3377.0,0.0,0.0,0.0,0.0,0.0,0.0,274.0,5.0,519.0,0.0,0.0,0.0,0.0,0.0,4.0,0.0,0.0,0.0,2196.0,0.0,280.0,0.0,0.0,0.0,828.0,0.0,null,257.0,0.0,552.0,0.0,0.0,117.0,0.0,0.0,407.0,0.0,21.0,677.0,960.0,0.0,null,0.0,0.0,4.0,0.0,0.0,75.0,0.0,0.0,null,0.0,0.0,26830.0,0.0,0.0,0.0,0.0,17.0,0.0,0.0,0.0,0.0,0.0,651.0,0.0,0.0,0.0,1.0,600.0,0.0,2.0,122.0,0.0,51.0,0.0,0.0,0.0,614.0,897.0,0.0,580.0,4.0,31.0,89.0,0.0,2050.0,314.0,253.0,257.0,0.0,6130.0,0.0,0.0,1565.0,0.0,4415.0,0.0,6.0,0.0,754.0,0.0,0.0,0.0,0.0,0.0,981.0,667.0,null,0.0,0.0,null,null,0.0,0.0,0.0,0.0,0.0,0.0,0.0,0.0,0.0,0.0,218.0,1556.0,0.0,0.0,0.0,3060.0,0.0,0.0,0.0,0.0,525.0,0.0,null,0.0,4387.0,0.0,0.0,0.0,0.0,0.0,0.0,0.0,0.0,0.0,0.0,0.0,0.0,1.0,0.0,0.0,28.0,93.0,2.0,0.0,881.0,0.0,690.0,0.0,42.0,0.0,0.0,0.0,0.0,47.0,null,1258.0,1249.0,1300.0,0.0,0.0,218.0,0.0,0.0,0.0,0.0,0.0,588.0,0.0,0.0,0.0,0.0,0.0,0.0,0.0,0.0,0.0,0.0,0.0,0.0,11153.0,0.0,0.0,0.0,12.0,80.0,0.0,0.0,0.0,0.0,0.0,1203.0,0.0,0.0,275.0,0.0,0.0,55.0,0.0,0.0,821.0,0.0,0.0,0.0,7164.0,0.0,0.0,270.0,0.0,0.0,0.0,0.0,2183.0,0.0,3.0,0.0,0.0,0.0,0.0,0.0,0.0,0.0,0.0,0.0,83.0,4826.0,1017.0,0.0,0.0,0.0,0.0,0.0,0.0,0.0,847.0,0.0,0.0,0.0,0.0,0.0,83.0,0.0,0.0,0.0,0.0,0.0,0.0,0.0,0.0,0.0,0.0,704.0,0.0,0.0,0.0,0.0,456.0,3238.0,542.0,0.0,0.0,0.0,0.0,0.0,1.0,377.0,1470.0,0.0,0.0,355.0,0.0,0.0,0.0,0.0,0.0,0.0,0.0,null,0.0,0.0,7167.0,0.0,0.0,61.0,0.0,0.0,0.0,0.0,0.0,0.0,0.0,0.0,0.0,null,0.0,0.0,0.0,0.0,0.0,1302.0,0.0,34.0,442.0,2.0,0.0,0.0,0.0,0.0,1477.0,1.0,30.0,0.0,1381.0,0.0,0.0,0.0,0.0,1276.0,0.0,0.0,0.0,0.0,132.0,0.0,6190.0,1549.0,2177.0,0.0,586.0,20.0,1080.0,0.0,840.0,0.0,0.0,43.0,0.0,0.0,0.0,831.0,0.0,0.0,2651.0,399.0,38.0,0.0,0.0,2524.0,0.0,0.0,0.0,0.0,0.0,0.0,0.0,0.0,null,1.0,0.0,0.0,0.0,0.0,0.0,0.0,15.0,0.0,0.0,0.0,476.0,0.0,null,0.0,0.0,1029.0,0.0,0.0,0.0,0.0,0.0,2.0,null,0.0,0.0,0.0,279.0,440.0,18.0,241.0,0.0,1562.0,0.0,0.0,0.0,0.0,0.0,0.0,0.0,0.0,170.0,0.0,1.0,89.0,0.0,0.0,0.0,663.0,0.0,0.0,326.0,0.0,0.0,588.0,0.0,1172.0,0.0,0.0,null,0.0,0.0,8747.0,9463.0,2020.0,124.0,3172.0,108.0,0.0,1725.0,0.0,84.0,0.0,1.0,0.0,0.0,2549.0,867.0,0.0,198.0,0.0,0.0,0.0,0.0,886.0,13.0,0.0,0.0,0.0,0.0,0.0,0.0,0.0,157.0,343.0,0.0,0.0,0.0,0.0,0.0,0.0,0.0,416.0,224.0,81.0,0.0,53.0,88.0,0.0,0.0,0.0,0.0,0.0,4983.0,144.0,0.0,0.0,1.0,0.0,0.0,21.0,628.0,0.0,10.0,2946.0,0.0,1546.0,0.0,1.0,0.0,9401.0,0.0,22.0,0.0,0.0,0.0,0.0,0.0,0.0,0.0,0.0,0.0,265.0,266.0,490.0,1525.0,0.0,0.0,492.0,0.0,1269.0,0.0,0.0,0.0,0.0,2558.0,0.0,252.0,2.0,717.0,3724.0,0.0,0.0,0.0,31.0,559.0,91.0,0.0,0.0,0.0,6777.0,0.0,0.0,0.0,841.0,668.0,779.0,0.0,0.0,0.0,0.0,0.0,521.0,137.0,3.0,0.0,22.0,0.0,0.0,0.0,0.0,0.0,0.0,0.0,0.0,187.0,0.0,0.0,0.0,3345.0,0.0,0.0,1418.0,0.0,563.0,0.0,0.0,0.0,545.0,14201.0,0.0,0.0,0.0,35.0,1125.0,2.0,0.0,0.0,0.0,0.0,0.0,0.0,3484.0,10025.0,1.0,0.0,0.0,272.0,2127.0,17687.0,1832.0,0.0,14.0,1947.0,0.0,247.0,0.0,0.0,0.0,0.0,1.0,2717.0,243.0,0.0,4384.0,7221.0,null,0.0,0.0,168.0,94.0,0.0,0.0,16455.0,0.0,0.0,0.0,0.0,0.0,0.0,0.0,0.0,0.0,0.0,153.0,0.0,3.0,0.0,0.0,0.0,0.0,0.0,0.0,935.0,0.0,2.0,0.0,0.0,0.0,817.0,0.0,0.0,0.0,281.0,0.0,0.0,6338.0,0.0,0.0,83.0,46.0,11417.0,90.0,2.0,0.0,0.0,0.0,0.0,0.0,0.0,282.0,0.0,0.0,4558.0,901.0,0.0,114.0,3603.0,0.0,6103.0,4017.0,0.0,0.0,0.0,0.0,7194.0,0.0,3627.0,0.0,0.0,2560.0,10.0,0.0,0.0,0.0,77.0,0.0,0.0,0.0,0.0,76.0,1883.0,2461.0,18.0,0.0,39.0,0.0,266.0,0.0,31.0,0.0,0.0,0.0,0.0,239.0,0.0,0.0,0.0,0.0,0.0,0.0,0.0,0.0,0.0,0.0,0.0,0.0,0.0,0.0,3.0,337.0,1013.0,0.0,65.0,0.0,3080.0,0.0,0.0,0.0,0.0,0.0,0.0,893.0,2.0,0.0,0.0,0.0,0.0,864.0,76.0,0.0,0.0,584.0,0.0,0.0,0.0,0.0,0.0,0.0,0.0,51.0,0.0,0.0,1740.0,0.0,0.0,1.0,1.0,32.0,116.0,132.0,0.0,0.0,0.0,0.0,41.0,93.0,0.0,591.0,121.0,0.0,0.0,0.0,0.0,0.0,0.0,0.0,25.0,1.0,180.0,103.0,102.0,27.0,656.0,559.0,205.0,57.0,496.0,0.0,0.0,43.0,497.0,20.0,0.0,0.0,2235.0,0.0,0.0,0.0,45.0,493.0,65.0,876.0,0.0,0.0,4592.0,2337.0,154.0,0.0,4020.0,0.0,0.0,0.0,0.0,0.0,797.0,2424.0,6670.0,2802.0,4516.0,0.0,0.0,0.0,0.0,3593.0,5234.0,1327.0,0.0,36.0,3291.0,138.0,20.0,477.0,0.0,0.0,166.0,0.0,0.0,81.0,0.0,79.0,0.0,null,0.0,2520.0,0.0,3275.0,0.0,0.0,453.0,0.0,7484.0,18.0,0.0,0.0,0.0,431.0,364.0,551.0,297.0,0.0,0.0,0.0,1633.0,84.0,63.0,412.0,724.0,1385.0,9633.0,0.0,16.0,0.0,226.0,323.0,7039.0,89.0,370.0,0.0,0.0,0.0,1125.0,0.0,0.0,823.0,93.0,0.0,2325.0,0.0,0.0,0.0,0.0,0.0,0.0,985.0,0.0,3856.0,0.0,0.0,0.0,0.0,0.0,0.0,776.0,0.0,0.0,0.0,0.0,null,2.0,0.0,4066.0,203.0,4579.0,0.0,0.0,0.0,4.0,0.0,172.0,3119.0,0.0,1487.0,7.0,920.0,0.0,630.0,0.0,0.0,0.0,0.0,0.0,44.0,0.0,0.0,25.0,0.0,15.0,0.0,0.0,0.0,0.0,0.0,0.0,null,681.0,0.0,262.0,7.0,0.0,1910.0,3452.0,3.0,0.0,21.0,0.0,0.0,1338.0,null,0.0,0.0,0.0,807.0,0.0,3.0,0.0,0.0,0.0,4504.0,48.0,0.0,8.0,142.0,395.0,1382.0,0.0,null,245.0,0.0,0.0,0.0,0.0,0.0,3.0,0.0,0.0,669.0,0.0,509.0,0.0,0.0,779.0,0.0,0.0,0.0,0.0,1.0,0.0,1261.0,0.0,0.0,0.0,11552.0,225.0,0.0,342.0,9495.0,0.0,0.0,0.0,0.0,0.0,2853.0,1339.0,0.0,1480.0,1131.0,104.0,706.0,0.0,0.0,0.0,0.0,0.0,null,0.0,18.0,594.0,0.0,0.0,1.0,631.0,4.0,7762.0,0.0,9.0,0.0,196.0,0.0,0.0,0.0,0.0,0.0,0.0,0.0,44.0,292.0,0.0,0.0,440.0,null,null,198.0,13.0,0.0,0.0,1855.0,2148.0,0.0,0.0,3.0,0.0,0.0,0.0,0.0,114.0,463.0,212.0,8.0,null,871.0,667.0,0.0,0.0,775.0,0.0,611.0,1135.0,0.0,0.0,8.0,0.0,0.0,0.0,3.0,0.0,2031.0,0.0,0.0,0.0,0.0,254.0,0.0,8.0,0.0,0.0,0.0,0.0,null,0.0,0.0,932.0,0.0,1.0,0.0,690.0,0.0,837.0,25.0,0.0,0.0,0.0,139.0,1330.0,0.0,84.0,0.0,0.0,0.0,0.0,10029.0,0.0,0.0,0.0,0.0,0.0,0.0,76.0,0.0,0.0,0.0,0.0,0.0,0.0,3571.0,0.0,0.0,0.0,0.0,0.0,0.0,20.0,444.0,0.0,2077.0,0.0,0.0,0.0,0.0,0.0,2171.0,3448.0,1750.0,0.0,0.0,0.0,0.0,0.0,1018.0,0.0,235.0,0.0,0.0,0.0,79.0,9.0,1719.0,0.0,0.0,10.0,0.0,0.0,0.0,0.0,4.0,125.0,358.0,0.0,0.0,0.0,0.0,769.0,0.0,0.0,0.0,162.0,1.0,0.0,null,34.0,282.0,0.0,0.0,0.0,0.0,0.0,0.0,0.0,31.0,0.0,0.0,219.0,49.0,0.0,0.0,172.0,0.0,0.0,0.0,0.0,493.0,31.0,0.0,0.0,0.0,19.0,4619.0,0.0,50.0,737.0,18.0,0.0,52.0,0.0,0.0,1.0,null,0.0,0.0,0.0,21.0,199.0,1.0,381.0,0.0,0.0,111.0,0.0,0.0,1451.0,0.0,0.0,31.0,0.0,0.0,0.0,0.0,867.0,418.0,0.0,8246.0,0.0,794.0,82.0,null,1080.0,1808.0,0.0,0.0,175.0,0.0,0.0,0.0,0.0,0.0,0.0,0.0,0.0,2052.0,15.0,3.0,0.0,2030.0,3750.0,0.0,0.0,0.0,0.0,0.0,0.0,59.0,179.0,0.0,0.0,181.0,0.0,0.0,712.0,0.0,0.0,0.0,1.0,3.0,394.0,419.0,0.0,0.0,0.0,0.0,0.0,0.0,0.0,0.0,464.0,109.0,0.0,0.0,679.0,0.0,0.0,1.0,0.0,null,477.0,0.0,0.0,0.0,0.0,910.0,0.0,1.0,116.0,0.0,0.0,3815.0,0.0,0.0,3.0,0.0,0.0,0.0,0.0,751.0,63.0,0.0,0.0,553.0,0.0,0.0,4198.0,12.0,1.0,null,0.0,0.0,0.0,0.0,0.0,281.0,0.0,17.0,306.0,7.0,0.0,0.0,5.0,0.0,207.0,0.0,0.0,0.0,0.0,0.0,0.0,0.0,0.0,651.0,0.0,160.0,0.0,0.0,0.0,0.0,914.0,0.0,0.0,0.0,0.0,4.0,0.0,725.0,96.0,0.0,153.0,0.0,0.0,0.0,0.0,0.0,2.0,339.0,0.0,0.0,641.0,null,43.0,938.0,0.0,0.0,0.0,0.0,0.0,0.0,0.0,528.0,0.0,0.0,0.0,0.0,0.0,0.0,0.0,0.0,0.0,0.0,0.0,0.0,0.0,0.0,0.0,0.0,0.0,0.0,0.0,0.0,13.0,2324.0,0.0,0.0,0.0,0.0,1309.0,64.0,0.0,0.0,0.0,0.0,0.0,0.0,1001.0,1065.0,0.0,0.0,0.0,0.0,400.0,290.0,196.0,56.0,1.0,3.0,0.0,0.0,34.0,10.0,2868.0,0.0,0.0,null,0.0,6.0,0.0,196.0,0.0,null,716.0,2.0,7.0,4313.0,0.0,0.0,0.0,0.0,0.0,0.0,0.0,0.0,0.0,0.0,0.0,0.0,0.0,2891.0,0.0,0.0,0.0,491.0,3625.0,0.0,0.0,0.0,1301.0,0.0,0.0,5.0,0.0,0.0,0.0,1.0,0.0,0.0,674.0,0.0,0.0,0.0,0.0,439.0,0.0,0.0,0.0,0.0,3770.0,0.0,866.0,80.0,0.0,9365.0,0.0,0.0,686.0,0.0,32.0,45.0,0.0,null,0.0,0.0,53.0,0.0,0.0,3195.0,8221.0,0.0,0.0,61.0,0.0,0.0,95.0,0.0,0.0,0.0,5210.0,4894.0,0.0,6.0,0.0,0.0,0.0,0.0,0.0,110.0,6.0,0.0,0.0,378.0,0.0,0.0,0.0,0.0,0.0,38.0,46.0,0.0,0.0,130.0,3960.0,806.0,595.0,0.0,0.0,824.0,0.0,0.0,747.0,null,0.0,0.0,0.0,0.0,829.0,0.0,0.0,0.0,0.0,65.0,700.0,0.0,0.0,0.0,0.0,0.0,0.0,0.0,0.0,0.0,18.0,0.0,0.0,59.0,0.0,0.0,99.0,53.0,0.0,0.0,0.0,0.0,697.0,0.0,9.0,1497.0,0.0,1.0,0.0,347.0,126.0,0.0,1.0,11.0,0.0,0.0,1473.0,0.0,4618.0,4524.0,21.0,0.0,0.0,0.0,null,0.0,0.0,0.0,0.0,150.0,0.0,0.0,9307.0,0.0,0.0,9.0,0.0,0.0,22.0,6634.0,0.0,0.0,0.0,76.0,0.0,551.0,0.0,0.0,0.0,0.0,0.0,0.0,104.0,1307.0,0.0,0.0,358.0,0.0,0.0,0.0,null,225.0,8162.0,0.0,0.0,6.0,0.0,0.0,0.0,4.0,0.0,0.0,0.0,585.0,0.0,0.0,0.0,0.0,1.0,0.0,0.0,0.0,288.0,132.0,20.0,0.0,0.0,0.0,222.0,0.0,0.0,0.0,0.0,0.0,0.0,1583.0,360.0,0.0,0.0,0.0,0.0,0.0,0.0,5203.0,745.0,0.0,0.0,0.0,10.0,0.0,1.0,0.0,0.0,0.0,0.0,175.0,890.0,494.0,0.0,3023.0,3991.0,0.0,0.0,406.0,0.0,0.0,237.0,0.0,0.0,0.0,0.0,0.0,335.0,3514.0,5.0,0.0,0.0,2.0,786.0,9.0,0.0,823.0,1.0,722.0,0.0,686.0,0.0,0.0,0.0,1668.0,0.0,0.0,3268.0,1256.0,0.0,1219.0,757.0,5.0,0.0,7996.0,0.0,3477.0,874.0,0.0,0.0,240.0,785.0,0.0,0.0,0.0,0.0,0.0,9.0,0.0,0.0,0.0,0.0,0.0,null,0.0,8.0,9.0,0.0,0.0,0.0,0.0,0.0,0.0,0.0,117.0,0.0,null,1425.0,null,918.0,103.0,22.0,0.0,0.0,0.0,39.0,0.0,53.0,0.0,0.0,0.0,1513.0,496.0,1706.0,545.0,11594.0,0.0,0.0,0.0,0.0,0.0,0.0,0.0,0.0,1198.0,0.0,0.0,0.0,123.0,1627.0,177.0,0.0,0.0,0.0,0.0,0.0,0.0,0.0,0.0,0.0,0.0,0.0,0.0,458.0,0.0,0.0,4372.0,166.0,0.0,0.0,29.0,0.0,0.0,0.0,0.0,0.0,173.0,664.0,0.0,0.0,0.0,0.0,1975.0,0.0,0.0,0.0,0.0,0.0,0.0,217.0,0.0,1.0,0.0,1745.0,0.0,0.0,null,11856.0,7636.0,0.0,0.0,16.0,764.0,29.0,37.0,null,47.0,436.0,625.0,20.0,0.0,0.0,0.0,0.0,0.0,0.0,0.0,6.0,0.0,0.0,0.0,0.0,0.0,0.0,0.0,1871.0,0.0,0.0,0.0,0.0,0.0,868.0,858.0,0.0,128.0,25.0,0.0,706.0,6408.0,0.0,0.0,0.0,1197.0,0.0,3.0,0.0,1068.0,7.0,3338.0,0.0,1202.0,95.0,0.0,0.0,0.0,219.0,0.0,0.0,0.0,3.0,0.0,511.0,98.0,0.0,1489.0,4058.0,3953.0,0.0,0.0,0.0,0.0,0.0,0.0,0.0,0.0,0.0,0.0,888.0,0.0,0.0,0.0,0.0,0.0,5.0,0.0,406.0,496.0,0.0,0.0,0.0,8808.0,0.0,68.0,0.0,21.0,0.0,11.0,0.0,0.0,15.0,0.0,0.0,0.0,0.0,0.0,30.0,0.0,0.0,761.0,0.0,0.0,75.0,623.0,0.0,0.0,0.0,2.0,0.0,456.0,0.0,0.0,0.0,1774.0,0.0,566.0,0.0,53.0,0.0,1369.0,0.0,0.0,131.0,0.0,0.0,0.0,0.0,0.0,0.0,10.0,532.0,0.0,2395.0,0.0,0.0,914.0,0.0,0.0,49.0,0.0,2.0,574.0,0.0,0.0,0.0,0.0,0.0,0.0,0.0,0.0,null,0.0,0.0,40.0,0.0,0.0,687.0,0.0,0.0,392.0,716.0,0.0,0.0,0.0,6.0,0.0,3.0,2427.0,94.0,0.0,0.0,0.0,0.0,55.0,1644.0,2002.0,0.0,2421.0,109.0,0.0,1264.0,0.0,3857.0,1706.0,25.0,0.0,1014.0,0.0,0.0,485.0,1725.0,0.0,0.0,0.0,914.0,0.0,0.0,0.0,2.0,5.0,0.0,425.0,0.0,5.0,0.0,0.0,0.0,0.0,0.0,0.0,0.0,0.0,0.0,3862.0,2809.0,0.0,4780.0,1211.0,0.0,1184.0,40.0,0.0,784.0,0.0,0.0,0.0,698.0,0.0,0.0,0.0,11.0,4.0,0.0,0.0,0.0,0.0,9.0,0.0,3259.0,null,0.0,0.0,0.0,0.0,0.0,0.0,0.0,0.0,0.0,5.0,0.0,0.0,0.0,9641.0,0.0,0.0,132.0,0.0,0.0,104.0,0.0,0.0,0.0,247.0,0.0,3863.0,0.0,0.0,73.0,0.0,0.0,396.0,0.0,4451.0,0.0,0.0,0.0,0.0,839.0,0.0,0.0,0.0,0.0,968.0,0.0,0.0,0.0,null,420.0,64.0,1828.0,1801.0,792.0,0.0,3638.0,6921.0,30.0,0.0,0.0,147.0,0.0,0.0,0.0,null,645.0,0.0,4.0,0.0,0.0,0.0,0.0,0.0,0.0,0.0,0.0,1289.0,677.0,1857.0,0.0,0.0,0.0,4.0,0.0,0.0,292.0,21.0,0.0,0.0,0.0,0.0,0.0,1849.0,0.0,0.0,5.0,0.0,0.0,0.0,0.0,13437.0,785.0,357.0,8.0,0.0,0.0,723.0,0.0,42.0,417.0,0.0,0.0,2.0,null,225.0,0.0,0.0,4176.0,0.0,0.0,0.0,29.0,0.0,0.0,0.0,0.0,0.0,0.0,0.0,1.0,11.0,610.0,0.0,0.0,0.0,0.0,0.0,1012.0,0.0,0.0,28.0,9.0,null,0.0,null,0.0,0.0,0.0,2110.0,0.0,0.0,0.0,1126.0,0.0,0.0,1180.0,4585.0,1056.0,0.0,0.0,0.0,0.0,1436.0,0.0,0.0,3095.0,0.0,0.0,0.0,0.0,0.0,0.0,0.0,0.0,0.0,0.0,699.0,0.0,0.0,1073.0,0.0,0.0,0.0,20.0,0.0,791.0,10.0,0.0,0.0,0.0,103.0,784.0,null,53.0,0.0,0.0,1.0,86.0,0.0,0.0,32.0,0.0,0.0,0.0,0.0,10.0,2.0,0.0,0.0,0.0,479.0,0.0,0.0,0.0,0.0,0.0,0.0,0.0,null,0.0,2624.0,null,0.0,783.0,0.0,0.0,0.0,0.0,0.0,126.0,0.0,0.0,1027.0,4654.0,9.0,4929.0,1174.0,0.0,176.0,0.0,0.0,0.0,0.0,0.0,0.0,809.0,90.0,1.0,779.0,0.0,0.0,168.0,0.0,46.0,0.0,0.0,0.0,0.0,709.0,0.0,0.0,0.0,0.0,0.0,0.0,0.0,0.0,0.0,0.0,0.0,0.0,0.0,1.0,0.0,0.0,298.0,0.0,293.0,0.0,0.0,0.0,0.0,3.0,0.0,1674.0,2.0,null,2680.0,0.0,0.0,254.0,0.0,0.0,0.0,0.0,0.0,0.0,3103.0,0.0,0.0,0.0,296.0,3.0,0.0,5329.0,0.0,9.0,0.0,1049.0,0.0,1409.0,8943.0,0.0,null,175.0,0.0,0.0,0.0,0.0,0.0,0.0,2225.0,0.0,564.0,152.0,0.0,0.0,0.0,0.0,0.0,190.0,878.0,null,316.0,0.0,0.0,0.0,85.0,0.0,1234.0,0.0,68.0,4089.0,4742.0,509.0,0.0,0.0,0.0,541.0,20.0,0.0,0.0,0.0,32.0,0.0,0.0,0.0,0.0,0.0,0.0,0.0,0.0,242.0,0.0,0.0,0.0,0.0,584.0,11441.0,0.0,0.0,0.0,0.0,0.0,0.0,0.0,13342.0,0.0,973.0,0.0,2108.0,641.0,0.0,0.0,0.0,0.0,0.0,509.0,0.0,0.0,0.0,0.0,null,0.0,null,38.0,0.0,0.0,131.0,8.0,169.0,0.0,10.0,3729.0,2199.0,3200.0,0.0,5.0,0.0,0.0,0.0,959.0,0.0,511.0,336.0,0.0,0.0,0.0,0.0,0.0,0.0,0.0,243.0,3.0,0.0,106.0,1677.0,618.0,0.0,0.0,0.0,0.0,0.0,20.0,0.0,0.0,0.0,0.0,0.0,0.0,0.0,40.0,0.0,652.0,0.0,1420.0,480.0,0.0,52.0,0.0,0.0,0.0,577.0,0.0,0.0,0.0,0.0,0.0,0.0,0.0,0.0,56.0,0.0,0.0,222.0,0.0,0.0,0.0,1.0,0.0,0.0,0.0,0.0,0.0,0.0,0.0,0.0,10.0,0.0,0.0,0.0,0.0,0.0,0.0,0.0,0.0,0.0,0.0,596.0,0.0,null,854.0,0.0,0.0,7.0,0.0,3818.0,3.0,728.0,0.0,0.0,602.0,0.0,1.0,2.0,0.0,0.0,0.0,0.0,0.0,614.0,0.0,0.0,0.0,0.0,0.0,44.0,311.0,0.0,14.0,0.0,239.0,0.0,0.0,213.0,0.0,0.0,1663.0,0.0,0.0,889.0,6924.0,1972.0,0.0,0.0,5.0,0.0,31.0,0.0,1.0,0.0,0.0,6.0,6.0,0.0,0.0,0.0,0.0,3527.0,0.0,22.0,6244.0,0.0,4.0,0.0,0.0,20.0,0.0,0.0,0.0,0.0,0.0,76.0,0.0,0.0,819.0,671.0,717.0,4616.0,1362.0,0.0,0.0,1035.0,0.0,0.0,564.0,0.0,0.0,0.0,201.0,0.0,0.0,4900.0,0.0,0.0,0.0,123.0,1.0,0.0,0.0,null,null,null,0.0,4.0,896.0,335.0,0.0,0.0,605.0,1538.0,100.0,2606.0,0.0,1809.0,125.0,0.0,0.0,13561.0,600.0,0.0,67.0,666.0,0.0,780.0,0.0,null,0.0,267.0,0.0,0.0,0.0,0.0,0.0,0.0,0.0,90.0,0.0,0.0,1.0,4514.0,115.0,0.0,0.0,0.0,0.0,0.0,0.0,854.0,0.0,0.0,1044.0,1891.0,0.0,0.0,0.0,1339.0,313.0,0.0,0.0,0.0,0.0,0.0,0.0,6.0,0.0,0.0,3.0,0.0,0.0,69.0,0.0,0.0,0.0,0.0,0.0,0.0,0.0,0.0,0.0,0.0,25.0,0.0,0.0,0.0,1337.0,0.0,2504.0,0.0,0.0,65.0,0.0,35.0,0.0,0.0,0.0,0.0,0.0,71.0,0.0,0.0,841.0,0.0,0.0,0.0,4.0,24.0,0.0,0.0,361.0,833.0,0.0,218.0,null,370.0,202.0,0.0,0.0,0.0,1.0,321.0,0.0,0.0,0.0,0.0,0.0,0.0,0.0,526.0,0.0,0.0,0.0,0.0,280.0,0.0,238.0,0.0,0.0,0.0,0.0,0.0,0.0,33.0,0.0,0.0,0.0,390.0,74.0,316.0,371.0,0.0,15.0,6.0,2.0,2699.0,0.0,0.0,0.0,0.0,714.0,1190.0,0.0,2.0,0.0,16.0,0.0,null,756.0,0.0,0.0,0.0,0.0,0.0,29.0,0.0,13.0,95.0,0.0,0.0,0.0,0.0,4209.0,0.0,0.0,0.0,0.0,600.0,0.0,0.0,0.0,704.0,97.0,60.0,0.0,0.0,0.0,0.0,0.0,0.0,0.0,0.0,0.0,0.0,0.0,758.0,7920.0,0.0,0.0,0.0,0.0,30.0,0.0,0.0,366.0,173.0,0.0,0.0,4.0,0.0,0.0,0.0,38.0,736.0,0.0,0.0,0.0,0.0,0.0,0.0,0.0,7293.0,516.0,996.0,583.0,null,0.0,11.0,0.0,0.0,0.0,19.0,6.0,0.0,0.0,0.0,0.0,0.0,0.0,54.0,2667.0,0.0,1208.0,532.0,0.0,0.0,0.0,69.0,1.0,0.0,0.0,0.0,0.0,449.0,0.0,0.0,0.0,0.0,0.0,0.0,0.0,0.0,0.0,null,0.0,0.0,0.0,138.0,0.0,46.0,752.0,1604.0,4.0,0.0,0.0,0.0,60.0,0.0,0.0,0.0,0.0,0.0,10.0,0.0,0.0,2878.0,0.0,17958.0,7570.0,18.0,0.0,1.0,1049.0,0.0,0.0,0.0,0.0,0.0,0.0,0.0,326.0,0.0,0.0,669.0,0.0,0.0,0.0,0.0,4612.0,0.0,0.0,0.0,3786.0,0.0,0.0,0.0,974.0,0.0,1428.0,741.0,0.0,3.0,4389.0,13.0,0.0,0.0,960.0,0.0,0.0,120.0,0.0,0.0,0.0,0.0,0.0,10.0,1914.0,0.0,6101.0,14076.0,0.0,89.0,0.0,0.0,17.0,0.0,0.0,0.0,0.0,776.0,0.0,0.0,0.0,0.0,0.0,0.0,0.0,0.0,0.0,0.0,0.0,0.0,0.0,1757.0,12.0,0.0,0.0,2898.0,0.0,0.0,47.0,2080.0,0.0,0.0,57.0,71.0,0.0,9965.0,114.0,null,1.0,230.0,0.0,0.0,0.0,0.0,4173.0,160.0,0.0,15.0,null,0.0,806.0,893.0,6.0,0.0,0.0,0.0,0.0,0.0,0.0,243.0,0.0,1307.0,4340.0,22.0,692.0,0.0,0.0,0.0,0.0,0.0,275.0,58.0,442.0,0.0,0.0,0.0,0.0,0.0,0.0,1.0,17.0,0.0,2897.0,996.0,7.0,195.0,6.0,0.0,0.0,3512.0,0.0,0.0,0.0,0.0,0.0,750.0,0.0,0.0,5552.0,664.0,0.0,1678.0,266.0,0.0,null,0.0,0.0,0.0,176.0,0.0,0.0,0.0,0.0,null,0.0,0.0,0.0,0.0,0.0,0.0,9.0,0.0,999.0,0.0,0.0,4.0,2093.0,878.0,0.0,0.0,null,1666.0,13.0,0.0,125.0,0.0,0.0,2.0,2.0,0.0,0.0,null,0.0,0.0,722.0,0.0,47.0,0.0,0.0,158.0,1.0,0.0,0.0,0.0,0.0,742.0,2487.0,610.0,0.0,397.0,0.0,2478.0,0.0,0.0,14.0,0.0,44.0,3124.0,1863.0,16.0,0.0,null,22.0,4387.0,6.0,0.0,7683.0,3.0,0.0,0.0,1.0,489.0,0.0,0.0,1381.0,479.0,0.0,0.0,0.0,0.0,4155.0,0.0,4462.0,4322.0,2612.0,0.0,0.0,0.0,134.0,10.0,0.0,0.0,0.0,0.0,0.0,287.0,0.0,0.0,0.0,0.0,0.0,0.0,0.0,0.0,0.0,0.0,0.0,0.0,0.0,3624.0,21.0,0.0,0.0,3676.0,11.0,0.0,0.0,0.0,0.0,0.0,6050.0,3590.0,12.0,2251.0,338.0,0.0,283.0,688.0,0.0,1369.0,0.0,0.0,0.0,2896.0,0.0,0.0,0.0,0.0,0.0,0.0,129.0,1942.0,0.0,3434.0,38.0,194.0,0.0,1319.0,0.0,0.0,479.0,0.0,0.0,0.0,0.0,0.0,0.0,0.0,0.0,0.0,2921.0,0.0,163.0,316.0,0.0,1379.0,0.0,0.0,1.0,0.0,980.0,0.0,34.0,1606.0,0.0,0.0,0.0,0.0,0.0,0.0,0.0,1.0,0.0,716.0,0.0,896.0,0.0,606.0,0.0,1.0,1390.0,194.0,0.0,0.0,0.0,0.0,0.0,0.0,201.0,0.0,582.0,642.0,0.0,188.0,0.0,0.0,0.0,647.0,0.0,1314.0,0.0,0.0,0.0,1186.0,3585.0,0.0,0.0,0.0,0.0,0.0,0.0,0.0,33.0,0.0,0.0,0.0,102.0,5.0,0.0,949.0,398.0,0.0,0.0,null,0.0,0.0,2886.0,0.0,0.0,22.0,63.0,0.0,0.0,0.0,0.0,0.0,115.0,0.0,2107.0,307.0,0.0,185.0,0.0,0.0,0.0,435.0,null,0.0,3435.0,0.0,1386.0,0.0,0.0,0.0,434.0,0.0,0.0,0.0,802.0,0.0,0.0,0.0,70.0,0.0,147.0,null,0.0,0.0,0.0,0.0,3508.0,0.0,0.0,0.0,0.0,0.0,653.0,0.0,0.0,5974.0,486.0,3392.0,0.0,0.0,271.0,0.0,0.0,1417.0,0.0,79.0,1089.0,78.0,null,804.0,0.0,10049.0,0.0,875.0,61.0,0.0,0.0,0.0,0.0,132.0,0.0,3.0,2954.0,0.0,0.0,0.0,0.0,0.0,0.0,279.0,0.0,0.0,0.0,0.0,672.0,0.0,0.0,321.0,0.0,0.0,3387.0,0.0,0.0,1616.0,0.0,0.0,0.0,397.0,0.0,0.0,0.0,0.0,0.0,0.0,0.0,0.0,5711.0,0.0,0.0,0.0,1435.0,2285.0,184.0,282.0,0.0,0.0,0.0,0.0,794.0,36.0,2383.0,0.0,0.0,0.0,132.0,7.0,0.0,5974.0,0.0,11396.0,2.0,0.0,0.0,0.0,0.0,789.0,0.0,0.0,564.0,4.0,0.0,598.0,779.0,0.0,0.0,0.0,3.0,0.0,700.0,257.0,0.0,0.0,0.0,0.0,0.0,1377.0,0.0,732.0,0.0,0.0,0.0,0.0,0.0,2.0,0.0,2864.0,2669.0,53.0,0.0,0.0,0.0,19.0,0.0,652.0,24.0,0.0,0.0,182.0,0.0,7272.0,0.0,772.0,0.0,0.0,0.0,0.0,0.0,0.0,0.0,0.0,2237.0,530.0,130.0,0.0,7.0,0.0,355.0,0.0,0.0,1000.0,0.0,18.0,2674.0,0.0,1130.0,0.0,714.0,0.0,0.0,7.0,0.0,0.0,0.0,204.0,552.0,0.0,0.0,136.0,0.0,0.0,21.0,0.0,0.0,725.0,21.0,0.0,0.0,0.0,0.0,0.0,0.0,16.0,5036.0,0.0,3.0,172.0,1125.0,0.0,0.0,0.0,0.0,0.0,0.0,33.0,1489.0,0.0,0.0,16016.0,26.0,4224.0,7.0,0.0,0.0,0.0,0.0,12.0,0.0,0.0,0.0,0.0,0.0,0.0,0.0,0.0,636.0,0.0,7.0,0.0,0.0,0.0,null,0.0,6.0,0.0,817.0,5450.0,0.0,0.0,96.0,0.0,0.0,48.0,2979.0,0.0,0.0,0.0,0.0,0.0,0.0,0.0,0.0,140.0,0.0,0.0,0.0,null,4.0,103.0,0.0,null,1769.0,82.0,4298.0,0.0,28.0,5.0,0.0,0.0,0.0,0.0,0.0,0.0,319.0,0.0,9.0,0.0,0.0,0.0,0.0,48.0,0.0,769.0,0.0,0.0,243.0,4534.0,0.0,0.0,31.0,1451.0,395.0,0.0,56.0,0.0,0.0,0.0,2670.0,0.0,0.0,8948.0,494.0,0.0,0.0,0.0,0.0,0.0,268.0,499.0,124.0,0.0,null,0.0,16.0,489.0,412.0,0.0,33.0,0.0,53.0,73.0,180.0,0.0,0.0,0.0,0.0,1541.0,0.0,0.0,368.0,0.0,0.0,0.0,261.0,0.0,303.0,0.0,2337.0,634.0,0.0,0.0,0.0,688.0,79.0,0.0,0.0,0.0,0.0,55.0,605.0,925.0,0.0,0.0,3.0,76.0,0.0,0.0,0.0,0.0,null,0.0,0.0,36.0,3424.0,3299.0,967.0,0.0,0.0,0.0,0.0,0.0,25.0,0.0,0.0,0.0,0.0,9.0,0.0,0.0,63.0,0.0,0.0,6.0,773.0,0.0,0.0,0.0,0.0,11.0,60.0,0.0,0.0,516.0,443.0,0.0,0.0,0.0,16856.0,0.0,0.0,0.0,0.0,0.0,124.0,0.0,0.0,0.0,156.0,721.0,0.0,1738.0,0.0,478.0,null,0.0,0.0,0.0,2.0,0.0,11.0,0.0,0.0,268.0,0.0,0.0,0.0,1.0,0.0,68.0,9.0,0.0,0.0,0.0,0.0,0.0,0.0,0.0,0.0,700.0,0.0,0.0,8.0,87.0,0.0,1283.0,0.0,0.0,637.0,0.0,0.0,80.0,0.0,0.0,0.0,0.0,0.0,79.0,57.0,0.0,910.0,0.0,0.0,0.0,0.0,0.0,9532.0,0.0,593.0,0.0,116.0,0.0,6504.0,804.0,0.0,0.0,0.0,1.0,14.0,1620.0,0.0,0.0,0.0,0.0,0.0,0.0,0.0,0.0,0.0,7.0,360.0,0.0,0.0,3492.0,0.0,246.0,0.0,2318.0,36.0,0.0,174.0,0.0,0.0,0.0,0.0,0.0,0.0,0.0,0.0,0.0,45.0,0.0,0.0,0.0,0.0,0.0,0.0,0.0,0.0,334.0,0.0,0.0,0.0,0.0,0.0,15.0,0.0,0.0,1145.0,0.0,0.0,2593.0,0.0,0.0,0.0,0.0,0.0,244.0,0.0,10.0,0.0,0.0,79.0,0.0,4545.0,0.0,0.0,0.0,0.0,0.0,225.0,0.0,0.0,0.0,0.0,0.0,0.0,2.0,0.0,350.0,0.0,476.0,0.0,0.0,0.0,17901.0,1408.0,392.0,0.0,0.0,21.0,34.0,0.0,0.0,0.0,0.0,1.0,0.0,0.0,793.0,9012.0,0.0,0.0,2.0,38.0,259.0,0.0,25.0,0.0,0.0,0.0,0.0,0.0,52.0,0.0,0.0,0.0,5500.0,0.0,2060.0,0.0,122.0,0.0,0.0,15450.0,0.0,0.0,134.0,745.0,3.0,0.0,3518.0,0.0,0.0,0.0,7.0,4655.0,null,3216.0,7316.0,0.0,269.0,2311.0,null,11598.0,0.0,0.0,0.0,0.0,43.0,605.0,4.0,0.0,0.0,0.0,0.0,809.0,0.0,0.0,0.0,1119.0,279.0,4260.0,0.0,226.0,218.0,13.0,0.0,903.0,0.0,0.0,0.0,925.0,13.0,1620.0,0.0,0.0,0.0,0.0,0.0,0.0,0.0,5998.0,297.0,0.0,780.0,0.0,0.0,17.0,0.0,3680.0,3317.0,0.0,142.0,0.0,5.0,0.0,508.0,0.0,0.0,0.0,0.0,0.0,0.0,29.0,0.0,0.0,0.0,0.0,0.0,0.0,0.0,0.0,28.0,314.0,918.0,11.0,0.0,723.0,889.0,0.0,0.0,0.0,858.0,0.0,0.0,0.0,3771.0,0.0,8252.0,null,0.0,220.0,0.0,0.0,0.0,0.0,747.0,0.0,0.0,2.0,0.0,0.0,0.0,0.0,null,0.0,0.0,3603.0,8151.0,0.0,395.0,0.0,1003.0,157.0,0.0,0.0,0.0,510.0,0.0,0.0,0.0,2.0,0.0,0.0,4.0,0.0,0.0,5157.0,0.0,109.0,1255.0,0.0,0.0,0.0,0.0,0.0,1186.0,0.0,819.0,0.0,666.0,0.0,0.0,21.0,0.0,16.0,0.0,0.0,2.0,44.0,0.0,2984.0,0.0,0.0,0.0,null,0.0,0.0,0.0,1.0,0.0,0.0,4.0,0.0,0.0,0.0,0.0,0.0,0.0,0.0,0.0,0.0,3.0,1144.0,2633.0,0.0,0.0,null,0.0,0.0,0.0,0.0,0.0,4334.0,0.0,1.0,0.0,0.0,0.0,0.0,0.0,0.0,0.0,0.0,0.0,0.0,0.0,null,5063.0,0.0,0.0,0.0,0.0,0.0,0.0,1337.0,0.0,0.0,0.0,640.0,2949.0,177.0,4.0,83.0,0.0,0.0,0.0,0.0,0.0,0.0,0.0,49.0,0.0,465.0,0.0,0.0,0.0,0.0,0.0,0.0,0.0,0.0,0.0,0.0,0.0,0.0,0.0,261.0,3716.0,0.0,null,0.0,2215.0,169.0,0.0,434.0,0.0,0.0,23.0,null,0.0,0.0,0.0,0.0,null,680.0,1673.0,690.0,0.0,0.0,0.0,0.0,0.0,0.0,0.0,64.0,0.0,22.0,0.0,2.0,0.0,0.0,0.0,14.0,0.0,0.0,0.0,0.0,7269.0,0.0,0.0,0.0,0.0,0.0,839.0,0.0,0.0,1283.0,0.0,0.0,669.0,146.0,1365.0,13.0,104.0,0.0,0.0,0.0,0.0,0.0,0.0,0.0,179.0,1290.0,0.0,302.0,3137.0,171.0,0.0,0.0,0.0,168.0,0.0,4.0,30.0,0.0,0.0,0.0,0.0,0.0,4680.0,0.0,608.0,0.0,0.0,0.0,158.0,1570.0,0.0,0.0,2154.0,3070.0,0.0,0.0,831.0,0.0,0.0,1055.0,0.0,0.0,0.0,4301.0,0.0,0.0,0.0,2423.0,5610.0,0.0,21.0,640.0,0.0,0.0,0.0,5.0,0.0,0.0,0.0,280.0,1828.0,0.0,53.0,2808.0,4887.0,0.0,1.0,0.0,0.0,847.0,0.0,0.0,0.0,0.0,null,0.0,0.0,62.0,0.0,0.0,4754.0,322.0,1787.0,917.0,529.0,0.0,0.0,0.0,0.0,0.0,0.0,0.0,0.0,28.0,717.0,28.0,0.0,0.0,null,3033.0,0.0,0.0,0.0,210.0,101.0,0.0,0.0,0.0,29.0,0.0,950.0,5.0,0.0,161.0,0.0,106.0,0.0,847.0,0.0,0.0,0.0,1878.0,3978.0,0.0,0.0,952.0,0.0,0.0,0.0,0.0,214.0,3636.0,0.0,0.0,739.0,4.0,0.0,0.0,0.0,0.0,0.0,0.0,0.0,3.0,0.0,0.0,0.0,164.0,0.0,0.0,0.0,728.0,1406.0,3.0,0.0,0.0,0.0,0.0,0.0,0.0,71.0,145.0,0.0,1028.0,0.0,0.0,0.0,0.0,82.0,0.0,0.0,226.0,0.0,0.0,221.0,0.0,2202.0,0.0,0.0,644.0,9.0,0.0,3.0,0.0,0.0,0.0,0.0,1475.0,694.0,0.0,268.0,35.0,731.0,0.0,0.0,0.0,18.0,0.0,0.0,33.0,0.0,0.0,0.0,0.0,0.0,1.0,0.0,0.0,0.0,0.0,2207.0,0.0,0.0,0.0,0.0,4.0,0.0,0.0,0.0,26.0,0.0,1285.0,0.0,1108.0,0.0,0.0,0.0,4455.0,1298.0,0.0,0.0,1.0,0.0,556.0,0.0,4791.0,0.0,0.0,0.0,0.0,16.0,0.0,0.0,0.0,0.0,0.0,764.0,155.0,0.0,0.0,0.0,971.0,499.0,0.0,0.0,6.0,1.0,0.0,null,0.0,0.0,0.0,0.0,0.0,0.0,0.0,0.0,7.0,0.0,0.0,0.0,0.0,0.0,98.0,227.0,0.0,0.0,0.0,9.0,3076.0,1821.0,0.0,247.0,0.0,0.0,0.0,1163.0,0.0,500.0,0.0,0.0,23.0,0.0,0.0,3.0,592.0,2639.0,7759.0,251.0,226.0,0.0,0.0,0.0,2.0,0.0,3853.0,44.0,16.0,0.0,83.0,753.0,0.0,0.0,0.0,9.0,0.0,null,0.0,1484.0,0.0,0.0,0.0,180.0,0.0,0.0,0.0,0.0,0.0,14.0,0.0,912.0,0.0,810.0,805.0,0.0,1127.0,0.0,0.0,0.0,null,114.0,91.0,0.0,0.0,0.0,0.0,0.0,0.0,0.0,0.0,565.0,4978.0,571.0,0.0,0.0,144.0,0.0,0.0,0.0,1427.0,748.0,0.0,3.0,0.0,0.0,557.0,0.0,0.0,0.0,0.0,2532.0,0.0,0.0,0.0,0.0,0.0,0.0,0.0,0.0,0.0,1770.0,10.0,0.0,0.0,0.0,454.0,145.0,0.0,0.0,0.0,4485.0,310.0,229.0,0.0,6.0,0.0,0.0,0.0,0.0,0.0,0.0,0.0,0.0,181.0,433.0,0.0,2910.0,927.0,0.0,0.0,1204.0,0.0,0.0,0.0,0.0,484.0,3488.0,0.0,0.0,0.0,0.0,0.0,0.0,0.0,2583.0,3126.0,2191.0,0.0,0.0,0.0,784.0,0.0,10.0,0.0,0.0,798.0,0.0,116.0,0.0,0.0,0.0,71.0,0.0,0.0,0.0,0.0,0.0,1.0,0.0,0.0,0.0,0.0,0.0,0.0,1332.0,16.0,0.0,0.0,0.0,0.0,659.0,0.0,1739.0,0.0,0.0,0.0,2.0,0.0,3.0,1.0,2481.0,70.0,0.0,0.0,null,0.0,471.0,0.0,0.0,0.0,0.0,0.0,0.0,445.0,0.0,0.0,3423.0,0.0,0.0,170.0,1632.0,32.0,0.0,13.0,4715.0,0.0,1524.0,0.0,0.0,0.0,1.0,0.0,29.0,0.0,0.0,0.0,0.0,0.0,0.0,6.0,0.0,null,0.0,0.0,2.0,822.0,0.0,846.0,3751.0,null,0.0,236.0,null,0.0,0.0,0.0,7.0,924.0,509.0,0.0,810.0,17.0,0.0,0.0,0.0,0.0,0.0,1028.0,0.0,1487.0,0.0,366.0,0.0,0.0,3707.0,4.0,8.0,41.0,null,0.0,0.0,1.0,0.0,20.0,167.0,0.0,0.0,0.0,173.0,0.0,0.0,0.0,338.0,0.0,108.0,0.0,0.0,0.0,1320.0,554.0,0.0,0.0,0.0,0.0,1.0,0.0,0.0,676.0,0.0,43.0,0.0,0.0,0.0,0.0,0.0,984.0,null,1876.0,4.0,0.0,3.0,0.0,0.0,5436.0,0.0,0.0,265.0,0.0,0.0,17.0,0.0,3479.0,0.0,0.0,8.0,6.0,19.0,9.0,1605.0,0.0,0.0,0.0,4313.0,12563.0,0.0,0.0,0.0,10.0,838.0,0.0,0.0,468.0,0.0,0.0,0.0,0.0,10.0,0.0,100.0,0.0,2.0,0.0,0.0,0.0,0.0,0.0,0.0,586.0,0.0,0.0,0.0,0.0,2113.0,495.0,0.0,0.0,0.0,704.0,0.0,796.0,475.0,0.0,2449.0,0.0,0.0,0.0,0.0,7.0,0.0,0.0,0.0,0.0,0.0,null,1501.0,1585.0,0.0,12.0,0.0,0.0,0.0,0.0,0.0,749.0,371.0,0.0,1.0,0.0,1961.0,0.0,1.0,16.0,0.0,0.0,1376.0,32.0,0.0,0.0,165.0,702.0,0.0,0.0,0.0,36.0,0.0,0.0,0.0,0.0,281.0,0.0,0.0,0.0,522.0,0.0,0.0,0.0,0.0,0.0,0.0,0.0,0.0,1.0,2.0,0.0,14773.0,0.0,2318.0,403.0,25.0,688.0,670.0,10073.0,537.0,584.0,0.0,194.0,0.0,0.0,0.0,4.0,5.0,7.0,94.0,0.0,0.0,41.0,0.0,599.0,0.0,4017.0,909.0,0.0,0.0,1674.0,104.0,794.0,0.0,7964.0,4634.0,null,0.0,816.0,77.0,0.0,0.0,0.0,0.0,0.0,40.0,8.0,90.0,679.0,0.0,0.0,0.0,45.0,0.0,0.0,0.0,0.0,639.0,197.0,0.0,0.0,0.0,0.0,0.0,0.0,5600.0,0.0,0.0,0.0,0.0,1.0,752.0,0.0,0.0,0.0,696.0,0.0,0.0,0.0,1208.0,2972.0,0.0,8160.0,0.0,0.0,0.0,0.0,0.0,1015.0,0.0,0.0,0.0,0.0,0.0,0.0,242.0,3.0,0.0,0.0,1146.0,3208.0,6819.0,0.0,0.0,1049.0,4688.0],\"xaxis\":\"x\",\"yaxis\":\"y\",\"type\":\"histogram\"}],                        {\"template\":{\"data\":{\"bar\":[{\"error_x\":{\"color\":\"#2a3f5f\"},\"error_y\":{\"color\":\"#2a3f5f\"},\"marker\":{\"line\":{\"color\":\"#E5ECF6\",\"width\":0.5},\"pattern\":{\"fillmode\":\"overlay\",\"size\":10,\"solidity\":0.2}},\"type\":\"bar\"}],\"barpolar\":[{\"marker\":{\"line\":{\"color\":\"#E5ECF6\",\"width\":0.5},\"pattern\":{\"fillmode\":\"overlay\",\"size\":10,\"solidity\":0.2}},\"type\":\"barpolar\"}],\"carpet\":[{\"aaxis\":{\"endlinecolor\":\"#2a3f5f\",\"gridcolor\":\"white\",\"linecolor\":\"white\",\"minorgridcolor\":\"white\",\"startlinecolor\":\"#2a3f5f\"},\"baxis\":{\"endlinecolor\":\"#2a3f5f\",\"gridcolor\":\"white\",\"linecolor\":\"white\",\"minorgridcolor\":\"white\",\"startlinecolor\":\"#2a3f5f\"},\"type\":\"carpet\"}],\"choropleth\":[{\"colorbar\":{\"outlinewidth\":0,\"ticks\":\"\"},\"type\":\"choropleth\"}],\"contour\":[{\"colorbar\":{\"outlinewidth\":0,\"ticks\":\"\"},\"colorscale\":[[0.0,\"#0d0887\"],[0.1111111111111111,\"#46039f\"],[0.2222222222222222,\"#7201a8\"],[0.3333333333333333,\"#9c179e\"],[0.4444444444444444,\"#bd3786\"],[0.5555555555555556,\"#d8576b\"],[0.6666666666666666,\"#ed7953\"],[0.7777777777777778,\"#fb9f3a\"],[0.8888888888888888,\"#fdca26\"],[1.0,\"#f0f921\"]],\"type\":\"contour\"}],\"contourcarpet\":[{\"colorbar\":{\"outlinewidth\":0,\"ticks\":\"\"},\"type\":\"contourcarpet\"}],\"heatmap\":[{\"colorbar\":{\"outlinewidth\":0,\"ticks\":\"\"},\"colorscale\":[[0.0,\"#0d0887\"],[0.1111111111111111,\"#46039f\"],[0.2222222222222222,\"#7201a8\"],[0.3333333333333333,\"#9c179e\"],[0.4444444444444444,\"#bd3786\"],[0.5555555555555556,\"#d8576b\"],[0.6666666666666666,\"#ed7953\"],[0.7777777777777778,\"#fb9f3a\"],[0.8888888888888888,\"#fdca26\"],[1.0,\"#f0f921\"]],\"type\":\"heatmap\"}],\"heatmapgl\":[{\"colorbar\":{\"outlinewidth\":0,\"ticks\":\"\"},\"colorscale\":[[0.0,\"#0d0887\"],[0.1111111111111111,\"#46039f\"],[0.2222222222222222,\"#7201a8\"],[0.3333333333333333,\"#9c179e\"],[0.4444444444444444,\"#bd3786\"],[0.5555555555555556,\"#d8576b\"],[0.6666666666666666,\"#ed7953\"],[0.7777777777777778,\"#fb9f3a\"],[0.8888888888888888,\"#fdca26\"],[1.0,\"#f0f921\"]],\"type\":\"heatmapgl\"}],\"histogram\":[{\"marker\":{\"pattern\":{\"fillmode\":\"overlay\",\"size\":10,\"solidity\":0.2}},\"type\":\"histogram\"}],\"histogram2d\":[{\"colorbar\":{\"outlinewidth\":0,\"ticks\":\"\"},\"colorscale\":[[0.0,\"#0d0887\"],[0.1111111111111111,\"#46039f\"],[0.2222222222222222,\"#7201a8\"],[0.3333333333333333,\"#9c179e\"],[0.4444444444444444,\"#bd3786\"],[0.5555555555555556,\"#d8576b\"],[0.6666666666666666,\"#ed7953\"],[0.7777777777777778,\"#fb9f3a\"],[0.8888888888888888,\"#fdca26\"],[1.0,\"#f0f921\"]],\"type\":\"histogram2d\"}],\"histogram2dcontour\":[{\"colorbar\":{\"outlinewidth\":0,\"ticks\":\"\"},\"colorscale\":[[0.0,\"#0d0887\"],[0.1111111111111111,\"#46039f\"],[0.2222222222222222,\"#7201a8\"],[0.3333333333333333,\"#9c179e\"],[0.4444444444444444,\"#bd3786\"],[0.5555555555555556,\"#d8576b\"],[0.6666666666666666,\"#ed7953\"],[0.7777777777777778,\"#fb9f3a\"],[0.8888888888888888,\"#fdca26\"],[1.0,\"#f0f921\"]],\"type\":\"histogram2dcontour\"}],\"mesh3d\":[{\"colorbar\":{\"outlinewidth\":0,\"ticks\":\"\"},\"type\":\"mesh3d\"}],\"parcoords\":[{\"line\":{\"colorbar\":{\"outlinewidth\":0,\"ticks\":\"\"}},\"type\":\"parcoords\"}],\"pie\":[{\"automargin\":true,\"type\":\"pie\"}],\"scatter\":[{\"marker\":{\"colorbar\":{\"outlinewidth\":0,\"ticks\":\"\"}},\"type\":\"scatter\"}],\"scatter3d\":[{\"line\":{\"colorbar\":{\"outlinewidth\":0,\"ticks\":\"\"}},\"marker\":{\"colorbar\":{\"outlinewidth\":0,\"ticks\":\"\"}},\"type\":\"scatter3d\"}],\"scattercarpet\":[{\"marker\":{\"colorbar\":{\"outlinewidth\":0,\"ticks\":\"\"}},\"type\":\"scattercarpet\"}],\"scattergeo\":[{\"marker\":{\"colorbar\":{\"outlinewidth\":0,\"ticks\":\"\"}},\"type\":\"scattergeo\"}],\"scattergl\":[{\"marker\":{\"colorbar\":{\"outlinewidth\":0,\"ticks\":\"\"}},\"type\":\"scattergl\"}],\"scattermapbox\":[{\"marker\":{\"colorbar\":{\"outlinewidth\":0,\"ticks\":\"\"}},\"type\":\"scattermapbox\"}],\"scatterpolar\":[{\"marker\":{\"colorbar\":{\"outlinewidth\":0,\"ticks\":\"\"}},\"type\":\"scatterpolar\"}],\"scatterpolargl\":[{\"marker\":{\"colorbar\":{\"outlinewidth\":0,\"ticks\":\"\"}},\"type\":\"scatterpolargl\"}],\"scatterternary\":[{\"marker\":{\"colorbar\":{\"outlinewidth\":0,\"ticks\":\"\"}},\"type\":\"scatterternary\"}],\"surface\":[{\"colorbar\":{\"outlinewidth\":0,\"ticks\":\"\"},\"colorscale\":[[0.0,\"#0d0887\"],[0.1111111111111111,\"#46039f\"],[0.2222222222222222,\"#7201a8\"],[0.3333333333333333,\"#9c179e\"],[0.4444444444444444,\"#bd3786\"],[0.5555555555555556,\"#d8576b\"],[0.6666666666666666,\"#ed7953\"],[0.7777777777777778,\"#fb9f3a\"],[0.8888888888888888,\"#fdca26\"],[1.0,\"#f0f921\"]],\"type\":\"surface\"}],\"table\":[{\"cells\":{\"fill\":{\"color\":\"#EBF0F8\"},\"line\":{\"color\":\"white\"}},\"header\":{\"fill\":{\"color\":\"#C8D4E3\"},\"line\":{\"color\":\"white\"}},\"type\":\"table\"}]},\"layout\":{\"annotationdefaults\":{\"arrowcolor\":\"#2a3f5f\",\"arrowhead\":0,\"arrowwidth\":1},\"autotypenumbers\":\"strict\",\"coloraxis\":{\"colorbar\":{\"outlinewidth\":0,\"ticks\":\"\"}},\"colorscale\":{\"diverging\":[[0,\"#8e0152\"],[0.1,\"#c51b7d\"],[0.2,\"#de77ae\"],[0.3,\"#f1b6da\"],[0.4,\"#fde0ef\"],[0.5,\"#f7f7f7\"],[0.6,\"#e6f5d0\"],[0.7,\"#b8e186\"],[0.8,\"#7fbc41\"],[0.9,\"#4d9221\"],[1,\"#276419\"]],\"sequential\":[[0.0,\"#0d0887\"],[0.1111111111111111,\"#46039f\"],[0.2222222222222222,\"#7201a8\"],[0.3333333333333333,\"#9c179e\"],[0.4444444444444444,\"#bd3786\"],[0.5555555555555556,\"#d8576b\"],[0.6666666666666666,\"#ed7953\"],[0.7777777777777778,\"#fb9f3a\"],[0.8888888888888888,\"#fdca26\"],[1.0,\"#f0f921\"]],\"sequentialminus\":[[0.0,\"#0d0887\"],[0.1111111111111111,\"#46039f\"],[0.2222222222222222,\"#7201a8\"],[0.3333333333333333,\"#9c179e\"],[0.4444444444444444,\"#bd3786\"],[0.5555555555555556,\"#d8576b\"],[0.6666666666666666,\"#ed7953\"],[0.7777777777777778,\"#fb9f3a\"],[0.8888888888888888,\"#fdca26\"],[1.0,\"#f0f921\"]]},\"colorway\":[\"#636efa\",\"#EF553B\",\"#00cc96\",\"#ab63fa\",\"#FFA15A\",\"#19d3f3\",\"#FF6692\",\"#B6E880\",\"#FF97FF\",\"#FECB52\"],\"font\":{\"color\":\"#2a3f5f\"},\"geo\":{\"bgcolor\":\"white\",\"lakecolor\":\"white\",\"landcolor\":\"#E5ECF6\",\"showlakes\":true,\"showland\":true,\"subunitcolor\":\"white\"},\"hoverlabel\":{\"align\":\"left\"},\"hovermode\":\"closest\",\"mapbox\":{\"style\":\"light\"},\"paper_bgcolor\":\"white\",\"plot_bgcolor\":\"#E5ECF6\",\"polar\":{\"angularaxis\":{\"gridcolor\":\"white\",\"linecolor\":\"white\",\"ticks\":\"\"},\"bgcolor\":\"#E5ECF6\",\"radialaxis\":{\"gridcolor\":\"white\",\"linecolor\":\"white\",\"ticks\":\"\"}},\"scene\":{\"xaxis\":{\"backgroundcolor\":\"#E5ECF6\",\"gridcolor\":\"white\",\"gridwidth\":2,\"linecolor\":\"white\",\"showbackground\":true,\"ticks\":\"\",\"zerolinecolor\":\"white\"},\"yaxis\":{\"backgroundcolor\":\"#E5ECF6\",\"gridcolor\":\"white\",\"gridwidth\":2,\"linecolor\":\"white\",\"showbackground\":true,\"ticks\":\"\",\"zerolinecolor\":\"white\"},\"zaxis\":{\"backgroundcolor\":\"#E5ECF6\",\"gridcolor\":\"white\",\"gridwidth\":2,\"linecolor\":\"white\",\"showbackground\":true,\"ticks\":\"\",\"zerolinecolor\":\"white\"}},\"shapedefaults\":{\"line\":{\"color\":\"#2a3f5f\"}},\"ternary\":{\"aaxis\":{\"gridcolor\":\"white\",\"linecolor\":\"white\",\"ticks\":\"\"},\"baxis\":{\"gridcolor\":\"white\",\"linecolor\":\"white\",\"ticks\":\"\"},\"bgcolor\":\"#E5ECF6\",\"caxis\":{\"gridcolor\":\"white\",\"linecolor\":\"white\",\"ticks\":\"\"}},\"title\":{\"x\":0.05},\"xaxis\":{\"automargin\":true,\"gridcolor\":\"white\",\"linecolor\":\"white\",\"ticks\":\"\",\"title\":{\"standoff\":15},\"zerolinecolor\":\"white\",\"zerolinewidth\":2},\"yaxis\":{\"automargin\":true,\"gridcolor\":\"white\",\"linecolor\":\"white\",\"ticks\":\"\",\"title\":{\"standoff\":15},\"zerolinecolor\":\"white\",\"zerolinewidth\":2}}},\"xaxis\":{\"anchor\":\"y\",\"domain\":[0.0,1.0],\"title\":{\"text\":\"FoodCourt\"}},\"yaxis\":{\"anchor\":\"x\",\"domain\":[0.0,1.0],\"title\":{\"text\":\"count\"}},\"legend\":{\"tracegroupgap\":0},\"margin\":{\"t\":60},\"barmode\":\"relative\"},                        {\"responsive\": true}                    ).then(function(){\n",
              "                            \n",
              "var gd = document.getElementById('f42d84d3-517d-4694-93bd-599e871397d7');\n",
              "var x = new MutationObserver(function (mutations, observer) {{\n",
              "        var display = window.getComputedStyle(gd).display;\n",
              "        if (!display || display === 'none') {{\n",
              "            console.log([gd, 'removed!']);\n",
              "            Plotly.purge(gd);\n",
              "            observer.disconnect();\n",
              "        }}\n",
              "}});\n",
              "\n",
              "// Listen for the removal of the full notebook cells\n",
              "var notebookContainer = gd.closest('#notebook-container');\n",
              "if (notebookContainer) {{\n",
              "    x.observe(notebookContainer, {childList: true});\n",
              "}}\n",
              "\n",
              "// Listen for the clearing of the current output cell\n",
              "var outputEl = gd.closest('.output');\n",
              "if (outputEl) {{\n",
              "    x.observe(outputEl, {childList: true});\n",
              "}}\n",
              "\n",
              "                        })                };                            </script>        </div>\n",
              "</body>\n",
              "</html>"
            ]
          },
          "metadata": {}
        }
      ]
    },
    {
      "cell_type": "code",
      "source": [
        "# 5. Distribution of Shopping Mall Bills\n",
        "px.histogram(data_frame = train_df, x=\"ShoppingMall\")"
      ],
      "metadata": {
        "colab": {
          "base_uri": "https://localhost:8080/",
          "height": 542
        },
        "id": "-udTVSMAwSba",
        "outputId": "1e3e0fad-7b6c-432c-f736-e22aa6b5a697"
      },
      "execution_count": 12,
      "outputs": [
        {
          "output_type": "display_data",
          "data": {
            "text/html": [
              "<html>\n",
              "<head><meta charset=\"utf-8\" /></head>\n",
              "<body>\n",
              "    <div>            <script src=\"https://cdnjs.cloudflare.com/ajax/libs/mathjax/2.7.5/MathJax.js?config=TeX-AMS-MML_SVG\"></script><script type=\"text/javascript\">if (window.MathJax) {MathJax.Hub.Config({SVG: {font: \"STIX-Web\"}});}</script>                <script type=\"text/javascript\">window.PlotlyConfig = {MathJaxConfig: 'local'};</script>\n",
              "        <script src=\"https://cdn.plot.ly/plotly-2.8.3.min.js\"></script>                <div id=\"839c702b-cdab-40a8-a27e-55ca99e60546\" class=\"plotly-graph-div\" style=\"height:525px; width:100%;\"></div>            <script type=\"text/javascript\">                                    window.PLOTLYENV=window.PLOTLYENV || {};                                    if (document.getElementById(\"839c702b-cdab-40a8-a27e-55ca99e60546\")) {                    Plotly.newPlot(                        \"839c702b-cdab-40a8-a27e-55ca99e60546\",                        [{\"alignmentgroup\":\"True\",\"bingroup\":\"x\",\"hovertemplate\":\"ShoppingMall=%{x}<br>count=%{y}<extra></extra>\",\"legendgroup\":\"\",\"marker\":{\"color\":\"#636efa\",\"pattern\":{\"shape\":\"\"}},\"name\":\"\",\"offsetgroup\":\"\",\"orientation\":\"v\",\"showlegend\":false,\"x\":[0.0,25.0,0.0,371.0,151.0,0.0,3.0,0.0,17.0,0.0,null,589.0,1123.0,65.0,12.0,876.0,null,0.0,0.0,0.0,1.0,0.0,0.0,null,0.0,0.0,0.0,69.0,null,0.0,0.0,136.0,81.0,1411.0,0.0,1750.0,0.0,0.0,48.0,0.0,null,0.0,45.0,0.0,0.0,0.0,180.0,0.0,0.0,0.0,2.0,1938.0,0.0,0.0,3374.0,0.0,148.0,0.0,0.0,null,197.0,0.0,446.0,0.0,2.0,9.0,5.0,0.0,0.0,738.0,0.0,1018.0,1295.0,0.0,0.0,0.0,0.0,0.0,0.0,0.0,0.0,0.0,0.0,0.0,31.0,670.0,null,0.0,0.0,5.0,957.0,526.0,0.0,0.0,0.0,0.0,0.0,0.0,570.0,17.0,0.0,326.0,0.0,6.0,0.0,0.0,0.0,0.0,87.0,804.0,429.0,0.0,0.0,0.0,0.0,0.0,0.0,49.0,0.0,296.0,9.0,0.0,null,0.0,0.0,730.0,126.0,0.0,0.0,0.0,0.0,0.0,97.0,210.0,0.0,0.0,10.0,0.0,0.0,0.0,0.0,0.0,0.0,0.0,0.0,0.0,0.0,48.0,0.0,0.0,0.0,0.0,0.0,16.0,1.0,161.0,673.0,0.0,0.0,3.0,0.0,426.0,0.0,0.0,401.0,0.0,0.0,0.0,10.0,0.0,8.0,0.0,867.0,719.0,0.0,0.0,0.0,0.0,0.0,0.0,0.0,null,0.0,66.0,12.0,0.0,null,137.0,0.0,307.0,0.0,0.0,0.0,0.0,0.0,0.0,0.0,0.0,0.0,null,0.0,0.0,0.0,119.0,1.0,188.0,0.0,301.0,221.0,0.0,0.0,0.0,0.0,665.0,5.0,0.0,0.0,1.0,0.0,256.0,0.0,0.0,0.0,0.0,0.0,691.0,0.0,0.0,0.0,0.0,796.0,287.0,0.0,0.0,0.0,541.0,0.0,408.0,0.0,null,0.0,313.0,0.0,0.0,0.0,0.0,0.0,592.0,128.0,0.0,0.0,0.0,0.0,2078.0,0.0,0.0,1.0,0.0,0.0,29.0,0.0,32.0,0.0,0.0,0.0,0.0,0.0,0.0,88.0,0.0,1324.0,0.0,0.0,15.0,0.0,0.0,0.0,259.0,1359.0,157.0,0.0,1.0,null,0.0,0.0,74.0,0.0,null,0.0,0.0,3.0,209.0,0.0,0.0,0.0,784.0,0.0,0.0,0.0,251.0,0.0,211.0,16.0,0.0,634.0,0.0,null,0.0,0.0,0.0,0.0,0.0,1434.0,202.0,1865.0,0.0,2975.0,0.0,0.0,0.0,0.0,0.0,453.0,33.0,0.0,0.0,4447.0,0.0,592.0,0.0,0.0,0.0,0.0,558.0,786.0,0.0,4.0,0.0,7.0,0.0,0.0,6.0,0.0,591.0,0.0,0.0,null,0.0,0.0,0.0,0.0,881.0,0.0,0.0,0.0,356.0,0.0,0.0,552.0,0.0,0.0,0.0,36.0,0.0,0.0,0.0,0.0,0.0,0.0,0.0,0.0,52.0,1116.0,0.0,101.0,5952.0,0.0,0.0,0.0,0.0,0.0,0.0,26.0,0.0,0.0,7185.0,0.0,0.0,0.0,0.0,0.0,0.0,0.0,0.0,0.0,0.0,0.0,0.0,22.0,840.0,0.0,45.0,0.0,0.0,102.0,136.0,0.0,0.0,0.0,795.0,0.0,0.0,0.0,0.0,0.0,0.0,0.0,0.0,0.0,0.0,188.0,747.0,0.0,0.0,0.0,0.0,0.0,0.0,182.0,0.0,0.0,257.0,81.0,0.0,22.0,863.0,0.0,0.0,0.0,2.0,0.0,544.0,0.0,38.0,145.0,0.0,0.0,0.0,23.0,0.0,0.0,0.0,0.0,12.0,null,0.0,0.0,0.0,0.0,0.0,1749.0,967.0,817.0,0.0,47.0,16.0,0.0,0.0,0.0,11.0,0.0,0.0,0.0,0.0,0.0,0.0,0.0,0.0,0.0,41.0,1.0,0.0,0.0,0.0,0.0,750.0,1733.0,0.0,3.0,0.0,0.0,0.0,0.0,0.0,384.0,29.0,316.0,0.0,0.0,null,0.0,0.0,0.0,479.0,0.0,0.0,0.0,0.0,838.0,831.0,704.0,0.0,0.0,0.0,266.0,0.0,0.0,0.0,0.0,1.0,0.0,580.0,0.0,0.0,74.0,332.0,402.0,0.0,0.0,2.0,612.0,0.0,0.0,0.0,0.0,310.0,1.0,0.0,0.0,0.0,0.0,0.0,0.0,0.0,21.0,25.0,0.0,625.0,521.0,37.0,0.0,0.0,601.0,0.0,0.0,0.0,0.0,0.0,0.0,1092.0,0.0,616.0,0.0,551.0,0.0,0.0,182.0,0.0,0.0,2155.0,0.0,0.0,null,0.0,0.0,46.0,0.0,826.0,0.0,0.0,0.0,12.0,10.0,19.0,118.0,0.0,null,229.0,0.0,0.0,0.0,0.0,0.0,0.0,908.0,0.0,0.0,0.0,0.0,18.0,0.0,0.0,0.0,0.0,0.0,0.0,50.0,0.0,7.0,0.0,0.0,956.0,0.0,0.0,82.0,0.0,0.0,0.0,141.0,0.0,0.0,0.0,0.0,0.0,1087.0,0.0,0.0,708.0,0.0,0.0,736.0,1.0,0.0,0.0,0.0,16.0,0.0,7104.0,2.0,87.0,2.0,0.0,38.0,0.0,0.0,0.0,0.0,0.0,0.0,0.0,0.0,252.0,0.0,0.0,0.0,4.0,0.0,null,9.0,97.0,0.0,0.0,783.0,1952.0,0.0,0.0,0.0,226.0,689.0,0.0,301.0,0.0,4.0,0.0,0.0,722.0,null,0.0,0.0,null,0.0,170.0,0.0,0.0,0.0,0.0,null,0.0,0.0,0.0,0.0,0.0,4.0,0.0,0.0,0.0,1.0,2.0,0.0,2.0,88.0,322.0,484.0,0.0,0.0,0.0,0.0,0.0,0.0,0.0,0.0,0.0,4.0,0.0,0.0,0.0,0.0,null,5.0,0.0,0.0,0.0,55.0,121.0,679.0,0.0,0.0,0.0,0.0,0.0,0.0,0.0,0.0,0.0,0.0,325.0,0.0,0.0,0.0,0.0,1399.0,0.0,0.0,0.0,0.0,0.0,2.0,0.0,0.0,0.0,4.0,870.0,0.0,null,0.0,0.0,0.0,0.0,0.0,0.0,0.0,0.0,5.0,0.0,100.0,32.0,0.0,701.0,0.0,1.0,51.0,0.0,0.0,0.0,0.0,0.0,30.0,0.0,0.0,0.0,0.0,714.0,0.0,10.0,0.0,739.0,343.0,0.0,0.0,22.0,null,2695.0,0.0,0.0,0.0,9.0,71.0,0.0,0.0,0.0,0.0,0.0,0.0,0.0,0.0,0.0,19.0,0.0,0.0,320.0,0.0,0.0,0.0,0.0,0.0,18.0,0.0,444.0,0.0,0.0,32.0,540.0,0.0,46.0,0.0,3.0,0.0,0.0,10.0,0.0,0.0,0.0,0.0,338.0,0.0,0.0,716.0,0.0,2552.0,0.0,0.0,0.0,421.0,469.0,7.0,null,0.0,null,543.0,0.0,0.0,0.0,10.0,93.0,0.0,0.0,0.0,0.0,0.0,984.0,1626.0,0.0,0.0,0.0,234.0,699.0,0.0,0.0,0.0,115.0,0.0,0.0,0.0,0.0,0.0,871.0,0.0,0.0,0.0,0.0,555.0,831.0,0.0,0.0,0.0,0.0,0.0,1383.0,3.0,0.0,0.0,0.0,null,8.0,0.0,0.0,834.0,0.0,0.0,0.0,0.0,0.0,323.0,448.0,0.0,8.0,0.0,0.0,4.0,0.0,13.0,718.0,490.0,0.0,0.0,0.0,0.0,0.0,null,35.0,906.0,0.0,0.0,46.0,0.0,0.0,0.0,17.0,0.0,0.0,0.0,0.0,0.0,98.0,0.0,880.0,0.0,32.0,0.0,0.0,715.0,0.0,0.0,4.0,0.0,0.0,0.0,0.0,0.0,49.0,0.0,0.0,0.0,0.0,267.0,122.0,0.0,0.0,0.0,0.0,0.0,0.0,0.0,0.0,106.0,0.0,0.0,81.0,null,0.0,0.0,0.0,0.0,0.0,0.0,0.0,1973.0,0.0,84.0,62.0,0.0,1526.0,0.0,7.0,0.0,0.0,612.0,0.0,0.0,81.0,21.0,0.0,828.0,0.0,0.0,0.0,27.0,157.0,48.0,0.0,0.0,0.0,0.0,0.0,0.0,0.0,0.0,0.0,0.0,0.0,133.0,1108.0,60.0,0.0,0.0,0.0,0.0,0.0,0.0,0.0,0.0,0.0,0.0,0.0,0.0,1.0,0.0,18.0,0.0,0.0,0.0,0.0,642.0,298.0,0.0,106.0,99.0,660.0,263.0,756.0,0.0,0.0,0.0,6124.0,0.0,363.0,0.0,0.0,0.0,0.0,0.0,51.0,0.0,0.0,0.0,0.0,0.0,3505.0,0.0,0.0,0.0,0.0,1632.0,0.0,0.0,0.0,0.0,0.0,884.0,3.0,187.0,0.0,0.0,2138.0,0.0,2.0,0.0,null,76.0,0.0,0.0,0.0,0.0,0.0,0.0,1095.0,0.0,0.0,0.0,0.0,0.0,0.0,2.0,0.0,72.0,0.0,0.0,5.0,0.0,0.0,0.0,0.0,926.0,null,12.0,9.0,279.0,12.0,null,0.0,0.0,600.0,0.0,957.0,0.0,3.0,0.0,0.0,0.0,0.0,0.0,654.0,0.0,180.0,0.0,0.0,0.0,464.0,0.0,0.0,0.0,0.0,0.0,3700.0,0.0,752.0,0.0,513.0,6.0,0.0,0.0,0.0,0.0,0.0,0.0,843.0,0.0,0.0,195.0,800.0,0.0,0.0,0.0,0.0,0.0,0.0,0.0,0.0,0.0,60.0,0.0,907.0,863.0,0.0,0.0,0.0,0.0,0.0,1250.0,1061.0,0.0,3301.0,0.0,122.0,0.0,0.0,0.0,11.0,0.0,0.0,0.0,431.0,896.0,0.0,0.0,1.0,289.0,619.0,0.0,0.0,66.0,0.0,0.0,15.0,0.0,0.0,591.0,0.0,0.0,482.0,0.0,0.0,1.0,0.0,16.0,0.0,0.0,0.0,1084.0,0.0,0.0,2.0,4.0,3.0,268.0,null,0.0,0.0,null,0.0,675.0,1.0,4817.0,0.0,0.0,null,0.0,0.0,0.0,1.0,0.0,0.0,0.0,0.0,0.0,0.0,109.0,1.0,0.0,292.0,4.0,0.0,0.0,null,23.0,0.0,0.0,0.0,0.0,0.0,0.0,340.0,0.0,null,260.0,0.0,193.0,1128.0,0.0,561.0,0.0,0.0,0.0,0.0,0.0,5.0,18.0,0.0,0.0,0.0,0.0,126.0,8.0,0.0,0.0,1.0,0.0,340.0,0.0,0.0,0.0,0.0,0.0,0.0,0.0,0.0,0.0,0.0,0.0,23.0,0.0,0.0,946.0,0.0,537.0,550.0,0.0,0.0,0.0,0.0,429.0,0.0,690.0,0.0,0.0,377.0,0.0,0.0,0.0,280.0,0.0,null,0.0,46.0,210.0,212.0,224.0,0.0,0.0,334.0,529.0,0.0,599.0,0.0,null,0.0,28.0,0.0,1013.0,27.0,3.0,0.0,896.0,null,0.0,0.0,2011.0,0.0,0.0,1243.0,0.0,null,243.0,0.0,0.0,0.0,0.0,0.0,0.0,0.0,0.0,0.0,0.0,0.0,0.0,null,1721.0,128.0,2116.0,4.0,0.0,331.0,0.0,0.0,26.0,0.0,228.0,9.0,39.0,0.0,0.0,0.0,0.0,0.0,0.0,0.0,0.0,0.0,10.0,0.0,0.0,0.0,0.0,32.0,0.0,15.0,0.0,0.0,0.0,2119.0,422.0,3.0,2020.0,387.0,0.0,0.0,0.0,73.0,0.0,0.0,0.0,0.0,733.0,0.0,744.0,884.0,0.0,0.0,0.0,0.0,0.0,0.0,0.0,0.0,null,0.0,0.0,0.0,913.0,0.0,0.0,0.0,0.0,0.0,497.0,68.0,615.0,1217.0,683.0,0.0,0.0,58.0,1.0,0.0,0.0,0.0,0.0,13.0,0.0,0.0,0.0,0.0,0.0,38.0,2.0,0.0,0.0,1360.0,0.0,0.0,533.0,0.0,0.0,0.0,0.0,0.0,22.0,0.0,0.0,157.0,0.0,0.0,629.0,661.0,0.0,0.0,0.0,0.0,43.0,0.0,0.0,0.0,45.0,0.0,332.0,0.0,0.0,0.0,0.0,null,0.0,11.0,146.0,82.0,372.0,null,0.0,0.0,8.0,36.0,0.0,0.0,0.0,0.0,0.0,0.0,0.0,2.0,1.0,0.0,1487.0,0.0,0.0,0.0,0.0,0.0,null,0.0,0.0,0.0,0.0,0.0,0.0,0.0,0.0,798.0,0.0,0.0,0.0,0.0,965.0,6.0,null,0.0,19.0,0.0,1.0,41.0,0.0,0.0,62.0,0.0,0.0,0.0,0.0,0.0,0.0,0.0,11.0,0.0,0.0,0.0,0.0,0.0,null,6.0,0.0,66.0,1.0,0.0,0.0,885.0,10.0,0.0,0.0,0.0,0.0,0.0,830.0,0.0,0.0,37.0,218.0,6.0,3.0,0.0,0.0,0.0,0.0,0.0,0.0,0.0,2820.0,6.0,147.0,0.0,881.0,213.0,0.0,0.0,0.0,5.0,0.0,0.0,0.0,0.0,0.0,91.0,0.0,0.0,208.0,0.0,0.0,0.0,88.0,1155.0,0.0,201.0,17.0,0.0,0.0,0.0,0.0,0.0,687.0,516.0,0.0,1.0,1247.0,89.0,24.0,136.0,0.0,646.0,1246.0,0.0,908.0,959.0,49.0,2.0,0.0,0.0,473.0,0.0,0.0,null,5.0,0.0,0.0,0.0,0.0,1061.0,0.0,499.0,0.0,0.0,0.0,0.0,0.0,0.0,19.0,0.0,0.0,10.0,387.0,0.0,0.0,496.0,0.0,0.0,0.0,0.0,0.0,0.0,0.0,0.0,0.0,10.0,17.0,0.0,0.0,0.0,0.0,0.0,0.0,0.0,0.0,124.0,0.0,0.0,0.0,0.0,436.0,49.0,0.0,870.0,809.0,0.0,0.0,0.0,0.0,135.0,0.0,0.0,0.0,0.0,71.0,0.0,0.0,33.0,0.0,0.0,0.0,0.0,0.0,0.0,2.0,0.0,0.0,0.0,0.0,4.0,8.0,2661.0,0.0,0.0,73.0,454.0,0.0,1.0,38.0,0.0,361.0,0.0,496.0,569.0,1.0,3.0,80.0,0.0,21.0,3.0,0.0,0.0,0.0,0.0,1582.0,0.0,0.0,137.0,0.0,0.0,0.0,0.0,null,2.0,0.0,257.0,1.0,0.0,0.0,0.0,864.0,0.0,657.0,0.0,0.0,0.0,0.0,974.0,1081.0,0.0,0.0,0.0,0.0,0.0,0.0,0.0,0.0,0.0,0.0,0.0,0.0,0.0,0.0,26.0,0.0,1789.0,0.0,0.0,72.0,0.0,0.0,176.0,718.0,0.0,22.0,0.0,0.0,0.0,0.0,0.0,158.0,1.0,0.0,0.0,397.0,0.0,0.0,345.0,0.0,0.0,0.0,0.0,34.0,0.0,0.0,0.0,0.0,0.0,0.0,0.0,288.0,0.0,18.0,0.0,0.0,0.0,1.0,107.0,0.0,0.0,0.0,17.0,1508.0,295.0,43.0,1476.0,0.0,328.0,787.0,53.0,0.0,0.0,398.0,0.0,1134.0,5.0,0.0,0.0,0.0,4899.0,0.0,677.0,0.0,94.0,0.0,0.0,0.0,1.0,0.0,0.0,0.0,56.0,0.0,1.0,0.0,null,0.0,0.0,0.0,0.0,0.0,0.0,0.0,0.0,693.0,0.0,0.0,0.0,0.0,139.0,0.0,0.0,0.0,30.0,352.0,0.0,802.0,249.0,0.0,197.0,0.0,1.0,13.0,548.0,20.0,0.0,0.0,0.0,0.0,0.0,0.0,0.0,0.0,0.0,0.0,0.0,0.0,0.0,0.0,0.0,0.0,10.0,0.0,0.0,429.0,1051.0,0.0,730.0,0.0,38.0,503.0,0.0,0.0,0.0,0.0,0.0,634.0,0.0,0.0,694.0,4.0,13.0,0.0,0.0,0.0,0.0,0.0,0.0,0.0,0.0,0.0,0.0,0.0,0.0,0.0,0.0,753.0,0.0,0.0,0.0,0.0,72.0,533.0,0.0,71.0,7.0,0.0,0.0,0.0,340.0,0.0,4.0,0.0,1.0,0.0,2640.0,0.0,0.0,872.0,0.0,1.0,133.0,801.0,0.0,2315.0,41.0,1605.0,0.0,22.0,0.0,0.0,611.0,68.0,0.0,1474.0,734.0,249.0,4.0,0.0,0.0,0.0,1.0,0.0,1404.0,18.0,0.0,0.0,0.0,0.0,0.0,1058.0,0.0,0.0,0.0,0.0,0.0,0.0,7.0,0.0,2.0,480.0,0.0,43.0,0.0,0.0,0.0,362.0,17.0,0.0,0.0,0.0,0.0,0.0,698.0,1610.0,0.0,0.0,0.0,0.0,128.0,47.0,61.0,0.0,0.0,0.0,0.0,0.0,0.0,0.0,2027.0,0.0,0.0,0.0,6.0,0.0,495.0,0.0,991.0,7.0,551.0,0.0,0.0,0.0,0.0,0.0,0.0,0.0,41.0,31.0,0.0,0.0,0.0,0.0,446.0,0.0,619.0,0.0,119.0,0.0,0.0,0.0,0.0,902.0,47.0,13.0,17.0,560.0,0.0,187.0,857.0,228.0,0.0,0.0,0.0,0.0,0.0,33.0,0.0,0.0,0.0,880.0,0.0,0.0,0.0,0.0,1.0,182.0,26.0,671.0,0.0,0.0,0.0,0.0,0.0,1348.0,1031.0,0.0,61.0,0.0,741.0,0.0,0.0,469.0,921.0,80.0,756.0,14.0,0.0,171.0,0.0,0.0,0.0,0.0,null,0.0,0.0,885.0,136.0,32.0,13.0,185.0,647.0,0.0,0.0,1257.0,0.0,0.0,0.0,0.0,0.0,0.0,670.0,470.0,null,null,0.0,0.0,1.0,1127.0,0.0,802.0,2559.0,0.0,435.0,0.0,1224.0,70.0,null,1.0,381.0,0.0,null,33.0,0.0,1.0,0.0,32.0,0.0,0.0,0.0,3.0,0.0,0.0,4.0,0.0,95.0,1.0,0.0,0.0,0.0,0.0,0.0,0.0,1.0,null,791.0,0.0,0.0,0.0,0.0,626.0,0.0,0.0,0.0,0.0,388.0,0.0,20.0,0.0,0.0,17.0,0.0,0.0,57.0,648.0,0.0,0.0,0.0,0.0,0.0,0.0,0.0,2.0,0.0,78.0,0.0,86.0,0.0,0.0,0.0,0.0,994.0,0.0,0.0,792.0,41.0,6.0,null,0.0,1.0,267.0,880.0,0.0,1432.0,659.0,0.0,0.0,678.0,0.0,0.0,0.0,0.0,0.0,0.0,0.0,0.0,78.0,0.0,0.0,null,0.0,0.0,0.0,0.0,30.0,0.0,44.0,319.0,0.0,null,0.0,7.0,0.0,130.0,0.0,0.0,0.0,0.0,null,17.0,0.0,0.0,2.0,1079.0,0.0,0.0,0.0,0.0,1559.0,0.0,0.0,0.0,332.0,0.0,79.0,0.0,28.0,0.0,0.0,13.0,493.0,0.0,76.0,3.0,27.0,661.0,0.0,0.0,0.0,0.0,28.0,0.0,0.0,1168.0,0.0,0.0,578.0,0.0,0.0,0.0,12.0,61.0,49.0,0.0,0.0,450.0,30.0,null,0.0,1.0,0.0,0.0,0.0,0.0,0.0,0.0,30.0,54.0,525.0,0.0,552.0,0.0,0.0,0.0,34.0,0.0,0.0,1.0,745.0,0.0,291.0,4.0,46.0,0.0,0.0,0.0,0.0,1145.0,1342.0,0.0,0.0,0.0,0.0,0.0,0.0,0.0,0.0,344.0,0.0,0.0,0.0,null,0.0,0.0,0.0,110.0,189.0,0.0,1682.0,0.0,0.0,0.0,0.0,292.0,451.0,127.0,28.0,0.0,0.0,0.0,24.0,0.0,2.0,0.0,23.0,0.0,7.0,0.0,3.0,4.0,0.0,0.0,0.0,0.0,0.0,0.0,0.0,0.0,922.0,0.0,0.0,0.0,0.0,0.0,0.0,0.0,96.0,0.0,0.0,138.0,557.0,0.0,0.0,0.0,12.0,0.0,0.0,16.0,0.0,46.0,null,743.0,0.0,0.0,0.0,0.0,0.0,0.0,285.0,0.0,0.0,0.0,0.0,2628.0,13.0,0.0,0.0,0.0,0.0,0.0,1646.0,0.0,0.0,1213.0,1131.0,0.0,0.0,0.0,0.0,0.0,0.0,0.0,801.0,0.0,0.0,2.0,0.0,0.0,0.0,469.0,0.0,0.0,13.0,875.0,0.0,271.0,479.0,5.0,0.0,0.0,0.0,0.0,0.0,0.0,29.0,137.0,0.0,0.0,0.0,17.0,6.0,1558.0,0.0,0.0,0.0,0.0,1795.0,0.0,0.0,1994.0,0.0,0.0,670.0,0.0,1.0,795.0,0.0,null,0.0,0.0,937.0,0.0,0.0,0.0,260.0,1.0,0.0,0.0,0.0,213.0,3813.0,1865.0,0.0,0.0,0.0,0.0,0.0,0.0,0.0,0.0,0.0,116.0,1.0,21.0,0.0,0.0,0.0,0.0,4.0,4.0,0.0,1.0,0.0,0.0,0.0,348.0,0.0,0.0,0.0,37.0,0.0,0.0,381.0,0.0,0.0,0.0,0.0,13.0,0.0,1.0,0.0,0.0,55.0,0.0,0.0,0.0,0.0,38.0,362.0,0.0,11.0,0.0,0.0,0.0,0.0,0.0,0.0,0.0,24.0,0.0,0.0,0.0,0.0,0.0,133.0,2.0,310.0,356.0,0.0,0.0,0.0,0.0,0.0,0.0,0.0,0.0,0.0,0.0,0.0,0.0,170.0,0.0,0.0,0.0,260.0,10.0,0.0,213.0,0.0,null,0.0,0.0,192.0,0.0,0.0,648.0,3.0,31.0,0.0,414.0,0.0,0.0,0.0,0.0,0.0,1661.0,0.0,0.0,1098.0,0.0,0.0,0.0,4333.0,0.0,0.0,660.0,0.0,0.0,15.0,0.0,0.0,0.0,null,0.0,0.0,0.0,0.0,0.0,366.0,64.0,154.0,0.0,0.0,0.0,0.0,0.0,384.0,0.0,0.0,910.0,0.0,0.0,981.0,0.0,0.0,0.0,null,0.0,0.0,0.0,0.0,0.0,0.0,0.0,0.0,174.0,0.0,0.0,23.0,0.0,null,null,0.0,0.0,0.0,657.0,0.0,0.0,0.0,111.0,14.0,0.0,0.0,0.0,0.0,0.0,0.0,77.0,0.0,0.0,49.0,7.0,442.0,0.0,1617.0,92.0,0.0,1.0,0.0,0.0,0.0,23.0,0.0,0.0,7.0,3648.0,0.0,0.0,0.0,1282.0,0.0,744.0,1698.0,0.0,0.0,0.0,0.0,0.0,0.0,0.0,0.0,779.0,443.0,288.0,0.0,0.0,0.0,25.0,0.0,null,133.0,2005.0,0.0,0.0,0.0,736.0,0.0,1509.0,315.0,0.0,0.0,569.0,796.0,0.0,545.0,0.0,2.0,null,0.0,0.0,0.0,0.0,0.0,11.0,0.0,363.0,13.0,97.0,0.0,16.0,0.0,0.0,0.0,0.0,77.0,0.0,374.0,0.0,101.0,0.0,4.0,933.0,0.0,0.0,132.0,0.0,709.0,323.0,0.0,32.0,6.0,0.0,1441.0,585.0,0.0,0.0,31.0,0.0,2516.0,7.0,0.0,0.0,null,14.0,0.0,0.0,2.0,0.0,0.0,0.0,2280.0,0.0,0.0,0.0,0.0,0.0,0.0,0.0,null,0.0,0.0,0.0,2.0,234.0,0.0,301.0,6.0,270.0,0.0,0.0,1752.0,0.0,0.0,0.0,0.0,82.0,0.0,0.0,0.0,0.0,0.0,0.0,25.0,1181.0,0.0,1.0,0.0,0.0,2.0,301.0,0.0,0.0,0.0,6.0,0.0,947.0,0.0,0.0,0.0,2.0,10.0,0.0,0.0,0.0,31.0,0.0,0.0,0.0,0.0,1650.0,0.0,0.0,0.0,0.0,0.0,8.0,0.0,0.0,36.0,0.0,0.0,0.0,1793.0,0.0,0.0,0.0,0.0,0.0,0.0,0.0,0.0,102.0,1349.0,10.0,633.0,0.0,0.0,0.0,0.0,0.0,0.0,0.0,0.0,0.0,0.0,0.0,0.0,0.0,155.0,656.0,47.0,0.0,0.0,0.0,68.0,0.0,0.0,0.0,299.0,0.0,13.0,0.0,2646.0,618.0,0.0,0.0,0.0,0.0,394.0,0.0,0.0,1604.0,43.0,59.0,71.0,0.0,0.0,31.0,79.0,0.0,0.0,3.0,0.0,971.0,0.0,5.0,0.0,142.0,1834.0,0.0,0.0,548.0,74.0,0.0,1352.0,1632.0,0.0,0.0,0.0,0.0,379.0,193.0,699.0,0.0,0.0,0.0,0.0,0.0,0.0,0.0,147.0,849.0,0.0,6.0,675.0,0.0,0.0,0.0,1553.0,null,669.0,0.0,0.0,7.0,0.0,null,0.0,21.0,0.0,0.0,0.0,0.0,9.0,null,0.0,0.0,726.0,0.0,0.0,0.0,0.0,116.0,88.0,5.0,0.0,0.0,75.0,616.0,799.0,0.0,0.0,0.0,407.0,1100.0,0.0,0.0,1271.0,0.0,238.0,0.0,80.0,0.0,599.0,0.0,0.0,402.0,0.0,0.0,0.0,0.0,236.0,687.0,0.0,0.0,0.0,0.0,1.0,0.0,0.0,0.0,0.0,322.0,0.0,0.0,895.0,0.0,0.0,0.0,0.0,16.0,341.0,0.0,0.0,0.0,0.0,0.0,0.0,0.0,0.0,0.0,0.0,34.0,453.0,0.0,0.0,0.0,0.0,0.0,50.0,14.0,0.0,0.0,0.0,0.0,0.0,0.0,25.0,0.0,0.0,0.0,101.0,8.0,775.0,0.0,0.0,117.0,0.0,0.0,0.0,0.0,0.0,0.0,150.0,504.0,762.0,0.0,0.0,0.0,0.0,238.0,99.0,0.0,0.0,0.0,0.0,0.0,0.0,532.0,0.0,0.0,0.0,0.0,0.0,0.0,1519.0,0.0,0.0,0.0,29.0,83.0,830.0,0.0,0.0,0.0,0.0,90.0,7.0,0.0,null,0.0,0.0,584.0,0.0,0.0,0.0,191.0,0.0,0.0,0.0,0.0,0.0,0.0,0.0,0.0,0.0,0.0,0.0,84.0,533.0,0.0,0.0,7.0,0.0,46.0,0.0,0.0,0.0,0.0,0.0,705.0,0.0,37.0,0.0,null,0.0,0.0,0.0,1264.0,0.0,0.0,0.0,830.0,0.0,0.0,0.0,269.0,0.0,0.0,0.0,1435.0,898.0,415.0,0.0,0.0,0.0,0.0,809.0,158.0,0.0,0.0,0.0,0.0,0.0,0.0,0.0,181.0,4.0,0.0,117.0,0.0,0.0,0.0,0.0,0.0,2.0,0.0,415.0,0.0,0.0,581.0,0.0,137.0,0.0,0.0,400.0,0.0,0.0,1442.0,0.0,0.0,0.0,0.0,0.0,91.0,26.0,null,0.0,0.0,0.0,0.0,null,0.0,0.0,0.0,26.0,0.0,0.0,0.0,0.0,0.0,0.0,0.0,0.0,0.0,533.0,0.0,395.0,0.0,0.0,0.0,0.0,0.0,5.0,0.0,0.0,0.0,null,0.0,null,15.0,0.0,0.0,0.0,4.0,0.0,0.0,1.0,0.0,2908.0,0.0,0.0,0.0,21.0,0.0,0.0,11.0,693.0,0.0,0.0,0.0,0.0,18.0,0.0,0.0,0.0,0.0,0.0,1231.0,991.0,674.0,0.0,23.0,0.0,1103.0,0.0,0.0,1763.0,857.0,52.0,0.0,0.0,0.0,722.0,0.0,0.0,0.0,0.0,0.0,0.0,0.0,0.0,688.0,778.0,0.0,31.0,0.0,280.0,0.0,7.0,0.0,0.0,0.0,274.0,0.0,0.0,0.0,0.0,0.0,0.0,1820.0,0.0,0.0,0.0,0.0,0.0,0.0,0.0,1.0,0.0,0.0,0.0,65.0,800.0,0.0,1777.0,1158.0,0.0,0.0,0.0,0.0,508.0,2687.0,0.0,0.0,160.0,0.0,0.0,0.0,0.0,0.0,1.0,14.0,1215.0,0.0,459.0,88.0,0.0,640.0,null,0.0,0.0,0.0,89.0,46.0,0.0,0.0,0.0,0.0,0.0,0.0,0.0,0.0,0.0,0.0,0.0,0.0,0.0,896.0,0.0,0.0,7.0,0.0,5.0,0.0,0.0,0.0,0.0,0.0,0.0,366.0,0.0,0.0,0.0,276.0,0.0,0.0,1.0,9.0,0.0,0.0,0.0,1.0,0.0,0.0,0.0,0.0,0.0,0.0,0.0,null,0.0,0.0,0.0,0.0,444.0,827.0,0.0,0.0,0.0,335.0,671.0,2233.0,0.0,0.0,null,0.0,0.0,1.0,1.0,37.0,788.0,0.0,0.0,0.0,0.0,137.0,0.0,0.0,0.0,0.0,0.0,357.0,4.0,0.0,0.0,0.0,0.0,0.0,13.0,15.0,0.0,0.0,36.0,0.0,28.0,246.0,980.0,8.0,889.0,0.0,377.0,0.0,0.0,0.0,232.0,0.0,0.0,0.0,0.0,761.0,354.0,0.0,0.0,0.0,0.0,1769.0,2509.0,0.0,0.0,0.0,0.0,0.0,0.0,0.0,0.0,null,0.0,0.0,0.0,116.0,0.0,632.0,0.0,2.0,0.0,null,0.0,5.0,869.0,14.0,0.0,0.0,0.0,0.0,0.0,0.0,0.0,3.0,null,594.0,0.0,131.0,0.0,0.0,0.0,0.0,0.0,0.0,0.0,0.0,0.0,385.0,0.0,112.0,717.0,258.0,0.0,0.0,0.0,422.0,348.0,1503.0,44.0,0.0,0.0,394.0,0.0,0.0,4509.0,0.0,0.0,13.0,0.0,1.0,131.0,0.0,1355.0,1.0,0.0,0.0,849.0,284.0,0.0,0.0,0.0,0.0,0.0,0.0,0.0,0.0,1376.0,0.0,114.0,0.0,53.0,0.0,13.0,11.0,0.0,0.0,4.0,921.0,80.0,0.0,0.0,0.0,0.0,101.0,0.0,242.0,190.0,1564.0,0.0,91.0,0.0,627.0,227.0,44.0,0.0,0.0,0.0,0.0,0.0,0.0,0.0,0.0,0.0,0.0,0.0,0.0,0.0,735.0,0.0,7.0,null,0.0,597.0,0.0,1883.0,215.0,8.0,1105.0,0.0,7.0,768.0,0.0,0.0,0.0,0.0,623.0,0.0,0.0,0.0,0.0,0.0,31.0,0.0,1189.0,3.0,70.0,0.0,0.0,0.0,0.0,0.0,0.0,0.0,0.0,4.0,0.0,0.0,0.0,0.0,0.0,0.0,0.0,0.0,0.0,0.0,0.0,0.0,0.0,0.0,11.0,1462.0,0.0,496.0,1.0,553.0,0.0,0.0,0.0,0.0,null,711.0,0.0,0.0,0.0,0.0,0.0,0.0,0.0,0.0,0.0,0.0,0.0,0.0,2316.0,805.0,0.0,0.0,0.0,5.0,0.0,0.0,0.0,840.0,0.0,0.0,0.0,659.0,0.0,91.0,477.0,1.0,15.0,0.0,0.0,0.0,14.0,255.0,0.0,0.0,0.0,0.0,0.0,0.0,0.0,0.0,0.0,1020.0,0.0,0.0,0.0,764.0,0.0,0.0,5.0,0.0,0.0,675.0,0.0,33.0,0.0,0.0,1.0,150.0,0.0,80.0,0.0,10.0,0.0,0.0,310.0,2.0,0.0,0.0,0.0,1136.0,0.0,0.0,0.0,0.0,424.0,0.0,970.0,0.0,0.0,0.0,14.0,0.0,0.0,0.0,0.0,0.0,927.0,0.0,0.0,0.0,2278.0,0.0,0.0,0.0,0.0,126.0,4.0,0.0,0.0,206.0,0.0,0.0,1.0,0.0,0.0,0.0,0.0,0.0,0.0,134.0,0.0,5.0,0.0,662.0,223.0,757.0,0.0,0.0,0.0,0.0,0.0,0.0,0.0,0.0,0.0,0.0,0.0,0.0,0.0,110.0,0.0,0.0,4.0,0.0,0.0,0.0,0.0,0.0,736.0,0.0,0.0,531.0,0.0,0.0,0.0,0.0,0.0,600.0,0.0,531.0,378.0,0.0,0.0,0.0,null,360.0,0.0,0.0,0.0,2433.0,0.0,null,null,0.0,1.0,0.0,1.0,10.0,195.0,0.0,1828.0,0.0,0.0,1546.0,1.0,0.0,3.0,128.0,123.0,0.0,0.0,163.0,0.0,0.0,0.0,78.0,489.0,0.0,538.0,null,0.0,0.0,0.0,0.0,0.0,0.0,736.0,0.0,null,0.0,1144.0,0.0,0.0,777.0,0.0,0.0,0.0,0.0,22.0,0.0,30.0,0.0,null,0.0,0.0,87.0,0.0,0.0,589.0,0.0,0.0,0.0,0.0,0.0,580.0,15.0,991.0,0.0,703.0,0.0,3627.0,0.0,30.0,6.0,0.0,0.0,0.0,0.0,0.0,186.0,0.0,50.0,959.0,0.0,2074.0,0.0,327.0,15.0,0.0,0.0,742.0,358.0,418.0,0.0,46.0,0.0,0.0,0.0,4.0,183.0,0.0,0.0,0.0,0.0,0.0,0.0,0.0,0.0,0.0,0.0,null,353.0,0.0,0.0,0.0,3.0,236.0,0.0,0.0,0.0,0.0,4.0,703.0,1.0,0.0,0.0,0.0,0.0,524.0,0.0,0.0,455.0,0.0,0.0,0.0,0.0,142.0,0.0,14.0,0.0,0.0,0.0,2310.0,0.0,0.0,0.0,9.0,1080.0,167.0,0.0,0.0,null,0.0,1670.0,23.0,1435.0,0.0,76.0,774.0,0.0,223.0,0.0,0.0,150.0,0.0,0.0,0.0,0.0,0.0,323.0,null,1132.0,242.0,23.0,0.0,0.0,0.0,0.0,0.0,0.0,0.0,115.0,0.0,664.0,608.0,882.0,0.0,1.0,0.0,0.0,0.0,9.0,0.0,4790.0,0.0,0.0,0.0,1020.0,98.0,0.0,1.0,0.0,222.0,5.0,0.0,0.0,0.0,0.0,0.0,13.0,2716.0,0.0,0.0,81.0,0.0,0.0,0.0,0.0,84.0,12.0,0.0,0.0,235.0,785.0,0.0,364.0,0.0,486.0,0.0,0.0,2140.0,0.0,83.0,0.0,0.0,0.0,567.0,0.0,712.0,63.0,754.0,0.0,0.0,0.0,0.0,257.0,0.0,0.0,4874.0,1129.0,0.0,0.0,0.0,95.0,945.0,0.0,661.0,3.0,232.0,408.0,0.0,155.0,0.0,1.0,409.0,17.0,2.0,0.0,0.0,949.0,108.0,0.0,0.0,0.0,0.0,0.0,0.0,0.0,0.0,873.0,0.0,0.0,0.0,0.0,0.0,126.0,0.0,4285.0,0.0,0.0,1.0,2.0,3.0,0.0,0.0,0.0,885.0,441.0,0.0,0.0,0.0,61.0,0.0,0.0,0.0,34.0,206.0,11.0,0.0,640.0,610.0,0.0,0.0,0.0,0.0,0.0,0.0,297.0,404.0,0.0,0.0,0.0,388.0,32.0,54.0,232.0,36.0,0.0,0.0,0.0,42.0,0.0,0.0,0.0,12.0,23.0,1513.0,1414.0,0.0,0.0,0.0,0.0,471.0,0.0,0.0,0.0,0.0,0.0,77.0,771.0,33.0,0.0,0.0,null,0.0,2414.0,870.0,0.0,0.0,0.0,0.0,0.0,0.0,0.0,159.0,51.0,0.0,0.0,311.0,0.0,0.0,0.0,0.0,0.0,0.0,0.0,670.0,0.0,327.0,5.0,1455.0,638.0,507.0,26.0,0.0,0.0,null,0.0,0.0,0.0,0.0,null,0.0,0.0,0.0,0.0,0.0,161.0,60.0,0.0,1742.0,0.0,0.0,1339.0,1.0,0.0,895.0,0.0,7.0,0.0,0.0,0.0,0.0,0.0,0.0,0.0,0.0,0.0,129.0,0.0,0.0,49.0,0.0,889.0,867.0,128.0,8.0,877.0,1127.0,3246.0,0.0,0.0,0.0,375.0,0.0,0.0,2184.0,2.0,234.0,690.0,0.0,0.0,2048.0,3.0,157.0,0.0,0.0,0.0,553.0,0.0,796.0,0.0,0.0,0.0,0.0,0.0,0.0,59.0,0.0,0.0,0.0,0.0,516.0,1990.0,0.0,47.0,295.0,0.0,null,851.0,0.0,0.0,0.0,0.0,0.0,38.0,36.0,0.0,7.0,null,0.0,0.0,16.0,169.0,253.0,0.0,2179.0,0.0,0.0,0.0,0.0,null,0.0,0.0,0.0,0.0,0.0,0.0,0.0,0.0,217.0,0.0,0.0,0.0,0.0,0.0,0.0,47.0,343.0,10.0,0.0,0.0,0.0,4.0,1.0,0.0,0.0,0.0,603.0,0.0,2554.0,85.0,0.0,2003.0,0.0,21.0,66.0,1.0,0.0,111.0,0.0,0.0,137.0,0.0,465.0,0.0,null,0.0,0.0,28.0,0.0,0.0,0.0,392.0,0.0,501.0,0.0,0.0,3.0,0.0,0.0,1445.0,0.0,0.0,0.0,84.0,0.0,0.0,0.0,874.0,0.0,0.0,0.0,0.0,0.0,0.0,477.0,0.0,0.0,0.0,5.0,0.0,0.0,0.0,3.0,0.0,0.0,0.0,0.0,0.0,0.0,0.0,0.0,0.0,0.0,0.0,3.0,0.0,0.0,0.0,0.0,null,481.0,1677.0,0.0,0.0,1.0,38.0,0.0,0.0,34.0,796.0,615.0,0.0,0.0,0.0,0.0,0.0,0.0,0.0,0.0,1.0,0.0,0.0,0.0,2.0,0.0,0.0,13.0,103.0,2454.0,1805.0,84.0,0.0,111.0,0.0,0.0,0.0,51.0,0.0,0.0,241.0,0.0,0.0,0.0,0.0,0.0,0.0,0.0,0.0,0.0,0.0,0.0,0.0,4581.0,35.0,4940.0,0.0,0.0,0.0,0.0,0.0,2067.0,0.0,337.0,380.0,118.0,0.0,1356.0,454.0,198.0,0.0,0.0,null,476.0,0.0,23.0,0.0,888.0,121.0,0.0,2.0,0.0,0.0,0.0,0.0,0.0,1.0,0.0,660.0,0.0,0.0,46.0,0.0,0.0,0.0,0.0,0.0,929.0,0.0,0.0,0.0,0.0,null,0.0,0.0,9.0,0.0,1.0,3783.0,0.0,0.0,1564.0,0.0,0.0,0.0,0.0,0.0,0.0,0.0,2.0,null,null,0.0,1.0,0.0,2.0,0.0,0.0,746.0,272.0,0.0,0.0,0.0,0.0,0.0,null,0.0,0.0,2.0,0.0,0.0,1.0,0.0,1902.0,559.0,3.0,null,0.0,0.0,0.0,152.0,0.0,0.0,0.0,699.0,0.0,437.0,0.0,1.0,10.0,0.0,0.0,17.0,null,0.0,1875.0,0.0,null,0.0,0.0,655.0,0.0,89.0,109.0,941.0,31.0,0.0,0.0,0.0,0.0,0.0,713.0,1770.0,868.0,0.0,0.0,0.0,874.0,0.0,0.0,0.0,0.0,0.0,0.0,31.0,32.0,0.0,3.0,2.0,1.0,276.0,0.0,0.0,0.0,0.0,0.0,0.0,0.0,0.0,31.0,0.0,0.0,1.0,0.0,0.0,0.0,0.0,780.0,747.0,5635.0,0.0,0.0,0.0,0.0,0.0,0.0,106.0,630.0,0.0,0.0,10.0,501.0,0.0,0.0,0.0,847.0,0.0,0.0,830.0,0.0,0.0,0.0,2.0,0.0,0.0,0.0,0.0,0.0,1297.0,0.0,687.0,0.0,0.0,307.0,0.0,191.0,1134.0,0.0,2750.0,1.0,0.0,0.0,0.0,0.0,0.0,0.0,834.0,9.0,287.0,0.0,0.0,0.0,0.0,0.0,0.0,0.0,214.0,0.0,0.0,0.0,0.0,0.0,0.0,0.0,0.0,0.0,0.0,0.0,0.0,0.0,0.0,0.0,0.0,0.0,57.0,0.0,0.0,26.0,0.0,2102.0,973.0,0.0,12.0,309.0,0.0,0.0,19.0,0.0,0.0,0.0,0.0,0.0,0.0,0.0,8.0,0.0,0.0,7.0,14.0,0.0,0.0,0.0,10424.0,0.0,4.0,142.0,0.0,0.0,238.0,20.0,0.0,912.0,0.0,0.0,1.0,0.0,0.0,0.0,0.0,0.0,0.0,null,0.0,20.0,16.0,0.0,0.0,0.0,0.0,0.0,69.0,0.0,0.0,0.0,0.0,926.0,60.0,143.0,0.0,0.0,1919.0,455.0,20.0,0.0,0.0,0.0,0.0,0.0,0.0,0.0,0.0,0.0,95.0,0.0,0.0,0.0,671.0,706.0,0.0,0.0,0.0,0.0,0.0,0.0,0.0,0.0,0.0,0.0,0.0,0.0,0.0,0.0,0.0,0.0,0.0,321.0,0.0,22.0,0.0,0.0,0.0,1081.0,2832.0,0.0,0.0,0.0,846.0,0.0,0.0,505.0,13.0,0.0,0.0,51.0,0.0,0.0,0.0,0.0,0.0,0.0,0.0,0.0,0.0,0.0,0.0,54.0,0.0,0.0,10.0,606.0,0.0,227.0,2.0,0.0,null,0.0,0.0,125.0,0.0,713.0,94.0,477.0,0.0,392.0,0.0,0.0,0.0,0.0,0.0,0.0,0.0,0.0,0.0,0.0,0.0,81.0,0.0,21.0,2.0,0.0,0.0,0.0,0.0,0.0,0.0,0.0,0.0,0.0,0.0,0.0,761.0,430.0,3415.0,0.0,0.0,null,0.0,0.0,0.0,0.0,789.0,72.0,1.0,0.0,0.0,2.0,382.0,693.0,1.0,908.0,0.0,0.0,0.0,0.0,0.0,353.0,8.0,null,0.0,0.0,56.0,0.0,0.0,0.0,19.0,1548.0,2251.0,605.0,898.0,0.0,0.0,0.0,0.0,0.0,0.0,586.0,0.0,643.0,0.0,0.0,1.0,0.0,1905.0,60.0,413.0,0.0,0.0,0.0,0.0,0.0,444.0,0.0,0.0,0.0,0.0,0.0,163.0,0.0,0.0,3.0,null,591.0,571.0,0.0,827.0,0.0,0.0,0.0,0.0,0.0,0.0,2728.0,621.0,14.0,0.0,0.0,0.0,3.0,0.0,0.0,0.0,0.0,0.0,0.0,0.0,0.0,0.0,0.0,0.0,0.0,0.0,0.0,8.0,0.0,0.0,0.0,449.0,0.0,0.0,0.0,0.0,0.0,0.0,0.0,0.0,0.0,0.0,0.0,0.0,708.0,292.0,39.0,0.0,39.0,2299.0,33.0,0.0,565.0,0.0,0.0,59.0,6.0,31.0,0.0,853.0,0.0,1177.0,0.0,144.0,85.0,0.0,0.0,null,0.0,225.0,0.0,0.0,0.0,0.0,0.0,0.0,0.0,0.0,0.0,55.0,363.0,942.0,0.0,0.0,0.0,8.0,756.0,1175.0,0.0,0.0,1040.0,1.0,0.0,1320.0,101.0,0.0,0.0,0.0,528.0,2153.0,2574.0,8.0,0.0,0.0,0.0,5.0,75.0,0.0,0.0,654.0,350.0,1047.0,153.0,0.0,0.0,166.0,0.0,0.0,0.0,0.0,8.0,0.0,208.0,0.0,null,1115.0,0.0,1.0,0.0,7.0,1878.0,599.0,2.0,11.0,0.0,216.0,1.0,0.0,0.0,0.0,280.0,0.0,0.0,0.0,0.0,18.0,0.0,0.0,1.0,813.0,null,0.0,0.0,0.0,0.0,0.0,0.0,2.0,180.0,0.0,980.0,0.0,663.0,0.0,2196.0,2.0,0.0,0.0,1089.0,0.0,0.0,null,0.0,0.0,0.0,0.0,0.0,559.0,null,1.0,2.0,166.0,10.0,0.0,0.0,0.0,0.0,82.0,0.0,0.0,6805.0,0.0,0.0,0.0,0.0,null,499.0,59.0,0.0,0.0,0.0,0.0,0.0,47.0,5.0,0.0,0.0,0.0,0.0,800.0,0.0,0.0,169.0,0.0,1044.0,0.0,0.0,0.0,0.0,46.0,0.0,778.0,0.0,0.0,0.0,9.0,20.0,545.0,4.0,0.0,null,0.0,0.0,0.0,35.0,0.0,868.0,0.0,617.0,0.0,0.0,0.0,0.0,0.0,30.0,0.0,0.0,0.0,0.0,0.0,0.0,0.0,693.0,0.0,0.0,0.0,9.0,0.0,0.0,0.0,754.0,213.0,667.0,0.0,0.0,1006.0,0.0,0.0,2929.0,2473.0,0.0,0.0,298.0,0.0,0.0,0.0,0.0,74.0,0.0,222.0,0.0,0.0,0.0,0.0,1.0,31.0,80.0,542.0,6.0,83.0,0.0,0.0,0.0,0.0,0.0,302.0,500.0,0.0,0.0,0.0,0.0,82.0,0.0,0.0,0.0,0.0,0.0,7.0,115.0,0.0,0.0,0.0,0.0,0.0,0.0,0.0,0.0,0.0,0.0,0.0,970.0,0.0,0.0,0.0,0.0,0.0,378.0,0.0,0.0,0.0,0.0,0.0,0.0,0.0,0.0,0.0,0.0,1594.0,17.0,45.0,0.0,2134.0,0.0,0.0,31.0,0.0,0.0,0.0,285.0,0.0,0.0,0.0,3.0,0.0,0.0,0.0,0.0,0.0,5.0,0.0,15.0,null,0.0,264.0,0.0,0.0,0.0,1609.0,0.0,0.0,0.0,48.0,0.0,0.0,107.0,26.0,0.0,1110.0,0.0,863.0,2332.0,0.0,0.0,325.0,3.0,0.0,0.0,0.0,null,0.0,725.0,0.0,973.0,0.0,1080.0,0.0,0.0,317.0,0.0,0.0,0.0,0.0,0.0,0.0,0.0,0.0,0.0,0.0,0.0,598.0,17.0,0.0,0.0,364.0,null,0.0,0.0,0.0,0.0,53.0,6.0,0.0,0.0,1.0,13.0,0.0,0.0,0.0,0.0,724.0,0.0,859.0,0.0,0.0,459.0,0.0,39.0,586.0,360.0,0.0,0.0,0.0,0.0,476.0,2817.0,0.0,0.0,0.0,0.0,56.0,0.0,1037.0,0.0,0.0,0.0,0.0,0.0,0.0,0.0,75.0,0.0,209.0,null,0.0,0.0,null,0.0,0.0,0.0,0.0,0.0,0.0,681.0,945.0,637.0,0.0,0.0,149.0,595.0,null,0.0,830.0,22.0,0.0,2.0,0.0,41.0,null,254.0,2077.0,0.0,68.0,95.0,0.0,0.0,0.0,0.0,0.0,0.0,0.0,0.0,669.0,0.0,0.0,51.0,0.0,1142.0,0.0,7.0,0.0,0.0,0.0,198.0,99.0,0.0,0.0,0.0,0.0,0.0,0.0,0.0,0.0,0.0,0.0,0.0,0.0,0.0,0.0,0.0,0.0,0.0,0.0,835.0,890.0,0.0,0.0,0.0,0.0,106.0,1827.0,687.0,0.0,0.0,64.0,0.0,2624.0,6.0,0.0,0.0,0.0,0.0,18.0,0.0,194.0,0.0,848.0,0.0,0.0,444.0,0.0,0.0,1552.0,0.0,0.0,0.0,73.0,0.0,0.0,7.0,0.0,0.0,0.0,0.0,892.0,null,0.0,0.0,40.0,0.0,0.0,790.0,0.0,0.0,0.0,0.0,0.0,0.0,0.0,0.0,0.0,690.0,13.0,1.0,207.0,0.0,300.0,0.0,0.0,0.0,0.0,0.0,39.0,450.0,15.0,756.0,0.0,859.0,0.0,0.0,25.0,0.0,0.0,0.0,0.0,0.0,0.0,0.0,0.0,324.0,0.0,559.0,0.0,0.0,0.0,0.0,97.0,null,52.0,0.0,544.0,0.0,0.0,0.0,0.0,11.0,642.0,0.0,0.0,0.0,0.0,172.0,0.0,1199.0,6.0,155.0,414.0,0.0,0.0,0.0,0.0,97.0,0.0,1761.0,4.0,0.0,143.0,689.0,0.0,0.0,0.0,0.0,0.0,0.0,0.0,0.0,891.0,610.0,202.0,0.0,0.0,808.0,0.0,0.0,0.0,761.0,0.0,397.0,0.0,0.0,0.0,0.0,13.0,618.0,0.0,0.0,6.0,10.0,null,0.0,51.0,0.0,0.0,0.0,0.0,8.0,2.0,295.0,808.0,0.0,0.0,0.0,0.0,0.0,null,617.0,0.0,0.0,367.0,0.0,0.0,265.0,0.0,0.0,0.0,0.0,0.0,0.0,0.0,0.0,273.0,0.0,0.0,0.0,0.0,0.0,380.0,9058.0,0.0,0.0,0.0,0.0,0.0,20.0,0.0,0.0,7.0,47.0,null,0.0,0.0,0.0,0.0,53.0,0.0,139.0,0.0,2387.0,0.0,0.0,0.0,0.0,1224.0,0.0,0.0,53.0,0.0,0.0,0.0,15.0,653.0,1039.0,0.0,0.0,0.0,235.0,0.0,0.0,0.0,0.0,null,50.0,3949.0,455.0,501.0,0.0,0.0,0.0,2366.0,0.0,0.0,0.0,1.0,109.0,109.0,0.0,0.0,0.0,144.0,0.0,0.0,0.0,868.0,0.0,24.0,0.0,0.0,291.0,641.0,0.0,0.0,0.0,0.0,0.0,802.0,1048.0,1326.0,1437.0,0.0,0.0,2.0,0.0,0.0,0.0,0.0,0.0,0.0,0.0,0.0,0.0,0.0,0.0,0.0,0.0,0.0,0.0,0.0,72.0,0.0,1.0,0.0,0.0,0.0,0.0,700.0,0.0,834.0,0.0,0.0,0.0,311.0,0.0,null,0.0,534.0,0.0,0.0,0.0,0.0,0.0,0.0,0.0,332.0,null,0.0,null,0.0,0.0,0.0,0.0,0.0,0.0,0.0,0.0,0.0,0.0,0.0,8.0,0.0,0.0,0.0,10.0,0.0,92.0,0.0,1.0,33.0,3.0,0.0,0.0,0.0,291.0,null,479.0,0.0,null,116.0,0.0,0.0,0.0,0.0,0.0,0.0,0.0,0.0,0.0,1657.0,0.0,0.0,110.0,0.0,0.0,0.0,0.0,0.0,403.0,36.0,null,0.0,0.0,0.0,0.0,0.0,50.0,43.0,1313.0,0.0,0.0,0.0,null,306.0,0.0,0.0,1167.0,0.0,2.0,0.0,0.0,2.0,82.0,60.0,0.0,0.0,182.0,39.0,0.0,145.0,0.0,1310.0,0.0,0.0,0.0,13.0,0.0,0.0,841.0,129.0,0.0,908.0,887.0,0.0,418.0,636.0,301.0,0.0,0.0,0.0,0.0,186.0,0.0,3.0,11.0,29.0,0.0,0.0,0.0,13.0,0.0,0.0,28.0,0.0,0.0,0.0,9.0,0.0,751.0,0.0,2.0,93.0,0.0,0.0,28.0,0.0,0.0,1.0,0.0,29.0,0.0,0.0,0.0,0.0,0.0,null,0.0,7.0,0.0,0.0,1573.0,0.0,0.0,215.0,0.0,0.0,0.0,0.0,0.0,3.0,0.0,0.0,2.0,0.0,0.0,555.0,859.0,0.0,0.0,0.0,1541.0,0.0,0.0,0.0,0.0,895.0,0.0,0.0,1.0,0.0,0.0,0.0,0.0,0.0,0.0,0.0,0.0,0.0,0.0,0.0,1317.0,0.0,0.0,0.0,694.0,0.0,5468.0,0.0,1435.0,0.0,0.0,0.0,0.0,231.0,0.0,null,508.0,0.0,0.0,0.0,0.0,0.0,0.0,0.0,0.0,0.0,129.0,0.0,0.0,0.0,null,977.0,0.0,0.0,0.0,99.0,638.0,927.0,1.0,0.0,0.0,16.0,43.0,0.0,0.0,0.0,0.0,6.0,0.0,0.0,8.0,0.0,0.0,0.0,422.0,0.0,0.0,0.0,0.0,0.0,478.0,0.0,622.0,0.0,2915.0,0.0,0.0,0.0,0.0,0.0,1720.0,0.0,790.0,0.0,0.0,0.0,0.0,0.0,0.0,0.0,0.0,165.0,9.0,0.0,null,31.0,0.0,0.0,0.0,873.0,0.0,0.0,858.0,0.0,527.0,246.0,151.0,0.0,0.0,0.0,1.0,0.0,763.0,0.0,1590.0,0.0,0.0,0.0,1.0,0.0,0.0,710.0,0.0,0.0,0.0,622.0,388.0,0.0,0.0,0.0,0.0,0.0,0.0,0.0,433.0,0.0,168.0,57.0,0.0,410.0,11.0,0.0,0.0,17.0,0.0,0.0,657.0,0.0,0.0,0.0,0.0,0.0,1686.0,8.0,20.0,0.0,0.0,0.0,4.0,0.0,0.0,0.0,0.0,0.0,0.0,0.0,6.0,6.0,1.0,795.0,681.0,0.0,0.0,202.0,53.0,0.0,336.0,0.0,0.0,0.0,849.0,0.0,0.0,0.0,1864.0,0.0,2076.0,0.0,20.0,7.0,113.0,0.0,26.0,0.0,0.0,0.0,0.0,1.0,1185.0,2974.0,0.0,0.0,0.0,715.0,0.0,1540.0,0.0,0.0,0.0,0.0,0.0,976.0,0.0,183.0,835.0,0.0,0.0,339.0,0.0,150.0,310.0,0.0,2.0,580.0,25.0,0.0,0.0,0.0,0.0,0.0,0.0,6.0,0.0,23.0,845.0,0.0,0.0,127.0,0.0,35.0,0.0,0.0,0.0,336.0,1.0,0.0,0.0,0.0,0.0,97.0,12253.0,0.0,0.0,3.0,0.0,0.0,0.0,0.0,3.0,0.0,661.0,0.0,0.0,6.0,0.0,0.0,0.0,2341.0,3700.0,0.0,520.0,17.0,0.0,7.0,0.0,561.0,0.0,0.0,0.0,0.0,273.0,642.0,44.0,0.0,0.0,13.0,0.0,23.0,0.0,272.0,0.0,0.0,0.0,0.0,0.0,26.0,1791.0,0.0,0.0,0.0,0.0,0.0,0.0,24.0,0.0,0.0,1501.0,265.0,0.0,29.0,0.0,0.0,null,0.0,0.0,0.0,47.0,0.0,0.0,0.0,9.0,655.0,827.0,0.0,0.0,0.0,0.0,0.0,649.0,74.0,304.0,0.0,null,null,15.0,0.0,0.0,1147.0,0.0,0.0,0.0,0.0,0.0,0.0,0.0,0.0,0.0,0.0,512.0,381.0,0.0,0.0,335.0,0.0,542.0,0.0,719.0,null,34.0,0.0,0.0,0.0,0.0,0.0,0.0,0.0,0.0,0.0,0.0,0.0,0.0,0.0,714.0,0.0,0.0,0.0,0.0,0.0,0.0,0.0,0.0,9.0,0.0,0.0,0.0,60.0,713.0,0.0,0.0,0.0,0.0,791.0,0.0,0.0,0.0,0.0,0.0,23.0,174.0,4.0,181.0,0.0,1119.0,39.0,2614.0,0.0,140.0,501.0,0.0,0.0,0.0,0.0,6.0,null,813.0,424.0,0.0,0.0,0.0,0.0,0.0,12.0,743.0,0.0,635.0,0.0,1373.0,0.0,0.0,0.0,725.0,696.0,2398.0,0.0,3.0,0.0,0.0,0.0,null,0.0,704.0,0.0,0.0,0.0,270.0,0.0,0.0,0.0,0.0,1472.0,533.0,0.0,0.0,0.0,0.0,0.0,1898.0,0.0,null,0.0,0.0,0.0,0.0,2383.0,1000.0,0.0,61.0,0.0,0.0,136.0,0.0,0.0,310.0,192.0,0.0,2010.0,0.0,0.0,0.0,348.0,7810.0,0.0,0.0,0.0,0.0,0.0,0.0,5.0,0.0,0.0,0.0,29.0,0.0,0.0,1236.0,92.0,840.0,0.0,0.0,0.0,0.0,8.0,0.0,0.0,0.0,0.0,0.0,0.0,0.0,0.0,0.0,0.0,0.0,1376.0,0.0,null,0.0,800.0,18.0,4058.0,243.0,1179.0,0.0,0.0,0.0,0.0,0.0,0.0,0.0,0.0,909.0,0.0,0.0,0.0,0.0,99.0,860.0,73.0,901.0,616.0,46.0,0.0,172.0,0.0,0.0,0.0,1.0,0.0,31.0,0.0,1660.0,0.0,0.0,0.0,0.0,0.0,0.0,575.0,0.0,0.0,490.0,0.0,0.0,0.0,1164.0,0.0,0.0,0.0,0.0,750.0,1015.0,1583.0,0.0,0.0,46.0,18.0,1041.0,0.0,0.0,95.0,0.0,177.0,0.0,0.0,2090.0,0.0,0.0,0.0,0.0,0.0,0.0,677.0,657.0,0.0,0.0,0.0,0.0,4.0,0.0,0.0,83.0,1232.0,450.0,0.0,0.0,687.0,0.0,0.0,0.0,0.0,0.0,0.0,851.0,0.0,0.0,9.0,0.0,13.0,23.0,7.0,0.0,0.0,1967.0,631.0,0.0,0.0,682.0,0.0,12.0,363.0,0.0,0.0,0.0,0.0,0.0,0.0,0.0,44.0,782.0,0.0,3.0,0.0,70.0,33.0,0.0,0.0,116.0,0.0,1.0,0.0,0.0,32.0,0.0,0.0,0.0,0.0,0.0,0.0,0.0,0.0,1690.0,618.0,175.0,0.0,95.0,285.0,0.0,0.0,1.0,400.0,1211.0,0.0,659.0,0.0,9.0,100.0,0.0,163.0,0.0,20.0,0.0,0.0,0.0,0.0,717.0,957.0,0.0,0.0,6.0,0.0,0.0,0.0,404.0,0.0,0.0,2330.0,0.0,0.0,414.0,30.0,0.0,0.0,0.0,81.0,0.0,0.0,null,1642.0,138.0,0.0,356.0,0.0,0.0,352.0,0.0,0.0,0.0,926.0,null,0.0,105.0,0.0,0.0,0.0,0.0,0.0,0.0,0.0,0.0,0.0,0.0,3.0,844.0,100.0,0.0,0.0,0.0,0.0,0.0,0.0,1911.0,0.0,0.0,1.0,0.0,0.0,0.0,267.0,0.0,185.0,0.0,2080.0,0.0,0.0,0.0,0.0,4761.0,40.0,0.0,12.0,651.0,19.0,0.0,2.0,552.0,0.0,0.0,0.0,0.0,0.0,0.0,21.0,0.0,0.0,2.0,0.0,0.0,0.0,0.0,664.0,0.0,null,1.0,3.0,1.0,0.0,11.0,0.0,482.0,0.0,1128.0,0.0,0.0,437.0,0.0,0.0,0.0,592.0,0.0,0.0,0.0,0.0,0.0,0.0,0.0,0.0,754.0,0.0,0.0,0.0,22.0,0.0,5.0,0.0,793.0,0.0,0.0,0.0,773.0,0.0,0.0,0.0,14.0,0.0,0.0,null,944.0,0.0,0.0,29.0,16.0,0.0,0.0,46.0,0.0,0.0,0.0,766.0,0.0,96.0,0.0,115.0,109.0,0.0,713.0,0.0,158.0,42.0,0.0,0.0,0.0,879.0,690.0,0.0,179.0,874.0,0.0,0.0,0.0,0.0,5.0,0.0,0.0,1.0,0.0,130.0,211.0,1028.0,0.0,0.0,273.0,0.0,0.0,511.0,0.0,414.0,2401.0,2885.0,0.0,17.0,0.0,0.0,0.0,1907.0,1050.0,0.0,0.0,1.0,0.0,12.0,0.0,2.0,196.0,0.0,0.0,0.0,0.0,0.0,222.0,450.0,12.0,0.0,null,795.0,0.0,3.0,0.0,49.0,0.0,8.0,0.0,0.0,0.0,0.0,31.0,0.0,171.0,229.0,478.0,885.0,0.0,285.0,12.0,0.0,0.0,0.0,0.0,297.0,6.0,0.0,21.0,0.0,29.0,0.0,424.0,547.0,0.0,14.0,584.0,458.0,8.0,0.0,0.0,787.0,5.0,902.0,0.0,1386.0,0.0,0.0,0.0,0.0,1.0,9.0,0.0,2.0,0.0,0.0,0.0,0.0,2.0,0.0,0.0,2.0,0.0,0.0,0.0,0.0,0.0,0.0,103.0,52.0,2.0,0.0,0.0,0.0,0.0,0.0,1540.0,77.0,761.0,0.0,0.0,0.0,0.0,0.0,21.0,0.0,0.0,0.0,0.0,3944.0,0.0,0.0,1.0,217.0,null,3.0,0.0,536.0,311.0,801.0,1116.0,0.0,439.0,214.0,0.0,0.0,805.0,61.0,0.0,0.0,0.0,4.0,23.0,201.0,0.0,0.0,0.0,0.0,0.0,0.0,0.0,30.0,726.0,0.0,null,0.0,0.0,299.0,40.0,0.0,193.0,0.0,575.0,0.0,0.0,0.0,0.0,5.0,0.0,0.0,0.0,0.0,0.0,0.0,0.0,0.0,0.0,0.0,0.0,0.0,1.0,358.0,0.0,0.0,16.0,321.0,386.0,0.0,0.0,2956.0,425.0,1110.0,0.0,859.0,0.0,910.0,1121.0,228.0,0.0,0.0,0.0,0.0,0.0,291.0,0.0,0.0,0.0,0.0,0.0,0.0,103.0,0.0,208.0,null,0.0,47.0,0.0,null,0.0,0.0,1104.0,0.0,103.0,0.0,643.0,0.0,0.0,0.0,0.0,2.0,0.0,0.0,0.0,0.0,345.0,0.0,0.0,0.0,0.0,0.0,702.0,0.0,0.0,1468.0,0.0,97.0,0.0,441.0,0.0,0.0,0.0,0.0,null,0.0,0.0,0.0,416.0,158.0,572.0,0.0,0.0,0.0,1.0,0.0,0.0,4.0,56.0,0.0,1826.0,0.0,0.0,0.0,0.0,432.0,1309.0,0.0,0.0,0.0,0.0,0.0,0.0,661.0,0.0,0.0,0.0,135.0,0.0,0.0,658.0,42.0,0.0,0.0,0.0,0.0,0.0,0.0,27.0,2228.0,0.0,185.0,84.0,0.0,114.0,9.0,4.0,1288.0,0.0,115.0,481.0,4.0,0.0,0.0,0.0,0.0,0.0,1.0,0.0,0.0,0.0,1025.0,0.0,0.0,127.0,0.0,0.0,0.0,0.0,0.0,0.0,0.0,0.0,0.0,0.0,0.0,0.0,0.0,136.0,0.0,31.0,6.0,0.0,0.0,0.0,0.0,0.0,0.0,58.0,0.0,8.0,0.0,0.0,0.0,0.0,0.0,0.0,0.0,null,185.0,80.0,0.0,0.0,728.0,0.0,2.0,0.0,0.0,null,13.0,9.0,471.0,0.0,0.0,4127.0,0.0,0.0,0.0,62.0,305.0,0.0,0.0,0.0,754.0,2621.0,0.0,32.0,0.0,0.0,0.0,0.0,379.0,0.0,0.0,0.0,9.0,0.0,0.0,0.0,0.0,0.0,0.0,1880.0,0.0,0.0,0.0,1912.0,0.0,0.0,0.0,34.0,0.0,0.0,0.0,0.0,0.0,0.0,19.0,14.0,0.0,239.0,0.0,37.0,0.0,692.0,0.0,39.0,0.0,0.0,0.0,346.0,0.0,615.0,31.0,0.0,0.0,0.0,52.0,0.0,0.0,0.0,110.0,0.0,0.0,132.0,0.0,208.0,0.0,0.0,null,0.0,419.0,0.0,0.0,0.0,0.0,53.0,null,0.0,0.0,50.0,0.0,0.0,0.0,0.0,809.0,17.0,0.0,0.0,0.0,0.0,0.0,0.0,0.0,54.0,81.0,6.0,0.0,349.0,0.0,0.0,0.0,0.0,0.0,0.0,501.0,1185.0,0.0,0.0,617.0,635.0,0.0,0.0,0.0,0.0,0.0,14.0,297.0,0.0,0.0,0.0,0.0,134.0,738.0,0.0,1967.0,1769.0,0.0,0.0,0.0,0.0,0.0,0.0,0.0,0.0,0.0,408.0,0.0,0.0,0.0,0.0,0.0,0.0,0.0,32.0,71.0,0.0,0.0,0.0,0.0,465.0,0.0,0.0,644.0,0.0,0.0,0.0,0.0,0.0,0.0,744.0,589.0,21.0,0.0,0.0,14.0,0.0,0.0,0.0,0.0,0.0,0.0,0.0,0.0,3958.0,0.0,0.0,0.0,0.0,0.0,0.0,0.0,0.0,106.0,321.0,0.0,0.0,817.0,0.0,0.0,0.0,null,58.0,0.0,6.0,622.0,0.0,null,0.0,0.0,0.0,447.0,10705.0,0.0,0.0,1.0,0.0,0.0,604.0,57.0,0.0,159.0,0.0,624.0,0.0,38.0,686.0,0.0,144.0,0.0,0.0,null,0.0,0.0,858.0,0.0,0.0,25.0,0.0,1127.0,89.0,0.0,0.0,1.0,0.0,0.0,0.0,0.0,0.0,622.0,0.0,310.0,455.0,21.0,0.0,0.0,0.0,0.0,0.0,0.0,0.0,708.0,0.0,null,0.0,0.0,0.0,0.0,0.0,0.0,0.0,1.0,92.0,0.0,0.0,0.0,0.0,0.0,0.0,0.0,0.0,0.0,5.0,0.0,0.0,0.0,271.0,0.0,722.0,0.0,0.0,0.0,331.0,3.0,0.0,0.0,0.0,0.0,0.0,74.0,0.0,0.0,62.0,249.0,0.0,0.0,0.0,0.0,0.0,64.0,0.0,0.0,0.0,143.0,0.0,0.0,0.0,0.0,206.0,262.0,846.0,0.0,0.0,0.0,0.0,0.0,0.0,960.0,0.0,0.0,0.0,0.0,0.0,0.0,null,0.0,0.0,716.0,0.0,0.0,0.0,null,0.0,0.0,134.0,0.0,336.0,0.0,0.0,7.0,0.0,0.0,null,0.0,11.0,0.0,1761.0,0.0,135.0,0.0,0.0,0.0,null,0.0,0.0,0.0,0.0,442.0,492.0,15.0,0.0,0.0,0.0,0.0,0.0,0.0,0.0,0.0,0.0,0.0,0.0,0.0,0.0,0.0,0.0,null,0.0,0.0,0.0,0.0,0.0,0.0,0.0,0.0,342.0,0.0,0.0,0.0,0.0,0.0,0.0,0.0,0.0,0.0,0.0,0.0,0.0,0.0,0.0,0.0,5.0,0.0,0.0,77.0,0.0,0.0,0.0,470.0,0.0,0.0,0.0,null,0.0,10.0,0.0,0.0,102.0,0.0,262.0,2778.0,0.0,0.0,0.0,356.0,0.0,50.0,0.0,0.0,40.0,0.0,null,1.0,0.0,9.0,0.0,2.0,0.0,0.0,594.0,0.0,0.0,0.0,298.0,0.0,4.0,0.0,0.0,0.0,0.0,0.0,0.0,19.0,3.0,662.0,0.0,0.0,0.0,0.0,0.0,0.0,0.0,5.0,0.0,0.0,0.0,1629.0,2566.0,2.0,0.0,0.0,372.0,5.0,0.0,60.0,1.0,0.0,681.0,50.0,0.0,3.0,1.0,0.0,576.0,1.0,0.0,1130.0,0.0,0.0,0.0,460.0,0.0,0.0,113.0,0.0,779.0,18.0,22.0,0.0,0.0,0.0,193.0,876.0,0.0,0.0,23.0,0.0,0.0,0.0,612.0,0.0,0.0,0.0,12.0,653.0,486.0,4.0,0.0,0.0,0.0,1008.0,0.0,0.0,48.0,0.0,0.0,0.0,783.0,0.0,0.0,0.0,0.0,0.0,0.0,0.0,0.0,0.0,55.0,880.0,233.0,654.0,654.0,870.0,175.0,0.0,0.0,0.0,0.0,0.0,0.0,0.0,0.0,0.0,0.0,867.0,2267.0,0.0,0.0,0.0,1929.0,0.0,0.0,0.0,0.0,0.0,161.0,37.0,576.0,0.0,0.0,194.0,0.0,729.0,0.0,0.0,0.0,0.0,277.0,0.0,0.0,0.0,0.0,0.0,0.0,0.0,0.0,602.0,0.0,0.0,2.0,0.0,null,0.0,167.0,0.0,0.0,2.0,1081.0,null,117.0,0.0,1792.0,63.0,0.0,0.0,0.0,0.0,0.0,0.0,0.0,0.0,1.0,0.0,0.0,0.0,0.0,0.0,0.0,0.0,377.0,0.0,1435.0,638.0,243.0,0.0,0.0,0.0,320.0,505.0,0.0,0.0,0.0,0.0,0.0,0.0,0.0,0.0,0.0,1.0,0.0,0.0,0.0,33.0,0.0,1.0,54.0,0.0,0.0,404.0,0.0,0.0,0.0,0.0,0.0,0.0,1025.0,566.0,51.0,0.0,0.0,0.0,591.0,635.0,0.0,0.0,481.0,0.0,0.0,739.0,6.0,0.0,0.0,546.0,0.0,25.0,0.0,2.0,132.0,1641.0,0.0,0.0,1.0,1.0,0.0,0.0,0.0,0.0,0.0,1536.0,0.0,0.0,18.0,265.0,0.0,null,31.0,0.0,0.0,0.0,0.0,0.0,0.0,63.0,0.0,608.0,0.0,0.0,0.0,0.0,19.0,0.0,0.0,1.0,0.0,94.0,1083.0,64.0,492.0,51.0,0.0,143.0,3.0,0.0,0.0,0.0,0.0,0.0,0.0,6331.0,3.0,0.0,1301.0,1.0,977.0,36.0,146.0,0.0,0.0,2036.0,0.0,54.0,0.0,0.0,0.0,863.0,73.0,0.0,278.0,0.0,0.0,10.0,0.0,0.0,0.0,44.0,0.0,0.0,0.0,290.0,0.0,27.0,13.0,341.0,0.0,0.0,22.0,7.0,280.0,0.0,null,0.0,28.0,195.0,0.0,0.0,0.0,0.0,208.0,0.0,0.0,0.0,null,0.0,0.0,0.0,206.0,0.0,1.0,0.0,0.0,2.0,0.0,11.0,0.0,0.0,149.0,0.0,0.0,72.0,269.0,396.0,89.0,0.0,0.0,0.0,601.0,0.0,0.0,0.0,0.0,0.0,0.0,0.0,5.0,0.0,3.0,0.0,0.0,343.0,0.0,0.0,0.0,0.0,0.0,0.0,0.0,0.0,148.0,9.0,2.0,0.0,0.0,870.0,0.0,1785.0,117.0,0.0,797.0,0.0,0.0,0.0,0.0,977.0,7.0,85.0,0.0,0.0,1.0,0.0,0.0,0.0,97.0,0.0,0.0,0.0,0.0,6221.0,967.0,0.0,0.0,0.0,0.0,163.0,525.0,0.0,3.0,0.0,0.0,2.0,11.0,0.0,1908.0,0.0,0.0,0.0,2.0,0.0,0.0,23.0,0.0,0.0,0.0,1083.0,1364.0,848.0,23.0,0.0,896.0,0.0,0.0,455.0,0.0,125.0,0.0,22.0,0.0,456.0,0.0,1.0,0.0,0.0,49.0,0.0,700.0,1729.0,0.0,0.0,87.0,0.0,0.0,594.0,0.0,0.0,0.0,0.0,0.0,0.0,1169.0,0.0,928.0,172.0,308.0,0.0,146.0,0.0,456.0,50.0,0.0,36.0,220.0,0.0,0.0,2370.0,0.0,1063.0,0.0,0.0,10.0,0.0,0.0,3.0,1.0,45.0,1.0,0.0,0.0,2.0,164.0,0.0,18.0,0.0,0.0,707.0,1.0,0.0,289.0,0.0,0.0,1401.0,246.0,0.0,19.0,0.0,124.0,1.0,0.0,40.0,9.0,613.0,0.0,210.0,139.0,0.0,0.0,497.0,0.0,0.0,2080.0,0.0,0.0,0.0,11.0,82.0,0.0,66.0,3.0,0.0,0.0,782.0,0.0,286.0,0.0,0.0,2.0,0.0,25.0,0.0,80.0,0.0,0.0,0.0,0.0,0.0,0.0,82.0,637.0,0.0,1.0,0.0,0.0,0.0,148.0,0.0,0.0,110.0,242.0,855.0,51.0,0.0,7.0,1363.0,0.0,0.0,0.0,80.0,0.0,0.0,0.0,0.0,0.0,0.0,0.0,0.0,0.0,0.0,1.0,0.0,1.0,1359.0,0.0,130.0,0.0,0.0,3.0,0.0,719.0,0.0,1404.0,0.0,0.0,0.0,0.0,0.0,182.0,0.0,628.0,4.0,0.0,0.0,0.0,717.0,0.0,40.0,40.0,null,267.0,0.0,354.0,200.0,0.0,0.0,0.0,0.0,0.0,0.0,222.0,3.0,0.0,863.0,0.0,0.0,0.0,5.0,0.0,341.0,0.0,0.0,0.0,0.0,412.0,null,0.0,0.0,7148.0,0.0,0.0,717.0,0.0,7.0,54.0,620.0,0.0,0.0,615.0,0.0,381.0,0.0,496.0,0.0,0.0,0.0,0.0,0.0,0.0,9.0,0.0,1.0,0.0,null,0.0,0.0,32.0,0.0,0.0,0.0,0.0,3.0,0.0,120.0,0.0,0.0,0.0,0.0,0.0,22.0,170.0,1598.0,336.0,0.0,0.0,0.0,0.0,346.0,0.0,0.0,0.0,0.0,47.0,0.0,0.0,0.0,40.0,10.0,0.0,165.0,1291.0,0.0,0.0,0.0,0.0,0.0,0.0,0.0,65.0,0.0,0.0,8.0,27.0,0.0,4407.0,0.0,0.0,0.0,2.0,0.0,0.0,563.0,1105.0,665.0,null,0.0,626.0,21.0,0.0,0.0,0.0,0.0,0.0,null,0.0,0.0,0.0,0.0,23492.0,0.0,0.0,0.0,699.0,5.0,0.0,0.0,50.0,0.0,0.0,456.0,816.0,0.0,0.0,0.0,0.0,409.0,0.0,0.0,0.0,307.0,623.0,8.0,23.0,0.0,0.0,0.0,0.0,164.0,0.0,null,62.0,0.0,1970.0,0.0,13.0,87.0,0.0,0.0,689.0,0.0,0.0,0.0,0.0,947.0,0.0,1.0,0.0,49.0,0.0,0.0,0.0,0.0,0.0,0.0,0.0,0.0,204.0,1357.0,0.0,0.0,0.0,338.0,15.0,2.0,0.0,0.0,0.0,0.0,0.0,0.0,0.0,1072.0,0.0,719.0,591.0,1069.0,null,null,0.0,0.0,0.0,0.0,0.0,758.0,0.0,1353.0,0.0,0.0,58.0,0.0,0.0,0.0,0.0,0.0,784.0,761.0,0.0,0.0,22.0,0.0,0.0,0.0,16.0,0.0,0.0,0.0,0.0,51.0,496.0,28.0,0.0,123.0,0.0,0.0,0.0,16.0,631.0,0.0,0.0,0.0,0.0,23.0,234.0,0.0,184.0,0.0,1296.0,0.0,0.0,0.0,20.0,0.0,0.0,0.0,0.0,0.0,0.0,2.0,3.0,32.0,0.0,11.0,14.0,0.0,0.0,1.0,0.0,0.0,0.0,0.0,1.0,638.0,0.0,0.0,0.0,0.0,0.0,0.0,0.0,0.0,0.0,0.0,0.0,516.0,0.0,0.0,null,0.0,792.0,1.0,0.0,0.0,0.0,5.0,1.0,71.0,2.0,0.0,0.0,0.0,0.0,0.0,0.0,null,0.0,684.0,453.0,11.0,6.0,0.0,null,807.0,483.0,1.0,null,0.0,0.0,0.0,0.0,0.0,0.0,1338.0,52.0,0.0,0.0,8.0,0.0,0.0,0.0,114.0,0.0,0.0,0.0,0.0,0.0,4.0,null,0.0,89.0,0.0,0.0,0.0,45.0,0.0,null,0.0,0.0,977.0,0.0,13.0,0.0,0.0,0.0,0.0,0.0,715.0,0.0,0.0,0.0,668.0,638.0,0.0,0.0,918.0,600.0,0.0,0.0,0.0,0.0,973.0,null,0.0,205.0,0.0,0.0,0.0,0.0,1085.0,0.0,0.0,0.0,0.0,0.0,0.0,0.0,510.0,149.0,0.0,0.0,0.0,0.0,0.0,0.0,1872.0,0.0,0.0],\"xaxis\":\"x\",\"yaxis\":\"y\",\"type\":\"histogram\"}],                        {\"template\":{\"data\":{\"bar\":[{\"error_x\":{\"color\":\"#2a3f5f\"},\"error_y\":{\"color\":\"#2a3f5f\"},\"marker\":{\"line\":{\"color\":\"#E5ECF6\",\"width\":0.5},\"pattern\":{\"fillmode\":\"overlay\",\"size\":10,\"solidity\":0.2}},\"type\":\"bar\"}],\"barpolar\":[{\"marker\":{\"line\":{\"color\":\"#E5ECF6\",\"width\":0.5},\"pattern\":{\"fillmode\":\"overlay\",\"size\":10,\"solidity\":0.2}},\"type\":\"barpolar\"}],\"carpet\":[{\"aaxis\":{\"endlinecolor\":\"#2a3f5f\",\"gridcolor\":\"white\",\"linecolor\":\"white\",\"minorgridcolor\":\"white\",\"startlinecolor\":\"#2a3f5f\"},\"baxis\":{\"endlinecolor\":\"#2a3f5f\",\"gridcolor\":\"white\",\"linecolor\":\"white\",\"minorgridcolor\":\"white\",\"startlinecolor\":\"#2a3f5f\"},\"type\":\"carpet\"}],\"choropleth\":[{\"colorbar\":{\"outlinewidth\":0,\"ticks\":\"\"},\"type\":\"choropleth\"}],\"contour\":[{\"colorbar\":{\"outlinewidth\":0,\"ticks\":\"\"},\"colorscale\":[[0.0,\"#0d0887\"],[0.1111111111111111,\"#46039f\"],[0.2222222222222222,\"#7201a8\"],[0.3333333333333333,\"#9c179e\"],[0.4444444444444444,\"#bd3786\"],[0.5555555555555556,\"#d8576b\"],[0.6666666666666666,\"#ed7953\"],[0.7777777777777778,\"#fb9f3a\"],[0.8888888888888888,\"#fdca26\"],[1.0,\"#f0f921\"]],\"type\":\"contour\"}],\"contourcarpet\":[{\"colorbar\":{\"outlinewidth\":0,\"ticks\":\"\"},\"type\":\"contourcarpet\"}],\"heatmap\":[{\"colorbar\":{\"outlinewidth\":0,\"ticks\":\"\"},\"colorscale\":[[0.0,\"#0d0887\"],[0.1111111111111111,\"#46039f\"],[0.2222222222222222,\"#7201a8\"],[0.3333333333333333,\"#9c179e\"],[0.4444444444444444,\"#bd3786\"],[0.5555555555555556,\"#d8576b\"],[0.6666666666666666,\"#ed7953\"],[0.7777777777777778,\"#fb9f3a\"],[0.8888888888888888,\"#fdca26\"],[1.0,\"#f0f921\"]],\"type\":\"heatmap\"}],\"heatmapgl\":[{\"colorbar\":{\"outlinewidth\":0,\"ticks\":\"\"},\"colorscale\":[[0.0,\"#0d0887\"],[0.1111111111111111,\"#46039f\"],[0.2222222222222222,\"#7201a8\"],[0.3333333333333333,\"#9c179e\"],[0.4444444444444444,\"#bd3786\"],[0.5555555555555556,\"#d8576b\"],[0.6666666666666666,\"#ed7953\"],[0.7777777777777778,\"#fb9f3a\"],[0.8888888888888888,\"#fdca26\"],[1.0,\"#f0f921\"]],\"type\":\"heatmapgl\"}],\"histogram\":[{\"marker\":{\"pattern\":{\"fillmode\":\"overlay\",\"size\":10,\"solidity\":0.2}},\"type\":\"histogram\"}],\"histogram2d\":[{\"colorbar\":{\"outlinewidth\":0,\"ticks\":\"\"},\"colorscale\":[[0.0,\"#0d0887\"],[0.1111111111111111,\"#46039f\"],[0.2222222222222222,\"#7201a8\"],[0.3333333333333333,\"#9c179e\"],[0.4444444444444444,\"#bd3786\"],[0.5555555555555556,\"#d8576b\"],[0.6666666666666666,\"#ed7953\"],[0.7777777777777778,\"#fb9f3a\"],[0.8888888888888888,\"#fdca26\"],[1.0,\"#f0f921\"]],\"type\":\"histogram2d\"}],\"histogram2dcontour\":[{\"colorbar\":{\"outlinewidth\":0,\"ticks\":\"\"},\"colorscale\":[[0.0,\"#0d0887\"],[0.1111111111111111,\"#46039f\"],[0.2222222222222222,\"#7201a8\"],[0.3333333333333333,\"#9c179e\"],[0.4444444444444444,\"#bd3786\"],[0.5555555555555556,\"#d8576b\"],[0.6666666666666666,\"#ed7953\"],[0.7777777777777778,\"#fb9f3a\"],[0.8888888888888888,\"#fdca26\"],[1.0,\"#f0f921\"]],\"type\":\"histogram2dcontour\"}],\"mesh3d\":[{\"colorbar\":{\"outlinewidth\":0,\"ticks\":\"\"},\"type\":\"mesh3d\"}],\"parcoords\":[{\"line\":{\"colorbar\":{\"outlinewidth\":0,\"ticks\":\"\"}},\"type\":\"parcoords\"}],\"pie\":[{\"automargin\":true,\"type\":\"pie\"}],\"scatter\":[{\"marker\":{\"colorbar\":{\"outlinewidth\":0,\"ticks\":\"\"}},\"type\":\"scatter\"}],\"scatter3d\":[{\"line\":{\"colorbar\":{\"outlinewidth\":0,\"ticks\":\"\"}},\"marker\":{\"colorbar\":{\"outlinewidth\":0,\"ticks\":\"\"}},\"type\":\"scatter3d\"}],\"scattercarpet\":[{\"marker\":{\"colorbar\":{\"outlinewidth\":0,\"ticks\":\"\"}},\"type\":\"scattercarpet\"}],\"scattergeo\":[{\"marker\":{\"colorbar\":{\"outlinewidth\":0,\"ticks\":\"\"}},\"type\":\"scattergeo\"}],\"scattergl\":[{\"marker\":{\"colorbar\":{\"outlinewidth\":0,\"ticks\":\"\"}},\"type\":\"scattergl\"}],\"scattermapbox\":[{\"marker\":{\"colorbar\":{\"outlinewidth\":0,\"ticks\":\"\"}},\"type\":\"scattermapbox\"}],\"scatterpolar\":[{\"marker\":{\"colorbar\":{\"outlinewidth\":0,\"ticks\":\"\"}},\"type\":\"scatterpolar\"}],\"scatterpolargl\":[{\"marker\":{\"colorbar\":{\"outlinewidth\":0,\"ticks\":\"\"}},\"type\":\"scatterpolargl\"}],\"scatterternary\":[{\"marker\":{\"colorbar\":{\"outlinewidth\":0,\"ticks\":\"\"}},\"type\":\"scatterternary\"}],\"surface\":[{\"colorbar\":{\"outlinewidth\":0,\"ticks\":\"\"},\"colorscale\":[[0.0,\"#0d0887\"],[0.1111111111111111,\"#46039f\"],[0.2222222222222222,\"#7201a8\"],[0.3333333333333333,\"#9c179e\"],[0.4444444444444444,\"#bd3786\"],[0.5555555555555556,\"#d8576b\"],[0.6666666666666666,\"#ed7953\"],[0.7777777777777778,\"#fb9f3a\"],[0.8888888888888888,\"#fdca26\"],[1.0,\"#f0f921\"]],\"type\":\"surface\"}],\"table\":[{\"cells\":{\"fill\":{\"color\":\"#EBF0F8\"},\"line\":{\"color\":\"white\"}},\"header\":{\"fill\":{\"color\":\"#C8D4E3\"},\"line\":{\"color\":\"white\"}},\"type\":\"table\"}]},\"layout\":{\"annotationdefaults\":{\"arrowcolor\":\"#2a3f5f\",\"arrowhead\":0,\"arrowwidth\":1},\"autotypenumbers\":\"strict\",\"coloraxis\":{\"colorbar\":{\"outlinewidth\":0,\"ticks\":\"\"}},\"colorscale\":{\"diverging\":[[0,\"#8e0152\"],[0.1,\"#c51b7d\"],[0.2,\"#de77ae\"],[0.3,\"#f1b6da\"],[0.4,\"#fde0ef\"],[0.5,\"#f7f7f7\"],[0.6,\"#e6f5d0\"],[0.7,\"#b8e186\"],[0.8,\"#7fbc41\"],[0.9,\"#4d9221\"],[1,\"#276419\"]],\"sequential\":[[0.0,\"#0d0887\"],[0.1111111111111111,\"#46039f\"],[0.2222222222222222,\"#7201a8\"],[0.3333333333333333,\"#9c179e\"],[0.4444444444444444,\"#bd3786\"],[0.5555555555555556,\"#d8576b\"],[0.6666666666666666,\"#ed7953\"],[0.7777777777777778,\"#fb9f3a\"],[0.8888888888888888,\"#fdca26\"],[1.0,\"#f0f921\"]],\"sequentialminus\":[[0.0,\"#0d0887\"],[0.1111111111111111,\"#46039f\"],[0.2222222222222222,\"#7201a8\"],[0.3333333333333333,\"#9c179e\"],[0.4444444444444444,\"#bd3786\"],[0.5555555555555556,\"#d8576b\"],[0.6666666666666666,\"#ed7953\"],[0.7777777777777778,\"#fb9f3a\"],[0.8888888888888888,\"#fdca26\"],[1.0,\"#f0f921\"]]},\"colorway\":[\"#636efa\",\"#EF553B\",\"#00cc96\",\"#ab63fa\",\"#FFA15A\",\"#19d3f3\",\"#FF6692\",\"#B6E880\",\"#FF97FF\",\"#FECB52\"],\"font\":{\"color\":\"#2a3f5f\"},\"geo\":{\"bgcolor\":\"white\",\"lakecolor\":\"white\",\"landcolor\":\"#E5ECF6\",\"showlakes\":true,\"showland\":true,\"subunitcolor\":\"white\"},\"hoverlabel\":{\"align\":\"left\"},\"hovermode\":\"closest\",\"mapbox\":{\"style\":\"light\"},\"paper_bgcolor\":\"white\",\"plot_bgcolor\":\"#E5ECF6\",\"polar\":{\"angularaxis\":{\"gridcolor\":\"white\",\"linecolor\":\"white\",\"ticks\":\"\"},\"bgcolor\":\"#E5ECF6\",\"radialaxis\":{\"gridcolor\":\"white\",\"linecolor\":\"white\",\"ticks\":\"\"}},\"scene\":{\"xaxis\":{\"backgroundcolor\":\"#E5ECF6\",\"gridcolor\":\"white\",\"gridwidth\":2,\"linecolor\":\"white\",\"showbackground\":true,\"ticks\":\"\",\"zerolinecolor\":\"white\"},\"yaxis\":{\"backgroundcolor\":\"#E5ECF6\",\"gridcolor\":\"white\",\"gridwidth\":2,\"linecolor\":\"white\",\"showbackground\":true,\"ticks\":\"\",\"zerolinecolor\":\"white\"},\"zaxis\":{\"backgroundcolor\":\"#E5ECF6\",\"gridcolor\":\"white\",\"gridwidth\":2,\"linecolor\":\"white\",\"showbackground\":true,\"ticks\":\"\",\"zerolinecolor\":\"white\"}},\"shapedefaults\":{\"line\":{\"color\":\"#2a3f5f\"}},\"ternary\":{\"aaxis\":{\"gridcolor\":\"white\",\"linecolor\":\"white\",\"ticks\":\"\"},\"baxis\":{\"gridcolor\":\"white\",\"linecolor\":\"white\",\"ticks\":\"\"},\"bgcolor\":\"#E5ECF6\",\"caxis\":{\"gridcolor\":\"white\",\"linecolor\":\"white\",\"ticks\":\"\"}},\"title\":{\"x\":0.05},\"xaxis\":{\"automargin\":true,\"gridcolor\":\"white\",\"linecolor\":\"white\",\"ticks\":\"\",\"title\":{\"standoff\":15},\"zerolinecolor\":\"white\",\"zerolinewidth\":2},\"yaxis\":{\"automargin\":true,\"gridcolor\":\"white\",\"linecolor\":\"white\",\"ticks\":\"\",\"title\":{\"standoff\":15},\"zerolinecolor\":\"white\",\"zerolinewidth\":2}}},\"xaxis\":{\"anchor\":\"y\",\"domain\":[0.0,1.0],\"title\":{\"text\":\"ShoppingMall\"}},\"yaxis\":{\"anchor\":\"x\",\"domain\":[0.0,1.0],\"title\":{\"text\":\"count\"}},\"legend\":{\"tracegroupgap\":0},\"margin\":{\"t\":60},\"barmode\":\"relative\"},                        {\"responsive\": true}                    ).then(function(){\n",
              "                            \n",
              "var gd = document.getElementById('839c702b-cdab-40a8-a27e-55ca99e60546');\n",
              "var x = new MutationObserver(function (mutations, observer) {{\n",
              "        var display = window.getComputedStyle(gd).display;\n",
              "        if (!display || display === 'none') {{\n",
              "            console.log([gd, 'removed!']);\n",
              "            Plotly.purge(gd);\n",
              "            observer.disconnect();\n",
              "        }}\n",
              "}});\n",
              "\n",
              "// Listen for the removal of the full notebook cells\n",
              "var notebookContainer = gd.closest('#notebook-container');\n",
              "if (notebookContainer) {{\n",
              "    x.observe(notebookContainer, {childList: true});\n",
              "}}\n",
              "\n",
              "// Listen for the clearing of the current output cell\n",
              "var outputEl = gd.closest('.output');\n",
              "if (outputEl) {{\n",
              "    x.observe(outputEl, {childList: true});\n",
              "}}\n",
              "\n",
              "                        })                };                            </script>        </div>\n",
              "</body>\n",
              "</html>"
            ]
          },
          "metadata": {}
        }
      ]
    },
    {
      "cell_type": "code",
      "source": [
        "# 6. Distribution of Spa Bills\n",
        "px.histogram(data_frame = train_df, x=\"Spa\")"
      ],
      "metadata": {
        "colab": {
          "base_uri": "https://localhost:8080/",
          "height": 542
        },
        "id": "aDL_uMkUwSba",
        "outputId": "eecf4f97-849b-47b6-d5bb-81195d41de4d"
      },
      "execution_count": 13,
      "outputs": [
        {
          "output_type": "display_data",
          "data": {
            "text/html": [
              "<html>\n",
              "<head><meta charset=\"utf-8\" /></head>\n",
              "<body>\n",
              "    <div>            <script src=\"https://cdnjs.cloudflare.com/ajax/libs/mathjax/2.7.5/MathJax.js?config=TeX-AMS-MML_SVG\"></script><script type=\"text/javascript\">if (window.MathJax) {MathJax.Hub.Config({SVG: {font: \"STIX-Web\"}});}</script>                <script type=\"text/javascript\">window.PlotlyConfig = {MathJaxConfig: 'local'};</script>\n",
              "        <script src=\"https://cdn.plot.ly/plotly-2.8.3.min.js\"></script>                <div id=\"cde425a7-9260-4c1e-b3de-a6a369c1fd68\" class=\"plotly-graph-div\" style=\"height:525px; width:100%;\"></div>            <script type=\"text/javascript\">                                    window.PLOTLYENV=window.PLOTLYENV || {};                                    if (document.getElementById(\"cde425a7-9260-4c1e-b3de-a6a369c1fd68\")) {                    Plotly.newPlot(                        \"cde425a7-9260-4c1e-b3de-a6a369c1fd68\",                        [{\"alignmentgroup\":\"True\",\"bingroup\":\"x\",\"hovertemplate\":\"Spa=%{x}<br>count=%{y}<extra></extra>\",\"legendgroup\":\"\",\"marker\":{\"color\":\"#636efa\",\"pattern\":{\"shape\":\"\"}},\"name\":\"\",\"offsetgroup\":\"\",\"orientation\":\"v\",\"showlegend\":false,\"x\":[0.0,549.0,6715.0,3329.0,565.0,291.0,0.0,0.0,216.0,0.0,0.0,110.0,0.0,0.0,2.0,0.0,0.0,0.0,0.0,0.0,0.0,0.0,0.0,0.0,0.0,0.0,0.0,0.0,0.0,998.0,1438.0,48.0,437.0,0.0,0.0,990.0,0.0,951.0,20.0,2606.0,0.0,0.0,2511.0,0.0,0.0,0.0,0.0,0.0,null,1379.0,4683.0,0.0,0.0,0.0,286.0,0.0,1377.0,17.0,0.0,0.0,0.0,0.0,0.0,0.0,253.0,6.0,1.0,0.0,0.0,0.0,0.0,0.0,0.0,321.0,0.0,0.0,0.0,0.0,0.0,0.0,638.0,0.0,0.0,0.0,188.0,1.0,0.0,0.0,3.0,32.0,0.0,37.0,0.0,0.0,830.0,0.0,0.0,0.0,2.0,0.0,0.0,0.0,0.0,3929.0,0.0,1868.0,0.0,0.0,17.0,0.0,238.0,0.0,12.0,65.0,0.0,0.0,699.0,0.0,0.0,0.0,316.0,0.0,0.0,0.0,0.0,0.0,25.0,0.0,564.0,0.0,0.0,0.0,0.0,0.0,0.0,0.0,0.0,0.0,0.0,0.0,0.0,0.0,0.0,null,0.0,0.0,0.0,22.0,0.0,221.0,0.0,0.0,5.0,115.0,14970.0,28.0,2.0,0.0,0.0,299.0,0.0,0.0,0.0,0.0,202.0,0.0,0.0,0.0,898.0,0.0,1072.0,0.0,0.0,0.0,795.0,0.0,0.0,0.0,0.0,0.0,0.0,878.0,0.0,0.0,1125.0,0.0,0.0,0.0,0.0,182.0,51.0,10.0,0.0,0.0,27.0,0.0,0.0,0.0,0.0,0.0,0.0,0.0,0.0,0.0,2.0,1.0,0.0,43.0,234.0,0.0,11.0,0.0,0.0,0.0,1634.0,0.0,713.0,1720.0,0.0,1438.0,0.0,0.0,92.0,0.0,4812.0,283.0,0.0,0.0,0.0,0.0,584.0,27.0,8620.0,0.0,0.0,0.0,0.0,2.0,0.0,0.0,0.0,299.0,981.0,0.0,0.0,null,754.0,0.0,0.0,0.0,53.0,888.0,14.0,0.0,0.0,0.0,0.0,0.0,0.0,162.0,0.0,6.0,0.0,0.0,1157.0,0.0,0.0,0.0,1090.0,null,17.0,0.0,0.0,0.0,0.0,1851.0,20.0,1.0,0.0,6.0,4476.0,0.0,0.0,318.0,0.0,0.0,0.0,170.0,0.0,null,0.0,0.0,0.0,0.0,0.0,0.0,0.0,46.0,148.0,0.0,0.0,1476.0,0.0,0.0,3.0,0.0,0.0,0.0,0.0,274.0,0.0,0.0,0.0,3.0,0.0,0.0,0.0,0.0,0.0,124.0,0.0,0.0,0.0,0.0,280.0,685.0,15.0,0.0,177.0,441.0,0.0,2766.0,0.0,0.0,6.0,176.0,5132.0,0.0,2579.0,0.0,0.0,1173.0,0.0,0.0,0.0,0.0,0.0,4.0,3693.0,0.0,0.0,25.0,0.0,0.0,0.0,0.0,0.0,1508.0,8157.0,3835.0,0.0,0.0,6011.0,0.0,13.0,0.0,0.0,310.0,0.0,5.0,0.0,0.0,2.0,567.0,140.0,1537.0,352.0,0.0,0.0,5467.0,0.0,13.0,34.0,0.0,0.0,562.0,715.0,2.0,0.0,16.0,0.0,0.0,0.0,2962.0,0.0,0.0,0.0,622.0,467.0,26.0,0.0,1936.0,722.0,0.0,0.0,0.0,24.0,77.0,0.0,0.0,32.0,0.0,0.0,0.0,0.0,0.0,0.0,745.0,0.0,0.0,59.0,26.0,0.0,0.0,0.0,59.0,0.0,0.0,612.0,0.0,0.0,null,0.0,1178.0,146.0,1.0,0.0,0.0,0.0,5183.0,0.0,9.0,0.0,9.0,144.0,0.0,0.0,1619.0,0.0,0.0,5.0,0.0,3348.0,4303.0,0.0,0.0,0.0,null,0.0,0.0,82.0,null,471.0,0.0,29.0,0.0,0.0,0.0,0.0,401.0,0.0,0.0,0.0,0.0,323.0,59.0,0.0,0.0,0.0,0.0,2.0,0.0,0.0,0.0,0.0,0.0,0.0,0.0,0.0,0.0,3427.0,0.0,0.0,0.0,557.0,5732.0,641.0,320.0,0.0,0.0,0.0,0.0,0.0,9.0,0.0,45.0,0.0,681.0,0.0,16.0,0.0,252.0,0.0,762.0,445.0,0.0,0.0,764.0,0.0,2525.0,1.0,0.0,0.0,0.0,32.0,442.0,21.0,0.0,0.0,1354.0,0.0,0.0,0.0,1.0,0.0,0.0,146.0,0.0,0.0,0.0,0.0,0.0,1814.0,0.0,854.0,54.0,0.0,110.0,105.0,0.0,0.0,0.0,183.0,0.0,0.0,0.0,0.0,0.0,0.0,0.0,0.0,0.0,0.0,0.0,1.0,0.0,1.0,0.0,670.0,422.0,0.0,0.0,0.0,0.0,0.0,124.0,0.0,9.0,0.0,0.0,0.0,0.0,881.0,null,1852.0,0.0,0.0,502.0,0.0,0.0,null,0.0,0.0,0.0,49.0,0.0,0.0,0.0,0.0,1197.0,1018.0,0.0,0.0,150.0,140.0,0.0,11.0,339.0,675.0,0.0,0.0,25.0,1958.0,118.0,1517.0,2210.0,0.0,0.0,0.0,0.0,1.0,0.0,0.0,0.0,0.0,0.0,0.0,0.0,768.0,17.0,140.0,20.0,0.0,0.0,1360.0,49.0,4507.0,0.0,23.0,989.0,9.0,0.0,7.0,0.0,0.0,0.0,541.0,0.0,0.0,0.0,0.0,0.0,0.0,0.0,0.0,55.0,0.0,12.0,0.0,41.0,0.0,0.0,0.0,0.0,0.0,null,4343.0,74.0,12.0,0.0,8.0,0.0,387.0,0.0,0.0,0.0,0.0,452.0,0.0,0.0,31.0,1132.0,0.0,30.0,0.0,0.0,0.0,0.0,0.0,0.0,0.0,0.0,261.0,0.0,184.0,0.0,152.0,786.0,0.0,0.0,4.0,0.0,188.0,38.0,0.0,2247.0,0.0,0.0,0.0,0.0,41.0,0.0,3190.0,0.0,0.0,0.0,4302.0,0.0,1022.0,48.0,0.0,0.0,12.0,null,15.0,93.0,null,0.0,0.0,170.0,0.0,0.0,0.0,0.0,0.0,4476.0,0.0,0.0,0.0,175.0,0.0,1018.0,0.0,3.0,0.0,0.0,0.0,0.0,0.0,0.0,2177.0,89.0,0.0,0.0,0.0,7.0,0.0,0.0,874.0,0.0,0.0,0.0,1590.0,0.0,1953.0,0.0,0.0,0.0,0.0,0.0,304.0,0.0,0.0,0.0,0.0,0.0,null,4614.0,0.0,0.0,0.0,0.0,0.0,0.0,0.0,0.0,55.0,0.0,0.0,59.0,7.0,2.0,795.0,0.0,838.0,424.0,0.0,0.0,0.0,266.0,0.0,0.0,0.0,0.0,0.0,0.0,1.0,0.0,0.0,0.0,0.0,0.0,0.0,0.0,0.0,2.0,0.0,0.0,92.0,246.0,2529.0,0.0,0.0,2.0,0.0,447.0,0.0,31.0,18.0,0.0,0.0,0.0,10.0,9.0,0.0,0.0,0.0,0.0,0.0,413.0,null,148.0,435.0,null,9038.0,145.0,0.0,136.0,31.0,369.0,5907.0,544.0,139.0,886.0,0.0,0.0,169.0,15.0,0.0,0.0,0.0,0.0,0.0,507.0,2761.0,43.0,0.0,135.0,0.0,126.0,0.0,2121.0,1867.0,18.0,630.0,0.0,0.0,0.0,0.0,1175.0,0.0,0.0,0.0,342.0,0.0,0.0,0.0,0.0,null,0.0,5.0,0.0,0.0,0.0,0.0,0.0,304.0,167.0,0.0,0.0,0.0,0.0,1026.0,3.0,0.0,0.0,0.0,0.0,0.0,0.0,0.0,0.0,0.0,0.0,136.0,0.0,0.0,0.0,12.0,150.0,0.0,55.0,0.0,4.0,0.0,184.0,9927.0,21.0,0.0,0.0,1748.0,449.0,0.0,11.0,0.0,22.0,253.0,0.0,0.0,0.0,0.0,0.0,0.0,9.0,0.0,0.0,0.0,0.0,0.0,6.0,0.0,0.0,0.0,0.0,554.0,1125.0,0.0,1.0,0.0,954.0,1277.0,0.0,594.0,0.0,202.0,0.0,0.0,38.0,279.0,0.0,0.0,0.0,8.0,0.0,0.0,675.0,0.0,0.0,499.0,5.0,0.0,960.0,0.0,815.0,0.0,0.0,3.0,0.0,0.0,74.0,0.0,0.0,0.0,0.0,0.0,0.0,53.0,21.0,0.0,295.0,0.0,0.0,0.0,0.0,14.0,0.0,0.0,0.0,283.0,0.0,0.0,0.0,564.0,0.0,0.0,852.0,16.0,0.0,0.0,0.0,0.0,641.0,0.0,0.0,0.0,677.0,0.0,192.0,0.0,0.0,0.0,0.0,0.0,245.0,0.0,1710.0,0.0,1.0,16.0,246.0,0.0,55.0,3.0,58.0,0.0,0.0,0.0,0.0,0.0,0.0,0.0,0.0,743.0,135.0,0.0,787.0,0.0,199.0,0.0,0.0,0.0,0.0,3.0,0.0,0.0,0.0,0.0,0.0,0.0,0.0,0.0,0.0,0.0,7368.0,8.0,118.0,0.0,0.0,26.0,0.0,0.0,0.0,0.0,0.0,0.0,0.0,0.0,null,0.0,0.0,0.0,0.0,3072.0,0.0,43.0,16139.0,103.0,0.0,32.0,205.0,0.0,0.0,1.0,0.0,68.0,0.0,0.0,0.0,0.0,0.0,0.0,0.0,0.0,4.0,0.0,0.0,0.0,679.0,0.0,0.0,0.0,0.0,0.0,4.0,0.0,0.0,3026.0,71.0,0.0,187.0,0.0,0.0,0.0,337.0,0.0,0.0,703.0,354.0,30.0,0.0,0.0,0.0,0.0,0.0,0.0,78.0,0.0,null,560.0,0.0,0.0,0.0,0.0,2143.0,345.0,0.0,1608.0,131.0,0.0,28.0,0.0,0.0,33.0,291.0,0.0,0.0,4651.0,0.0,0.0,27.0,1.0,831.0,0.0,40.0,0.0,115.0,1374.0,371.0,565.0,0.0,61.0,0.0,229.0,null,0.0,10.0,1737.0,0.0,0.0,50.0,0.0,51.0,0.0,0.0,0.0,759.0,40.0,0.0,0.0,0.0,0.0,0.0,714.0,0.0,0.0,0.0,0.0,null,1.0,0.0,0.0,0.0,0.0,202.0,842.0,0.0,0.0,0.0,0.0,719.0,5.0,380.0,146.0,0.0,0.0,0.0,0.0,0.0,0.0,1010.0,0.0,0.0,0.0,8145.0,3198.0,0.0,0.0,4948.0,0.0,0.0,0.0,0.0,0.0,4664.0,0.0,0.0,0.0,0.0,0.0,0.0,0.0,0.0,0.0,0.0,0.0,0.0,458.0,1.0,0.0,203.0,229.0,0.0,0.0,610.0,0.0,0.0,721.0,1.0,369.0,0.0,0.0,460.0,202.0,0.0,0.0,660.0,0.0,0.0,0.0,0.0,0.0,310.0,0.0,0.0,119.0,3656.0,0.0,0.0,0.0,3.0,0.0,0.0,0.0,0.0,42.0,null,0.0,769.0,2735.0,0.0,0.0,0.0,260.0,0.0,0.0,2.0,0.0,0.0,0.0,0.0,0.0,0.0,0.0,16.0,0.0,151.0,298.0,0.0,489.0,0.0,560.0,0.0,59.0,0.0,0.0,null,78.0,4170.0,0.0,8.0,401.0,0.0,0.0,0.0,0.0,0.0,17.0,0.0,1520.0,0.0,0.0,26.0,0.0,0.0,0.0,0.0,0.0,0.0,0.0,692.0,0.0,59.0,0.0,0.0,0.0,0.0,250.0,460.0,1.0,0.0,0.0,133.0,0.0,0.0,0.0,195.0,760.0,null,11.0,0.0,0.0,1.0,0.0,0.0,0.0,5467.0,3208.0,0.0,26.0,0.0,51.0,6255.0,0.0,5.0,0.0,4060.0,0.0,16.0,0.0,10.0,16594.0,4422.0,323.0,0.0,0.0,0.0,0.0,1.0,0.0,61.0,null,417.0,0.0,0.0,0.0,0.0,0.0,0.0,813.0,3998.0,817.0,2.0,0.0,0.0,0.0,2.0,0.0,0.0,0.0,0.0,0.0,0.0,0.0,594.0,1.0,0.0,9.0,2.0,419.0,441.0,null,0.0,0.0,284.0,0.0,1966.0,6431.0,0.0,0.0,0.0,0.0,0.0,0.0,0.0,254.0,0.0,0.0,2.0,45.0,0.0,277.0,1.0,0.0,0.0,21.0,1440.0,0.0,3718.0,720.0,20.0,0.0,0.0,67.0,32.0,0.0,0.0,42.0,0.0,0.0,0.0,2987.0,0.0,0.0,0.0,102.0,0.0,0.0,0.0,9.0,0.0,0.0,0.0,723.0,0.0,0.0,0.0,176.0,1.0,0.0,0.0,0.0,0.0,371.0,0.0,0.0,0.0,724.0,12.0,33.0,320.0,0.0,732.0,2.0,null,0.0,0.0,0.0,0.0,747.0,2681.0,0.0,0.0,0.0,616.0,1435.0,2.0,0.0,2.0,0.0,0.0,35.0,685.0,0.0,0.0,515.0,0.0,239.0,0.0,0.0,null,0.0,0.0,0.0,2113.0,0.0,0.0,0.0,0.0,732.0,0.0,0.0,0.0,0.0,0.0,0.0,71.0,0.0,307.0,618.0,0.0,0.0,0.0,3.0,0.0,0.0,null,0.0,0.0,774.0,0.0,0.0,0.0,109.0,4.0,0.0,905.0,0.0,2136.0,0.0,1306.0,542.0,0.0,null,101.0,16.0,0.0,0.0,2.0,0.0,6704.0,797.0,1.0,0.0,0.0,0.0,793.0,0.0,0.0,0.0,0.0,0.0,0.0,0.0,0.0,5.0,0.0,0.0,2.0,15331.0,773.0,0.0,0.0,0.0,6200.0,0.0,0.0,0.0,2.0,0.0,0.0,0.0,8.0,0.0,20.0,102.0,0.0,825.0,21.0,2421.0,0.0,0.0,0.0,236.0,0.0,0.0,0.0,0.0,135.0,73.0,0.0,0.0,359.0,87.0,568.0,0.0,0.0,0.0,0.0,0.0,0.0,467.0,0.0,0.0,0.0,0.0,221.0,0.0,13.0,2.0,0.0,0.0,0.0,0.0,0.0,0.0,39.0,318.0,26.0,49.0,20.0,174.0,59.0,0.0,0.0,0.0,0.0,6.0,57.0,0.0,732.0,0.0,0.0,null,39.0,0.0,0.0,0.0,0.0,0.0,0.0,0.0,73.0,0.0,null,null,34.0,1208.0,0.0,0.0,376.0,84.0,0.0,0.0,0.0,0.0,0.0,787.0,553.0,0.0,0.0,0.0,140.0,2.0,51.0,0.0,0.0,12.0,0.0,360.0,6.0,77.0,0.0,0.0,0.0,182.0,2.0,56.0,624.0,123.0,2.0,2204.0,207.0,0.0,0.0,0.0,4102.0,0.0,1.0,0.0,null,0.0,0.0,0.0,788.0,0.0,0.0,1282.0,0.0,735.0,0.0,0.0,0.0,0.0,27.0,52.0,0.0,0.0,391.0,0.0,0.0,0.0,4.0,0.0,0.0,0.0,0.0,646.0,0.0,0.0,0.0,172.0,0.0,0.0,0.0,486.0,806.0,724.0,19.0,0.0,86.0,0.0,0.0,0.0,611.0,46.0,728.0,0.0,0.0,0.0,0.0,309.0,363.0,5037.0,78.0,1806.0,0.0,0.0,0.0,0.0,1431.0,0.0,0.0,0.0,126.0,1095.0,5.0,37.0,0.0,12.0,0.0,0.0,1339.0,0.0,0.0,4.0,0.0,0.0,0.0,0.0,166.0,0.0,null,0.0,0.0,110.0,39.0,0.0,3.0,0.0,56.0,0.0,731.0,0.0,101.0,8.0,0.0,0.0,0.0,0.0,0.0,1.0,393.0,0.0,4.0,6.0,824.0,0.0,0.0,1200.0,375.0,0.0,0.0,2448.0,633.0,0.0,0.0,10.0,1.0,null,0.0,3175.0,0.0,0.0,0.0,0.0,0.0,62.0,0.0,0.0,0.0,0.0,28.0,91.0,0.0,0.0,499.0,12.0,0.0,71.0,537.0,274.0,631.0,0.0,496.0,0.0,59.0,60.0,0.0,0.0,0.0,5.0,0.0,0.0,0.0,0.0,0.0,3725.0,0.0,0.0,1080.0,148.0,86.0,0.0,51.0,0.0,0.0,0.0,0.0,0.0,1.0,0.0,771.0,0.0,0.0,0.0,0.0,785.0,0.0,1.0,0.0,0.0,0.0,0.0,0.0,1528.0,0.0,0.0,0.0,0.0,0.0,0.0,0.0,712.0,1739.0,0.0,0.0,0.0,56.0,0.0,0.0,0.0,0.0,0.0,668.0,326.0,3615.0,283.0,0.0,4996.0,0.0,25.0,52.0,0.0,35.0,68.0,4759.0,0.0,6202.0,20.0,152.0,0.0,0.0,368.0,0.0,0.0,245.0,0.0,710.0,1266.0,0.0,256.0,0.0,13.0,594.0,null,0.0,0.0,3.0,2624.0,0.0,0.0,0.0,4926.0,650.0,0.0,0.0,1415.0,0.0,0.0,0.0,13036.0,0.0,0.0,0.0,0.0,0.0,40.0,80.0,0.0,0.0,0.0,20.0,10.0,91.0,85.0,0.0,0.0,1545.0,0.0,868.0,0.0,0.0,0.0,0.0,0.0,0.0,0.0,0.0,1234.0,0.0,0.0,0.0,0.0,1.0,0.0,0.0,659.0,0.0,550.0,849.0,45.0,0.0,0.0,0.0,0.0,745.0,0.0,0.0,0.0,0.0,409.0,5577.0,0.0,0.0,0.0,null,4488.0,318.0,995.0,334.0,12.0,0.0,1149.0,207.0,628.0,0.0,0.0,0.0,0.0,646.0,4027.0,102.0,0.0,2677.0,0.0,0.0,1051.0,0.0,0.0,0.0,602.0,0.0,0.0,13.0,0.0,380.0,2170.0,1257.0,6.0,0.0,698.0,0.0,0.0,0.0,252.0,204.0,0.0,null,26.0,510.0,1.0,140.0,2.0,0.0,0.0,0.0,5.0,0.0,0.0,0.0,0.0,3733.0,0.0,0.0,0.0,0.0,47.0,4996.0,2.0,null,8.0,702.0,0.0,0.0,0.0,80.0,0.0,0.0,0.0,48.0,772.0,0.0,210.0,81.0,0.0,0.0,5.0,0.0,0.0,0.0,10.0,0.0,0.0,0.0,0.0,0.0,85.0,0.0,0.0,0.0,4225.0,219.0,58.0,20.0,null,8.0,0.0,null,360.0,0.0,null,0.0,0.0,3028.0,10.0,1.0,0.0,4463.0,22.0,0.0,0.0,0.0,676.0,75.0,0.0,24.0,0.0,1249.0,9124.0,599.0,0.0,0.0,0.0,4085.0,0.0,66.0,0.0,210.0,0.0,0.0,0.0,454.0,0.0,0.0,21.0,0.0,0.0,892.0,0.0,1589.0,0.0,0.0,1452.0,0.0,857.0,0.0,0.0,0.0,0.0,0.0,0.0,0.0,0.0,0.0,605.0,0.0,1418.0,0.0,null,0.0,6.0,0.0,0.0,215.0,0.0,0.0,0.0,1.0,864.0,0.0,0.0,644.0,0.0,0.0,7818.0,0.0,94.0,0.0,0.0,0.0,1324.0,0.0,0.0,0.0,0.0,null,0.0,0.0,0.0,690.0,676.0,59.0,1.0,0.0,0.0,287.0,0.0,0.0,0.0,0.0,0.0,0.0,877.0,2650.0,0.0,47.0,0.0,0.0,0.0,0.0,0.0,null,0.0,0.0,3133.0,0.0,836.0,0.0,0.0,0.0,0.0,0.0,0.0,0.0,0.0,566.0,null,null,0.0,null,0.0,0.0,0.0,0.0,0.0,448.0,89.0,0.0,0.0,0.0,0.0,0.0,161.0,0.0,157.0,0.0,0.0,0.0,0.0,0.0,0.0,0.0,null,897.0,0.0,567.0,543.0,94.0,0.0,0.0,3573.0,0.0,0.0,0.0,0.0,0.0,0.0,0.0,0.0,0.0,0.0,0.0,0.0,0.0,660.0,33.0,808.0,0.0,1064.0,0.0,232.0,0.0,481.0,541.0,11001.0,0.0,381.0,0.0,0.0,0.0,91.0,2788.0,0.0,656.0,435.0,0.0,211.0,0.0,0.0,0.0,285.0,0.0,0.0,0.0,null,0.0,0.0,0.0,1.0,0.0,0.0,0.0,null,0.0,0.0,35.0,0.0,1555.0,117.0,0.0,1899.0,0.0,0.0,1402.0,2835.0,7.0,2.0,0.0,1.0,0.0,2.0,0.0,0.0,0.0,0.0,0.0,0.0,0.0,0.0,0.0,0.0,0.0,2549.0,0.0,null,0.0,549.0,0.0,0.0,89.0,0.0,0.0,0.0,0.0,0.0,0.0,0.0,1409.0,26.0,0.0,0.0,641.0,0.0,0.0,0.0,0.0,3508.0,673.0,0.0,0.0,0.0,0.0,201.0,568.0,58.0,0.0,0.0,0.0,0.0,0.0,53.0,0.0,1657.0,0.0,0.0,0.0,0.0,0.0,0.0,0.0,0.0,0.0,0.0,0.0,73.0,0.0,0.0,445.0,0.0,0.0,0.0,0.0,0.0,0.0,55.0,3.0,0.0,0.0,0.0,454.0,0.0,2085.0,17.0,0.0,0.0,0.0,72.0,671.0,759.0,0.0,0.0,0.0,739.0,3.0,10860.0,0.0,839.0,0.0,712.0,636.0,6.0,0.0,0.0,0.0,0.0,0.0,686.0,132.0,0.0,2.0,750.0,0.0,0.0,4.0,0.0,0.0,0.0,2838.0,87.0,15.0,56.0,8.0,0.0,90.0,1367.0,10.0,0.0,8.0,4.0,13208.0,0.0,43.0,0.0,160.0,559.0,0.0,72.0,210.0,263.0,0.0,4.0,0.0,153.0,0.0,0.0,0.0,0.0,0.0,0.0,194.0,0.0,0.0,0.0,0.0,1622.0,0.0,0.0,0.0,0.0,191.0,0.0,30.0,0.0,0.0,0.0,0.0,0.0,0.0,0.0,48.0,272.0,0.0,784.0,0.0,0.0,1674.0,0.0,0.0,0.0,0.0,0.0,281.0,0.0,0.0,null,254.0,2.0,0.0,0.0,5.0,0.0,0.0,179.0,0.0,0.0,0.0,758.0,0.0,74.0,0.0,888.0,0.0,14.0,0.0,0.0,0.0,0.0,180.0,0.0,166.0,0.0,7.0,0.0,0.0,0.0,96.0,757.0,92.0,0.0,0.0,0.0,null,0.0,0.0,0.0,0.0,2864.0,52.0,0.0,195.0,64.0,0.0,0.0,0.0,1313.0,674.0,4689.0,10.0,0.0,0.0,3.0,2622.0,863.0,0.0,54.0,0.0,881.0,0.0,13104.0,0.0,268.0,170.0,22.0,0.0,0.0,0.0,0.0,0.0,120.0,0.0,0.0,0.0,0.0,0.0,2.0,0.0,0.0,0.0,0.0,0.0,0.0,0.0,0.0,0.0,0.0,0.0,18.0,3538.0,495.0,2085.0,0.0,2205.0,548.0,3.0,0.0,146.0,0.0,0.0,0.0,0.0,461.0,0.0,692.0,null,40.0,0.0,0.0,0.0,0.0,1053.0,0.0,0.0,0.0,0.0,0.0,0.0,31.0,38.0,0.0,920.0,null,0.0,30.0,0.0,0.0,0.0,338.0,0.0,0.0,0.0,0.0,0.0,null,62.0,0.0,3.0,0.0,0.0,0.0,0.0,0.0,0.0,0.0,0.0,244.0,0.0,970.0,0.0,300.0,null,0.0,0.0,104.0,0.0,0.0,124.0,0.0,0.0,0.0,0.0,0.0,0.0,0.0,0.0,15.0,0.0,107.0,0.0,19.0,0.0,0.0,0.0,857.0,0.0,6841.0,2.0,0.0,7.0,717.0,30.0,0.0,569.0,0.0,0.0,0.0,0.0,577.0,null,0.0,2.0,0.0,0.0,107.0,614.0,0.0,724.0,0.0,270.0,258.0,0.0,0.0,38.0,null,26.0,0.0,0.0,0.0,0.0,0.0,4114.0,0.0,308.0,0.0,160.0,123.0,0.0,0.0,0.0,4.0,124.0,0.0,425.0,null,0.0,0.0,744.0,0.0,0.0,0.0,7627.0,6.0,207.0,347.0,112.0,639.0,157.0,5391.0,60.0,0.0,2.0,3154.0,0.0,187.0,128.0,607.0,0.0,0.0,360.0,0.0,48.0,0.0,0.0,0.0,0.0,643.0,0.0,0.0,178.0,0.0,0.0,5.0,0.0,0.0,0.0,0.0,48.0,null,1.0,10976.0,306.0,41.0,null,0.0,0.0,65.0,1745.0,0.0,0.0,0.0,450.0,0.0,356.0,0.0,0.0,7.0,0.0,0.0,21.0,0.0,0.0,581.0,822.0,1784.0,0.0,0.0,1497.0,0.0,153.0,0.0,0.0,820.0,7860.0,0.0,43.0,121.0,9.0,0.0,0.0,0.0,0.0,0.0,0.0,1158.0,0.0,0.0,195.0,9.0,0.0,0.0,0.0,26.0,0.0,857.0,0.0,277.0,0.0,286.0,0.0,0.0,0.0,0.0,0.0,232.0,0.0,1104.0,0.0,0.0,0.0,0.0,0.0,0.0,85.0,0.0,678.0,0.0,0.0,0.0,0.0,0.0,257.0,0.0,0.0,0.0,2.0,0.0,58.0,0.0,0.0,0.0,295.0,1.0,0.0,0.0,4.0,0.0,0.0,5.0,3.0,0.0,0.0,128.0,0.0,0.0,241.0,0.0,0.0,0.0,0.0,0.0,0.0,0.0,0.0,null,0.0,0.0,223.0,31.0,0.0,0.0,0.0,0.0,588.0,0.0,0.0,0.0,227.0,12.0,8873.0,0.0,573.0,0.0,null,3583.0,1287.0,2645.0,0.0,0.0,1225.0,325.0,0.0,0.0,0.0,36.0,0.0,5.0,517.0,0.0,0.0,709.0,0.0,0.0,102.0,0.0,68.0,397.0,498.0,0.0,0.0,0.0,0.0,0.0,756.0,589.0,0.0,117.0,0.0,0.0,0.0,0.0,0.0,8.0,0.0,0.0,46.0,594.0,0.0,0.0,0.0,1372.0,699.0,0.0,0.0,893.0,6.0,0.0,0.0,0.0,0.0,0.0,0.0,184.0,733.0,35.0,121.0,0.0,null,0.0,0.0,0.0,0.0,0.0,0.0,85.0,753.0,174.0,646.0,846.0,0.0,0.0,0.0,0.0,625.0,0.0,0.0,10385.0,null,0.0,0.0,205.0,0.0,0.0,866.0,5.0,0.0,127.0,0.0,0.0,1147.0,0.0,0.0,0.0,0.0,0.0,0.0,36.0,125.0,0.0,0.0,476.0,3725.0,0.0,139.0,null,0.0,22.0,0.0,0.0,0.0,0.0,15.0,0.0,0.0,0.0,0.0,0.0,0.0,0.0,0.0,0.0,0.0,4.0,0.0,298.0,0.0,0.0,0.0,0.0,7740.0,3653.0,0.0,0.0,0.0,0.0,0.0,null,0.0,0.0,12062.0,0.0,12.0,265.0,11.0,880.0,0.0,0.0,1371.0,0.0,0.0,0.0,0.0,0.0,0.0,0.0,5.0,0.0,0.0,898.0,0.0,0.0,0.0,0.0,0.0,0.0,719.0,602.0,0.0,0.0,0.0,0.0,0.0,0.0,0.0,1026.0,17.0,0.0,0.0,0.0,0.0,0.0,0.0,100.0,0.0,148.0,10.0,0.0,0.0,0.0,0.0,3668.0,4125.0,0.0,74.0,0.0,7967.0,0.0,23.0,0.0,0.0,0.0,0.0,0.0,0.0,670.0,0.0,0.0,0.0,799.0,897.0,0.0,0.0,2.0,0.0,0.0,104.0,6616.0,0.0,2.0,0.0,0.0,0.0,0.0,0.0,0.0,909.0,0.0,198.0,0.0,1.0,15.0,0.0,945.0,0.0,21.0,0.0,68.0,0.0,2462.0,414.0,0.0,0.0,0.0,0.0,null,0.0,0.0,0.0,266.0,0.0,159.0,881.0,0.0,0.0,0.0,0.0,25.0,0.0,0.0,0.0,0.0,0.0,3.0,149.0,0.0,0.0,null,0.0,0.0,10.0,0.0,0.0,0.0,166.0,0.0,131.0,0.0,1529.0,0.0,1149.0,944.0,0.0,0.0,1756.0,6.0,96.0,273.0,2279.0,0.0,0.0,0.0,0.0,0.0,12.0,0.0,0.0,0.0,9.0,0.0,0.0,0.0,0.0,0.0,0.0,0.0,0.0,0.0,0.0,0.0,0.0,0.0,0.0,0.0,0.0,0.0,1.0,8.0,0.0,733.0,0.0,2.0,106.0,18.0,0.0,0.0,0.0,27.0,0.0,0.0,130.0,0.0,0.0,0.0,0.0,0.0,0.0,0.0,0.0,2581.0,0.0,327.0,258.0,0.0,2948.0,0.0,812.0,76.0,0.0,0.0,139.0,3778.0,0.0,0.0,0.0,1.0,35.0,572.0,0.0,5.0,1679.0,84.0,0.0,7.0,0.0,0.0,450.0,0.0,739.0,22.0,0.0,0.0,15.0,487.0,0.0,0.0,0.0,12.0,0.0,0.0,0.0,0.0,0.0,0.0,0.0,0.0,0.0,3340.0,8.0,0.0,0.0,0.0,0.0,0.0,0.0,2.0,0.0,0.0,0.0,14.0,0.0,0.0,1486.0,0.0,0.0,0.0,498.0,0.0,410.0,484.0,0.0,111.0,1.0,49.0,0.0,0.0,0.0,0.0,72.0,0.0,0.0,0.0,0.0,0.0,0.0,0.0,1144.0,0.0,0.0,366.0,0.0,467.0,3003.0,0.0,0.0,71.0,1.0,0.0,0.0,0.0,0.0,0.0,85.0,218.0,518.0,0.0,0.0,1792.0,0.0,0.0,1640.0,0.0,330.0,0.0,0.0,0.0,435.0,359.0,16.0,0.0,0.0,241.0,0.0,195.0,null,0.0,0.0,0.0,null,207.0,370.0,1.0,47.0,0.0,0.0,0.0,0.0,0.0,0.0,0.0,0.0,0.0,0.0,0.0,138.0,null,0.0,0.0,0.0,0.0,1.0,0.0,0.0,0.0,null,0.0,0.0,0.0,2989.0,0.0,173.0,685.0,0.0,3.0,1924.0,20.0,250.0,0.0,76.0,0.0,0.0,0.0,55.0,0.0,755.0,234.0,0.0,193.0,0.0,0.0,0.0,0.0,3440.0,0.0,35.0,108.0,63.0,0.0,0.0,0.0,0.0,0.0,0.0,0.0,0.0,0.0,19.0,null,0.0,0.0,4.0,null,4494.0,0.0,0.0,2.0,0.0,0.0,0.0,0.0,9.0,0.0,0.0,1433.0,0.0,0.0,10.0,27.0,0.0,3981.0,0.0,0.0,1465.0,0.0,0.0,0.0,0.0,0.0,null,0.0,0.0,27.0,0.0,0.0,36.0,604.0,0.0,0.0,0.0,0.0,0.0,15.0,17.0,0.0,724.0,789.0,0.0,0.0,0.0,0.0,104.0,0.0,50.0,1565.0,393.0,68.0,5.0,0.0,0.0,0.0,0.0,2.0,0.0,0.0,15.0,0.0,79.0,54.0,0.0,36.0,0.0,0.0,97.0,0.0,1589.0,0.0,0.0,0.0,0.0,0.0,0.0,0.0,0.0,0.0,0.0,0.0,658.0,0.0,0.0,0.0,0.0,0.0,0.0,0.0,40.0,0.0,0.0,0.0,0.0,0.0,4.0,0.0,845.0,785.0,595.0,0.0,4.0,null,0.0,0.0,0.0,0.0,0.0,0.0,0.0,2241.0,0.0,0.0,0.0,0.0,0.0,null,0.0,3.0,0.0,0.0,0.0,0.0,1046.0,94.0,0.0,20.0,0.0,44.0,0.0,578.0,0.0,49.0,65.0,0.0,0.0,13.0,0.0,0.0,263.0,0.0,650.0,1313.0,1250.0,0.0,1819.0,481.0,0.0,29.0,0.0,0.0,0.0,7.0,0.0,0.0,0.0,1.0,0.0,0.0,0.0,607.0,0.0,1203.0,50.0,4.0,203.0,544.0,0.0,0.0,22.0,0.0,0.0,0.0,0.0,0.0,0.0,0.0,0.0,0.0,0.0,0.0,0.0,0.0,0.0,0.0,7.0,0.0,756.0,0.0,58.0,0.0,0.0,0.0,0.0,11.0,4.0,0.0,16.0,7.0,1.0,1098.0,0.0,0.0,1.0,0.0,0.0,0.0,0.0,0.0,439.0,2.0,0.0,0.0,0.0,0.0,0.0,0.0,0.0,0.0,0.0,0.0,0.0,0.0,0.0,0.0,0.0,0.0,0.0,0.0,2.0,0.0,0.0,0.0,0.0,0.0,0.0,0.0,0.0,1247.0,0.0,315.0,1193.0,750.0,0.0,0.0,0.0,0.0,0.0,0.0,20.0,0.0,416.0,0.0,512.0,0.0,0.0,0.0,0.0,0.0,0.0,0.0,0.0,0.0,0.0,0.0,2456.0,0.0,0.0,708.0,0.0,0.0,49.0,null,0.0,0.0,0.0,32.0,118.0,0.0,0.0,1348.0,0.0,0.0,0.0,2067.0,0.0,0.0,2.0,2.0,0.0,0.0,null,0.0,0.0,0.0,67.0,0.0,148.0,0.0,0.0,0.0,0.0,7561.0,0.0,0.0,0.0,0.0,31.0,0.0,7.0,0.0,1097.0,3.0,0.0,14.0,183.0,3.0,0.0,0.0,0.0,3.0,0.0,0.0,0.0,0.0,5.0,0.0,18.0,97.0,847.0,0.0,0.0,166.0,0.0,0.0,0.0,0.0,0.0,0.0,8.0,0.0,0.0,3.0,0.0,null,0.0,0.0,1493.0,40.0,0.0,0.0,0.0,0.0,5.0,544.0,3200.0,0.0,2.0,0.0,0.0,545.0,0.0,0.0,211.0,5.0,46.0,0.0,5.0,0.0,122.0,0.0,0.0,0.0,0.0,2.0,0.0,0.0,0.0,2436.0,0.0,0.0,0.0,0.0,0.0,658.0,557.0,20.0,0.0,0.0,352.0,855.0,480.0,0.0,87.0,0.0,0.0,1675.0,6.0,91.0,0.0,0.0,0.0,0.0,0.0,4840.0,1022.0,1817.0,3975.0,26.0,0.0,0.0,0.0,0.0,240.0,0.0,754.0,0.0,0.0,17.0,128.0,0.0,1.0,293.0,0.0,0.0,0.0,58.0,7.0,0.0,0.0,2.0,0.0,0.0,0.0,null,null,4280.0,0.0,0.0,0.0,0.0,0.0,null,0.0,665.0,1.0,0.0,608.0,732.0,0.0,196.0,0.0,0.0,820.0,10.0,173.0,184.0,0.0,0.0,580.0,0.0,0.0,0.0,66.0,0.0,3840.0,101.0,0.0,284.0,698.0,192.0,0.0,3013.0,0.0,3314.0,0.0,768.0,0.0,0.0,97.0,671.0,0.0,74.0,0.0,2.0,1254.0,2882.0,0.0,0.0,0.0,117.0,0.0,270.0,0.0,0.0,0.0,0.0,0.0,0.0,0.0,669.0,8.0,422.0,0.0,0.0,0.0,1283.0,0.0,0.0,0.0,0.0,0.0,604.0,0.0,0.0,0.0,0.0,267.0,3.0,0.0,0.0,0.0,3.0,0.0,0.0,0.0,0.0,0.0,1156.0,0.0,0.0,589.0,7.0,0.0,0.0,775.0,0.0,0.0,3.0,0.0,0.0,2143.0,0.0,0.0,843.0,0.0,1301.0,3131.0,0.0,0.0,2740.0,22.0,0.0,0.0,0.0,0.0,562.0,0.0,0.0,0.0,4.0,0.0,0.0,0.0,4.0,124.0,null,0.0,206.0,null,696.0,425.0,0.0,0.0,734.0,0.0,0.0,4.0,0.0,0.0,0.0,0.0,1494.0,0.0,7.0,0.0,812.0,288.0,0.0,0.0,0.0,0.0,0.0,0.0,0.0,0.0,18.0,0.0,0.0,0.0,289.0,393.0,733.0,0.0,0.0,681.0,646.0,0.0,0.0,0.0,0.0,0.0,0.0,0.0,0.0,6.0,108.0,121.0,0.0,0.0,0.0,78.0,725.0,0.0,0.0,12.0,0.0,0.0,1366.0,3565.0,0.0,805.0,209.0,795.0,513.0,0.0,10.0,0.0,0.0,0.0,0.0,0.0,0.0,0.0,0.0,1.0,0.0,560.0,3094.0,7113.0,0.0,180.0,null,0.0,0.0,31.0,0.0,6.0,0.0,31.0,0.0,0.0,134.0,null,2.0,0.0,0.0,0.0,0.0,0.0,0.0,0.0,1353.0,1.0,51.0,0.0,0.0,4643.0,0.0,59.0,0.0,0.0,1.0,0.0,0.0,0.0,161.0,0.0,187.0,null,13.0,0.0,0.0,0.0,0.0,0.0,239.0,2.0,0.0,740.0,0.0,802.0,92.0,16.0,0.0,407.0,0.0,0.0,0.0,0.0,0.0,0.0,0.0,0.0,0.0,69.0,0.0,504.0,0.0,0.0,39.0,201.0,0.0,19.0,14.0,0.0,0.0,8.0,0.0,0.0,0.0,0.0,0.0,0.0,0.0,0.0,194.0,19.0,292.0,0.0,137.0,2.0,117.0,525.0,0.0,0.0,0.0,1.0,0.0,44.0,0.0,748.0,0.0,0.0,0.0,0.0,1777.0,0.0,0.0,0.0,17.0,null,36.0,278.0,694.0,0.0,15238.0,0.0,0.0,1940.0,0.0,0.0,0.0,0.0,359.0,0.0,0.0,4098.0,0.0,0.0,765.0,7.0,0.0,475.0,3.0,0.0,0.0,209.0,204.0,5492.0,1.0,1635.0,0.0,0.0,0.0,0.0,0.0,10.0,3001.0,625.0,54.0,6167.0,0.0,0.0,0.0,725.0,19.0,277.0,81.0,774.0,3044.0,6075.0,412.0,1026.0,0.0,1014.0,0.0,1.0,0.0,0.0,768.0,0.0,0.0,0.0,7.0,36.0,1.0,0.0,51.0,0.0,0.0,1331.0,0.0,14.0,0.0,0.0,0.0,0.0,10941.0,2144.0,5270.0,2.0,0.0,0.0,0.0,1742.0,0.0,713.0,4030.0,0.0,250.0,1.0,0.0,177.0,266.0,0.0,1251.0,902.0,34.0,380.0,0.0,0.0,0.0,null,0.0,0.0,1821.0,0.0,0.0,117.0,0.0,0.0,0.0,3434.0,null,0.0,0.0,0.0,1.0,0.0,0.0,0.0,0.0,0.0,0.0,33.0,0.0,0.0,0.0,0.0,0.0,121.0,65.0,544.0,110.0,1006.0,0.0,0.0,0.0,0.0,107.0,0.0,1404.0,0.0,1.0,749.0,2052.0,0.0,71.0,0.0,0.0,0.0,0.0,0.0,2956.0,0.0,0.0,11.0,0.0,0.0,131.0,0.0,0.0,39.0,0.0,0.0,0.0,131.0,0.0,0.0,213.0,0.0,1777.0,4.0,1271.0,0.0,56.0,0.0,0.0,40.0,0.0,0.0,0.0,105.0,200.0,1831.0,305.0,0.0,0.0,0.0,13.0,3.0,0.0,0.0,38.0,14.0,1795.0,0.0,0.0,2.0,0.0,0.0,0.0,1810.0,0.0,693.0,0.0,5.0,0.0,0.0,8.0,0.0,0.0,0.0,0.0,0.0,1.0,0.0,0.0,0.0,228.0,123.0,0.0,0.0,2998.0,3873.0,0.0,10887.0,1318.0,0.0,0.0,0.0,9.0,778.0,0.0,253.0,0.0,1439.0,161.0,599.0,18.0,0.0,0.0,0.0,0.0,null,0.0,0.0,0.0,493.0,0.0,0.0,864.0,null,321.0,0.0,0.0,0.0,394.0,0.0,0.0,0.0,0.0,0.0,0.0,258.0,0.0,0.0,null,19.0,0.0,0.0,0.0,0.0,19.0,0.0,0.0,0.0,1381.0,1966.0,106.0,0.0,624.0,0.0,18.0,619.0,103.0,2.0,172.0,157.0,4.0,0.0,0.0,28.0,734.0,142.0,13.0,0.0,0.0,0.0,0.0,0.0,21.0,368.0,861.0,12.0,1305.0,0.0,20.0,0.0,0.0,0.0,1284.0,405.0,0.0,19.0,0.0,null,0.0,0.0,42.0,0.0,0.0,0.0,2121.0,71.0,0.0,5.0,672.0,2.0,0.0,0.0,1.0,788.0,1.0,2711.0,702.0,0.0,0.0,1.0,0.0,0.0,1679.0,0.0,0.0,0.0,0.0,0.0,0.0,7.0,0.0,0.0,0.0,0.0,0.0,0.0,0.0,14.0,0.0,0.0,0.0,304.0,0.0,1027.0,22.0,0.0,0.0,0.0,2.0,0.0,0.0,0.0,2.0,737.0,334.0,0.0,0.0,0.0,38.0,0.0,50.0,0.0,474.0,5.0,0.0,59.0,0.0,0.0,0.0,0.0,0.0,9319.0,0.0,0.0,0.0,0.0,0.0,0.0,0.0,0.0,882.0,0.0,0.0,0.0,0.0,0.0,445.0,588.0,786.0,0.0,200.0,29.0,0.0,0.0,0.0,0.0,0.0,0.0,0.0,0.0,49.0,0.0,0.0,5.0,0.0,0.0,0.0,0.0,0.0,0.0,484.0,0.0,6691.0,0.0,0.0,0.0,352.0,0.0,251.0,474.0,9.0,51.0,89.0,0.0,0.0,0.0,0.0,0.0,1386.0,0.0,131.0,2.0,1373.0,6216.0,419.0,0.0,0.0,0.0,86.0,103.0,0.0,3.0,0.0,0.0,659.0,0.0,0.0,0.0,0.0,20.0,null,0.0,56.0,0.0,0.0,3025.0,0.0,2011.0,344.0,0.0,1.0,5.0,0.0,0.0,0.0,382.0,1.0,558.0,0.0,0.0,7352.0,95.0,0.0,1600.0,1483.0,0.0,0.0,0.0,0.0,0.0,0.0,0.0,1109.0,3.0,0.0,0.0,0.0,0.0,0.0,16.0,0.0,0.0,0.0,654.0,763.0,712.0,1984.0,0.0,0.0,0.0,0.0,0.0,0.0,0.0,0.0,0.0,340.0,738.0,0.0,0.0,1893.0,21.0,0.0,0.0,0.0,0.0,0.0,0.0,0.0,48.0,10.0,0.0,0.0,0.0,704.0,0.0,322.0,0.0,0.0,939.0,0.0,0.0,0.0,0.0,38.0,20.0,0.0,0.0,2787.0,0.0,0.0,1.0,null,null,156.0,0.0,0.0,0.0,0.0,0.0,0.0,22.0,1069.0,9.0,190.0,0.0,0.0,6235.0,148.0,0.0,0.0,0.0,null,0.0,0.0,3.0,0.0,4.0,29.0,5.0,611.0,0.0,0.0,0.0,0.0,2433.0,0.0,0.0,0.0,0.0,22.0,0.0,null,54.0,0.0,0.0,107.0,0.0,0.0,0.0,283.0,554.0,0.0,0.0,0.0,1559.0,166.0,0.0,0.0,5.0,0.0,0.0,0.0,0.0,525.0,0.0,153.0,24.0,0.0,0.0,564.0,0.0,0.0,0.0,971.0,44.0,117.0,267.0,0.0,0.0,0.0,0.0,0.0,1.0,0.0,770.0,0.0,47.0,0.0,227.0,91.0,0.0,13.0,0.0,35.0,0.0,0.0,0.0,0.0,0.0,572.0,2393.0,2290.0,0.0,0.0,0.0,0.0,0.0,1866.0,0.0,0.0,1.0,258.0,0.0,1.0,79.0,594.0,5.0,87.0,0.0,0.0,0.0,null,0.0,0.0,0.0,214.0,0.0,null,4.0,175.0,0.0,0.0,0.0,0.0,0.0,0.0,0.0,0.0,0.0,0.0,0.0,8.0,0.0,6.0,0.0,190.0,0.0,61.0,0.0,324.0,0.0,0.0,94.0,null,null,1.0,0.0,0.0,101.0,0.0,0.0,0.0,0.0,12.0,677.0,0.0,367.0,434.0,0.0,0.0,1450.0,696.0,287.0,0.0,3198.0,0.0,0.0,0.0,0.0,0.0,101.0,0.0,4517.0,14.0,0.0,150.0,0.0,0.0,0.0,0.0,0.0,102.0,1010.0,2288.0,7.0,2.0,0.0,0.0,1202.0,3409.0,6.0,3.0,1332.0,62.0,136.0,158.0,null,0.0,0.0,0.0,0.0,690.0,136.0,0.0,0.0,0.0,0.0,0.0,0.0,30.0,0.0,0.0,483.0,580.0,0.0,458.0,280.0,2.0,9.0,0.0,0.0,0.0,0.0,0.0,0.0,0.0,952.0,0.0,0.0,1.0,1.0,3369.0,null,0.0,62.0,676.0,1.0,0.0,0.0,0.0,170.0,0.0,null,0.0,280.0,2.0,3.0,0.0,0.0,639.0,0.0,0.0,0.0,3.0,0.0,0.0,0.0,0.0,0.0,0.0,1114.0,0.0,130.0,739.0,7.0,1545.0,214.0,0.0,372.0,1580.0,0.0,0.0,5700.0,0.0,324.0,243.0,0.0,0.0,0.0,0.0,0.0,11.0,0.0,null,2.0,570.0,1245.0,0.0,904.0,0.0,0.0,14.0,0.0,0.0,0.0,5047.0,0.0,0.0,0.0,1478.0,285.0,720.0,161.0,0.0,0.0,0.0,0.0,83.0,76.0,0.0,0.0,0.0,620.0,0.0,0.0,0.0,20.0,301.0,699.0,0.0,0.0,814.0,0.0,0.0,0.0,0.0,676.0,635.0,703.0,null,0.0,15.0,145.0,0.0,0.0,0.0,0.0,0.0,0.0,1.0,115.0,0.0,0.0,0.0,43.0,0.0,0.0,0.0,762.0,0.0,0.0,232.0,null,0.0,0.0,0.0,3.0,0.0,0.0,2244.0,0.0,0.0,0.0,0.0,1412.0,7.0,897.0,0.0,0.0,0.0,0.0,214.0,352.0,443.0,0.0,704.0,289.0,0.0,0.0,0.0,0.0,0.0,587.0,0.0,0.0,0.0,0.0,0.0,348.0,601.0,0.0,0.0,746.0,0.0,11.0,0.0,0.0,1168.0,870.0,103.0,2.0,295.0,0.0,0.0,0.0,0.0,0.0,0.0,436.0,3926.0,0.0,104.0,0.0,0.0,0.0,4549.0,0.0,1.0,180.0,0.0,0.0,239.0,0.0,0.0,0.0,0.0,0.0,0.0,1250.0,0.0,0.0,0.0,0.0,0.0,0.0,0.0,0.0,0.0,0.0,0.0,0.0,1.0,0.0,0.0,0.0,0.0,0.0,0.0,0.0,2851.0,5.0,240.0,1453.0,0.0,0.0,0.0,3.0,0.0,3.0,0.0,0.0,679.0,63.0,3867.0,0.0,0.0,10247.0,0.0,0.0,0.0,0.0,0.0,0.0,0.0,0.0,278.0,0.0,0.0,0.0,9.0,0.0,0.0,1054.0,664.0,84.0,0.0,0.0,247.0,0.0,0.0,0.0,0.0,0.0,0.0,0.0,0.0,29.0,4103.0,0.0,692.0,0.0,434.0,0.0,0.0,0.0,0.0,0.0,0.0,144.0,0.0,0.0,0.0,0.0,7.0,176.0,0.0,0.0,489.0,0.0,711.0,77.0,0.0,0.0,2.0,5.0,1191.0,0.0,0.0,39.0,353.0,0.0,0.0,144.0,547.0,0.0,9.0,5381.0,0.0,1.0,0.0,552.0,0.0,0.0,0.0,716.0,0.0,null,0.0,342.0,1912.0,558.0,0.0,0.0,1.0,838.0,8.0,570.0,0.0,0.0,0.0,0.0,0.0,4.0,1358.0,0.0,4.0,22.0,0.0,null,23.0,0.0,0.0,1.0,223.0,0.0,1720.0,1.0,2587.0,182.0,6344.0,0.0,1472.0,0.0,113.0,0.0,0.0,0.0,0.0,129.0,0.0,359.0,7.0,425.0,0.0,0.0,6.0,0.0,2108.0,0.0,0.0,0.0,0.0,0.0,0.0,0.0,0.0,0.0,0.0,5.0,0.0,1.0,0.0,0.0,0.0,0.0,0.0,0.0,317.0,0.0,0.0,0.0,580.0,0.0,920.0,0.0,0.0,0.0,325.0,0.0,0.0,0.0,0.0,0.0,0.0,0.0,0.0,0.0,9.0,1415.0,0.0,0.0,727.0,0.0,0.0,0.0,0.0,0.0,139.0,304.0,912.0,1206.0,0.0,0.0,17.0,0.0,318.0,1501.0,436.0,0.0,0.0,0.0,769.0,0.0,0.0,0.0,0.0,0.0,0.0,0.0,0.0,0.0,507.0,20.0,888.0,0.0,93.0,0.0,0.0,1497.0,0.0,61.0,0.0,0.0,0.0,2368.0,0.0,0.0,0.0,0.0,0.0,0.0,0.0,0.0,0.0,28.0,514.0,1.0,347.0,0.0,0.0,0.0,0.0,0.0,0.0,1.0,0.0,204.0,5.0,308.0,0.0,62.0,0.0,0.0,74.0,0.0,96.0,241.0,725.0,4810.0,0.0,5474.0,0.0,899.0,274.0,21.0,0.0,2463.0,0.0,1854.0,59.0,0.0,0.0,0.0,0.0,0.0,0.0,0.0,0.0,593.0,0.0,0.0,0.0,0.0,64.0,0.0,0.0,0.0,0.0,31.0,0.0,1658.0,0.0,0.0,1482.0,61.0,0.0,1.0,7.0,0.0,2.0,0.0,0.0,0.0,0.0,49.0,0.0,null,0.0,0.0,0.0,591.0,401.0,0.0,0.0,0.0,0.0,null,0.0,4423.0,2.0,471.0,0.0,0.0,0.0,0.0,38.0,0.0,0.0,0.0,0.0,12.0,703.0,0.0,224.0,0.0,0.0,967.0,0.0,0.0,0.0,613.0,0.0,0.0,482.0,0.0,601.0,0.0,0.0,0.0,0.0,1989.0,0.0,0.0,0.0,302.0,806.0,0.0,0.0,36.0,0.0,0.0,0.0,0.0,null,0.0,0.0,14.0,0.0,1.0,0.0,1.0,304.0,1.0,0.0,1043.0,29.0,0.0,0.0,0.0,0.0,703.0,0.0,0.0,0.0,0.0,0.0,70.0,0.0,752.0,0.0,10.0,0.0,0.0,1.0,0.0,514.0,179.0,778.0,1.0,0.0,0.0,0.0,0.0,0.0,1.0,8126.0,57.0,0.0,0.0,0.0,0.0,3104.0,0.0,8810.0,0.0,0.0,167.0,0.0,0.0,22408.0,0.0,1612.0,1481.0,0.0,44.0,0.0,236.0,23.0,42.0,0.0,0.0,610.0,0.0,null,0.0,0.0,183.0,1.0,0.0,0.0,13.0,33.0,0.0,0.0,0.0,0.0,0.0,0.0,0.0,0.0,4.0,2725.0,0.0,673.0,280.0,0.0,1120.0,0.0,63.0,1.0,null,0.0,0.0,0.0,4588.0,0.0,0.0,773.0,0.0,764.0,6.0,33.0,305.0,0.0,null,2.0,1677.0,0.0,0.0,0.0,0.0,462.0,0.0,0.0,197.0,0.0,0.0,0.0,213.0,0.0,0.0,0.0,0.0,0.0,0.0,31.0,0.0,0.0,803.0,0.0,0.0,0.0,14.0,662.0,362.0,105.0,0.0,0.0,0.0,0.0,11.0,0.0,2963.0,0.0,625.0,888.0,659.0,0.0,575.0,429.0,0.0,0.0,0.0,0.0,90.0,0.0,297.0,0.0,0.0,1.0,0.0,0.0,31.0,0.0,873.0,0.0,0.0,0.0,0.0,2799.0,0.0,0.0,0.0,0.0,0.0,0.0,0.0,0.0,0.0,0.0,0.0,24.0,657.0,3.0,1179.0,130.0,1849.0,660.0,370.0,0.0,0.0,0.0,0.0,311.0,2043.0,3282.0,0.0,0.0,87.0,0.0,113.0,0.0,235.0,0.0,0.0,32.0,0.0,62.0,0.0,594.0,0.0,4.0,300.0,0.0,0.0,1.0,0.0,0.0,5.0,0.0,0.0,0.0,0.0,0.0,312.0,1082.0,0.0,0.0,0.0,0.0,0.0,2287.0,0.0,9.0,0.0,39.0,2.0,0.0,679.0,0.0,0.0,292.0,519.0,0.0,0.0,null,424.0,0.0,0.0,465.0,0.0,6.0,0.0,7.0,508.0,0.0,48.0,0.0,0.0,0.0,0.0,0.0,537.0,11.0,0.0,0.0,0.0,0.0,0.0,0.0,201.0,0.0,15.0,30.0,0.0,0.0,0.0,0.0,0.0,1964.0,10.0,6.0,673.0,null,0.0,0.0,0.0,0.0,1956.0,0.0,0.0,4368.0,34.0,0.0,0.0,10.0,0.0,143.0,696.0,0.0,0.0,0.0,0.0,0.0,0.0,0.0,0.0,0.0,0.0,0.0,287.0,479.0,0.0,1382.0,0.0,0.0,7.0,4.0,5.0,0.0,0.0,0.0,0.0,379.0,0.0,1885.0,0.0,1.0,0.0,0.0,0.0,729.0,0.0,0.0,0.0,0.0,246.0,0.0,0.0,null,0.0,0.0,0.0,0.0,1.0,null,0.0,0.0,329.0,7.0,0.0,0.0,10.0,328.0,415.0,0.0,0.0,0.0,0.0,0.0,20.0,0.0,0.0,0.0,16.0,0.0,0.0,0.0,0.0,0.0,4560.0,null,0.0,0.0,0.0,109.0,0.0,0.0,0.0,0.0,1.0,0.0,null,42.0,0.0,0.0,0.0,0.0,0.0,0.0,10.0,14.0,0.0,0.0,85.0,3.0,0.0,0.0,0.0,0.0,0.0,5568.0,297.0,0.0,0.0,1.0,508.0,0.0,0.0,0.0,null,0.0,0.0,2575.0,60.0,0.0,0.0,231.0,528.0,0.0,1806.0,56.0,0.0,0.0,0.0,0.0,1380.0,0.0,0.0,0.0,0.0,0.0,0.0,0.0,343.0,0.0,1795.0,259.0,0.0,148.0,0.0,0.0,0.0,0.0,0.0,1877.0,58.0,0.0,0.0,0.0,115.0,0.0,13.0,1530.0,596.0,0.0,0.0,0.0,0.0,160.0,0.0,0.0,0.0,0.0,0.0,3452.0,4236.0,1.0,407.0,0.0,352.0,0.0,0.0,288.0,652.0,22.0,1855.0,0.0,0.0,4921.0,149.0,108.0,0.0,0.0,4287.0,1.0,77.0,0.0,0.0,182.0,0.0,0.0,0.0,0.0,0.0,0.0,0.0,2929.0,0.0,3603.0,10912.0,439.0,1785.0,2.0,0.0,80.0,0.0,0.0,0.0,0.0,0.0,118.0,0.0,0.0,266.0,8.0,0.0,2008.0,1267.0,15.0,0.0,0.0,112.0,0.0,158.0,0.0,0.0,0.0,1308.0,747.0,2.0,6324.0,0.0,30.0,4.0,1.0,0.0,11.0,0.0,0.0,0.0,0.0,908.0,304.0,0.0,818.0,0.0,0.0,179.0,530.0,6.0,1170.0,0.0,2.0,202.0,0.0,0.0,2.0,0.0,0.0,0.0,0.0,0.0,0.0,0.0,0.0,52.0,94.0,0.0,0.0,0.0,0.0,0.0,0.0,0.0,2.0,0.0,0.0,59.0,0.0,null,0.0,14.0,0.0,0.0,642.0,0.0,0.0,0.0,394.0,2.0,2167.0,0.0,0.0,0.0,244.0,414.0,0.0,0.0,0.0,0.0,0.0,0.0,0.0,0.0,0.0,26.0,0.0,0.0,424.0,0.0,0.0,0.0,0.0,0.0,0.0,3.0,0.0,0.0,0.0,373.0,43.0,0.0,0.0,0.0,0.0,0.0,0.0,0.0,1548.0,291.0,0.0,0.0,0.0,0.0,0.0,0.0,0.0,0.0,0.0,1733.0,0.0,0.0,0.0,1525.0,0.0,0.0,0.0,34.0,0.0,0.0,8522.0,143.0,2395.0,0.0,0.0,274.0,0.0,0.0,0.0,0.0,0.0,0.0,0.0,0.0,0.0,0.0,7.0,0.0,0.0,0.0,0.0,0.0,0.0,528.0,0.0,0.0,0.0,0.0,0.0,0.0,1847.0,0.0,0.0,0.0,5015.0,37.0,null,1701.0,0.0,109.0,49.0,0.0,671.0,0.0,0.0,0.0,920.0,0.0,455.0,1611.0,0.0,0.0,0.0,0.0,0.0,0.0,0.0,0.0,0.0,null,0.0,0.0,45.0,0.0,1.0,0.0,0.0,0.0,0.0,2.0,726.0,4.0,0.0,0.0,0.0,0.0,0.0,0.0,0.0,26.0,0.0,102.0,0.0,0.0,0.0,0.0,null,0.0,0.0,0.0,0.0,691.0,0.0,1.0,0.0,0.0,0.0,0.0,null,72.0,8.0,0.0,1052.0,0.0,0.0,13.0,0.0,0.0,0.0,0.0,71.0,0.0,30.0,36.0,182.0,0.0,0.0,0.0,97.0,12.0,700.0,0.0,38.0,0.0,0.0,0.0,0.0,0.0,217.0,0.0,0.0,0.0,0.0,0.0,0.0,0.0,178.0,0.0,1490.0,0.0,0.0,444.0,0.0,2.0,1600.0,2618.0,0.0,0.0,0.0,0.0,0.0,0.0,0.0,0.0,716.0,0.0,0.0,2.0,0.0,0.0,0.0,0.0,0.0,0.0,0.0,0.0,0.0,0.0,4094.0,0.0,0.0,0.0,0.0,310.0,0.0,0.0,0.0,0.0,0.0,0.0,0.0,0.0,4232.0,0.0,14.0,13117.0,2134.0,3.0,0.0,104.0,0.0,1.0,0.0,0.0,0.0,0.0,0.0,5.0,0.0,0.0,1.0,0.0,0.0,0.0,0.0,2585.0,0.0,0.0,0.0,0.0,0.0,0.0,0.0,0.0,0.0,1483.0,0.0,938.0,0.0,0.0,11.0,0.0,0.0,854.0,580.0,0.0,2814.0,0.0,0.0,0.0,0.0,0.0,5.0,100.0,null,0.0,928.0,0.0,8330.0,0.0,1.0,0.0,557.0,0.0,0.0,0.0,0.0,0.0,0.0,112.0,36.0,446.0,0.0,661.0,0.0,0.0,0.0,0.0,672.0,0.0,797.0,19.0,0.0,0.0,0.0,0.0,87.0,134.0,34.0,0.0,804.0,4.0,0.0,80.0,5697.0,0.0,0.0,0.0,0.0,0.0,0.0,0.0,0.0,33.0,1538.0,43.0,0.0,0.0,0.0,0.0,4.0,0.0,769.0,0.0,0.0,null,0.0,641.0,0.0,0.0,93.0,186.0,649.0,3587.0,0.0,0.0,0.0,0.0,0.0,580.0,0.0,79.0,0.0,10.0,136.0,142.0,0.0,0.0,297.0,0.0,0.0,485.0,726.0,9.0,88.0,0.0,0.0,0.0,24.0,0.0,0.0,0.0,0.0,0.0,0.0,0.0,0.0,8.0,2.0,0.0,36.0,0.0,0.0,0.0,120.0,0.0,0.0,133.0,43.0,0.0,2503.0,0.0,0.0,0.0,0.0,0.0,1042.0,0.0,0.0,0.0,0.0,0.0,1.0,0.0,1125.0,3409.0,781.0,0.0,0.0,1.0,35.0,720.0,0.0,663.0,0.0,0.0,0.0,102.0,0.0,0.0,797.0,0.0,423.0,37.0,0.0,717.0,0.0,0.0,0.0,0.0,0.0,0.0,168.0,0.0,125.0,174.0,null,0.0,1.0,0.0,19.0,0.0,0.0,0.0,0.0,5.0,219.0,417.0,2349.0,0.0,0.0,8293.0,3.0,20.0,0.0,13016.0,0.0,280.0,0.0,492.0,0.0,0.0,0.0,0.0,1019.0,0.0,0.0,0.0,683.0,1368.0,0.0,9206.0,153.0,131.0,0.0,335.0,0.0,null,0.0,0.0,0.0,0.0,2.0,0.0,1442.0,0.0,670.0,0.0,0.0,669.0,0.0,0.0,0.0,0.0,0.0,0.0,0.0,0.0,1537.0,50.0,0.0,2032.0,1743.0,0.0,0.0,0.0,0.0,0.0,0.0,662.0,27.0,669.0,95.0,453.0,0.0,0.0,0.0,0.0,662.0,72.0,0.0,0.0,5248.0,0.0,0.0,null,0.0,0.0,638.0,177.0,null,null,1.0,316.0,0.0,0.0,1.0,0.0,0.0,0.0,0.0,41.0,0.0,1.0,226.0,0.0,0.0,0.0,0.0,795.0,0.0,6953.0,2038.0,0.0,1488.0,21.0,0.0,664.0,0.0,2775.0,0.0,0.0,89.0,0.0,1181.0,0.0,1.0,0.0,0.0,0.0,1.0,0.0,0.0,0.0,690.0,0.0,38.0,0.0,0.0,0.0,0.0,0.0,0.0,0.0,0.0,27.0,0.0,161.0,94.0,19.0,52.0,0.0,0.0,0.0,0.0,0.0,74.0,0.0,641.0,0.0,0.0,0.0,2160.0,1400.0,1.0,254.0,0.0,29.0,0.0,0.0,0.0,38.0,0.0,0.0,0.0,678.0,0.0,117.0,0.0,0.0,null,16.0,0.0,0.0,null,249.0,63.0,3.0,506.0,129.0,0.0,2.0,1.0,1.0,0.0,1823.0,null,15586.0,484.0,0.0,1.0,95.0,0.0,0.0,0.0,0.0,null,5458.0,0.0,128.0,0.0,null,61.0,75.0,0.0,0.0,0.0,16.0,68.0,4.0,0.0,0.0,0.0,1695.0,0.0,0.0,0.0,0.0,572.0,12.0,0.0,586.0,null,0.0,7.0,0.0,0.0,0.0,3682.0,0.0,987.0,0.0,0.0,377.0,0.0,0.0,27.0,0.0,0.0,0.0,0.0,0.0,0.0,5.0,5287.0,0.0,6.0,0.0,4.0,0.0,10.0,0.0,1915.0,34.0,0.0,170.0,0.0,0.0,0.0,0.0,0.0,0.0,409.0,null,0.0,0.0,0.0,0.0,814.0,294.0,932.0,0.0,0.0,213.0,null,0.0,758.0,0.0,16.0,0.0,1249.0,309.0,0.0,0.0,0.0,0.0,0.0,0.0,663.0,0.0,0.0,0.0,160.0,0.0,2287.0,1234.0,8.0,355.0,0.0,null,0.0,0.0,9.0,2.0,201.0,0.0,0.0,0.0,0.0,484.0,0.0,0.0,1014.0,690.0,4212.0,0.0,0.0,0.0,0.0,0.0,0.0,null,3.0,150.0,0.0,2.0,2059.0,0.0,0.0,635.0,0.0,13902.0,0.0,0.0,0.0,167.0,0.0,0.0,2809.0,0.0,13.0,0.0,0.0,0.0,0.0,1.0,480.0,0.0,0.0,1229.0,0.0,0.0,669.0,0.0,2.0,0.0,43.0,0.0,0.0,0.0,66.0,0.0,50.0,0.0,125.0,0.0,0.0,0.0,0.0,1367.0,0.0,0.0,0.0,49.0,null,1323.0,0.0,613.0,0.0,9.0,0.0,0.0,19.0,0.0,3560.0,18.0,0.0,7.0,0.0,0.0,1586.0,0.0,0.0,0.0,0.0,0.0,225.0,241.0,0.0,0.0,0.0,0.0,0.0,1503.0,0.0,0.0,0.0,0.0,38.0,0.0,584.0,798.0,0.0,2.0,0.0,519.0,0.0,0.0,1.0,505.0,1.0,847.0,0.0,0.0,null,0.0,2.0,2723.0,0.0,0.0,189.0,62.0,5.0,639.0,0.0,0.0,0.0,0.0,83.0,0.0,0.0,0.0,0.0,0.0,0.0,0.0,0.0,37.0,0.0,700.0,1.0,0.0,77.0,0.0,0.0,7786.0,0.0,0.0,1.0,1.0,0.0,597.0,0.0,0.0,3204.0,68.0,0.0,25.0,0.0,40.0,0.0,0.0,2.0,0.0,2.0,0.0,0.0,0.0,12.0,318.0,11.0,42.0,0.0,118.0,1624.0,0.0,0.0,24.0,347.0,0.0,563.0,0.0,46.0,5.0,0.0,15.0,436.0,40.0,0.0,0.0,5.0,0.0,0.0,0.0,0.0,0.0,0.0,777.0,617.0,0.0,0.0,0.0,279.0,1012.0,0.0,0.0,0.0,746.0,0.0,542.0,0.0,0.0,153.0,0.0,237.0,0.0,506.0,2.0,0.0,127.0,142.0,290.0,0.0,18.0,0.0,0.0,4.0,5491.0,0.0,0.0,0.0,9.0,8493.0,778.0,0.0,0.0,0.0,45.0,null,0.0,538.0,304.0,0.0,198.0,0.0,0.0,0.0,0.0,0.0,1.0,201.0,0.0,0.0,0.0,0.0,null,0.0,0.0,1.0,0.0,740.0,0.0,0.0,0.0,0.0,0.0,993.0,0.0,0.0,0.0,0.0,17.0,0.0,0.0,0.0,2445.0,1013.0,19.0,0.0,0.0,0.0,0.0,24.0,5250.0,242.0,61.0,0.0,0.0,0.0,0.0,0.0,0.0,0.0,0.0,981.0,0.0,835.0,0.0,156.0,25.0,863.0,0.0,0.0,0.0,0.0,0.0,0.0,0.0,0.0,4344.0,1.0,0.0,0.0,0.0,1714.0,196.0,0.0,0.0,0.0,12.0,25.0,0.0,19.0,0.0,11.0,4.0,0.0,0.0,0.0,0.0,0.0,8.0,0.0,0.0,109.0,0.0,0.0,0.0,824.0,0.0,88.0,464.0,0.0,0.0,785.0,0.0,0.0,0.0,0.0,0.0,7.0,173.0,0.0,0.0,2263.0,null,178.0,0.0,0.0,0.0,0.0,0.0,344.0,0.0,0.0,0.0,0.0,0.0,0.0,0.0,365.0,1654.0,0.0,811.0,0.0,0.0,0.0,2326.0,0.0,259.0,6.0,9181.0,0.0,98.0,4732.0,0.0,0.0,0.0,0.0,2330.0,null,0.0,0.0,0.0,1211.0,520.0,0.0,104.0,0.0,0.0,689.0,25.0,null,0.0,506.0,0.0,42.0,0.0,2423.0,948.0,0.0,509.0,25.0,0.0,0.0,0.0,0.0,0.0,0.0,0.0,0.0,0.0,0.0,0.0,0.0,0.0,0.0,0.0,388.0,0.0,17.0,0.0,0.0,0.0,0.0,0.0,548.0,0.0,0.0,0.0,886.0,1492.0,98.0,0.0,0.0,0.0,0.0,0.0,5432.0,0.0,595.0,1268.0,0.0,0.0,0.0,199.0,0.0,2.0,0.0,0.0,0.0,0.0,57.0,0.0,0.0,0.0,0.0,0.0,0.0,0.0,16.0,0.0,177.0,0.0,0.0,0.0,79.0,408.0,148.0,0.0,0.0,782.0,275.0,0.0,0.0,0.0,1.0,0.0,1425.0,59.0,87.0,111.0,0.0,0.0,432.0,0.0,1.0,0.0,11.0,0.0,0.0,0.0,0.0,9.0,110.0,0.0,0.0,0.0,180.0,0.0,1.0,2854.0,0.0,1931.0,0.0,1.0,0.0,0.0,0.0,6688.0,null,0.0,394.0,0.0,1677.0,0.0,0.0,2075.0,0.0,433.0,0.0,0.0,190.0,633.0,0.0,3.0,2441.0,122.0,570.0,0.0,78.0,0.0,7.0,0.0,0.0,2.0,0.0,4928.0,0.0,0.0,0.0,24.0,301.0,0.0,0.0,5481.0,442.0,3803.0,0.0,0.0,0.0,0.0,0.0,0.0,0.0,6.0,0.0,0.0,0.0,0.0,867.0,0.0,0.0,4794.0,588.0,0.0,0.0,0.0,0.0,0.0,0.0,1529.0,0.0,0.0,3528.0,0.0,356.0,0.0,44.0,0.0,0.0,0.0,561.0,0.0,0.0,244.0,0.0,229.0,1910.0,0.0,0.0,0.0,0.0,622.0,0.0,889.0,0.0,718.0,0.0,6.0,1.0,0.0,20.0,0.0,null,0.0,0.0,154.0,521.0,0.0,181.0,2.0,0.0,0.0,0.0,0.0,0.0,0.0,0.0,0.0,751.0,900.0,30.0,118.0,0.0,0.0,null,0.0,0.0,421.0,0.0,0.0,6.0,0.0,73.0,171.0,0.0,0.0,0.0,0.0,495.0,0.0,12.0,0.0,0.0,0.0,0.0,0.0,1773.0,136.0,0.0,645.0,0.0,0.0,0.0,0.0,0.0,0.0,12.0,0.0,0.0,208.0,123.0,0.0,0.0,1149.0,267.0,0.0,0.0,1.0,8.0,795.0,9.0,686.0,0.0,0.0,0.0,465.0,0.0,0.0,0.0,875.0,0.0,324.0,629.0,0.0,0.0,0.0,0.0,0.0,0.0,946.0,0.0,0.0,918.0,0.0,0.0,0.0,0.0,null,369.0,0.0,0.0,0.0,0.0,56.0,22.0,453.0,0.0,0.0,0.0,1.0,0.0,0.0,0.0,0.0,0.0,22.0,0.0,1866.0,87.0,0.0,0.0,497.0,0.0,0.0,null,0.0,0.0,0.0,0.0,31.0,2.0,0.0,1.0,37.0,0.0,0.0,731.0,0.0,null,0.0,0.0,4864.0,0.0,48.0,0.0,null,0.0,0.0,4.0,0.0,2274.0,0.0,0.0,0.0,0.0,829.0,null,1831.0,1098.0,0.0,408.0,0.0,1294.0,0.0,0.0,372.0,0.0,16.0,0.0,0.0,0.0,0.0,0.0,0.0,0.0,0.0,642.0,1030.0,0.0,0.0,0.0,0.0,null,0.0,0.0,0.0,0.0,4.0,115.0,0.0,0.0,0.0,0.0,1.0,2810.0,0.0,0.0,788.0,2750.0,0.0,0.0,0.0,0.0,0.0,0.0,0.0,1535.0,2256.0,null,0.0,0.0,245.0,5577.0,2148.0,0.0,0.0,0.0,0.0,0.0,null,0.0,0.0,null,0.0,0.0,112.0,0.0,22.0,2.0,0.0,206.0,0.0,0.0,58.0,0.0,0.0,0.0,0.0,0.0,0.0,564.0,0.0,2.0,334.0,0.0,0.0,33.0,0.0,14.0,0.0,9655.0,44.0,0.0,0.0,0.0,0.0,0.0,1669.0,396.0,0.0,332.0,665.0,0.0,0.0,0.0,0.0,5.0,0.0,677.0,0.0,37.0,0.0,0.0,687.0,0.0,0.0,0.0,3220.0,1873.0,0.0,33.0,110.0,4952.0,297.0,1711.0,716.0,1443.0,34.0,0.0,0.0,0.0,0.0,88.0,0.0,8.0,667.0,0.0,null,1254.0,0.0,473.0,1770.0,null,0.0,2.0,0.0,195.0,0.0,0.0,0.0,0.0,0.0,0.0,154.0,327.0,0.0,4.0,140.0,0.0,839.0,23.0,0.0,0.0,0.0,0.0,0.0,null,0.0,0.0,0.0,0.0,419.0,717.0,183.0,0.0,630.0,0.0,2183.0,0.0,18572.0,266.0,0.0,0.0,951.0,0.0,0.0,0.0,0.0,0.0,70.0,0.0,0.0,140.0,0.0,0.0,0.0,1.0,0.0,0.0,0.0,0.0,17.0,0.0,0.0,21.0,0.0,256.0,312.0,0.0,1273.0,4199.0,1.0,0.0,0.0,0.0,0.0,0.0,0.0,103.0,0.0,0.0,2519.0,0.0,0.0,2205.0,0.0,2279.0,0.0,0.0,436.0,0.0,0.0,1154.0,551.0,71.0,994.0,0.0,0.0,0.0,0.0,0.0,712.0,0.0,830.0,0.0,0.0,0.0,0.0,3441.0,0.0,0.0,0.0,0.0,15.0,0.0,0.0,0.0,553.0,83.0,0.0,0.0,0.0,141.0,0.0,0.0,0.0,0.0,0.0,2354.0,0.0,0.0,0.0,0.0,0.0,848.0,0.0,0.0,318.0,0.0,3030.0,0.0,5775.0,0.0,0.0,0.0,1663.0,1841.0,0.0,65.0,226.0,0.0,0.0,1587.0,0.0,0.0,0.0,null,0.0,1008.0,0.0,0.0,0.0,0.0,0.0,265.0,267.0,0.0,2.0,0.0,0.0,0.0,0.0,0.0,21.0,226.0,0.0,95.0,595.0,0.0,0.0,0.0,0.0,0.0,0.0,0.0,0.0,1460.0,0.0,0.0,0.0,0.0,277.0,0.0,0.0,104.0,2.0,0.0,3.0,949.0,0.0,36.0,0.0,0.0,87.0,52.0,0.0,15.0,87.0,0.0,0.0,0.0,0.0,0.0,0.0,1180.0,4925.0,165.0,0.0,1.0,0.0,0.0,976.0,0.0,245.0,1043.0,280.0,0.0,0.0,0.0,4.0,0.0,545.0,732.0,69.0,6.0,0.0,0.0,0.0,1130.0,0.0,0.0,0.0,0.0,11.0,0.0,0.0,328.0,1028.0,5.0,0.0,0.0,3.0,0.0,3939.0,8.0,0.0,6.0,634.0,726.0,623.0,0.0,0.0,0.0,null,0.0,0.0,843.0,0.0,35.0,146.0,0.0,0.0,0.0,0.0,0.0,0.0,0.0,0.0,41.0,0.0,588.0,0.0,11.0,83.0,0.0,107.0,0.0,617.0,204.0,2019.0,0.0,0.0,7.0,335.0,0.0,0.0,0.0,0.0,4111.0,30.0,0.0,8.0,0.0,0.0,492.0,0.0,132.0,0.0,4016.0,4502.0,1572.0,88.0,0.0,464.0,0.0,0.0,0.0,0.0,0.0,0.0,0.0,0.0,0.0,0.0,112.0,2760.0,1.0,41.0,0.0,0.0,0.0,0.0,0.0,0.0,17.0,0.0,0.0,0.0,0.0,0.0,0.0,22.0,500.0,112.0,207.0,0.0,0.0,0.0,0.0,0.0,307.0,0.0,0.0,56.0,0.0,379.0,0.0,0.0,0.0,427.0,0.0,0.0,0.0,0.0,5.0,125.0,0.0,0.0,0.0,0.0,1606.0,3.0,0.0,318.0,0.0,0.0,0.0,0.0,15.0,0.0,5.0,0.0,324.0,0.0,null,0.0,782.0,755.0,3657.0,41.0,0.0,0.0,80.0,null,13.0,912.0,0.0,0.0,0.0,0.0,0.0,614.0,62.0,0.0,466.0,0.0,0.0,0.0,957.0,2.0,0.0,52.0,36.0,0.0,0.0,6.0,0.0,0.0,629.0,0.0,404.0,224.0,0.0,0.0,0.0,0.0,0.0,593.0,0.0,1.0,0.0,0.0,0.0,0.0,0.0,0.0,5025.0,0.0,0.0,0.0,20.0,0.0,119.0,0.0,0.0,0.0,0.0,0.0,788.0,620.0,0.0,0.0,0.0,0.0,0.0,80.0,0.0,67.0,0.0,356.0,0.0,0.0,1465.0,0.0,588.0,525.0,0.0,147.0,0.0,967.0,2.0,39.0,0.0,0.0,0.0,0.0,102.0,0.0,0.0,0.0,64.0,0.0,3.0,722.0,0.0,0.0,0.0,299.0,320.0,391.0,0.0,0.0,618.0,0.0,0.0,217.0,135.0,0.0,298.0,0.0,0.0,0.0,0.0,13995.0,668.0,1432.0,0.0,0.0,0.0,0.0,null,471.0,0.0,0.0,2234.0,0.0,0.0,559.0,45.0,3786.0,0.0,184.0,135.0,148.0,11.0,0.0,2718.0,0.0,0.0,0.0,568.0,3.0,46.0,0.0,162.0,232.0,1376.0,0.0,0.0,59.0,0.0,0.0,0.0,0.0,0.0,0.0,0.0,0.0,0.0,0.0,711.0,0.0,208.0,0.0,0.0,4.0,0.0,0.0,0.0,19.0,1972.0,2049.0,0.0,0.0,0.0,2.0,0.0,0.0,440.0,430.0,259.0,0.0,5.0,0.0,0.0,786.0,3.0,0.0,0.0,0.0,0.0,1.0,5.0,0.0,0.0,780.0,0.0,80.0,0.0,0.0,0.0,0.0,228.0,0.0,808.0,0.0,226.0,0.0,null,10.0,363.0,800.0,0.0,1239.0,0.0,0.0,0.0,0.0,0.0,0.0,null,3761.0,9.0,null,0.0,0.0,0.0,0.0,0.0,0.0,54.0,0.0,0.0,0.0,0.0,38.0,0.0,0.0,0.0,11.0,0.0,684.0,1159.0,0.0,11.0,0.0,0.0,0.0,177.0,168.0,5.0,0.0,0.0,5.0,0.0,0.0,1446.0,7.0,62.0,0.0,0.0,0.0,0.0,0.0,1.0,0.0,0.0,13.0,0.0,0.0,0.0,269.0,698.0,654.0,0.0,3238.0,616.0,null,0.0,0.0,29.0,0.0,0.0,0.0,0.0,0.0,2.0,360.0,795.0,6.0,0.0,0.0,0.0,0.0,0.0,0.0,0.0,null,4.0,660.0,0.0,0.0,0.0,0.0,0.0,0.0,2868.0,0.0,0.0,0.0,0.0,1107.0,0.0,0.0,128.0,0.0,0.0,0.0,0.0,0.0,207.0,28.0,0.0,0.0,0.0,0.0,0.0,0.0,24.0,11.0,0.0,0.0,0.0,0.0,0.0,0.0,0.0,208.0,0.0,0.0,50.0,2.0,1643.0,0.0,1.0,353.0,0.0],\"xaxis\":\"x\",\"yaxis\":\"y\",\"type\":\"histogram\"}],                        {\"template\":{\"data\":{\"bar\":[{\"error_x\":{\"color\":\"#2a3f5f\"},\"error_y\":{\"color\":\"#2a3f5f\"},\"marker\":{\"line\":{\"color\":\"#E5ECF6\",\"width\":0.5},\"pattern\":{\"fillmode\":\"overlay\",\"size\":10,\"solidity\":0.2}},\"type\":\"bar\"}],\"barpolar\":[{\"marker\":{\"line\":{\"color\":\"#E5ECF6\",\"width\":0.5},\"pattern\":{\"fillmode\":\"overlay\",\"size\":10,\"solidity\":0.2}},\"type\":\"barpolar\"}],\"carpet\":[{\"aaxis\":{\"endlinecolor\":\"#2a3f5f\",\"gridcolor\":\"white\",\"linecolor\":\"white\",\"minorgridcolor\":\"white\",\"startlinecolor\":\"#2a3f5f\"},\"baxis\":{\"endlinecolor\":\"#2a3f5f\",\"gridcolor\":\"white\",\"linecolor\":\"white\",\"minorgridcolor\":\"white\",\"startlinecolor\":\"#2a3f5f\"},\"type\":\"carpet\"}],\"choropleth\":[{\"colorbar\":{\"outlinewidth\":0,\"ticks\":\"\"},\"type\":\"choropleth\"}],\"contour\":[{\"colorbar\":{\"outlinewidth\":0,\"ticks\":\"\"},\"colorscale\":[[0.0,\"#0d0887\"],[0.1111111111111111,\"#46039f\"],[0.2222222222222222,\"#7201a8\"],[0.3333333333333333,\"#9c179e\"],[0.4444444444444444,\"#bd3786\"],[0.5555555555555556,\"#d8576b\"],[0.6666666666666666,\"#ed7953\"],[0.7777777777777778,\"#fb9f3a\"],[0.8888888888888888,\"#fdca26\"],[1.0,\"#f0f921\"]],\"type\":\"contour\"}],\"contourcarpet\":[{\"colorbar\":{\"outlinewidth\":0,\"ticks\":\"\"},\"type\":\"contourcarpet\"}],\"heatmap\":[{\"colorbar\":{\"outlinewidth\":0,\"ticks\":\"\"},\"colorscale\":[[0.0,\"#0d0887\"],[0.1111111111111111,\"#46039f\"],[0.2222222222222222,\"#7201a8\"],[0.3333333333333333,\"#9c179e\"],[0.4444444444444444,\"#bd3786\"],[0.5555555555555556,\"#d8576b\"],[0.6666666666666666,\"#ed7953\"],[0.7777777777777778,\"#fb9f3a\"],[0.8888888888888888,\"#fdca26\"],[1.0,\"#f0f921\"]],\"type\":\"heatmap\"}],\"heatmapgl\":[{\"colorbar\":{\"outlinewidth\":0,\"ticks\":\"\"},\"colorscale\":[[0.0,\"#0d0887\"],[0.1111111111111111,\"#46039f\"],[0.2222222222222222,\"#7201a8\"],[0.3333333333333333,\"#9c179e\"],[0.4444444444444444,\"#bd3786\"],[0.5555555555555556,\"#d8576b\"],[0.6666666666666666,\"#ed7953\"],[0.7777777777777778,\"#fb9f3a\"],[0.8888888888888888,\"#fdca26\"],[1.0,\"#f0f921\"]],\"type\":\"heatmapgl\"}],\"histogram\":[{\"marker\":{\"pattern\":{\"fillmode\":\"overlay\",\"size\":10,\"solidity\":0.2}},\"type\":\"histogram\"}],\"histogram2d\":[{\"colorbar\":{\"outlinewidth\":0,\"ticks\":\"\"},\"colorscale\":[[0.0,\"#0d0887\"],[0.1111111111111111,\"#46039f\"],[0.2222222222222222,\"#7201a8\"],[0.3333333333333333,\"#9c179e\"],[0.4444444444444444,\"#bd3786\"],[0.5555555555555556,\"#d8576b\"],[0.6666666666666666,\"#ed7953\"],[0.7777777777777778,\"#fb9f3a\"],[0.8888888888888888,\"#fdca26\"],[1.0,\"#f0f921\"]],\"type\":\"histogram2d\"}],\"histogram2dcontour\":[{\"colorbar\":{\"outlinewidth\":0,\"ticks\":\"\"},\"colorscale\":[[0.0,\"#0d0887\"],[0.1111111111111111,\"#46039f\"],[0.2222222222222222,\"#7201a8\"],[0.3333333333333333,\"#9c179e\"],[0.4444444444444444,\"#bd3786\"],[0.5555555555555556,\"#d8576b\"],[0.6666666666666666,\"#ed7953\"],[0.7777777777777778,\"#fb9f3a\"],[0.8888888888888888,\"#fdca26\"],[1.0,\"#f0f921\"]],\"type\":\"histogram2dcontour\"}],\"mesh3d\":[{\"colorbar\":{\"outlinewidth\":0,\"ticks\":\"\"},\"type\":\"mesh3d\"}],\"parcoords\":[{\"line\":{\"colorbar\":{\"outlinewidth\":0,\"ticks\":\"\"}},\"type\":\"parcoords\"}],\"pie\":[{\"automargin\":true,\"type\":\"pie\"}],\"scatter\":[{\"marker\":{\"colorbar\":{\"outlinewidth\":0,\"ticks\":\"\"}},\"type\":\"scatter\"}],\"scatter3d\":[{\"line\":{\"colorbar\":{\"outlinewidth\":0,\"ticks\":\"\"}},\"marker\":{\"colorbar\":{\"outlinewidth\":0,\"ticks\":\"\"}},\"type\":\"scatter3d\"}],\"scattercarpet\":[{\"marker\":{\"colorbar\":{\"outlinewidth\":0,\"ticks\":\"\"}},\"type\":\"scattercarpet\"}],\"scattergeo\":[{\"marker\":{\"colorbar\":{\"outlinewidth\":0,\"ticks\":\"\"}},\"type\":\"scattergeo\"}],\"scattergl\":[{\"marker\":{\"colorbar\":{\"outlinewidth\":0,\"ticks\":\"\"}},\"type\":\"scattergl\"}],\"scattermapbox\":[{\"marker\":{\"colorbar\":{\"outlinewidth\":0,\"ticks\":\"\"}},\"type\":\"scattermapbox\"}],\"scatterpolar\":[{\"marker\":{\"colorbar\":{\"outlinewidth\":0,\"ticks\":\"\"}},\"type\":\"scatterpolar\"}],\"scatterpolargl\":[{\"marker\":{\"colorbar\":{\"outlinewidth\":0,\"ticks\":\"\"}},\"type\":\"scatterpolargl\"}],\"scatterternary\":[{\"marker\":{\"colorbar\":{\"outlinewidth\":0,\"ticks\":\"\"}},\"type\":\"scatterternary\"}],\"surface\":[{\"colorbar\":{\"outlinewidth\":0,\"ticks\":\"\"},\"colorscale\":[[0.0,\"#0d0887\"],[0.1111111111111111,\"#46039f\"],[0.2222222222222222,\"#7201a8\"],[0.3333333333333333,\"#9c179e\"],[0.4444444444444444,\"#bd3786\"],[0.5555555555555556,\"#d8576b\"],[0.6666666666666666,\"#ed7953\"],[0.7777777777777778,\"#fb9f3a\"],[0.8888888888888888,\"#fdca26\"],[1.0,\"#f0f921\"]],\"type\":\"surface\"}],\"table\":[{\"cells\":{\"fill\":{\"color\":\"#EBF0F8\"},\"line\":{\"color\":\"white\"}},\"header\":{\"fill\":{\"color\":\"#C8D4E3\"},\"line\":{\"color\":\"white\"}},\"type\":\"table\"}]},\"layout\":{\"annotationdefaults\":{\"arrowcolor\":\"#2a3f5f\",\"arrowhead\":0,\"arrowwidth\":1},\"autotypenumbers\":\"strict\",\"coloraxis\":{\"colorbar\":{\"outlinewidth\":0,\"ticks\":\"\"}},\"colorscale\":{\"diverging\":[[0,\"#8e0152\"],[0.1,\"#c51b7d\"],[0.2,\"#de77ae\"],[0.3,\"#f1b6da\"],[0.4,\"#fde0ef\"],[0.5,\"#f7f7f7\"],[0.6,\"#e6f5d0\"],[0.7,\"#b8e186\"],[0.8,\"#7fbc41\"],[0.9,\"#4d9221\"],[1,\"#276419\"]],\"sequential\":[[0.0,\"#0d0887\"],[0.1111111111111111,\"#46039f\"],[0.2222222222222222,\"#7201a8\"],[0.3333333333333333,\"#9c179e\"],[0.4444444444444444,\"#bd3786\"],[0.5555555555555556,\"#d8576b\"],[0.6666666666666666,\"#ed7953\"],[0.7777777777777778,\"#fb9f3a\"],[0.8888888888888888,\"#fdca26\"],[1.0,\"#f0f921\"]],\"sequentialminus\":[[0.0,\"#0d0887\"],[0.1111111111111111,\"#46039f\"],[0.2222222222222222,\"#7201a8\"],[0.3333333333333333,\"#9c179e\"],[0.4444444444444444,\"#bd3786\"],[0.5555555555555556,\"#d8576b\"],[0.6666666666666666,\"#ed7953\"],[0.7777777777777778,\"#fb9f3a\"],[0.8888888888888888,\"#fdca26\"],[1.0,\"#f0f921\"]]},\"colorway\":[\"#636efa\",\"#EF553B\",\"#00cc96\",\"#ab63fa\",\"#FFA15A\",\"#19d3f3\",\"#FF6692\",\"#B6E880\",\"#FF97FF\",\"#FECB52\"],\"font\":{\"color\":\"#2a3f5f\"},\"geo\":{\"bgcolor\":\"white\",\"lakecolor\":\"white\",\"landcolor\":\"#E5ECF6\",\"showlakes\":true,\"showland\":true,\"subunitcolor\":\"white\"},\"hoverlabel\":{\"align\":\"left\"},\"hovermode\":\"closest\",\"mapbox\":{\"style\":\"light\"},\"paper_bgcolor\":\"white\",\"plot_bgcolor\":\"#E5ECF6\",\"polar\":{\"angularaxis\":{\"gridcolor\":\"white\",\"linecolor\":\"white\",\"ticks\":\"\"},\"bgcolor\":\"#E5ECF6\",\"radialaxis\":{\"gridcolor\":\"white\",\"linecolor\":\"white\",\"ticks\":\"\"}},\"scene\":{\"xaxis\":{\"backgroundcolor\":\"#E5ECF6\",\"gridcolor\":\"white\",\"gridwidth\":2,\"linecolor\":\"white\",\"showbackground\":true,\"ticks\":\"\",\"zerolinecolor\":\"white\"},\"yaxis\":{\"backgroundcolor\":\"#E5ECF6\",\"gridcolor\":\"white\",\"gridwidth\":2,\"linecolor\":\"white\",\"showbackground\":true,\"ticks\":\"\",\"zerolinecolor\":\"white\"},\"zaxis\":{\"backgroundcolor\":\"#E5ECF6\",\"gridcolor\":\"white\",\"gridwidth\":2,\"linecolor\":\"white\",\"showbackground\":true,\"ticks\":\"\",\"zerolinecolor\":\"white\"}},\"shapedefaults\":{\"line\":{\"color\":\"#2a3f5f\"}},\"ternary\":{\"aaxis\":{\"gridcolor\":\"white\",\"linecolor\":\"white\",\"ticks\":\"\"},\"baxis\":{\"gridcolor\":\"white\",\"linecolor\":\"white\",\"ticks\":\"\"},\"bgcolor\":\"#E5ECF6\",\"caxis\":{\"gridcolor\":\"white\",\"linecolor\":\"white\",\"ticks\":\"\"}},\"title\":{\"x\":0.05},\"xaxis\":{\"automargin\":true,\"gridcolor\":\"white\",\"linecolor\":\"white\",\"ticks\":\"\",\"title\":{\"standoff\":15},\"zerolinecolor\":\"white\",\"zerolinewidth\":2},\"yaxis\":{\"automargin\":true,\"gridcolor\":\"white\",\"linecolor\":\"white\",\"ticks\":\"\",\"title\":{\"standoff\":15},\"zerolinecolor\":\"white\",\"zerolinewidth\":2}}},\"xaxis\":{\"anchor\":\"y\",\"domain\":[0.0,1.0],\"title\":{\"text\":\"Spa\"}},\"yaxis\":{\"anchor\":\"x\",\"domain\":[0.0,1.0],\"title\":{\"text\":\"count\"}},\"legend\":{\"tracegroupgap\":0},\"margin\":{\"t\":60},\"barmode\":\"relative\"},                        {\"responsive\": true}                    ).then(function(){\n",
              "                            \n",
              "var gd = document.getElementById('cde425a7-9260-4c1e-b3de-a6a369c1fd68');\n",
              "var x = new MutationObserver(function (mutations, observer) {{\n",
              "        var display = window.getComputedStyle(gd).display;\n",
              "        if (!display || display === 'none') {{\n",
              "            console.log([gd, 'removed!']);\n",
              "            Plotly.purge(gd);\n",
              "            observer.disconnect();\n",
              "        }}\n",
              "}});\n",
              "\n",
              "// Listen for the removal of the full notebook cells\n",
              "var notebookContainer = gd.closest('#notebook-container');\n",
              "if (notebookContainer) {{\n",
              "    x.observe(notebookContainer, {childList: true});\n",
              "}}\n",
              "\n",
              "// Listen for the clearing of the current output cell\n",
              "var outputEl = gd.closest('.output');\n",
              "if (outputEl) {{\n",
              "    x.observe(outputEl, {childList: true});\n",
              "}}\n",
              "\n",
              "                        })                };                            </script>        </div>\n",
              "</body>\n",
              "</html>"
            ]
          },
          "metadata": {}
        }
      ]
    },
    {
      "cell_type": "code",
      "source": [
        "# 7. Distribution of VRDeck Bills\n",
        "px.histogram(data_frame = train_df, x=\"VRDeck\")"
      ],
      "metadata": {
        "colab": {
          "base_uri": "https://localhost:8080/",
          "height": 542
        },
        "id": "kjL_jBcKwSbb",
        "outputId": "881640a6-ffe2-49f1-ed42-e0eeb0d016cc"
      },
      "execution_count": 14,
      "outputs": [
        {
          "output_type": "display_data",
          "data": {
            "text/html": [
              "<html>\n",
              "<head><meta charset=\"utf-8\" /></head>\n",
              "<body>\n",
              "    <div>            <script src=\"https://cdnjs.cloudflare.com/ajax/libs/mathjax/2.7.5/MathJax.js?config=TeX-AMS-MML_SVG\"></script><script type=\"text/javascript\">if (window.MathJax) {MathJax.Hub.Config({SVG: {font: \"STIX-Web\"}});}</script>                <script type=\"text/javascript\">window.PlotlyConfig = {MathJaxConfig: 'local'};</script>\n",
              "        <script src=\"https://cdn.plot.ly/plotly-2.8.3.min.js\"></script>                <div id=\"b86beaa3-9ad7-48f4-aac1-6e1e6af82c5a\" class=\"plotly-graph-div\" style=\"height:525px; width:100%;\"></div>            <script type=\"text/javascript\">                                    window.PLOTLYENV=window.PLOTLYENV || {};                                    if (document.getElementById(\"b86beaa3-9ad7-48f4-aac1-6e1e6af82c5a\")) {                    Plotly.newPlot(                        \"b86beaa3-9ad7-48f4-aac1-6e1e6af82c5a\",                        [{\"alignmentgroup\":\"True\",\"bingroup\":\"x\",\"hovertemplate\":\"VRDeck=%{x}<br>count=%{y}<extra></extra>\",\"legendgroup\":\"\",\"marker\":{\"color\":\"#636efa\",\"pattern\":{\"shape\":\"\"}},\"name\":\"\",\"offsetgroup\":\"\",\"orientation\":\"v\",\"showlegend\":false,\"x\":[0.0,44.0,49.0,193.0,2.0,0.0,0.0,null,0.0,0.0,0.0,124.0,113.0,24.0,7.0,0.0,0.0,637.0,0.0,0.0,679.0,0.0,0.0,0.0,0.0,0.0,0.0,0.0,0.0,0.0,328.0,0.0,453.0,1229.0,0.0,0.0,0.0,0.0,401.0,0.0,0.0,0.0,855.0,0.0,0.0,0.0,64.0,0.0,0.0,127.0,0.0,1.0,0.0,0.0,3.0,0.0,1.0,25.0,0.0,0.0,460.0,0.0,0.0,24.0,0.0,0.0,726.0,52.0,1063.0,12.0,506.0,0.0,0.0,9654.0,0.0,0.0,0.0,0.0,17.0,0.0,513.0,0.0,0.0,0.0,0.0,34.0,0.0,0.0,637.0,0.0,87.0,0.0,0.0,0.0,91.0,17.0,0.0,0.0,131.0,0.0,0.0,0.0,0.0,764.0,1687.0,445.0,0.0,0.0,13.0,0.0,1.0,null,404.0,6898.0,0.0,null,74.0,1.0,0.0,25.0,2.0,0.0,0.0,0.0,0.0,0.0,55.0,0.0,207.0,0.0,0.0,462.0,0.0,0.0,0.0,0.0,76.0,0.0,0.0,607.0,61.0,0.0,0.0,135.0,0.0,0.0,0.0,137.0,0.0,567.0,0.0,0.0,0.0,175.0,2111.0,119.0,11.0,0.0,0.0,92.0,0.0,232.0,956.0,0.0,98.0,0.0,0.0,0.0,0.0,0.0,0.0,0.0,0.0,7.0,575.0,0.0,0.0,0.0,0.0,0.0,0.0,443.0,0.0,705.0,122.0,0.0,0.0,0.0,0.0,0.0,739.0,387.0,146.0,1918.0,0.0,0.0,0.0,0.0,0.0,0.0,1099.0,0.0,0.0,0.0,0.0,0.0,0.0,1023.0,0.0,0.0,0.0,0.0,0.0,9.0,0.0,0.0,79.0,0.0,0.0,0.0,0.0,0.0,319.0,0.0,1116.0,0.0,0.0,0.0,0.0,7.0,10912.0,0.0,1063.0,0.0,0.0,0.0,1.0,6.0,0.0,0.0,0.0,92.0,2054.0,803.0,0.0,0.0,1.0,0.0,1240.0,0.0,0.0,null,333.0,0.0,0.0,0.0,2.0,0.0,0.0,13.0,0.0,1460.0,828.0,0.0,262.0,0.0,0.0,0.0,0.0,0.0,0.0,0.0,0.0,1370.0,0.0,5166.0,2469.0,101.0,0.0,0.0,241.0,4.0,0.0,0.0,0.0,1330.0,0.0,0.0,null,0.0,null,0.0,0.0,0.0,0.0,2.0,0.0,202.0,1260.0,552.0,0.0,0.0,0.0,0.0,1057.0,0.0,0.0,0.0,0.0,907.0,0.0,0.0,0.0,0.0,0.0,0.0,0.0,0.0,0.0,572.0,0.0,0.0,88.0,112.0,417.0,21.0,4.0,0.0,58.0,1023.0,0.0,0.0,0.0,230.0,0.0,8188.0,697.0,0.0,2175.0,0.0,0.0,1059.0,0.0,164.0,0.0,0.0,0.0,368.0,140.0,0.0,0.0,0.0,128.0,0.0,0.0,0.0,987.0,0.0,5688.0,1.0,0.0,0.0,3.0,0.0,0.0,0.0,2.0,7.0,1699.0,223.0,0.0,0.0,0.0,0.0,0.0,0.0,60.0,0.0,0.0,1241.0,0.0,57.0,1.0,0.0,0.0,792.0,3139.0,225.0,0.0,0.0,0.0,0.0,0.0,3656.0,0.0,0.0,0.0,0.0,0.0,0.0,0.0,56.0,0.0,0.0,0.0,0.0,799.0,715.0,0.0,0.0,0.0,0.0,0.0,0.0,0.0,0.0,0.0,5.0,0.0,0.0,73.0,0.0,0.0,0.0,0.0,2.0,0.0,0.0,20.0,0.0,0.0,35.0,0.0,428.0,4.0,1.0,0.0,null,0.0,170.0,4.0,299.0,0.0,943.0,0.0,0.0,0.0,0.0,275.0,0.0,665.0,615.0,55.0,246.0,0.0,0.0,0.0,0.0,0.0,0.0,0.0,481.0,0.0,0.0,0.0,0.0,0.0,0.0,0.0,752.0,0.0,0.0,0.0,0.0,0.0,122.0,0.0,0.0,0.0,2376.0,73.0,0.0,0.0,null,null,156.0,6.0,0.0,4.0,0.0,6595.0,0.0,0.0,0.0,0.0,1902.0,25.0,352.0,5.0,0.0,0.0,0.0,0.0,4987.0,0.0,16.0,878.0,0.0,0.0,3.0,1.0,1.0,0.0,0.0,12.0,0.0,0.0,0.0,0.0,0.0,19.0,79.0,0.0,0.0,0.0,0.0,0.0,0.0,0.0,3695.0,0.0,0.0,0.0,4.0,null,0.0,872.0,0.0,0.0,0.0,null,0.0,1568.0,0.0,0.0,null,0.0,0.0,0.0,0.0,0.0,0.0,4.0,0.0,0.0,0.0,0.0,0.0,0.0,0.0,0.0,1042.0,0.0,1.0,973.0,0.0,2005.0,0.0,113.0,null,0.0,0.0,null,0.0,0.0,6.0,0.0,793.0,0.0,0.0,0.0,747.0,9568.0,892.0,null,0.0,109.0,5.0,0.0,0.0,0.0,0.0,0.0,0.0,0.0,388.0,0.0,0.0,0.0,1.0,0.0,0.0,0.0,0.0,383.0,0.0,319.0,359.0,0.0,0.0,0.0,null,19.0,972.0,575.0,2.0,0.0,0.0,0.0,0.0,0.0,0.0,0.0,0.0,0.0,0.0,0.0,0.0,3.0,0.0,0.0,null,0.0,0.0,722.0,39.0,5689.0,0.0,0.0,482.0,403.0,0.0,740.0,0.0,0.0,0.0,0.0,0.0,0.0,0.0,0.0,0.0,0.0,0.0,0.0,15.0,0.0,0.0,213.0,3.0,0.0,0.0,0.0,0.0,0.0,0.0,38.0,0.0,0.0,0.0,5.0,0.0,54.0,0.0,0.0,0.0,0.0,15.0,0.0,0.0,349.0,0.0,0.0,0.0,0.0,0.0,0.0,0.0,0.0,0.0,0.0,0.0,1.0,0.0,2566.0,0.0,354.0,594.0,0.0,0.0,561.0,517.0,0.0,null,0.0,1166.0,0.0,58.0,0.0,0.0,493.0,0.0,8.0,0.0,null,0.0,0.0,0.0,151.0,67.0,0.0,0.0,0.0,0.0,187.0,17306.0,0.0,0.0,0.0,0.0,0.0,0.0,0.0,0.0,0.0,1359.0,0.0,0.0,0.0,0.0,18.0,0.0,11.0,467.0,0.0,0.0,1.0,0.0,null,0.0,342.0,3497.0,0.0,0.0,0.0,766.0,0.0,0.0,0.0,0.0,645.0,0.0,4.0,0.0,1.0,1171.0,0.0,10.0,null,0.0,0.0,0.0,833.0,0.0,0.0,0.0,0.0,438.0,0.0,0.0,0.0,3.0,0.0,161.0,0.0,0.0,0.0,0.0,0.0,0.0,26.0,0.0,0.0,0.0,27.0,166.0,0.0,5152.0,2.0,1300.0,0.0,0.0,0.0,0.0,0.0,0.0,12.0,0.0,0.0,427.0,0.0,0.0,0.0,0.0,0.0,0.0,0.0,0.0,0.0,31.0,92.0,0.0,0.0,0.0,0.0,0.0,4.0,26.0,0.0,0.0,0.0,0.0,52.0,0.0,0.0,0.0,1.0,0.0,0.0,0.0,0.0,1043.0,19.0,0.0,28.0,634.0,0.0,4.0,0.0,450.0,34.0,3.0,1406.0,289.0,0.0,null,1226.0,2453.0,0.0,0.0,0.0,0.0,0.0,25.0,81.0,22.0,0.0,260.0,0.0,491.0,0.0,0.0,1070.0,872.0,0.0,0.0,0.0,0.0,13.0,0.0,0.0,0.0,0.0,188.0,201.0,0.0,0.0,0.0,359.0,0.0,0.0,0.0,788.0,0.0,null,0.0,0.0,0.0,0.0,0.0,0.0,0.0,6.0,0.0,0.0,0.0,0.0,0.0,0.0,0.0,873.0,0.0,319.0,0.0,1088.0,0.0,0.0,0.0,704.0,478.0,0.0,149.0,0.0,96.0,0.0,135.0,1341.0,0.0,1436.0,0.0,91.0,0.0,0.0,135.0,0.0,2.0,35.0,0.0,0.0,0.0,3.0,0.0,0.0,773.0,791.0,0.0,0.0,0.0,0.0,0.0,0.0,0.0,0.0,0.0,0.0,0.0,0.0,0.0,0.0,0.0,0.0,0.0,209.0,0.0,0.0,0.0,0.0,0.0,9.0,0.0,0.0,7.0,99.0,0.0,0.0,213.0,39.0,0.0,0.0,0.0,0.0,0.0,0.0,10896.0,null,0.0,0.0,0.0,0.0,null,0.0,376.0,96.0,0.0,0.0,0.0,677.0,689.0,149.0,1374.0,0.0,0.0,0.0,0.0,60.0,0.0,0.0,0.0,455.0,0.0,null,0.0,0.0,0.0,0.0,6.0,843.0,0.0,0.0,null,0.0,0.0,0.0,0.0,0.0,794.0,0.0,0.0,365.0,0.0,488.0,0.0,0.0,0.0,0.0,0.0,130.0,781.0,515.0,100.0,0.0,7516.0,754.0,100.0,719.0,0.0,0.0,0.0,0.0,98.0,0.0,0.0,0.0,9010.0,0.0,3.0,0.0,17.0,0.0,0.0,0.0,67.0,756.0,0.0,0.0,0.0,908.0,0.0,30.0,null,1304.0,0.0,0.0,1213.0,1933.0,61.0,0.0,0.0,1693.0,0.0,0.0,0.0,0.0,0.0,0.0,4.0,0.0,0.0,0.0,0.0,16.0,0.0,67.0,0.0,461.0,687.0,694.0,7.0,2587.0,67.0,0.0,0.0,1920.0,0.0,653.0,0.0,512.0,0.0,0.0,0.0,0.0,0.0,0.0,0.0,0.0,7.0,0.0,0.0,0.0,0.0,0.0,113.0,0.0,44.0,0.0,0.0,61.0,8.0,1583.0,0.0,0.0,0.0,0.0,1388.0,0.0,235.0,6381.0,0.0,200.0,0.0,5.0,0.0,0.0,0.0,0.0,10.0,0.0,0.0,0.0,4.0,0.0,0.0,0.0,7.0,810.0,0.0,1.0,132.0,0.0,1.0,0.0,0.0,2.0,229.0,0.0,0.0,661.0,0.0,0.0,0.0,0.0,356.0,0.0,105.0,28.0,223.0,1281.0,0.0,0.0,0.0,567.0,47.0,0.0,0.0,0.0,9.0,4987.0,142.0,0.0,2313.0,5.0,945.0,0.0,1.0,0.0,0.0,173.0,0.0,0.0,0.0,0.0,0.0,0.0,0.0,0.0,0.0,0.0,0.0,43.0,0.0,null,19.0,0.0,3146.0,13.0,584.0,0.0,0.0,0.0,0.0,0.0,13.0,256.0,0.0,0.0,0.0,0.0,0.0,0.0,514.0,0.0,0.0,0.0,2519.0,6.0,0.0,671.0,53.0,0.0,0.0,623.0,0.0,0.0,89.0,67.0,0.0,0.0,0.0,0.0,0.0,0.0,336.0,0.0,1147.0,0.0,0.0,0.0,7.0,0.0,0.0,26.0,0.0,0.0,4.0,0.0,761.0,0.0,0.0,2969.0,0.0,0.0,72.0,0.0,0.0,0.0,0.0,0.0,723.0,null,0.0,0.0,539.0,0.0,0.0,2.0,150.0,0.0,0.0,0.0,0.0,0.0,0.0,0.0,0.0,144.0,0.0,78.0,4.0,3604.0,0.0,55.0,0.0,5.0,0.0,368.0,86.0,0.0,0.0,0.0,0.0,0.0,0.0,0.0,0.0,351.0,1853.0,19.0,0.0,0.0,46.0,60.0,0.0,152.0,0.0,0.0,0.0,3471.0,13.0,0.0,0.0,0.0,0.0,122.0,832.0,0.0,1916.0,32.0,0.0,3358.0,0.0,0.0,820.0,5.0,0.0,0.0,0.0,0.0,1779.0,0.0,0.0,0.0,57.0,0.0,0.0,0.0,0.0,2.0,0.0,8.0,965.0,0.0,null,0.0,0.0,659.0,191.0,0.0,47.0,649.0,0.0,0.0,912.0,0.0,755.0,0.0,112.0,2485.0,0.0,3384.0,0.0,1462.0,6.0,0.0,3404.0,5.0,72.0,0.0,698.0,0.0,504.0,330.0,0.0,0.0,0.0,0.0,0.0,0.0,1.0,248.0,26.0,0.0,2372.0,701.0,0.0,0.0,0.0,0.0,null,2.0,null,8.0,706.0,0.0,713.0,153.0,1061.0,0.0,0.0,55.0,0.0,376.0,0.0,0.0,0.0,0.0,0.0,0.0,0.0,0.0,4.0,0.0,0.0,0.0,329.0,0.0,27.0,1.0,0.0,0.0,0.0,0.0,0.0,0.0,0.0,521.0,0.0,0.0,0.0,282.0,0.0,0.0,11378.0,1.0,0.0,5.0,2114.0,553.0,0.0,0.0,0.0,0.0,800.0,523.0,0.0,0.0,0.0,4030.0,235.0,1460.0,0.0,0.0,1.0,837.0,1122.0,0.0,0.0,766.0,0.0,0.0,0.0,0.0,0.0,0.0,162.0,16.0,0.0,783.0,0.0,714.0,424.0,0.0,0.0,0.0,0.0,0.0,0.0,0.0,7.0,2439.0,341.0,196.0,0.0,923.0,36.0,0.0,null,0.0,0.0,0.0,55.0,119.0,0.0,0.0,161.0,22.0,0.0,44.0,341.0,0.0,42.0,0.0,0.0,0.0,0.0,0.0,0.0,8.0,341.0,0.0,0.0,0.0,null,0.0,98.0,1.0,0.0,0.0,0.0,5.0,362.0,0.0,null,0.0,0.0,1134.0,25.0,0.0,0.0,2.0,794.0,0.0,0.0,2.0,0.0,0.0,0.0,0.0,0.0,2.0,5.0,0.0,null,5321.0,0.0,718.0,0.0,0.0,178.0,0.0,null,0.0,0.0,86.0,536.0,0.0,0.0,0.0,1442.0,0.0,64.0,0.0,16.0,0.0,0.0,null,0.0,0.0,264.0,0.0,0.0,44.0,0.0,0.0,0.0,754.0,0.0,0.0,256.0,427.0,0.0,0.0,68.0,0.0,622.0,3.0,0.0,0.0,1290.0,47.0,0.0,1.0,8.0,0.0,1241.0,0.0,0.0,0.0,0.0,24.0,0.0,0.0,0.0,0.0,1679.0,0.0,0.0,640.0,0.0,31.0,603.0,0.0,0.0,243.0,0.0,795.0,0.0,0.0,0.0,0.0,0.0,null,0.0,0.0,0.0,0.0,6064.0,0.0,0.0,807.0,0.0,0.0,0.0,308.0,0.0,0.0,26.0,3.0,4.0,1.0,0.0,253.0,0.0,0.0,0.0,1333.0,0.0,1168.0,42.0,0.0,0.0,0.0,0.0,0.0,0.0,0.0,14.0,0.0,0.0,11.0,12.0,0.0,0.0,591.0,0.0,0.0,638.0,0.0,0.0,0.0,105.0,180.0,0.0,0.0,0.0,0.0,0.0,1.0,0.0,0.0,0.0,0.0,4045.0,30.0,0.0,0.0,0.0,57.0,263.0,52.0,23.0,443.0,0.0,19.0,0.0,9.0,0.0,427.0,254.0,null,295.0,19.0,1572.0,0.0,1955.0,null,521.0,0.0,0.0,0.0,194.0,1381.0,0.0,0.0,16.0,123.0,663.0,0.0,0.0,25.0,0.0,771.0,0.0,85.0,0.0,0.0,0.0,3156.0,318.0,0.0,133.0,0.0,null,0.0,0.0,0.0,null,1115.0,0.0,865.0,0.0,52.0,0.0,0.0,0.0,1479.0,3.0,0.0,1009.0,9.0,0.0,15.0,0.0,0.0,0.0,0.0,29.0,702.0,0.0,0.0,0.0,731.0,1107.0,44.0,5063.0,0.0,0.0,0.0,0.0,0.0,0.0,0.0,1225.0,0.0,247.0,0.0,90.0,704.0,0.0,1514.0,0.0,0.0,0.0,2.0,0.0,872.0,0.0,0.0,0.0,284.0,388.0,0.0,0.0,0.0,0.0,117.0,0.0,0.0,0.0,0.0,null,0.0,0.0,7.0,1357.0,0.0,717.0,0.0,74.0,0.0,0.0,3822.0,260.0,0.0,0.0,613.0,160.0,0.0,0.0,17.0,3377.0,0.0,0.0,2293.0,0.0,0.0,18.0,761.0,2.0,473.0,0.0,1.0,0.0,0.0,0.0,0.0,0.0,0.0,0.0,0.0,0.0,198.0,173.0,6.0,0.0,0.0,138.0,1.0,0.0,0.0,5.0,26.0,0.0,0.0,0.0,157.0,40.0,719.0,5.0,0.0,0.0,1.0,0.0,0.0,0.0,null,null,5416.0,804.0,671.0,2.0,7619.0,0.0,0.0,0.0,0.0,0.0,287.0,6.0,9.0,0.0,0.0,0.0,2.0,0.0,0.0,0.0,19.0,0.0,23.0,null,0.0,22.0,1.0,4724.0,1119.0,0.0,642.0,0.0,0.0,0.0,0.0,0.0,149.0,13.0,0.0,907.0,423.0,327.0,0.0,0.0,1963.0,0.0,0.0,2713.0,0.0,163.0,650.0,448.0,729.0,16.0,343.0,61.0,0.0,769.0,506.0,6007.0,0.0,99.0,397.0,556.0,1.0,0.0,509.0,549.0,12.0,0.0,1.0,0.0,0.0,0.0,0.0,0.0,1344.0,0.0,0.0,0.0,0.0,5.0,4538.0,23.0,0.0,0.0,1.0,0.0,0.0,1.0,0.0,0.0,0.0,0.0,267.0,0.0,0.0,0.0,0.0,0.0,0.0,826.0,0.0,0.0,185.0,0.0,176.0,900.0,0.0,0.0,3.0,0.0,0.0,28.0,0.0,0.0,0.0,0.0,0.0,0.0,0.0,0.0,0.0,0.0,0.0,0.0,105.0,7.0,0.0,0.0,0.0,null,0.0,2.0,0.0,0.0,0.0,0.0,0.0,22.0,0.0,null,0.0,13.0,0.0,68.0,0.0,0.0,0.0,0.0,281.0,247.0,1254.0,251.0,0.0,0.0,0.0,63.0,0.0,76.0,0.0,70.0,0.0,5.0,1440.0,0.0,0.0,283.0,68.0,0.0,null,0.0,0.0,0.0,0.0,72.0,0.0,0.0,0.0,0.0,0.0,6.0,198.0,0.0,72.0,0.0,2.0,0.0,570.0,0.0,0.0,0.0,154.0,0.0,3.0,0.0,878.0,0.0,0.0,0.0,null,null,0.0,0.0,0.0,99.0,0.0,0.0,0.0,1.0,121.0,85.0,1153.0,960.0,0.0,1.0,0.0,0.0,0.0,654.0,0.0,0.0,0.0,0.0,0.0,868.0,475.0,0.0,0.0,0.0,0.0,0.0,0.0,0.0,778.0,0.0,0.0,0.0,0.0,0.0,3970.0,11643.0,0.0,378.0,0.0,null,0.0,0.0,0.0,277.0,568.0,1769.0,258.0,0.0,5.0,62.0,8195.0,3768.0,0.0,0.0,0.0,34.0,0.0,0.0,0.0,0.0,2924.0,0.0,0.0,0.0,0.0,168.0,4.0,6.0,0.0,0.0,0.0,11.0,0.0,84.0,0.0,0.0,0.0,0.0,0.0,0.0,5.0,0.0,23.0,0.0,0.0,2.0,0.0,0.0,0.0,0.0,3782.0,0.0,0.0,0.0,0.0,0.0,0.0,0.0,0.0,0.0,0.0,0.0,0.0,0.0,1239.0,185.0,0.0,0.0,0.0,0.0,0.0,0.0,0.0,0.0,0.0,462.0,33.0,0.0,0.0,0.0,108.0,40.0,96.0,0.0,0.0,673.0,0.0,0.0,0.0,0.0,0.0,0.0,0.0,0.0,0.0,0.0,3.0,490.0,0.0,4120.0,0.0,0.0,null,781.0,0.0,0.0,5.0,0.0,0.0,0.0,0.0,1561.0,0.0,1171.0,0.0,0.0,3.0,0.0,0.0,0.0,0.0,0.0,2447.0,729.0,9.0,0.0,0.0,0.0,0.0,0.0,0.0,0.0,606.0,208.0,0.0,0.0,2757.0,40.0,0.0,0.0,372.0,0.0,0.0,54.0,69.0,94.0,0.0,0.0,0.0,0.0,null,0.0,644.0,275.0,0.0,0.0,0.0,0.0,0.0,0.0,0.0,0.0,11.0,0.0,null,364.0,0.0,0.0,3643.0,1264.0,0.0,0.0,0.0,0.0,17.0,0.0,1.0,621.0,500.0,0.0,1391.0,0.0,0.0,619.0,0.0,0.0,418.0,3.0,0.0,0.0,2.0,238.0,5.0,0.0,803.0,0.0,0.0,0.0,0.0,4513.0,0.0,0.0,5872.0,0.0,506.0,0.0,0.0,0.0,1135.0,0.0,0.0,0.0,0.0,0.0,0.0,0.0,0.0,0.0,0.0,0.0,1425.0,0.0,0.0,349.0,582.0,1257.0,41.0,0.0,43.0,0.0,77.0,1462.0,1514.0,0.0,12.0,0.0,0.0,0.0,324.0,0.0,null,0.0,0.0,0.0,0.0,0.0,0.0,0.0,0.0,0.0,39.0,0.0,0.0,0.0,1.0,0.0,0.0,10.0,0.0,624.0,74.0,0.0,0.0,0.0,478.0,195.0,0.0,254.0,733.0,0.0,0.0,0.0,0.0,0.0,99.0,2272.0,0.0,0.0,0.0,0.0,7.0,128.0,0.0,0.0,62.0,0.0,0.0,0.0,4.0,0.0,0.0,0.0,0.0,687.0,1318.0,0.0,0.0,0.0,0.0,0.0,0.0,1.0,null,0.0,0.0,533.0,0.0,0.0,218.0,0.0,0.0,0.0,0.0,null,0.0,1348.0,5.0,1.0,0.0,67.0,693.0,0.0,null,null,null,null,0.0,1051.0,0.0,793.0,0.0,1334.0,2564.0,0.0,2153.0,0.0,7041.0,68.0,0.0,677.0,0.0,0.0,32.0,0.0,1.0,0.0,0.0,1215.0,3.0,0.0,0.0,811.0,0.0,0.0,0.0,0.0,236.0,0.0,708.0,86.0,1435.0,0.0,669.0,0.0,0.0,0.0,0.0,1515.0,21.0,0.0,591.0,0.0,0.0,695.0,1393.0,1895.0,2024.0,0.0,0.0,0.0,1751.0,530.0,0.0,0.0,10.0,0.0,0.0,510.0,0.0,12.0,0.0,0.0,0.0,0.0,0.0,0.0,12.0,554.0,0.0,985.0,0.0,0.0,4.0,0.0,0.0,914.0,0.0,0.0,0.0,0.0,63.0,0.0,0.0,132.0,0.0,0.0,0.0,0.0,0.0,1257.0,2618.0,0.0,0.0,107.0,692.0,11.0,0.0,0.0,0.0,0.0,11.0,0.0,0.0,0.0,0.0,907.0,0.0,0.0,0.0,0.0,810.0,0.0,0.0,0.0,0.0,0.0,12.0,1209.0,0.0,0.0,0.0,0.0,null,0.0,0.0,0.0,697.0,0.0,551.0,0.0,0.0,0.0,0.0,0.0,155.0,8.0,0.0,493.0,1.0,0.0,0.0,0.0,51.0,731.0,0.0,266.0,0.0,1.0,0.0,671.0,0.0,1345.0,3030.0,0.0,0.0,0.0,3657.0,122.0,0.0,0.0,820.0,0.0,0.0,0.0,0.0,871.0,0.0,0.0,0.0,12.0,0.0,0.0,0.0,470.0,0.0,0.0,0.0,null,0.0,0.0,0.0,0.0,0.0,0.0,3051.0,2473.0,1479.0,55.0,514.0,1295.0,5058.0,1919.0,0.0,0.0,20.0,0.0,0.0,0.0,0.0,0.0,809.0,4168.0,0.0,0.0,0.0,0.0,0.0,0.0,0.0,0.0,801.0,81.0,0.0,0.0,0.0,0.0,0.0,1.0,0.0,0.0,337.0,0.0,0.0,23.0,0.0,9.0,0.0,0.0,0.0,0.0,0.0,3.0,0.0,3447.0,0.0,1.0,0.0,0.0,0.0,0.0,0.0,19.0,1.0,556.0,0.0,0.0,681.0,707.0,0.0,0.0,574.0,5.0,0.0,143.0,0.0,0.0,0.0,1042.0,261.0,0.0,0.0,0.0,0.0,0.0,0.0,0.0,1618.0,0.0,0.0,0.0,16.0,0.0,543.0,388.0,0.0,0.0,0.0,510.0,0.0,0.0,0.0,0.0,0.0,0.0,1050.0,0.0,5.0,0.0,316.0,1689.0,1204.0,0.0,0.0,0.0,0.0,636.0,3.0,84.0,0.0,516.0,1.0,3.0,190.0,10.0,0.0,0.0,810.0,0.0,1370.0,4941.0,0.0,528.0,706.0,603.0,0.0,0.0,22.0,300.0,1.0,4359.0,29.0,0.0,0.0,0.0,0.0,732.0,0.0,83.0,0.0,409.0,6237.0,74.0,0.0,64.0,3372.0,4.0,1637.0,3510.0,312.0,0.0,0.0,9.0,44.0,0.0,0.0,1784.0,0.0,1804.0,0.0,0.0,0.0,0.0,283.0,513.0,0.0,0.0,0.0,0.0,0.0,437.0,0.0,0.0,0.0,0.0,0.0,276.0,810.0,5.0,0.0,0.0,0.0,0.0,0.0,72.0,36.0,0.0,0.0,254.0,0.0,1.0,0.0,0.0,0.0,0.0,0.0,6023.0,0.0,0.0,0.0,2.0,1.0,0.0,0.0,1014.0,0.0,556.0,0.0,0.0,31.0,384.0,0.0,700.0,0.0,0.0,188.0,0.0,0.0,0.0,0.0,0.0,7979.0,0.0,0.0,0.0,0.0,0.0,0.0,0.0,0.0,21.0,23.0,0.0,0.0,0.0,0.0,0.0,0.0,0.0,0.0,0.0,1140.0,0.0,312.0,0.0,0.0,0.0,0.0,0.0,0.0,1437.0,0.0,1681.0,0.0,16.0,0.0,null,0.0,0.0,null,0.0,0.0,1196.0,0.0,4240.0,0.0,2409.0,0.0,0.0,66.0,0.0,0.0,0.0,3.0,0.0,0.0,0.0,0.0,0.0,1464.0,0.0,336.0,0.0,0.0,0.0,0.0,1191.0,0.0,0.0,0.0,0.0,0.0,0.0,0.0,356.0,0.0,0.0,0.0,0.0,0.0,0.0,773.0,398.0,0.0,1457.0,196.0,469.0,0.0,0.0,0.0,3219.0,266.0,1229.0,2.0,144.0,0.0,0.0,0.0,0.0,0.0,0.0,0.0,0.0,1.0,0.0,0.0,0.0,0.0,0.0,37.0,0.0,0.0,341.0,0.0,0.0,0.0,0.0,71.0,0.0,77.0,5.0,0.0,0.0,0.0,0.0,0.0,7.0,0.0,null,0.0,0.0,2049.0,20.0,85.0,0.0,0.0,0.0,0.0,0.0,0.0,0.0,1937.0,243.0,0.0,0.0,0.0,0.0,0.0,0.0,0.0,159.0,0.0,483.0,0.0,0.0,0.0,0.0,0.0,8.0,0.0,0.0,150.0,1.0,6.0,138.0,0.0,0.0,0.0,0.0,0.0,0.0,0.0,0.0,299.0,0.0,0.0,0.0,311.0,0.0,0.0,2.0,0.0,0.0,0.0,0.0,0.0,132.0,0.0,0.0,0.0,0.0,0.0,0.0,0.0,0.0,50.0,0.0,226.0,9.0,0.0,8.0,2031.0,1765.0,401.0,0.0,0.0,0.0,0.0,26.0,0.0,0.0,0.0,0.0,0.0,0.0,4.0,772.0,323.0,0.0,102.0,50.0,0.0,0.0,0.0,0.0,0.0,142.0,226.0,0.0,0.0,0.0,0.0,0.0,0.0,0.0,0.0,59.0,0.0,6111.0,201.0,3460.0,605.0,0.0,2.0,488.0,0.0,0.0,0.0,0.0,1022.0,0.0,0.0,1467.0,0.0,0.0,1.0,0.0,0.0,null,0.0,1.0,0.0,0.0,205.0,843.0,0.0,0.0,0.0,0.0,null,0.0,636.0,0.0,0.0,0.0,0.0,4.0,0.0,0.0,28.0,null,0.0,0.0,0.0,0.0,0.0,0.0,7.0,1984.0,0.0,595.0,null,15.0,0.0,0.0,0.0,0.0,0.0,0.0,0.0,0.0,null,0.0,0.0,0.0,0.0,478.0,333.0,0.0,3875.0,0.0,0.0,8.0,119.0,0.0,373.0,0.0,0.0,0.0,0.0,0.0,0.0,3291.0,943.0,0.0,116.0,29.0,0.0,0.0,null,0.0,0.0,0.0,1.0,904.0,466.0,558.0,0.0,0.0,0.0,0.0,0.0,0.0,77.0,0.0,93.0,0.0,229.0,0.0,0.0,0.0,0.0,0.0,490.0,0.0,1790.0,0.0,0.0,0.0,6569.0,178.0,0.0,0.0,0.0,341.0,0.0,0.0,13.0,0.0,0.0,1655.0,0.0,0.0,5.0,3069.0,0.0,1.0,0.0,0.0,0.0,37.0,607.0,0.0,80.0,587.0,0.0,0.0,0.0,1.0,0.0,20.0,0.0,0.0,0.0,0.0,0.0,0.0,1014.0,0.0,465.0,0.0,0.0,0.0,1.0,0.0,0.0,212.0,0.0,0.0,0.0,0.0,0.0,0.0,null,0.0,0.0,0.0,0.0,566.0,0.0,0.0,0.0,715.0,376.0,0.0,0.0,139.0,0.0,0.0,null,0.0,5.0,0.0,0.0,0.0,436.0,0.0,2054.0,26.0,0.0,0.0,0.0,55.0,0.0,0.0,0.0,548.0,1.0,0.0,0.0,0.0,0.0,340.0,0.0,0.0,0.0,0.0,1062.0,1267.0,0.0,0.0,2260.0,0.0,3.0,29.0,0.0,0.0,1609.0,30.0,0.0,0.0,0.0,0.0,0.0,14.0,0.0,0.0,0.0,0.0,0.0,0.0,0.0,0.0,null,1622.0,0.0,0.0,0.0,1.0,0.0,0.0,547.0,0.0,0.0,0.0,16337.0,0.0,0.0,1157.0,0.0,62.0,0.0,0.0,0.0,54.0,344.0,1.0,408.0,1.0,876.0,0.0,0.0,0.0,0.0,388.0,0.0,0.0,0.0,0.0,0.0,null,0.0,0.0,0.0,0.0,0.0,3.0,0.0,0.0,0.0,4.0,0.0,800.0,0.0,0.0,0.0,0.0,0.0,0.0,0.0,0.0,3.0,0.0,2891.0,0.0,0.0,455.0,0.0,64.0,0.0,0.0,0.0,0.0,0.0,3.0,0.0,0.0,2102.0,0.0,3874.0,180.0,0.0,0.0,0.0,0.0,119.0,0.0,0.0,39.0,0.0,0.0,0.0,0.0,0.0,0.0,0.0,0.0,0.0,0.0,0.0,0.0,0.0,0.0,0.0,0.0,0.0,2.0,0.0,0.0,0.0,0.0,0.0,0.0,0.0,8735.0,0.0,71.0,1779.0,0.0,346.0,2.0,533.0,0.0,0.0,418.0,0.0,0.0,0.0,0.0,0.0,0.0,237.0,0.0,5563.0,0.0,0.0,0.0,0.0,5.0,297.0,658.0,1788.0,3.0,null,0.0,0.0,0.0,0.0,368.0,0.0,0.0,0.0,1113.0,0.0,9244.0,0.0,0.0,0.0,4269.0,0.0,0.0,0.0,0.0,661.0,317.0,0.0,56.0,0.0,null,9.0,0.0,786.0,0.0,321.0,1103.0,108.0,0.0,0.0,0.0,0.0,0.0,0.0,0.0,0.0,0.0,0.0,0.0,703.0,0.0,0.0,437.0,0.0,784.0,null,0.0,350.0,0.0,0.0,null,0.0,80.0,54.0,null,18.0,0.0,867.0,486.0,0.0,null,224.0,0.0,0.0,0.0,8.0,0.0,236.0,0.0,0.0,252.0,0.0,1244.0,428.0,421.0,4184.0,0.0,1.0,0.0,0.0,1678.0,0.0,305.0,0.0,0.0,0.0,0.0,0.0,0.0,0.0,0.0,505.0,0.0,null,16.0,0.0,963.0,null,1.0,0.0,0.0,0.0,209.0,0.0,0.0,0.0,0.0,0.0,11.0,479.0,96.0,0.0,0.0,0.0,2325.0,0.0,0.0,0.0,0.0,84.0,0.0,1.0,0.0,0.0,0.0,0.0,0.0,0.0,0.0,0.0,0.0,0.0,0.0,909.0,0.0,0.0,0.0,54.0,0.0,49.0,542.0,0.0,0.0,214.0,0.0,2264.0,480.0,0.0,0.0,622.0,0.0,0.0,384.0,0.0,10786.0,1148.0,1148.0,0.0,1.0,2.0,23.0,0.0,0.0,0.0,0.0,0.0,0.0,0.0,0.0,5.0,0.0,0.0,0.0,0.0,0.0,0.0,5.0,1.0,15.0,12.0,0.0,0.0,0.0,5190.0,20.0,0.0,880.0,0.0,0.0,446.0,0.0,0.0,0.0,null,0.0,null,0.0,0.0,41.0,0.0,0.0,0.0,1.0,0.0,0.0,0.0,0.0,170.0,0.0,0.0,0.0,0.0,0.0,0.0,0.0,0.0,421.0,808.0,0.0,0.0,0.0,40.0,0.0,1598.0,0.0,0.0,359.0,0.0,0.0,0.0,0.0,0.0,0.0,0.0,0.0,0.0,0.0,0.0,1.0,0.0,0.0,0.0,0.0,0.0,0.0,0.0,0.0,158.0,5.0,null,0.0,14.0,0.0,172.0,3039.0,2368.0,55.0,0.0,0.0,0.0,0.0,421.0,42.0,0.0,4174.0,0.0,1.0,null,0.0,0.0,0.0,0.0,0.0,0.0,0.0,0.0,0.0,0.0,47.0,0.0,0.0,0.0,0.0,0.0,11.0,0.0,null,0.0,0.0,1577.0,0.0,0.0,0.0,192.0,0.0,0.0,0.0,10173.0,0.0,8.0,1.0,0.0,155.0,0.0,0.0,0.0,0.0,0.0,2790.0,0.0,2181.0,53.0,0.0,null,0.0,12.0,2.0,0.0,6.0,0.0,0.0,0.0,35.0,766.0,144.0,2.0,58.0,659.0,208.0,41.0,20.0,0.0,0.0,0.0,0.0,0.0,0.0,0.0,276.0,0.0,0.0,0.0,112.0,0.0,0.0,1.0,0.0,0.0,0.0,0.0,0.0,null,23.0,0.0,0.0,3.0,0.0,0.0,0.0,0.0,0.0,0.0,637.0,0.0,0.0,0.0,290.0,0.0,0.0,0.0,255.0,0.0,0.0,0.0,0.0,0.0,0.0,842.0,0.0,0.0,0.0,0.0,30.0,334.0,832.0,542.0,0.0,16.0,0.0,0.0,0.0,4.0,0.0,0.0,42.0,0.0,0.0,133.0,0.0,592.0,0.0,0.0,0.0,0.0,36.0,0.0,0.0,0.0,0.0,3597.0,773.0,0.0,0.0,0.0,0.0,0.0,0.0,14485.0,1562.0,182.0,186.0,4376.0,77.0,8.0,0.0,0.0,598.0,1226.0,0.0,0.0,0.0,0.0,363.0,82.0,0.0,667.0,0.0,0.0,0.0,441.0,0.0,0.0,0.0,0.0,0.0,0.0,0.0,0.0,196.0,0.0,0.0,0.0,0.0,0.0,null,0.0,0.0,64.0,0.0,0.0,0.0,6.0,334.0,0.0,0.0,427.0,22.0,0.0,43.0,3932.0,13.0,0.0,0.0,0.0,0.0,0.0,449.0,0.0,329.0,387.0,0.0,315.0,106.0,33.0,79.0,303.0,0.0,22.0,0.0,1141.0,0.0,0.0,813.0,0.0,0.0,101.0,91.0,293.0,197.0,18.0,146.0,0.0,0.0,33.0,0.0,5116.0,1300.0,0.0,0.0,0.0,5361.0,0.0,553.0,0.0,1.0,62.0,0.0,0.0,0.0,871.0,0.0,0.0,0.0,0.0,0.0,2936.0,0.0,0.0,0.0,0.0,0.0,35.0,0.0,0.0,0.0,0.0,0.0,0.0,7629.0,228.0,0.0,0.0,0.0,0.0,233.0,0.0,0.0,0.0,0.0,0.0,0.0,654.0,0.0,0.0,27.0,0.0,0.0,0.0,0.0,830.0,498.0,77.0,0.0,293.0,584.0,120.0,4.0,0.0,63.0,7.0,59.0,0.0,0.0,337.0,0.0,2330.0,0.0,1384.0,1.0,249.0,0.0,2071.0,230.0,10.0,155.0,1768.0,0.0,331.0,1651.0,0.0,0.0,5.0,0.0,0.0,0.0,110.0,986.0,4967.0,0.0,360.0,2275.0,0.0,0.0,0.0,452.0,445.0,0.0,0.0,363.0,0.0,0.0,0.0,0.0,0.0,10.0,0.0,0.0,0.0,31.0,0.0,0.0,100.0,0.0,0.0,0.0,0.0,0.0,0.0,394.0,361.0,0.0,0.0,0.0,0.0,693.0,0.0,0.0,622.0,39.0,0.0,0.0,89.0,7.0,0.0,2983.0,2908.0,402.0,0.0,0.0,3.0,0.0,0.0,0.0,0.0,0.0,71.0,0.0,0.0,267.0,89.0,0.0,448.0,1.0,0.0,160.0,2260.0,0.0,0.0,26.0,0.0,null,0.0,3263.0,0.0,0.0,307.0,125.0,4.0,null,0.0,16.0,0.0,0.0,0.0,0.0,1713.0,4560.0,2141.0,32.0,0.0,85.0,0.0,0.0,0.0,142.0,0.0,0.0,0.0,null,2355.0,0.0,100.0,17.0,2.0,0.0,0.0,0.0,0.0,0.0,28.0,0.0,0.0,0.0,0.0,49.0,264.0,2825.0,0.0,0.0,0.0,67.0,0.0,0.0,0.0,0.0,null,0.0,0.0,836.0,0.0,0.0,0.0,0.0,2376.0,null,0.0,1.0,0.0,0.0,0.0,0.0,0.0,0.0,0.0,0.0,24.0,0.0,0.0,0.0,308.0,1290.0,13.0,746.0,633.0,0.0,555.0,0.0,0.0,0.0,0.0,0.0,0.0,44.0,1560.0,0.0,0.0,0.0,0.0,0.0,0.0,0.0,0.0,803.0,1601.0,null,0.0,5353.0,11.0,35.0,2799.0,549.0,0.0,4195.0,0.0,0.0,6.0,16.0,516.0,1825.0,0.0,89.0,0.0,0.0,2.0,4.0,1023.0,0.0,13.0,0.0,0.0,954.0,76.0,1924.0,524.0,4899.0,0.0,0.0,0.0,0.0,0.0,0.0,127.0,20336.0,77.0,5308.0,0.0,0.0,0.0,2.0,229.0,12682.0,0.0,0.0,556.0,179.0,220.0,2.0,7087.0,0.0,0.0,0.0,0.0,9.0,489.0,0.0,0.0,0.0,16.0,0.0,0.0,0.0,18.0,0.0,0.0,1660.0,0.0,610.0,674.0,0.0,0.0,0.0,26.0,1804.0,22.0,0.0,0.0,0.0,null,0.0,131.0,27.0,0.0,0.0,8.0,2.0,0.0,336.0,0.0,0.0,120.0,405.0,0.0,38.0,0.0,0.0,0.0,993.0,0.0,0.0,1508.0,7303.0,0.0,1.0,0.0,0.0,0.0,0.0,0.0,0.0,6803.0,0.0,312.0,0.0,0.0,0.0,0.0,0.0,0.0,0.0,0.0,0.0,0.0,0.0,0.0,null,62.0,1272.0,374.0,2084.0,2.0,0.0,0.0,0.0,0.0,0.0,366.0,0.0,0.0,0.0,3687.0,0.0,0.0,0.0,0.0,0.0,0.0,null,2311.0,0.0,0.0,998.0,0.0,0.0,0.0,0.0,0.0,1094.0,0.0,0.0,0.0,1.0,0.0,502.0,453.0,23.0,null,1960.0,2630.0,0.0,2167.0,583.0,0.0,6178.0,0.0,0.0,0.0,0.0,0.0,2.0,581.0,0.0,0.0,0.0,302.0,6.0,0.0,0.0,1.0,1647.0,588.0,171.0,0.0,321.0,0.0,0.0,0.0,53.0,623.0,0.0,0.0,0.0,56.0,0.0,74.0,0.0,373.0,0.0,0.0,0.0,0.0,0.0,0.0,0.0,6.0,0.0,0.0,0.0,4334.0,240.0,null,0.0,1866.0,0.0,0.0,0.0,754.0,0.0,1666.0,42.0,0.0,1955.0,0.0,0.0,40.0,1.0,0.0,0.0,0.0,0.0,0.0,0.0,0.0,62.0,0.0,0.0,0.0,0.0,451.0,98.0,0.0,30.0,0.0,0.0,0.0,0.0,0.0,0.0,0.0,0.0,0.0,512.0,0.0,785.0,0.0,0.0,0.0,3.0,44.0,700.0,0.0,0.0,358.0,12708.0,60.0,0.0,0.0,null,86.0,34.0,333.0,0.0,0.0,12.0,753.0,0.0,0.0,1362.0,21.0,2.0,0.0,176.0,0.0,3880.0,0.0,0.0,0.0,0.0,0.0,483.0,0.0,0.0,1837.0,0.0,0.0,502.0,8.0,0.0,0.0,466.0,0.0,0.0,0.0,0.0,1731.0,0.0,0.0,null,0.0,140.0,0.0,0.0,10.0,8.0,0.0,0.0,2203.0,0.0,0.0,691.0,0.0,2.0,0.0,0.0,0.0,0.0,27.0,0.0,0.0,0.0,0.0,0.0,0.0,0.0,0.0,0.0,0.0,0.0,0.0,0.0,0.0,0.0,0.0,0.0,0.0,776.0,0.0,199.0,0.0,0.0,0.0,0.0,0.0,0.0,0.0,0.0,0.0,2193.0,1539.0,0.0,0.0,0.0,0.0,0.0,null,0.0,0.0,null,0.0,0.0,0.0,1376.0,79.0,39.0,0.0,1225.0,null,0.0,0.0,0.0,32.0,103.0,null,0.0,0.0,0.0,0.0,7.0,0.0,179.0,null,0.0,0.0,0.0,5.0,4.0,0.0,0.0,0.0,0.0,794.0,0.0,0.0,0.0,2.0,0.0,0.0,3283.0,0.0,0.0,0.0,518.0,0.0,0.0,0.0,0.0,253.0,0.0,0.0,0.0,326.0,4.0,213.0,12.0,0.0,0.0,4411.0,0.0,4160.0,0.0,0.0,895.0,0.0,0.0,0.0,0.0,7218.0,101.0,304.0,261.0,0.0,0.0,0.0,0.0,0.0,0.0,0.0,0.0,191.0,0.0,0.0,0.0,0.0,1371.0,9129.0,0.0,118.0,5.0,0.0,2406.0,0.0,0.0,0.0,0.0,0.0,0.0,0.0,0.0,0.0,0.0,5147.0,1.0,0.0,0.0,754.0,0.0,null,168.0,611.0,41.0,0.0,0.0,0.0,0.0,0.0,0.0,330.0,7865.0,0.0,0.0,0.0,0.0,0.0,0.0,0.0,0.0,0.0,3.0,3541.0,4360.0,521.0,0.0,0.0,0.0,0.0,0.0,0.0,0.0,0.0,90.0,0.0,0.0,0.0,213.0,119.0,0.0,0.0,0.0,0.0,0.0,0.0,0.0,0.0,0.0,15.0,0.0,0.0,701.0,0.0,0.0,0.0,0.0,0.0,0.0,0.0,0.0,0.0,0.0,0.0,916.0,0.0,0.0,52.0,404.0,0.0,1415.0,79.0,61.0,0.0,0.0,0.0,1082.0,0.0,0.0,270.0,2.0,0.0,13.0,501.0,0.0,0.0,434.0,53.0,9.0,0.0,0.0,0.0,0.0,0.0,298.0,0.0,811.0,0.0,0.0,44.0,0.0,0.0,1513.0,0.0,647.0,0.0,0.0,0.0,0.0,1.0,0.0,1.0,40.0,0.0,397.0,1132.0,0.0,0.0,0.0,3.0,143.0,436.0,21.0,0.0,4828.0,0.0,0.0,null,0.0,0.0,0.0,0.0,0.0,1889.0,19.0,0.0,0.0,0.0,0.0,880.0,0.0,0.0,0.0,0.0,0.0,0.0,6.0,96.0,0.0,0.0,0.0,0.0,3.0,0.0,0.0,0.0,0.0,0.0,0.0,0.0,0.0,0.0,0.0,0.0,0.0,0.0,0.0,0.0,0.0,0.0,0.0,2.0,0.0,0.0,0.0,486.0,702.0,217.0,12323.0,2.0,31.0,0.0,0.0,0.0,148.0,120.0,1968.0,1232.0,0.0,307.0,null,433.0,816.0,487.0,0.0,50.0,57.0,1.0,53.0,60.0,0.0,0.0,0.0,0.0,0.0,0.0,0.0,0.0,0.0,0.0,0.0,0.0,0.0,0.0,0.0,0.0,0.0,0.0,168.0,0.0,0.0,0.0,356.0,null,0.0,0.0,0.0,0.0,0.0,340.0,5.0,0.0,10.0,null,0.0,0.0,1.0,10074.0,0.0,0.0,0.0,63.0,3491.0,39.0,459.0,323.0,0.0,118.0,0.0,0.0,9.0,0.0,0.0,519.0,0.0,0.0,0.0,0.0,0.0,0.0,0.0,1469.0,160.0,1.0,3.0,0.0,0.0,0.0,5558.0,0.0,0.0,null,2.0,85.0,0.0,0.0,0.0,26.0,0.0,0.0,0.0,8.0,0.0,0.0,0.0,0.0,0.0,0.0,0.0,777.0,4.0,0.0,67.0,0.0,901.0,0.0,1674.0,0.0,321.0,122.0,0.0,411.0,1544.0,0.0,314.0,0.0,0.0,0.0,0.0,18.0,0.0,3.0,0.0,183.0,0.0,0.0,0.0,734.0,0.0,0.0,0.0,0.0,720.0,0.0,0.0,827.0,0.0,0.0,0.0,0.0,0.0,0.0,595.0,0.0,0.0,0.0,0.0,0.0,0.0,0.0,5.0,0.0,571.0,0.0,0.0,2187.0,0.0,0.0,0.0,0.0,0.0,0.0,1466.0,0.0,12061.0,7730.0,1.0,0.0,0.0,0.0,null,0.0,0.0,0.0,0.0,0.0,0.0,0.0,11213.0,681.0,0.0,704.0,0.0,0.0,531.0,108.0,0.0,null,0.0,0.0,103.0,14.0,3.0,0.0,0.0,0.0,0.0,0.0,0.0,0.0,0.0,0.0,4.0,0.0,0.0,0.0,1403.0,4090.0,46.0,0.0,0.0,107.0,null,0.0,0.0,0.0,124.0,0.0,0.0,0.0,402.0,0.0,null,0.0,1755.0,0.0,0.0,0.0,435.0,1814.0,0.0,0.0,0.0,0.0,601.0,0.0,0.0,0.0,428.0,0.0,0.0,8040.0,0.0,null,0.0,145.0,77.0,0.0,0.0,1624.0,0.0,0.0,0.0,0.0,137.0,701.0,43.0,0.0,0.0,27.0,0.0,7461.0,4898.0,71.0,0.0,20.0,2740.0,0.0,0.0,503.0,0.0,0.0,1.0,1560.0,0.0,0.0,0.0,null,0.0,13.0,0.0,19.0,1.0,0.0,83.0,192.0,0.0,14.0,0.0,2659.0,208.0,1247.0,0.0,0.0,0.0,78.0,0.0,0.0,342.0,7121.0,0.0,1082.0,0.0,0.0,0.0,10206.0,0.0,5543.0,1.0,0.0,0.0,0.0,19.0,0.0,0.0,0.0,0.0,0.0,57.0,0.0,0.0,0.0,0.0,0.0,0.0,2711.0,715.0,594.0,0.0,0.0,0.0,0.0,0.0,10.0,6.0,0.0,0.0,null,1320.0,1478.0,4817.0,8221.0,0.0,40.0,350.0,0.0,0.0,880.0,0.0,0.0,0.0,0.0,144.0,30.0,23.0,0.0,1.0,0.0,0.0,0.0,0.0,0.0,0.0,0.0,0.0,1244.0,0.0,0.0,0.0,812.0,0.0,0.0,156.0,0.0,0.0,0.0,0.0,305.0,704.0,0.0,0.0,0.0,0.0,0.0,0.0,null,0.0,0.0,16.0,164.0,0.0,45.0,0.0,0.0,0.0,0.0,0.0,1155.0,141.0,0.0,518.0,0.0,0.0,3726.0,2105.0,0.0,0.0,383.0,0.0,0.0,510.0,0.0,121.0,754.0,37.0,109.0,0.0,618.0,3.0,705.0,0.0,0.0,7492.0,1297.0,643.0,1.0,139.0,0.0,1984.0,356.0,1.0,0.0,0.0,254.0,0.0,0.0,0.0,26.0,0.0,1120.0,1.0,0.0,0.0,642.0,193.0,1.0,199.0,0.0,0.0,0.0,0.0,0.0,null,0.0,0.0,383.0,765.0,907.0,0.0,273.0,0.0,0.0,594.0,1.0,0.0,0.0,0.0,811.0,5.0,199.0,0.0,3379.0,0.0,1.0,0.0,6.0,0.0,0.0,583.0,0.0,393.0,0.0,4.0,0.0,0.0,0.0,2109.0,0.0,0.0,0.0,0.0,0.0,0.0,0.0,0.0,0.0,0.0,0.0,0.0,0.0,10.0,0.0,387.0,0.0,2.0,0.0,0.0,5615.0,0.0,0.0,0.0,0.0,0.0,4.0,0.0,716.0,0.0,218.0,0.0,0.0,null,0.0,0.0,0.0,0.0,0.0,0.0,0.0,0.0,6.0,1104.0,260.0,1903.0,0.0,65.0,0.0,0.0,3831.0,21.0,8.0,88.0,0.0,0.0,13.0,0.0,0.0,24.0,0.0,0.0,0.0,0.0,0.0,0.0,0.0,0.0,null,0.0,0.0,0.0,1049.0,100.0,909.0,6.0,0.0,0.0,0.0,1818.0,0.0,10.0,0.0,0.0,11.0,0.0,1065.0,1292.0,0.0,0.0,0.0,0.0,0.0,0.0,0.0,0.0,839.0,0.0,41.0,0.0,262.0,0.0,0.0,0.0,0.0,0.0,0.0,1407.0,749.0,0.0,0.0,0.0,0.0,0.0,0.0,0.0,289.0,3780.0,69.0,4757.0,2300.0,25.0,0.0,104.0,0.0,375.0,2056.0,33.0,0.0,517.0,0.0,171.0,0.0,3.0,null,0.0,126.0,7.0,0.0,0.0,0.0,0.0,0.0,0.0,0.0,0.0,0.0,null,0.0,14.0,0.0,0.0,805.0,0.0,0.0,0.0,73.0,1227.0,0.0,247.0,417.0,0.0,585.0,79.0,0.0,0.0,0.0,867.0,0.0,6.0,0.0,0.0,235.0,769.0,0.0,0.0,0.0,0.0,0.0,24133.0,0.0,0.0,9.0,0.0,0.0,0.0,13.0,0.0,0.0,0.0,489.0,0.0,null,692.0,0.0,0.0,2428.0,0.0,0.0,5.0,0.0,323.0,801.0,0.0,0.0,0.0,16.0,0.0,3999.0,0.0,0.0,0.0,0.0,18.0,0.0,0.0,2050.0,384.0,0.0,0.0,0.0,5.0,0.0,0.0,0.0,0.0,283.0,0.0,null,631.0,0.0,175.0,0.0,2.0,1393.0,1335.0,0.0,0.0,45.0,941.0,0.0,0.0,1.0,4.0,0.0,0.0,0.0,395.0,0.0,141.0,0.0,0.0,0.0,0.0,0.0,0.0,827.0,0.0,1674.0,3186.0,587.0,0.0,0.0,757.0,0.0,0.0,0.0,489.0,4.0,243.0,0.0,396.0,0.0,0.0,1652.0,0.0,0.0,9.0,9.0,48.0,1013.0,0.0,17.0,0.0,2137.0,0.0,0.0,1721.0,0.0,0.0,0.0,308.0,0.0,0.0,0.0,0.0,0.0,0.0,3.0,6.0,86.0,0.0,0.0,527.0,29.0,0.0,0.0,0.0,0.0,0.0,0.0,0.0,0.0,0.0,73.0,0.0,3.0,216.0,0.0,20.0,0.0,525.0,629.0,5648.0,0.0,642.0,0.0,0.0,0.0,0.0,10.0,0.0,21.0,0.0,3230.0,0.0,0.0,0.0,35.0,593.0,0.0,0.0,8.0,0.0,309.0,0.0,683.0,40.0,0.0,0.0,0.0,1078.0,0.0,445.0,0.0,0.0,0.0,0.0,0.0,0.0,0.0,988.0,0.0,0.0,0.0,884.0,0.0,0.0,2383.0,0.0,0.0,0.0,3.0,0.0,0.0,1017.0,0.0,0.0,80.0,0.0,0.0,0.0,1174.0,0.0,0.0,0.0,0.0,9.0,807.0,9.0,0.0,0.0,37.0,0.0,0.0,150.0,0.0,0.0,0.0,0.0,0.0,0.0,1.0,0.0,0.0,0.0,0.0,0.0,0.0,0.0,0.0,21.0,0.0,0.0,0.0,214.0,2047.0,10270.0,1141.0,1.0,0.0,0.0,0.0,0.0,0.0,0.0,24.0,72.0,11.0,0.0,74.0,0.0,null,461.0,657.0,17.0,1963.0,0.0,875.0,null,0.0,0.0,0.0,0.0,null,125.0,0.0,0.0,0.0,950.0,0.0,0.0,null,0.0,0.0,0.0,0.0,0.0,512.0,0.0,0.0,0.0,0.0,0.0,0.0,0.0,3554.0,680.0,91.0,45.0,0.0,0.0,477.0,0.0,1596.0,0.0,0.0,0.0,0.0,629.0,0.0,2.0,0.0,1543.0,540.0,0.0,0.0,272.0,841.0,653.0,0.0,0.0,0.0,159.0,0.0,173.0,537.0,0.0,0.0,0.0,90.0,null,0.0,23.0,0.0,3303.0,510.0,0.0,0.0,0.0,0.0,null,30.0,2203.0,9837.0,0.0,24.0,0.0,0.0,0.0,0.0,0.0,0.0,0.0,147.0,0.0,177.0,0.0,0.0,0.0,0.0,0.0,0.0,0.0,0.0,37.0,0.0,0.0,0.0,0.0,0.0,0.0,0.0,0.0,3.0,0.0,0.0,102.0,0.0,661.0,5477.0,469.0,0.0,0.0,0.0,0.0,0.0,0.0,6985.0,12.0,0.0,0.0,0.0,0.0,397.0,925.0,0.0,0.0,0.0,0.0,0.0,0.0,0.0,0.0,5.0,0.0,0.0,3167.0,774.0,0.0,0.0,185.0,0.0,0.0,0.0,0.0,329.0,161.0,0.0,0.0,0.0,0.0,0.0,169.0,0.0,1578.0,0.0,0.0,826.0,0.0,0.0,0.0,0.0,0.0,0.0,0.0,0.0,1200.0,320.0,10888.0,0.0,0.0,0.0,0.0,0.0,0.0,986.0,0.0,0.0,0.0,0.0,0.0,0.0,0.0,629.0,0.0,1611.0,827.0,0.0,0.0,288.0,772.0,0.0,0.0,432.0,0.0,0.0,0.0,0.0,0.0,0.0,0.0,0.0,468.0,0.0,57.0,2919.0,0.0,0.0,0.0,0.0,109.0,0.0,0.0,1.0,0.0,0.0,0.0,564.0,0.0,0.0,0.0,0.0,0.0,0.0,0.0,0.0,0.0,0.0,0.0,4666.0,0.0,14.0,0.0,0.0,0.0,1724.0,null,136.0,41.0,82.0,0.0,0.0,0.0,0.0,0.0,0.0,5.0,0.0,0.0,0.0,0.0,0.0,0.0,0.0,0.0,0.0,null,83.0,557.0,0.0,15.0,3.0,0.0,0.0,0.0,0.0,0.0,1030.0,4.0,0.0,0.0,290.0,1166.0,5.0,0.0,0.0,0.0,785.0,0.0,0.0,1363.0,5.0,39.0,5531.0,533.0,0.0,0.0,0.0,0.0,2236.0,0.0,158.0,4.0,0.0,3.0,0.0,0.0,512.0,0.0,0.0,0.0,0.0,0.0,0.0,null,0.0,4056.0,0.0,0.0,175.0,0.0,1.0,0.0,4.0,0.0,0.0,62.0,744.0,0.0,0.0,4085.0,43.0,31.0,2056.0,0.0,815.0,470.0,784.0,25.0,1393.0,0.0,845.0,0.0,0.0,0.0,0.0,5.0,3014.0,0.0,0.0,0.0,35.0,80.0,0.0,0.0,2.0,0.0,0.0,0.0,4088.0,640.0,0.0,0.0,58.0,0.0,0.0,0.0,0.0,638.0,0.0,0.0,0.0,0.0,1548.0,0.0,0.0,0.0,0.0,0.0,0.0,10.0,421.0,218.0,8.0,0.0,null,0.0,498.0,0.0,0.0,0.0,50.0,4.0,0.0,0.0,0.0,0.0,15.0,1675.0,0.0,0.0,0.0,0.0,0.0,0.0,672.0,0.0,0.0,0.0,0.0,796.0,18.0,0.0,0.0,0.0,0.0,null,0.0,53.0,0.0,0.0,0.0,0.0,16.0,0.0,0.0,182.0,0.0,5496.0,0.0,239.0,18.0,2.0,0.0,0.0,0.0,0.0,0.0,0.0,0.0,0.0,13.0,11.0,0.0,0.0,0.0,475.0,170.0,1495.0,0.0,0.0,12.0,0.0,0.0,764.0,1638.0,null,0.0,0.0,0.0,774.0,124.0,0.0,0.0,0.0,0.0,0.0,0.0,null,1279.0,0.0,0.0,null,null,0.0,0.0,0.0,0.0,0.0,0.0,0.0,0.0,0.0,2035.0,0.0,0.0,0.0,211.0,15.0,338.0,21.0,0.0,2.0,0.0,0.0,8.0,0.0,0.0,0.0,6.0,0.0,71.0,22.0,1.0,3.0,48.0,0.0,0.0,0.0,0.0,0.0,0.0,0.0,null,0.0,539.0,0.0,364.0,0.0,0.0,0.0,0.0,896.0,19.0,6.0,0.0,0.0,25.0,5.0,0.0,0.0,0.0,104.0,0.0,23.0,0.0,137.0,0.0,0.0,3047.0,0.0,0.0,0.0,0.0,0.0,1417.0,322.0,0.0,0.0,0.0,0.0,0.0,0.0,698.0,401.0,0.0,0.0,0.0,0.0,0.0,null,0.0,630.0,0.0,0.0,40.0,0.0,52.0,742.0,0.0,0.0,440.0,672.0,1.0,0.0,599.0,0.0,0.0,0.0,0.0,0.0,115.0,0.0,0.0,75.0,0.0,0.0,0.0,0.0,431.0,9.0,0.0,204.0,163.0,0.0,0.0,256.0,15.0,1949.0,0.0,0.0,0.0,0.0,0.0,0.0,0.0,0.0,800.0,null,0.0,0.0,0.0,0.0,0.0,0.0,890.0,0.0,0.0,0.0,773.0,18.0,124.0,0.0,33.0,0.0,0.0,4674.0,0.0,0.0,0.0,0.0,0.0,17.0,0.0,0.0,3798.0,0.0,57.0,192.0,25.0,0.0,null,829.0,0.0,0.0,0.0,0.0,0.0,398.0,0.0,545.0,59.0,0.0,2.0,0.0,0.0,0.0,0.0,1919.0,0.0,0.0,0.0,18.0,0.0,0.0,0.0,0.0,0.0,0.0,0.0,44.0,0.0,14.0,0.0,0.0,0.0,17074.0,1.0,0.0,318.0,0.0,0.0,0.0,739.0,0.0,975.0,0.0,0.0,214.0,372.0,0.0,1.0,0.0,108.0,0.0,0.0,0.0,0.0,0.0,2.0,0.0,0.0,0.0,0.0,null,0.0,1.0,0.0,0.0,0.0,0.0,104.0,0.0,567.0,103.0,0.0,0.0,40.0,0.0,0.0,0.0,84.0,777.0,5.0,2.0,0.0,0.0,676.0,7.0,1318.0,0.0,0.0,null,0.0,0.0,0.0,420.0,1426.0,667.0,1541.0,0.0,0.0,0.0,8.0,0.0,0.0,628.0,0.0,0.0,0.0,0.0,776.0,0.0,1553.0,0.0,2.0,0.0,null,0.0,0.0,0.0,0.0,5499.0,41.0,3.0,0.0,0.0,337.0,0.0,0.0,0.0,0.0,25.0,0.0,11.0,813.0,0.0,90.0,1435.0,0.0,0.0,1459.0,0.0,0.0,0.0,0.0,0.0,722.0,0.0,0.0,226.0,2177.0,0.0,3128.0,0.0,0.0,0.0,0.0,0.0,0.0,0.0,0.0,0.0,1.0,0.0,468.0,0.0,0.0,0.0,229.0,0.0,0.0,0.0,0.0,4.0,369.0,0.0,null,30.0,0.0,0.0,0.0,0.0,40.0,170.0,595.0,0.0,0.0,0.0,0.0,null,null,0.0,5.0,0.0,14.0,8.0,0.0,87.0,0.0,0.0,912.0,0.0,0.0,0.0,16.0,0.0,3.0,182.0,0.0,0.0,0.0,0.0,328.0,0.0,0.0,2325.0,0.0,41.0,189.0,2905.0,12.0,78.0,0.0,391.0,485.0,0.0,0.0,0.0,546.0,0.0,757.0,109.0,184.0,0.0,0.0,0.0,239.0,1201.0,0.0,0.0,34.0,42.0,0.0,3.0,52.0,2714.0,24.0,0.0,0.0,27.0,738.0,45.0,0.0,0.0,0.0,0.0,66.0,0.0,40.0,0.0,0.0,16.0,0.0,0.0,0.0,0.0,0.0,0.0,0.0,0.0,498.0,731.0,0.0,0.0,1.0,84.0,0.0,0.0,0.0,4.0,0.0,920.0,0.0,0.0,12.0,0.0,0.0,355.0,23.0,0.0,22.0,4304.0,0.0,0.0,8169.0,0.0,0.0,0.0,0.0,0.0,0.0,444.0,0.0,1.0,171.0,0.0,632.0,28.0,444.0,0.0,0.0,373.0,0.0,0.0,0.0,0.0,0.0,0.0,0.0,0.0,0.0,3155.0,0.0,50.0,388.0,0.0,75.0,117.0,0.0,19.0,0.0,419.0,0.0,0.0,2220.0,0.0,0.0,0.0,0.0,0.0,23.0,1150.0,0.0,0.0,0.0,23.0,1.0,0.0,100.0,0.0,779.0,0.0,370.0,126.0,0.0,0.0,0.0,764.0,0.0,60.0,0.0,0.0,0.0,0.0,0.0,0.0,0.0,0.0,0.0,0.0,66.0,0.0,0.0,0.0,736.0,0.0,378.0,130.0,0.0,0.0,0.0,0.0,0.0,896.0,0.0,0.0,718.0,0.0,0.0,0.0,0.0,0.0,0.0,181.0,0.0,2027.0,423.0,71.0,0.0,0.0,187.0,2960.0,8.0,787.0,null,962.0,0.0,4041.0,null,473.0,1967.0,0.0,558.0,605.0,952.0,null,239.0,0.0,0.0,10.0,0.0,2577.0,0.0,0.0,634.0,135.0,0.0,0.0,0.0,0.0,0.0,0.0,0.0,486.0,0.0,1147.0,0.0,0.0,0.0,0.0,0.0,32.0,0.0,10.0,0.0,0.0,782.0,0.0,0.0,0.0,197.0,2470.0,0.0,0.0,0.0,17.0,544.0,0.0,186.0,0.0,0.0,0.0,7.0,0.0,0.0,0.0,1845.0,0.0,0.0,6.0,5.0,null,0.0,0.0,0.0,0.0,0.0,756.0,0.0,0.0,0.0,0.0,0.0,0.0,0.0,0.0,0.0,0.0,0.0,168.0,0.0,124.0,175.0,2.0,0.0,548.0,0.0,0.0,400.0,0.0,34.0,0.0,845.0,0.0,0.0,0.0,0.0,null,0.0,0.0,0.0,50.0,0.0,1778.0,800.0,0.0,159.0,0.0,0.0,0.0,0.0,0.0,0.0,397.0,0.0,97.0,782.0,0.0,0.0,0.0,0.0,320.0,625.0,0.0,560.0,86.0,0.0,0.0,0.0,1.0,0.0,0.0,0.0,90.0,0.0,0.0,0.0,6.0,0.0,null,0.0,0.0,0.0,484.0,311.0,394.0,908.0,0.0,0.0,0.0,4914.0,0.0,47.0,0.0,0.0,0.0,0.0,0.0,565.0,0.0,12424.0,null,844.0,56.0,0.0,0.0,119.0,0.0,0.0,565.0,423.0,0.0,140.0,0.0,1282.0,0.0,5913.0,0.0,0.0,8.0,120.0,0.0,0.0,0.0,0.0,52.0,1360.0,0.0,0.0,0.0,0.0,0.0,0.0,0.0,1776.0,0.0,54.0,11.0,0.0,951.0,0.0,0.0,0.0,0.0,93.0,0.0,0.0,0.0,223.0,0.0,0.0,0.0,0.0,0.0,0.0,1392.0,0.0,0.0,0.0,0.0,0.0,0.0,0.0,0.0,0.0,683.0,0.0,0.0,0.0,659.0,645.0,1261.0,0.0,1.0,0.0,0.0,0.0,0.0,0.0,7401.0,0.0,0.0,1037.0,904.0,61.0,37.0,0.0,0.0,0.0,0.0,0.0,0.0,0.0,0.0,0.0,0.0,0.0,0.0,0.0,0.0,0.0,0.0,10.0,0.0,608.0,0.0,0.0,0.0,0.0,25.0,262.0,1175.0,0.0,0.0,0.0,0.0,112.0,347.0,0.0,2.0,77.0,0.0,0.0,0.0,86.0,0.0,0.0,0.0,0.0,0.0,0.0,1413.0,1.0,32.0,0.0,619.0,77.0,2.0,0.0,1686.0,0.0,0.0,344.0,0.0,0.0,0.0,0.0,0.0,224.0,7621.0,0.0,0.0,0.0,0.0,500.0,0.0,0.0,0.0,0.0,0.0,1156.0,0.0,0.0,null,64.0,1080.0,0.0,0.0,0.0,1.0,0.0,1339.0,0.0,0.0,872.0,213.0,553.0,0.0,2.0,163.0,0.0,0.0,52.0,30.0,487.0,0.0,0.0,518.0,6027.0,234.0,0.0,0.0,0.0,0.0,9065.0,4973.0,0.0,0.0,387.0,3372.0,621.0,0.0,0.0,741.0,0.0,0.0,0.0,214.0,2141.0,131.0,0.0,335.0,1178.0,0.0,0.0,0.0,1.0,0.0,0.0,null,729.0,0.0,85.0,0.0,0.0,0.0,0.0,214.0,6.0,0.0,0.0,0.0,0.0,655.0,0.0,0.0,0.0,1128.0,15.0,0.0,0.0,0.0,0.0,0.0,309.0,0.0,0.0,0.0,0.0,0.0,281.0,0.0,0.0,0.0,0.0,0.0,0.0,0.0,0.0,0.0,620.0,811.0,0.0,0.0,0.0,0.0,6.0,3.0,0.0,0.0,0.0,977.0,21.0,0.0,0.0,0.0,0.0,9.0,0.0,0.0,0.0,0.0,1.0,0.0,0.0,673.0,162.0,0.0,0.0,0.0,0.0,0.0,0.0,827.0,177.0,0.0,594.0,0.0,0.0,0.0,29.0,0.0,0.0,104.0,0.0,0.0,10.0,0.0,0.0,0.0,0.0,0.0,136.0,0.0,0.0,0.0,224.0,0.0,5034.0,0.0,0.0,3.0,0.0,0.0,0.0,5.0,0.0,0.0,0.0,0.0,0.0,0.0,1216.0,1217.0,0.0,2.0,0.0,0.0,0.0,461.0,0.0,0.0,0.0,10.0,0.0,4.0,2577.0,0.0,0.0,91.0,0.0,0.0,0.0,0.0,85.0,0.0,0.0,24.0,780.0,0.0,0.0,0.0,0.0,1340.0,15.0,31.0,8.0,0.0,3730.0,0.0,115.0,927.0,0.0,15.0,757.0,0.0,0.0,0.0,0.0,0.0,0.0,0.0,0.0,0.0,1.0,0.0,0.0,0.0,0.0,0.0,0.0,0.0,366.0,0.0,0.0,0.0,0.0,0.0,124.0,0.0,40.0,371.0,0.0,0.0,0.0,0.0,0.0,0.0,0.0,null,2302.0,0.0,381.0,26.0,0.0,1.0,0.0,1377.0,0.0,89.0,0.0,0.0,0.0,14.0,0.0,0.0,0.0,0.0,0.0,0.0,0.0,0.0,1005.0,891.0,0.0,0.0,0.0,0.0,281.0,1.0,1367.0,0.0,0.0,0.0,0.0,0.0,0.0,0.0,335.0,0.0,571.0,0.0,1567.0,551.0,0.0,0.0,1548.0,1779.0,29.0,0.0,0.0,0.0,0.0,0.0,0.0,663.0,614.0,0.0,0.0,0.0,3173.0,284.0,2764.0,2553.0,0.0,null,110.0,904.0,0.0,0.0,0.0,2161.0,25.0,0.0,0.0,2336.0,null,36.0,779.0,402.0,0.0,517.0,1781.0,0.0,9033.0,1.0,0.0,386.0,0.0,0.0,84.0,0.0,534.0,1.0,588.0,0.0,0.0,1136.0,0.0,143.0,0.0,0.0,0.0,13.0,39.0,1678.0,0.0,null,659.0,3557.0,0.0,0.0,0.0,0.0,0.0,642.0,788.0,0.0,0.0,0.0,0.0,0.0,20.0,0.0,0.0,8.0,23.0,0.0,0.0,0.0,0.0,712.0,0.0,3854.0,130.0,0.0,92.0,0.0,57.0,0.0,257.0,0.0,0.0,0.0,25.0,0.0,0.0,56.0,0.0,0.0,0.0,0.0,0.0,0.0,0.0,8.0,0.0,1090.0,900.0,0.0,0.0,13.0,200.0,2.0,831.0,0.0,0.0,0.0,0.0,0.0,4.0,0.0,3027.0,227.0,0.0,532.0,0.0,0.0,null,0.0,2478.0,0.0,4.0,0.0,0.0,0.0,0.0,0.0,0.0,0.0,null,517.0,8182.0,0.0,null,0.0,748.0,472.0,0.0,0.0,0.0,0.0,0.0,0.0,0.0,881.0,0.0,1.0,746.0,0.0,0.0,32.0,0.0,0.0,0.0,0.0,248.0,0.0,0.0,0.0,9.0,0.0,0.0,587.0,440.0,18.0,809.0,249.0,0.0,29.0,0.0,1.0,0.0,69.0,0.0,173.0,0.0,463.0,0.0,79.0,0.0,0.0,0.0,0.0,0.0,0.0,0.0,0.0,0.0,0.0,0.0,0.0,0.0,0.0,0.0,0.0,2346.0,0.0,124.0,0.0,0.0,0.0,515.0,0.0,0.0,0.0,0.0,null,0.0,17.0,86.0,0.0,7.0,11.0,0.0,0.0,0.0,0.0,0.0,639.0,0.0,676.0,920.0,0.0,0.0,0.0,0.0,0.0,49.0,0.0,0.0,0.0,287.0,6201.0,654.0,85.0,0.0,0.0,0.0,0.0,0.0,0.0,75.0,0.0,693.0,3902.0,0.0,0.0,0.0,1.0,0.0,0.0,0.0,0.0,3098.0,0.0,0.0,0.0,0.0,0.0,0.0,1797.0,2065.0,46.0,293.0,0.0,274.0,0.0,0.0,0.0,0.0,248.0,647.0,0.0,0.0,0.0,0.0,0.0,0.0,46.0,612.0,2273.0,0.0,0.0,0.0,0.0,616.0,0.0,0.0,0.0,0.0,0.0,0.0,484.0,0.0,640.0,0.0,0.0,9.0,240.0,0.0,3.0,2367.0,0.0,0.0,0.0,0.0,0.0,2.0,0.0,0.0,0.0,0.0,0.0,0.0,95.0,1483.0,319.0,0.0,0.0,0.0,0.0,0.0,0.0,0.0,0.0,619.0,9.0,0.0,0.0,0.0,0.0,0.0,0.0,2684.0,0.0,0.0,0.0,33.0,733.0,0.0,0.0,0.0,0.0,13.0,0.0,16.0,176.0,0.0,0.0,0.0,2.0,1491.0,null,859.0,562.0,0.0,0.0,7953.0,0.0,0.0,49.0,0.0,0.0,270.0,6329.0,0.0,0.0,0.0,17.0,119.0,0.0,0.0,0.0,0.0,0.0,0.0,10.0,0.0,0.0,0.0,2285.0,45.0,0.0,518.0,1132.0,1734.0,23.0,219.0,0.0,555.0,0.0,0.0,0.0,0.0,0.0,9811.0,0.0,0.0,0.0,0.0,0.0,2.0,0.0,337.0,880.0,3884.0,0.0,1.0,0.0,0.0,0.0,0.0,0.0,0.0,82.0,10.0,1288.0,0.0,0.0,855.0,6102.0,0.0,0.0,29.0,1.0,12143.0,0.0,0.0,0.0,0.0,0.0,0.0,228.0,0.0,0.0,0.0,18.0,0.0,2060.0,0.0,0.0,7.0,10028.0,597.0,0.0,0.0,0.0,0.0,0.0,0.0,0.0,591.0,27.0,0.0,0.0,6901.0,791.0,0.0,0.0,11.0,0.0,0.0,0.0,0.0,442.0,0.0,0.0,600.0,0.0,1482.0,2.0,0.0,1116.0,2123.0,68.0,0.0,0.0,0.0,0.0,0.0,0.0,624.0,9.0,0.0,0.0,0.0,0.0,0.0,0.0,293.0,0.0,0.0,4051.0,0.0,0.0,0.0,89.0,100.0,0.0,0.0,0.0,0.0,0.0,0.0,0.0,0.0,161.0,0.0,0.0,1370.0,0.0,236.0,0.0,537.0,928.0,0.0,854.0,686.0,0.0,0.0,null,0.0,1384.0,0.0,0.0,0.0,0.0,0.0,0.0,0.0,0.0,0.0,31.0,0.0,0.0,0.0,625.0,0.0,848.0,1972.0,0.0,0.0,334.0,0.0,1964.0,0.0,0.0,61.0,4435.0,1547.0,0.0,0.0,0.0,116.0,0.0,12.0,0.0,0.0,0.0,0.0,0.0,0.0,0.0,0.0,0.0,0.0,0.0,1539.0,0.0,0.0,0.0,0.0,0.0,2.0,0.0,0.0,404.0,488.0,0.0,0.0,0.0,0.0,0.0,0.0,0.0,0.0,64.0,0.0,728.0,151.0,1179.0,0.0,0.0,0.0,70.0,0.0,0.0,0.0,0.0,582.0,994.0,46.0,0.0,0.0,0.0,0.0,0.0,1935.0,658.0,128.0,0.0,0.0,0.0,0.0,0.0,748.0,0.0,0.0,12685.0,0.0,633.0,0.0,707.0,0.0,0.0,0.0,178.0,0.0,0.0,7.0,0.0,0.0,471.0,0.0,89.0,0.0,1157.0,0.0,0.0,5.0,77.0,22.0,0.0,99.0,0.0,0.0,0.0,0.0,0.0,8.0,7.0,0.0,0.0,0.0,0.0,0.0,null,3.0,0.0,570.0,0.0,67.0,93.0,null,61.0,0.0,0.0,0.0,0.0,0.0,0.0,188.0,0.0,0.0,50.0,0.0,168.0,0.0,0.0,661.0,7.0,0.0,0.0,0.0,37.0,42.0,0.0,0.0,0.0,0.0,0.0,0.0,117.0,2322.0,0.0,347.0,957.0,null,0.0,0.0,0.0,180.0,0.0,0.0,17.0,0.0,4.0,205.0,0.0,473.0,0.0,57.0,377.0,1.0,0.0,1179.0,0.0,0.0,0.0,0.0,792.0,0.0,27.0,0.0,0.0,2020.0,0.0,36.0,1.0,0.0,1.0,375.0,0.0,null,0.0,0.0,0.0,275.0,0.0,0.0,0.0,0.0,0.0,0.0,0.0,129.0,15.0,6262.0,0.0,0.0,0.0,1.0,0.0,47.0,0.0,0.0,0.0,0.0,0.0,0.0,0.0,0.0,394.0,906.0,0.0,0.0,0.0,0.0,0.0,0.0,0.0,0.0,0.0,3675.0,173.0,0.0,0.0,0.0,0.0,0.0,0.0,113.0,0.0,8.0,810.0,60.0,0.0,0.0,0.0,7.0,21.0,93.0,null,0.0,0.0,0.0,0.0,6.0,41.0,0.0,0.0,0.0,0.0,0.0,68.0,0.0,0.0,349.0,0.0,0.0,130.0,128.0,416.0,0.0,11325.0,995.0,0.0,0.0,1989.0,0.0,575.0,0.0,0.0,0.0,0.0,741.0,0.0,0.0,0.0,0.0,0.0,0.0,0.0,0.0,0.0,0.0,46.0,0.0,2491.0,11741.0,0.0,0.0,68.0,948.0,803.0,0.0,0.0,0.0,0.0,1057.0,14.0,null,0.0,0.0,0.0,null,0.0,0.0,0.0,0.0,0.0,0.0,3.0,0.0,0.0,1320.0,0.0,18.0,19.0,0.0,2.0,0.0,5.0,0.0,1.0,555.0,0.0,0.0,0.0,43.0,0.0,0.0,0.0,0.0,62.0,522.0,1.0,0.0,0.0,12392.0,0.0,0.0,283.0,27.0,364.0,21.0,0.0,0.0,1.0,0.0,7.0,511.0,32.0,0.0,0.0,0.0,312.0,1.0,14.0,452.0,0.0,0.0,0.0,0.0,109.0,0.0,0.0,2090.0,0.0,0.0,3.0,6.0,0.0,0.0,0.0,390.0,0.0,17.0,0.0,1674.0,0.0,0.0,0.0,7.0,5057.0,3.0,0.0,0.0,0.0,181.0,0.0,0.0,309.0,0.0,0.0,0.0,0.0,20.0,0.0,0.0,0.0,1556.0,802.0,0.0,0.0,754.0,0.0,0.0,21.0,0.0,0.0,0.0,0.0,51.0,2064.0,0.0,0.0,0.0,0.0,0.0,0.0,642.0,0.0,197.0,0.0,115.0,0.0,0.0,0.0,854.0,0.0,0.0,0.0,0.0,48.0,163.0,18.0,0.0,0.0,0.0,0.0,0.0,0.0,0.0,0.0,1.0,0.0,0.0,0.0,1077.0,0.0,0.0,1.0,0.0,3.0,360.0,10.0,0.0,0.0,2002.0,0.0,0.0,0.0,0.0,4521.0,161.0,0.0,0.0,0.0,632.0,0.0,0.0,0.0,332.0,0.0,0.0,0.0,52.0,12.0,0.0,0.0,0.0,0.0,727.0,0.0,7819.0,0.0,0.0,145.0,1054.0,426.0,0.0,337.0,197.0,70.0,0.0,125.0,0.0,0.0,88.0,0.0,5804.0,482.0,0.0,0.0,2.0,0.0,0.0,0.0,0.0,3147.0,15.0,0.0,0.0,4.0,126.0,1317.0,0.0,5839.0,0.0,2252.0,0.0,0.0,4.0,0.0,0.0,0.0,0.0,0.0,0.0,74.0,0.0,0.0,0.0,0.0,1164.0,815.0,0.0,53.0,null,0.0,0.0,15.0,12.0,0.0,0.0,0.0,0.0,0.0,971.0,0.0,0.0,0.0,0.0,23.0,687.0,0.0,0.0,0.0,0.0,0.0,0.0,null,0.0,188.0,0.0,438.0,0.0,0.0,0.0,0.0,0.0,null,0.0,0.0,0.0,0.0,0.0,0.0,0.0,329.0,0.0,0.0,34.0,330.0,74.0,0.0,0.0,3235.0,12.0],\"xaxis\":\"x\",\"yaxis\":\"y\",\"type\":\"histogram\"}],                        {\"template\":{\"data\":{\"bar\":[{\"error_x\":{\"color\":\"#2a3f5f\"},\"error_y\":{\"color\":\"#2a3f5f\"},\"marker\":{\"line\":{\"color\":\"#E5ECF6\",\"width\":0.5},\"pattern\":{\"fillmode\":\"overlay\",\"size\":10,\"solidity\":0.2}},\"type\":\"bar\"}],\"barpolar\":[{\"marker\":{\"line\":{\"color\":\"#E5ECF6\",\"width\":0.5},\"pattern\":{\"fillmode\":\"overlay\",\"size\":10,\"solidity\":0.2}},\"type\":\"barpolar\"}],\"carpet\":[{\"aaxis\":{\"endlinecolor\":\"#2a3f5f\",\"gridcolor\":\"white\",\"linecolor\":\"white\",\"minorgridcolor\":\"white\",\"startlinecolor\":\"#2a3f5f\"},\"baxis\":{\"endlinecolor\":\"#2a3f5f\",\"gridcolor\":\"white\",\"linecolor\":\"white\",\"minorgridcolor\":\"white\",\"startlinecolor\":\"#2a3f5f\"},\"type\":\"carpet\"}],\"choropleth\":[{\"colorbar\":{\"outlinewidth\":0,\"ticks\":\"\"},\"type\":\"choropleth\"}],\"contour\":[{\"colorbar\":{\"outlinewidth\":0,\"ticks\":\"\"},\"colorscale\":[[0.0,\"#0d0887\"],[0.1111111111111111,\"#46039f\"],[0.2222222222222222,\"#7201a8\"],[0.3333333333333333,\"#9c179e\"],[0.4444444444444444,\"#bd3786\"],[0.5555555555555556,\"#d8576b\"],[0.6666666666666666,\"#ed7953\"],[0.7777777777777778,\"#fb9f3a\"],[0.8888888888888888,\"#fdca26\"],[1.0,\"#f0f921\"]],\"type\":\"contour\"}],\"contourcarpet\":[{\"colorbar\":{\"outlinewidth\":0,\"ticks\":\"\"},\"type\":\"contourcarpet\"}],\"heatmap\":[{\"colorbar\":{\"outlinewidth\":0,\"ticks\":\"\"},\"colorscale\":[[0.0,\"#0d0887\"],[0.1111111111111111,\"#46039f\"],[0.2222222222222222,\"#7201a8\"],[0.3333333333333333,\"#9c179e\"],[0.4444444444444444,\"#bd3786\"],[0.5555555555555556,\"#d8576b\"],[0.6666666666666666,\"#ed7953\"],[0.7777777777777778,\"#fb9f3a\"],[0.8888888888888888,\"#fdca26\"],[1.0,\"#f0f921\"]],\"type\":\"heatmap\"}],\"heatmapgl\":[{\"colorbar\":{\"outlinewidth\":0,\"ticks\":\"\"},\"colorscale\":[[0.0,\"#0d0887\"],[0.1111111111111111,\"#46039f\"],[0.2222222222222222,\"#7201a8\"],[0.3333333333333333,\"#9c179e\"],[0.4444444444444444,\"#bd3786\"],[0.5555555555555556,\"#d8576b\"],[0.6666666666666666,\"#ed7953\"],[0.7777777777777778,\"#fb9f3a\"],[0.8888888888888888,\"#fdca26\"],[1.0,\"#f0f921\"]],\"type\":\"heatmapgl\"}],\"histogram\":[{\"marker\":{\"pattern\":{\"fillmode\":\"overlay\",\"size\":10,\"solidity\":0.2}},\"type\":\"histogram\"}],\"histogram2d\":[{\"colorbar\":{\"outlinewidth\":0,\"ticks\":\"\"},\"colorscale\":[[0.0,\"#0d0887\"],[0.1111111111111111,\"#46039f\"],[0.2222222222222222,\"#7201a8\"],[0.3333333333333333,\"#9c179e\"],[0.4444444444444444,\"#bd3786\"],[0.5555555555555556,\"#d8576b\"],[0.6666666666666666,\"#ed7953\"],[0.7777777777777778,\"#fb9f3a\"],[0.8888888888888888,\"#fdca26\"],[1.0,\"#f0f921\"]],\"type\":\"histogram2d\"}],\"histogram2dcontour\":[{\"colorbar\":{\"outlinewidth\":0,\"ticks\":\"\"},\"colorscale\":[[0.0,\"#0d0887\"],[0.1111111111111111,\"#46039f\"],[0.2222222222222222,\"#7201a8\"],[0.3333333333333333,\"#9c179e\"],[0.4444444444444444,\"#bd3786\"],[0.5555555555555556,\"#d8576b\"],[0.6666666666666666,\"#ed7953\"],[0.7777777777777778,\"#fb9f3a\"],[0.8888888888888888,\"#fdca26\"],[1.0,\"#f0f921\"]],\"type\":\"histogram2dcontour\"}],\"mesh3d\":[{\"colorbar\":{\"outlinewidth\":0,\"ticks\":\"\"},\"type\":\"mesh3d\"}],\"parcoords\":[{\"line\":{\"colorbar\":{\"outlinewidth\":0,\"ticks\":\"\"}},\"type\":\"parcoords\"}],\"pie\":[{\"automargin\":true,\"type\":\"pie\"}],\"scatter\":[{\"marker\":{\"colorbar\":{\"outlinewidth\":0,\"ticks\":\"\"}},\"type\":\"scatter\"}],\"scatter3d\":[{\"line\":{\"colorbar\":{\"outlinewidth\":0,\"ticks\":\"\"}},\"marker\":{\"colorbar\":{\"outlinewidth\":0,\"ticks\":\"\"}},\"type\":\"scatter3d\"}],\"scattercarpet\":[{\"marker\":{\"colorbar\":{\"outlinewidth\":0,\"ticks\":\"\"}},\"type\":\"scattercarpet\"}],\"scattergeo\":[{\"marker\":{\"colorbar\":{\"outlinewidth\":0,\"ticks\":\"\"}},\"type\":\"scattergeo\"}],\"scattergl\":[{\"marker\":{\"colorbar\":{\"outlinewidth\":0,\"ticks\":\"\"}},\"type\":\"scattergl\"}],\"scattermapbox\":[{\"marker\":{\"colorbar\":{\"outlinewidth\":0,\"ticks\":\"\"}},\"type\":\"scattermapbox\"}],\"scatterpolar\":[{\"marker\":{\"colorbar\":{\"outlinewidth\":0,\"ticks\":\"\"}},\"type\":\"scatterpolar\"}],\"scatterpolargl\":[{\"marker\":{\"colorbar\":{\"outlinewidth\":0,\"ticks\":\"\"}},\"type\":\"scatterpolargl\"}],\"scatterternary\":[{\"marker\":{\"colorbar\":{\"outlinewidth\":0,\"ticks\":\"\"}},\"type\":\"scatterternary\"}],\"surface\":[{\"colorbar\":{\"outlinewidth\":0,\"ticks\":\"\"},\"colorscale\":[[0.0,\"#0d0887\"],[0.1111111111111111,\"#46039f\"],[0.2222222222222222,\"#7201a8\"],[0.3333333333333333,\"#9c179e\"],[0.4444444444444444,\"#bd3786\"],[0.5555555555555556,\"#d8576b\"],[0.6666666666666666,\"#ed7953\"],[0.7777777777777778,\"#fb9f3a\"],[0.8888888888888888,\"#fdca26\"],[1.0,\"#f0f921\"]],\"type\":\"surface\"}],\"table\":[{\"cells\":{\"fill\":{\"color\":\"#EBF0F8\"},\"line\":{\"color\":\"white\"}},\"header\":{\"fill\":{\"color\":\"#C8D4E3\"},\"line\":{\"color\":\"white\"}},\"type\":\"table\"}]},\"layout\":{\"annotationdefaults\":{\"arrowcolor\":\"#2a3f5f\",\"arrowhead\":0,\"arrowwidth\":1},\"autotypenumbers\":\"strict\",\"coloraxis\":{\"colorbar\":{\"outlinewidth\":0,\"ticks\":\"\"}},\"colorscale\":{\"diverging\":[[0,\"#8e0152\"],[0.1,\"#c51b7d\"],[0.2,\"#de77ae\"],[0.3,\"#f1b6da\"],[0.4,\"#fde0ef\"],[0.5,\"#f7f7f7\"],[0.6,\"#e6f5d0\"],[0.7,\"#b8e186\"],[0.8,\"#7fbc41\"],[0.9,\"#4d9221\"],[1,\"#276419\"]],\"sequential\":[[0.0,\"#0d0887\"],[0.1111111111111111,\"#46039f\"],[0.2222222222222222,\"#7201a8\"],[0.3333333333333333,\"#9c179e\"],[0.4444444444444444,\"#bd3786\"],[0.5555555555555556,\"#d8576b\"],[0.6666666666666666,\"#ed7953\"],[0.7777777777777778,\"#fb9f3a\"],[0.8888888888888888,\"#fdca26\"],[1.0,\"#f0f921\"]],\"sequentialminus\":[[0.0,\"#0d0887\"],[0.1111111111111111,\"#46039f\"],[0.2222222222222222,\"#7201a8\"],[0.3333333333333333,\"#9c179e\"],[0.4444444444444444,\"#bd3786\"],[0.5555555555555556,\"#d8576b\"],[0.6666666666666666,\"#ed7953\"],[0.7777777777777778,\"#fb9f3a\"],[0.8888888888888888,\"#fdca26\"],[1.0,\"#f0f921\"]]},\"colorway\":[\"#636efa\",\"#EF553B\",\"#00cc96\",\"#ab63fa\",\"#FFA15A\",\"#19d3f3\",\"#FF6692\",\"#B6E880\",\"#FF97FF\",\"#FECB52\"],\"font\":{\"color\":\"#2a3f5f\"},\"geo\":{\"bgcolor\":\"white\",\"lakecolor\":\"white\",\"landcolor\":\"#E5ECF6\",\"showlakes\":true,\"showland\":true,\"subunitcolor\":\"white\"},\"hoverlabel\":{\"align\":\"left\"},\"hovermode\":\"closest\",\"mapbox\":{\"style\":\"light\"},\"paper_bgcolor\":\"white\",\"plot_bgcolor\":\"#E5ECF6\",\"polar\":{\"angularaxis\":{\"gridcolor\":\"white\",\"linecolor\":\"white\",\"ticks\":\"\"},\"bgcolor\":\"#E5ECF6\",\"radialaxis\":{\"gridcolor\":\"white\",\"linecolor\":\"white\",\"ticks\":\"\"}},\"scene\":{\"xaxis\":{\"backgroundcolor\":\"#E5ECF6\",\"gridcolor\":\"white\",\"gridwidth\":2,\"linecolor\":\"white\",\"showbackground\":true,\"ticks\":\"\",\"zerolinecolor\":\"white\"},\"yaxis\":{\"backgroundcolor\":\"#E5ECF6\",\"gridcolor\":\"white\",\"gridwidth\":2,\"linecolor\":\"white\",\"showbackground\":true,\"ticks\":\"\",\"zerolinecolor\":\"white\"},\"zaxis\":{\"backgroundcolor\":\"#E5ECF6\",\"gridcolor\":\"white\",\"gridwidth\":2,\"linecolor\":\"white\",\"showbackground\":true,\"ticks\":\"\",\"zerolinecolor\":\"white\"}},\"shapedefaults\":{\"line\":{\"color\":\"#2a3f5f\"}},\"ternary\":{\"aaxis\":{\"gridcolor\":\"white\",\"linecolor\":\"white\",\"ticks\":\"\"},\"baxis\":{\"gridcolor\":\"white\",\"linecolor\":\"white\",\"ticks\":\"\"},\"bgcolor\":\"#E5ECF6\",\"caxis\":{\"gridcolor\":\"white\",\"linecolor\":\"white\",\"ticks\":\"\"}},\"title\":{\"x\":0.05},\"xaxis\":{\"automargin\":true,\"gridcolor\":\"white\",\"linecolor\":\"white\",\"ticks\":\"\",\"title\":{\"standoff\":15},\"zerolinecolor\":\"white\",\"zerolinewidth\":2},\"yaxis\":{\"automargin\":true,\"gridcolor\":\"white\",\"linecolor\":\"white\",\"ticks\":\"\",\"title\":{\"standoff\":15},\"zerolinecolor\":\"white\",\"zerolinewidth\":2}}},\"xaxis\":{\"anchor\":\"y\",\"domain\":[0.0,1.0],\"title\":{\"text\":\"VRDeck\"}},\"yaxis\":{\"anchor\":\"x\",\"domain\":[0.0,1.0],\"title\":{\"text\":\"count\"}},\"legend\":{\"tracegroupgap\":0},\"margin\":{\"t\":60},\"barmode\":\"relative\"},                        {\"responsive\": true}                    ).then(function(){\n",
              "                            \n",
              "var gd = document.getElementById('b86beaa3-9ad7-48f4-aac1-6e1e6af82c5a');\n",
              "var x = new MutationObserver(function (mutations, observer) {{\n",
              "        var display = window.getComputedStyle(gd).display;\n",
              "        if (!display || display === 'none') {{\n",
              "            console.log([gd, 'removed!']);\n",
              "            Plotly.purge(gd);\n",
              "            observer.disconnect();\n",
              "        }}\n",
              "}});\n",
              "\n",
              "// Listen for the removal of the full notebook cells\n",
              "var notebookContainer = gd.closest('#notebook-container');\n",
              "if (notebookContainer) {{\n",
              "    x.observe(notebookContainer, {childList: true});\n",
              "}}\n",
              "\n",
              "// Listen for the clearing of the current output cell\n",
              "var outputEl = gd.closest('.output');\n",
              "if (outputEl) {{\n",
              "    x.observe(outputEl, {childList: true});\n",
              "}}\n",
              "\n",
              "                        })                };                            </script>        </div>\n",
              "</body>\n",
              "</html>"
            ]
          },
          "metadata": {}
        }
      ]
    },
    {
      "cell_type": "markdown",
      "source": [
        "**Observation**\n",
        "\n",
        "The simple truth is that poeple didn't spend a lot of money on luxuries...as probably the ticket of the flight itself might be very expesive.\n",
        "\n",
        "Also could be that most travellers were middle class and couldn't afford to spend a lot.\n",
        "\n",
        "This could be another inference that many of these things like Room Service, Food Courts were already provided in decent quantity that passengers didn't have to spend thier own money (Something like packages included with the ticket)."
      ],
      "metadata": {
        "id": "dvB1WPdswSbc"
      }
    },
    {
      "cell_type": "markdown",
      "source": [
        "### Exploring the Categorical Columns"
      ],
      "metadata": {
        "id": "sZ6E-LOfwSbd"
      }
    },
    {
      "cell_type": "code",
      "source": [
        "# 1. What are the categorical columns?\n",
        "train_df.select_dtypes(\"O\").columns"
      ],
      "metadata": {
        "colab": {
          "base_uri": "https://localhost:8080/"
        },
        "id": "vWRVgS5kwSbd",
        "outputId": "4797385b-9f31-484f-892c-2dd2680a64dc"
      },
      "execution_count": 15,
      "outputs": [
        {
          "output_type": "execute_result",
          "data": {
            "text/plain": [
              "Index(['PassengerId', 'HomePlanet', 'CryoSleep', 'Cabin', 'Destination', 'VIP',\n",
              "       'Name'],\n",
              "      dtype='object')"
            ]
          },
          "metadata": {},
          "execution_count": 15
        }
      ]
    },
    {
      "cell_type": "code",
      "source": [
        "def plot_value_counts(column_name):\n",
        "    \"\"\"\n",
        "    Pass in the Categorical column name and this function will plot the value counts\n",
        "    \n",
        "    **Parameters**\n",
        "        * column_name: Categorical Column Name\n",
        "    \"\"\"\n",
        "    \n",
        "    plt.figure(figsize=(8, 5), dpi=120)\n",
        "    train_df[column_name].value_counts().plot(kind=\"bar\", color=[\"#52796f\", \"#354f52\"]).set(\n",
        "    title=f\"Value Counts of the {column_name} Column\")\n",
        "    plt.xticks(rotation=0)\n",
        "    plt.show()"
      ],
      "metadata": {
        "id": "w-Vg3ziBwSbe"
      },
      "execution_count": 16,
      "outputs": []
    },
    {
      "cell_type": "code",
      "source": [
        "# 2. Value Counts of the Planet Column\n",
        "plot_value_counts(\"HomePlanet\")"
      ],
      "metadata": {
        "colab": {
          "base_uri": "https://localhost:8080/",
          "height": 0
        },
        "id": "IfeHpaAFwSbf",
        "outputId": "48f41cd9-97ec-4b5e-9a76-5e239140fb9e"
      },
      "execution_count": 17,
      "outputs": [
        {
          "output_type": "display_data",
          "data": {
            "text/plain": [
              "<Figure size 960x600 with 1 Axes>"
            ],
            "image/png": "[encoded data removed]"
          },
          "metadata": {
            "needs_background": "light"
          }
        }
      ]
    },
    {
      "cell_type": "code",
      "source": [
        "# 3. Value Counts of the CryoSleep Column\n",
        "plot_value_counts(\"CryoSleep\")"
      ],
      "metadata": {
        "colab": {
          "base_uri": "https://localhost:8080/",
          "height": 0
        },
        "id": "OUGoDOBRwSbg",
        "outputId": "574a184b-f24d-43d5-8252-89eeaa7f6321"
      },
      "execution_count": 18,
      "outputs": [
        {
          "output_type": "display_data",
          "data": {
            "text/plain": [
              "<Figure size 960x600 with 1 Axes>"
            ],
            "image/png": "[encoded data removed]"
          },
          "metadata": {
            "needs_background": "light"
          }
        }
      ]
    },
    {
      "cell_type": "markdown",
      "source": [
        "**Obeservation**\n",
        "\n",
        "* Around 3200 poeple were confined in Cabins\n",
        "* And around 5500 were clear, no confinement\n",
        "\n",
        "\n",
        "I bet those who got confined prolly went mad and did something utterly stupid, which causes them imprisonment in thier OWN cabins...How funny is that!"
      ],
      "metadata": {
        "id": "ZVJ4Bce8wSbg"
      }
    },
    {
      "cell_type": "code",
      "source": [
        "# 4. Value Counts of the Destination Column\n",
        "plot_value_counts(\"Destination\")"
      ],
      "metadata": {
        "colab": {
          "base_uri": "https://localhost:8080/",
          "height": 0
        },
        "id": "sPKaLiX_wSbh",
        "outputId": "aa5a9e76-5f3a-4adf-9d62-4d4b86e25aa8"
      },
      "execution_count": 19,
      "outputs": [
        {
          "output_type": "display_data",
          "data": {
            "text/plain": [
              "<Figure size 960x600 with 1 Axes>"
            ],
            "image/png": "[encoded data removed]"
          },
          "metadata": {
            "needs_background": "light"
          }
        }
      ]
    },
    {
      "cell_type": "code",
      "source": [
        "# 4. Value Counts of the VIP Column\n",
        "plot_value_counts(\"VIP\")"
      ],
      "metadata": {
        "colab": {
          "base_uri": "https://localhost:8080/",
          "height": 0
        },
        "id": "j2NFCEoiwSbi",
        "outputId": "ef9ecf69-262d-4dd2-b464-c19fb542b866"
      },
      "execution_count": 20,
      "outputs": [
        {
          "output_type": "display_data",
          "data": {
            "text/plain": [
              "<Figure size 960x600 with 1 Axes>"
            ],
            "image/png": "[encoded data removed]"
          },
          "metadata": {
            "needs_background": "light"
          }
        }
      ]
    },
    {
      "cell_type": "markdown",
      "source": [
        "### Relation of columns to Transported"
      ],
      "metadata": {
        "id": "a6FVn3_0wSbj"
      }
    },
    {
      "cell_type": "code",
      "source": [
        "# Value Counts of the Transported Column\n",
        "plot_value_counts(\"Transported\")"
      ],
      "metadata": {
        "colab": {
          "base_uri": "https://localhost:8080/",
          "height": 0
        },
        "id": "R-N_axzgwSbk",
        "outputId": "3c153976-05f9-421b-d01f-a69b028199f7"
      },
      "execution_count": 21,
      "outputs": [
        {
          "output_type": "display_data",
          "data": {
            "text/plain": [
              "<Figure size 960x600 with 1 Axes>"
            ],
            "image/png": "[encoded data removed]"
          },
          "metadata": {
            "needs_background": "light"
          }
        }
      ]
    },
    {
      "cell_type": "code",
      "source": [
        "# Question: What is the realation of HomePlanet & Destination with Transported\n",
        "fig, ax = plt.subplots(1, 2, figsize=(10, 7), dpi=120)\n",
        "sns.countplot(x=train_df[\"Transported\"], hue=train_df[\"HomePlanet\"], ax=ax[0]).set(title=\"HomePlanet\")\n",
        "sns.countplot(x=train_df[\"Transported\"], hue=train_df[\"Destination\"]).set(title=\"Destination\")\n",
        "plt.show()"
      ],
      "metadata": {
        "colab": {
          "base_uri": "https://localhost:8080/",
          "height": 0
        },
        "id": "GWZH31VAwSbk",
        "outputId": "86641669-620f-4a55-c919-2af49be69b4a"
      },
      "execution_count": 22,
      "outputs": [
        {
          "output_type": "display_data",
          "data": {
            "text/plain": [
              "<Figure size 1200x840 with 2 Axes>"
            ],
            "image/png": "[encoded data removed]"
          },
          "metadata": {
            "needs_background": "light"
          }
        }
      ]
    },
    {
      "cell_type": "code",
      "source": [
        "train_df.columns"
      ],
      "metadata": {
        "colab": {
          "base_uri": "https://localhost:8080/"
        },
        "id": "ccXqYeX5wSbl",
        "outputId": "4d40d4da-eb94-49e1-a9f5-ca1274e7a6f6"
      },
      "execution_count": 23,
      "outputs": [
        {
          "output_type": "execute_result",
          "data": {
            "text/plain": [
              "Index(['PassengerId', 'HomePlanet', 'CryoSleep', 'Cabin', 'Destination', 'Age',\n",
              "       'VIP', 'RoomService', 'FoodCourt', 'ShoppingMall', 'Spa', 'VRDeck',\n",
              "       'Name', 'Transported'],\n",
              "      dtype='object')"
            ]
          },
          "metadata": {},
          "execution_count": 23
        }
      ]
    },
    {
      "cell_type": "code",
      "source": [
        "sns.countplot(x=train_df[\"Transported\"], hue=train_df[\"VIP\"]).set(title=\"VIP\")\n",
        "plt.show()"
      ],
      "metadata": {
        "colab": {
          "base_uri": "https://localhost:8080/",
          "height": 0
        },
        "id": "8Y5RaF_nwSbl",
        "outputId": "2ae262d9-9f86-45c0-bafe-e73ce57ef037"
      },
      "execution_count": 24,
      "outputs": [
        {
          "output_type": "display_data",
          "data": {
            "text/plain": [
              "<Figure size 432x288 with 1 Axes>"
            ],
            "image/png": "[encoded data removed]"
          },
          "metadata": {
            "needs_background": "light"
          }
        }
      ]
    },
    {
      "cell_type": "code",
      "source": [
        "temp_df = train_df.copy()\n",
        "test_df_copy = test_df.copy()\n",
        "temp_df"
      ],
      "metadata": {
        "colab": {
          "base_uri": "https://localhost:8080/",
          "height": 0
        },
        "id": "ZdEZzwAwwSbm",
        "outputId": "f2b8eee3-b8ce-4ccd-faa4-6ade2215711d"
      },
      "execution_count": 25,
      "outputs": [
        {
          "output_type": "execute_result",
          "data": {
            "text/plain": [
              "     PassengerId HomePlanet CryoSleep     Cabin    Destination   Age    VIP  \\\n",
              "0        0001_01     Europa     False     B/0/P    TRAPPIST-1e  39.0  False   \n",
              "1        0002_01      Earth     False     F/0/S    TRAPPIST-1e  24.0  False   \n",
              "2        0003_01     Europa     False     A/0/S    TRAPPIST-1e  58.0   True   \n",
              "3        0003_02     Europa     False     A/0/S    TRAPPIST-1e  33.0  False   \n",
              "4        0004_01      Earth     False     F/1/S    TRAPPIST-1e  16.0  False   \n",
              "...          ...        ...       ...       ...            ...   ...    ...   \n",
              "8688     9276_01     Europa     False    A/98/P    55 Cancri e  41.0   True   \n",
              "8689     9278_01      Earth      True  G/1499/S  PSO J318.5-22  18.0  False   \n",
              "8690     9279_01      Earth     False  G/1500/S    TRAPPIST-1e  26.0  False   \n",
              "8691     9280_01     Europa     False   E/608/S    55 Cancri e  32.0  False   \n",
              "8692     9280_02     Europa     False   E/608/S    TRAPPIST-1e  44.0  False   \n",
              "\n",
              "      RoomService  FoodCourt  ShoppingMall     Spa  VRDeck               Name  \\\n",
              "0             0.0        0.0           0.0     0.0     0.0    Maham Ofracculy   \n",
              "1           109.0        9.0          25.0   549.0    44.0       Juanna Vines   \n",
              "2            43.0     3576.0           0.0  6715.0    49.0      Altark Susent   \n",
              "3             0.0     1283.0         371.0  3329.0   193.0       Solam Susent   \n",
              "4           303.0       70.0         151.0   565.0     2.0  Willy Santantines   \n",
              "...           ...        ...           ...     ...     ...                ...   \n",
              "8688          0.0     6819.0           0.0  1643.0    74.0  Gravior Noxnuther   \n",
              "8689          0.0        0.0           0.0     0.0     0.0    Kurta Mondalley   \n",
              "8690          0.0        0.0        1872.0     1.0     0.0       Fayey Connon   \n",
              "8691          0.0     1049.0           0.0   353.0  3235.0   Celeon Hontichre   \n",
              "8692        126.0     4688.0           0.0     0.0    12.0   Propsh Hontichre   \n",
              "\n",
              "      Transported  \n",
              "0           False  \n",
              "1            True  \n",
              "2           False  \n",
              "3           False  \n",
              "4            True  \n",
              "...           ...  \n",
              "8688        False  \n",
              "8689        False  \n",
              "8690         True  \n",
              "8691        False  \n",
              "8692         True  \n",
              "\n",
              "[8693 rows x 14 columns]"
            ],
            "text/html": [
              "\n",
              "  <div id=\"df-7b155d90-8c4b-44b8-affe-e7a57d9b06af\">\n",
              "    <div class=\"colab-df-container\">\n",
              "      <div>\n",
              "<style scoped>\n",
              "    .dataframe tbody tr th:only-of-type {\n",
              "        vertical-align: middle;\n",
              "    }\n",
              "\n",
              "    .dataframe tbody tr th {\n",
              "        vertical-align: top;\n",
              "    }\n",
              "\n",
              "    .dataframe thead th {\n",
              "        text-align: right;\n",
              "    }\n",
              "</style>\n",
              "<table border=\"1\" class=\"dataframe\">\n",
              "  <thead>\n",
              "    <tr style=\"text-align: right;\">\n",
              "      <th></th>\n",
              "      <th>PassengerId</th>\n",
              "      <th>HomePlanet</th>\n",
              "      <th>CryoSleep</th>\n",
              "      <th>Cabin</th>\n",
              "      <th>Destination</th>\n",
              "      <th>Age</th>\n",
              "      <th>VIP</th>\n",
              "      <th>RoomService</th>\n",
              "      <th>FoodCourt</th>\n",
              "      <th>ShoppingMall</th>\n",
              "      <th>Spa</th>\n",
              "      <th>VRDeck</th>\n",
              "      <th>Name</th>\n",
              "      <th>Transported</th>\n",
              "    </tr>\n",
              "  </thead>\n",
              "  <tbody>\n",
              "    <tr>\n",
              "      <th>0</th>\n",
              "      <td>0001_01</td>\n",
              "      <td>Europa</td>\n",
              "      <td>False</td>\n",
              "      <td>B/0/P</td>\n",
              "      <td>TRAPPIST-1e</td>\n",
              "      <td>39.0</td>\n",
              "      <td>False</td>\n",
              "      <td>0.0</td>\n",
              "      <td>0.0</td>\n",
              "      <td>0.0</td>\n",
              "      <td>0.0</td>\n",
              "      <td>0.0</td>\n",
              "      <td>Maham Ofracculy</td>\n",
              "      <td>False</td>\n",
              "    </tr>\n",
              "    <tr>\n",
              "      <th>1</th>\n",
              "      <td>0002_01</td>\n",
              "      <td>Earth</td>\n",
              "      <td>False</td>\n",
              "      <td>F/0/S</td>\n",
              "      <td>TRAPPIST-1e</td>\n",
              "      <td>24.0</td>\n",
              "      <td>False</td>\n",
              "      <td>109.0</td>\n",
              "      <td>9.0</td>\n",
              "      <td>25.0</td>\n",
              "      <td>549.0</td>\n",
              "      <td>44.0</td>\n",
              "      <td>Juanna Vines</td>\n",
              "      <td>True</td>\n",
              "    </tr>\n",
              "    <tr>\n",
              "      <th>2</th>\n",
              "      <td>0003_01</td>\n",
              "      <td>Europa</td>\n",
              "      <td>False</td>\n",
              "      <td>A/0/S</td>\n",
              "      <td>TRAPPIST-1e</td>\n",
              "      <td>58.0</td>\n",
              "      <td>True</td>\n",
              "      <td>43.0</td>\n",
              "      <td>3576.0</td>\n",
              "      <td>0.0</td>\n",
              "      <td>6715.0</td>\n",
              "      <td>49.0</td>\n",
              "      <td>Altark Susent</td>\n",
              "      <td>False</td>\n",
              "    </tr>\n",
              "    <tr>\n",
              "      <th>3</th>\n",
              "      <td>0003_02</td>\n",
              "      <td>Europa</td>\n",
              "      <td>False</td>\n",
              "      <td>A/0/S</td>\n",
              "      <td>TRAPPIST-1e</td>\n",
              "      <td>33.0</td>\n",
              "      <td>False</td>\n",
              "      <td>0.0</td>\n",
              "      <td>1283.0</td>\n",
              "      <td>371.0</td>\n",
              "      <td>3329.0</td>\n",
              "      <td>193.0</td>\n",
              "      <td>Solam Susent</td>\n",
              "      <td>False</td>\n",
              "    </tr>\n",
              "    <tr>\n",
              "      <th>4</th>\n",
              "      <td>0004_01</td>\n",
              "      <td>Earth</td>\n",
              "      <td>False</td>\n",
              "      <td>F/1/S</td>\n",
              "      <td>TRAPPIST-1e</td>\n",
              "      <td>16.0</td>\n",
              "      <td>False</td>\n",
              "      <td>303.0</td>\n",
              "      <td>70.0</td>\n",
              "      <td>151.0</td>\n",
              "      <td>565.0</td>\n",
              "      <td>2.0</td>\n",
              "      <td>Willy Santantines</td>\n",
              "      <td>True</td>\n",
              "    </tr>\n",
              "    <tr>\n",
              "      <th>...</th>\n",
              "      <td>...</td>\n",
              "      <td>...</td>\n",
              "      <td>...</td>\n",
              "      <td>...</td>\n",
              "      <td>...</td>\n",
              "      <td>...</td>\n",
              "      <td>...</td>\n",
              "      <td>...</td>\n",
              "      <td>...</td>\n",
              "      <td>...</td>\n",
              "      <td>...</td>\n",
              "      <td>...</td>\n",
              "      <td>...</td>\n",
              "      <td>...</td>\n",
              "    </tr>\n",
              "    <tr>\n",
              "      <th>8688</th>\n",
              "      <td>9276_01</td>\n",
              "      <td>Europa</td>\n",
              "      <td>False</td>\n",
              "      <td>A/98/P</td>\n",
              "      <td>55 Cancri e</td>\n",
              "      <td>41.0</td>\n",
              "      <td>True</td>\n",
              "      <td>0.0</td>\n",
              "      <td>6819.0</td>\n",
              "      <td>0.0</td>\n",
              "      <td>1643.0</td>\n",
              "      <td>74.0</td>\n",
              "      <td>Gravior Noxnuther</td>\n",
              "      <td>False</td>\n",
              "    </tr>\n",
              "    <tr>\n",
              "      <th>8689</th>\n",
              "      <td>9278_01</td>\n",
              "      <td>Earth</td>\n",
              "      <td>True</td>\n",
              "      <td>G/1499/S</td>\n",
              "      <td>PSO J318.5-22</td>\n",
              "      <td>18.0</td>\n",
              "      <td>False</td>\n",
              "      <td>0.0</td>\n",
              "      <td>0.0</td>\n",
              "      <td>0.0</td>\n",
              "      <td>0.0</td>\n",
              "      <td>0.0</td>\n",
              "      <td>Kurta Mondalley</td>\n",
              "      <td>False</td>\n",
              "    </tr>\n",
              "    <tr>\n",
              "      <th>8690</th>\n",
              "      <td>9279_01</td>\n",
              "      <td>Earth</td>\n",
              "      <td>False</td>\n",
              "      <td>G/1500/S</td>\n",
              "      <td>TRAPPIST-1e</td>\n",
              "      <td>26.0</td>\n",
              "      <td>False</td>\n",
              "      <td>0.0</td>\n",
              "      <td>0.0</td>\n",
              "      <td>1872.0</td>\n",
              "      <td>1.0</td>\n",
              "      <td>0.0</td>\n",
              "      <td>Fayey Connon</td>\n",
              "      <td>True</td>\n",
              "    </tr>\n",
              "    <tr>\n",
              "      <th>8691</th>\n",
              "      <td>9280_01</td>\n",
              "      <td>Europa</td>\n",
              "      <td>False</td>\n",
              "      <td>E/608/S</td>\n",
              "      <td>55 Cancri e</td>\n",
              "      <td>32.0</td>\n",
              "      <td>False</td>\n",
              "      <td>0.0</td>\n",
              "      <td>1049.0</td>\n",
              "      <td>0.0</td>\n",
              "      <td>353.0</td>\n",
              "      <td>3235.0</td>\n",
              "      <td>Celeon Hontichre</td>\n",
              "      <td>False</td>\n",
              "    </tr>\n",
              "    <tr>\n",
              "      <th>8692</th>\n",
              "      <td>9280_02</td>\n",
              "      <td>Europa</td>\n",
              "      <td>False</td>\n",
              "      <td>E/608/S</td>\n",
              "      <td>TRAPPIST-1e</td>\n",
              "      <td>44.0</td>\n",
              "      <td>False</td>\n",
              "      <td>126.0</td>\n",
              "      <td>4688.0</td>\n",
              "      <td>0.0</td>\n",
              "      <td>0.0</td>\n",
              "      <td>12.0</td>\n",
              "      <td>Propsh Hontichre</td>\n",
              "      <td>True</td>\n",
              "    </tr>\n",
              "  </tbody>\n",
              "</table>\n",
              "<p>8693 rows × 14 columns</p>\n",
              "</div>\n",
              "      <button class=\"colab-df-convert\" onclick=\"convertToInteractive('df-7b155d90-8c4b-44b8-affe-e7a57d9b06af')\"\n",
              "              title=\"Convert this dataframe to an interactive table.\"\n",
              "              style=\"display:none;\">\n",
              "        \n",
              "  <svg xmlns=\"http://www.w3.org/2000/svg\" height=\"24px\"viewBox=\"0 0 24 24\"\n",
              "       width=\"24px\">\n",
              "    <path d=\"M0 0h24v24H0V0z\" fill=\"none\"/>\n",
              "    <path d=\"M18.56 5.44l.94 2.06.94-2.06 2.06-.94-2.06-.94-.94-2.06-.94 2.06-2.06.94zm-11 1L8.5 8.5l.94-2.06 2.06-.94-2.06-.94L8.5 2.5l-.94 2.06-2.06.94zm10 10l.94 2.06.94-2.06 2.06-.94-2.06-.94-.94-2.06-.94 2.06-2.06.94z\"/><path d=\"M17.41 7.96l-1.37-1.37c-.4-.4-.92-.59-1.43-.59-.52 0-1.04.2-1.43.59L10.3 9.45l-7.72 7.72c-.78.78-.78 2.05 0 2.83L4 21.41c.39.39.9.59 1.41.59.51 0 1.02-.2 1.41-.59l7.78-7.78 2.81-2.81c.8-.78.8-2.07 0-2.86zM5.41 20L4 18.59l7.72-7.72 1.47 1.35L5.41 20z\"/>\n",
              "  </svg>\n",
              "      </button>\n",
              "      \n",
              "  <style>\n",
              "    .colab-df-container {\n",
              "      display:flex;\n",
              "      flex-wrap:wrap;\n",
              "      gap: 12px;\n",
              "    }\n",
              "\n",
              "    .colab-df-convert {\n",
              "      background-color: #E8F0FE;\n",
              "      border: none;\n",
              "      border-radius: 50%;\n",
              "      cursor: pointer;\n",
              "      display: none;\n",
              "      fill: #1967D2;\n",
              "      height: 32px;\n",
              "      padding: 0 0 0 0;\n",
              "      width: 32px;\n",
              "    }\n",
              "\n",
              "    .colab-df-convert:hover {\n",
              "      background-color: #E2EBFA;\n",
              "      box-shadow: 0px 1px 2px rgba(60, 64, 67, 0.3), 0px 1px 3px 1px rgba(60, 64, 67, 0.15);\n",
              "      fill: #174EA6;\n",
              "    }\n",
              "\n",
              "    [theme=dark] .colab-df-convert {\n",
              "      background-color: #3B4455;\n",
              "      fill: #D2E3FC;\n",
              "    }\n",
              "\n",
              "    [theme=dark] .colab-df-convert:hover {\n",
              "      background-color: #434B5C;\n",
              "      box-shadow: 0px 1px 3px 1px rgba(0, 0, 0, 0.15);\n",
              "      filter: drop-shadow(0px 1px 2px rgba(0, 0, 0, 0.3));\n",
              "      fill: #FFFFFF;\n",
              "    }\n",
              "  </style>\n",
              "\n",
              "      <script>\n",
              "        const buttonEl =\n",
              "          document.querySelector('#df-7b155d90-8c4b-44b8-affe-e7a57d9b06af button.colab-df-convert');\n",
              "        buttonEl.style.display =\n",
              "          google.colab.kernel.accessAllowed ? 'block' : 'none';\n",
              "\n",
              "        async function convertToInteractive(key) {\n",
              "          const element = document.querySelector('#df-7b155d90-8c4b-44b8-affe-e7a57d9b06af');\n",
              "          const dataTable =\n",
              "            await google.colab.kernel.invokeFunction('convertToInteractive',\n",
              "                                                     [key], {});\n",
              "          if (!dataTable) return;\n",
              "\n",
              "          const docLinkHtml = 'Like what you see? Visit the ' +\n",
              "            '<a target=\"_blank\" href=https://colab.research.google.com/notebooks/data_table.ipynb>data table notebook</a>'\n",
              "            + ' to learn more about interactive tables.';\n",
              "          element.innerHTML = '';\n",
              "          dataTable['output_type'] = 'display_data';\n",
              "          await google.colab.output.renderOutput(dataTable, element);\n",
              "          const docLink = document.createElement('div');\n",
              "          docLink.innerHTML = docLinkHtml;\n",
              "          element.appendChild(docLink);\n",
              "        }\n",
              "      </script>\n",
              "    </div>\n",
              "  </div>\n",
              "  "
            ]
          },
          "metadata": {},
          "execution_count": 25
        }
      ]
    },
    {
      "cell_type": "code",
      "source": [
        "# What are the numeric columns, and their sum of missing values\n",
        "temp_df.select_dtypes(\"float\").isna().sum()"
      ],
      "metadata": {
        "colab": {
          "base_uri": "https://localhost:8080/"
        },
        "id": "1NRN-YBswSbn",
        "outputId": "4fa5294d-bff8-4df5-e326-c5ae7a65c165"
      },
      "execution_count": 26,
      "outputs": [
        {
          "output_type": "execute_result",
          "data": {
            "text/plain": [
              "Age             179\n",
              "RoomService     181\n",
              "FoodCourt       183\n",
              "ShoppingMall    208\n",
              "Spa             183\n",
              "VRDeck          188\n",
              "dtype: int64"
            ]
          },
          "metadata": {},
          "execution_count": 26
        }
      ]
    },
    {
      "cell_type": "code",
      "source": [
        "# Checking for most frequent values (OBJECT)\n",
        "temp_df.select_dtypes(\"float\").mode()"
      ],
      "metadata": {
        "colab": {
          "base_uri": "https://localhost:8080/",
          "height": 0
        },
        "id": "ggPujc8JwSbo",
        "outputId": "b331bd8c-c105-433e-f1a2-aed1e0aba439"
      },
      "execution_count": 27,
      "outputs": [
        {
          "output_type": "execute_result",
          "data": {
            "text/plain": [
              "    Age  RoomService  FoodCourt  ShoppingMall  Spa  VRDeck\n",
              "0  24.0          0.0        0.0           0.0  0.0     0.0"
            ],
            "text/html": [
              "\n",
              "  <div id=\"df-48c74c44-052f-4161-9246-1805d79f6885\">\n",
              "    <div class=\"colab-df-container\">\n",
              "      <div>\n",
              "<style scoped>\n",
              "    .dataframe tbody tr th:only-of-type {\n",
              "        vertical-align: middle;\n",
              "    }\n",
              "\n",
              "    .dataframe tbody tr th {\n",
              "        vertical-align: top;\n",
              "    }\n",
              "\n",
              "    .dataframe thead th {\n",
              "        text-align: right;\n",
              "    }\n",
              "</style>\n",
              "<table border=\"1\" class=\"dataframe\">\n",
              "  <thead>\n",
              "    <tr style=\"text-align: right;\">\n",
              "      <th></th>\n",
              "      <th>Age</th>\n",
              "      <th>RoomService</th>\n",
              "      <th>FoodCourt</th>\n",
              "      <th>ShoppingMall</th>\n",
              "      <th>Spa</th>\n",
              "      <th>VRDeck</th>\n",
              "    </tr>\n",
              "  </thead>\n",
              "  <tbody>\n",
              "    <tr>\n",
              "      <th>0</th>\n",
              "      <td>24.0</td>\n",
              "      <td>0.0</td>\n",
              "      <td>0.0</td>\n",
              "      <td>0.0</td>\n",
              "      <td>0.0</td>\n",
              "      <td>0.0</td>\n",
              "    </tr>\n",
              "  </tbody>\n",
              "</table>\n",
              "</div>\n",
              "      <button class=\"colab-df-convert\" onclick=\"convertToInteractive('df-48c74c44-052f-4161-9246-1805d79f6885')\"\n",
              "              title=\"Convert this dataframe to an interactive table.\"\n",
              "              style=\"display:none;\">\n",
              "        \n",
              "  <svg xmlns=\"http://www.w3.org/2000/svg\" height=\"24px\"viewBox=\"0 0 24 24\"\n",
              "       width=\"24px\">\n",
              "    <path d=\"M0 0h24v24H0V0z\" fill=\"none\"/>\n",
              "    <path d=\"M18.56 5.44l.94 2.06.94-2.06 2.06-.94-2.06-.94-.94-2.06-.94 2.06-2.06.94zm-11 1L8.5 8.5l.94-2.06 2.06-.94-2.06-.94L8.5 2.5l-.94 2.06-2.06.94zm10 10l.94 2.06.94-2.06 2.06-.94-2.06-.94-.94-2.06-.94 2.06-2.06.94z\"/><path d=\"M17.41 7.96l-1.37-1.37c-.4-.4-.92-.59-1.43-.59-.52 0-1.04.2-1.43.59L10.3 9.45l-7.72 7.72c-.78.78-.78 2.05 0 2.83L4 21.41c.39.39.9.59 1.41.59.51 0 1.02-.2 1.41-.59l7.78-7.78 2.81-2.81c.8-.78.8-2.07 0-2.86zM5.41 20L4 18.59l7.72-7.72 1.47 1.35L5.41 20z\"/>\n",
              "  </svg>\n",
              "      </button>\n",
              "      \n",
              "  <style>\n",
              "    .colab-df-container {\n",
              "      display:flex;\n",
              "      flex-wrap:wrap;\n",
              "      gap: 12px;\n",
              "    }\n",
              "\n",
              "    .colab-df-convert {\n",
              "      background-color: #E8F0FE;\n",
              "      border: none;\n",
              "      border-radius: 50%;\n",
              "      cursor: pointer;\n",
              "      display: none;\n",
              "      fill: #1967D2;\n",
              "      height: 32px;\n",
              "      padding: 0 0 0 0;\n",
              "      width: 32px;\n",
              "    }\n",
              "\n",
              "    .colab-df-convert:hover {\n",
              "      background-color: #E2EBFA;\n",
              "      box-shadow: 0px 1px 2px rgba(60, 64, 67, 0.3), 0px 1px 3px 1px rgba(60, 64, 67, 0.15);\n",
              "      fill: #174EA6;\n",
              "    }\n",
              "\n",
              "    [theme=dark] .colab-df-convert {\n",
              "      background-color: #3B4455;\n",
              "      fill: #D2E3FC;\n",
              "    }\n",
              "\n",
              "    [theme=dark] .colab-df-convert:hover {\n",
              "      background-color: #434B5C;\n",
              "      box-shadow: 0px 1px 3px 1px rgba(0, 0, 0, 0.15);\n",
              "      filter: drop-shadow(0px 1px 2px rgba(0, 0, 0, 0.3));\n",
              "      fill: #FFFFFF;\n",
              "    }\n",
              "  </style>\n",
              "\n",
              "      <script>\n",
              "        const buttonEl =\n",
              "          document.querySelector('#df-48c74c44-052f-4161-9246-1805d79f6885 button.colab-df-convert');\n",
              "        buttonEl.style.display =\n",
              "          google.colab.kernel.accessAllowed ? 'block' : 'none';\n",
              "\n",
              "        async function convertToInteractive(key) {\n",
              "          const element = document.querySelector('#df-48c74c44-052f-4161-9246-1805d79f6885');\n",
              "          const dataTable =\n",
              "            await google.colab.kernel.invokeFunction('convertToInteractive',\n",
              "                                                     [key], {});\n",
              "          if (!dataTable) return;\n",
              "\n",
              "          const docLinkHtml = 'Like what you see? Visit the ' +\n",
              "            '<a target=\"_blank\" href=https://colab.research.google.com/notebooks/data_table.ipynb>data table notebook</a>'\n",
              "            + ' to learn more about interactive tables.';\n",
              "          element.innerHTML = '';\n",
              "          dataTable['output_type'] = 'display_data';\n",
              "          await google.colab.output.renderOutput(dataTable, element);\n",
              "          const docLink = document.createElement('div');\n",
              "          docLink.innerHTML = docLinkHtml;\n",
              "          element.appendChild(docLink);\n",
              "        }\n",
              "      </script>\n",
              "    </div>\n",
              "  </div>\n",
              "  "
            ]
          },
          "metadata": {},
          "execution_count": 27
        }
      ]
    },
    {
      "cell_type": "code",
      "source": [
        "imputer_startegy = SimpleImputer(strategy='most_frequent')\n",
        "numerical_features = ['Age', 'RoomService', 'FoodCourt', 'ShoppingMall', 'Spa', 'VRDeck']\n",
        "object_features = ['PassengerId', 'HomePlanet', 'CryoSleep', 'Cabin', 'Destination', 'VIP','Name']"
      ],
      "metadata": {
        "id": "td7rklgMwSbo"
      },
      "execution_count": 28,
      "outputs": []
    },
    {
      "cell_type": "code",
      "source": [
        "imputer = ColumnTransformer([\n",
        "    (\"num_imputer\", imputer_startegy, numerical_features),\n",
        "    (\"object_imputer\", imputer_startegy, object_features),\n",
        "])\n",
        "\n",
        "# Fill train and test values separately\n",
        "temp_df = imputer.fit_transform(temp_df)\n",
        "test_df_copy = imputer.fit_transform(test_df)\n",
        "\n",
        "# Create the DataFrame\n",
        "temp_df = pd.DataFrame(temp_df, columns=['Age', 'RoomService', 'FoodCourt', 'ShoppingMall', \n",
        "                                         'Spa', 'VRDeck', 'PassengerId', 'HomePlanet', 'CryoSleep', \n",
        "                                         'Cabin', 'Destination', 'VIP','Name'])\n",
        "\n",
        "test_df_copy = pd.DataFrame(test_df_copy, columns=['Age', 'RoomService', 'FoodCourt', 'ShoppingMall', \n",
        "                                         'Spa', 'VRDeck', 'PassengerId', 'HomePlanet', 'CryoSleep', \n",
        "                                         'Cabin', 'Destination', 'VIP','Name'])"
      ],
      "metadata": {
        "id": "pSYrQsJ_wSbp"
      },
      "execution_count": 29,
      "outputs": []
    },
    {
      "cell_type": "code",
      "source": [
        "# Check for NULL values - NO null(s)\n",
        "test_df_copy.isna().sum()"
      ],
      "metadata": {
        "colab": {
          "base_uri": "https://localhost:8080/"
        },
        "id": "GOdiu7kAwSbp",
        "outputId": "499390af-e7ae-4303-c0a7-883d0bcb9bf8"
      },
      "execution_count": 30,
      "outputs": [
        {
          "output_type": "execute_result",
          "data": {
            "text/plain": [
              "Age             0\n",
              "RoomService     0\n",
              "FoodCourt       0\n",
              "ShoppingMall    0\n",
              "Spa             0\n",
              "VRDeck          0\n",
              "PassengerId     0\n",
              "HomePlanet      0\n",
              "CryoSleep       0\n",
              "Cabin           0\n",
              "Destination     0\n",
              "VIP             0\n",
              "Name            0\n",
              "dtype: int64"
            ]
          },
          "metadata": {},
          "execution_count": 30
        }
      ]
    },
    {
      "cell_type": "code",
      "source": [
        "# As Transported column was removed, let's add it back.\n",
        "transported = train_df.Transported\n",
        "temp_df['Transported'] = transported\n",
        "temp_df.head()\n",
        "\n",
        "# No need for the test set, as there is NO target column"
      ],
      "metadata": {
        "colab": {
          "base_uri": "https://localhost:8080/",
          "height": 0
        },
        "id": "EoMxGJacwSbq",
        "outputId": "27efc136-12b1-4c4e-ba8a-00bd9d61bce4"
      },
      "execution_count": 31,
      "outputs": [
        {
          "output_type": "execute_result",
          "data": {
            "text/plain": [
              "    Age RoomService FoodCourt ShoppingMall     Spa VRDeck PassengerId  \\\n",
              "0  39.0         0.0       0.0          0.0     0.0    0.0     0001_01   \n",
              "1  24.0       109.0       9.0         25.0   549.0   44.0     0002_01   \n",
              "2  58.0        43.0    3576.0          0.0  6715.0   49.0     0003_01   \n",
              "3  33.0         0.0    1283.0        371.0  3329.0  193.0     0003_02   \n",
              "4  16.0       303.0      70.0        151.0   565.0    2.0     0004_01   \n",
              "\n",
              "  HomePlanet CryoSleep  Cabin  Destination    VIP               Name  \\\n",
              "0     Europa     False  B/0/P  TRAPPIST-1e  False    Maham Ofracculy   \n",
              "1      Earth     False  F/0/S  TRAPPIST-1e  False       Juanna Vines   \n",
              "2     Europa     False  A/0/S  TRAPPIST-1e   True      Altark Susent   \n",
              "3     Europa     False  A/0/S  TRAPPIST-1e  False       Solam Susent   \n",
              "4      Earth     False  F/1/S  TRAPPIST-1e  False  Willy Santantines   \n",
              "\n",
              "   Transported  \n",
              "0        False  \n",
              "1         True  \n",
              "2        False  \n",
              "3        False  \n",
              "4         True  "
            ],
            "text/html": [
              "\n",
              "  <div id=\"df-07126212-b3ff-4bdb-b6fa-b8d3905eb00a\">\n",
              "    <div class=\"colab-df-container\">\n",
              "      <div>\n",
              "<style scoped>\n",
              "    .dataframe tbody tr th:only-of-type {\n",
              "        vertical-align: middle;\n",
              "    }\n",
              "\n",
              "    .dataframe tbody tr th {\n",
              "        vertical-align: top;\n",
              "    }\n",
              "\n",
              "    .dataframe thead th {\n",
              "        text-align: right;\n",
              "    }\n",
              "</style>\n",
              "<table border=\"1\" class=\"dataframe\">\n",
              "  <thead>\n",
              "    <tr style=\"text-align: right;\">\n",
              "      <th></th>\n",
              "      <th>Age</th>\n",
              "      <th>RoomService</th>\n",
              "      <th>FoodCourt</th>\n",
              "      <th>ShoppingMall</th>\n",
              "      <th>Spa</th>\n",
              "      <th>VRDeck</th>\n",
              "      <th>PassengerId</th>\n",
              "      <th>HomePlanet</th>\n",
              "      <th>CryoSleep</th>\n",
              "      <th>Cabin</th>\n",
              "      <th>Destination</th>\n",
              "      <th>VIP</th>\n",
              "      <th>Name</th>\n",
              "      <th>Transported</th>\n",
              "    </tr>\n",
              "  </thead>\n",
              "  <tbody>\n",
              "    <tr>\n",
              "      <th>0</th>\n",
              "      <td>39.0</td>\n",
              "      <td>0.0</td>\n",
              "      <td>0.0</td>\n",
              "      <td>0.0</td>\n",
              "      <td>0.0</td>\n",
              "      <td>0.0</td>\n",
              "      <td>0001_01</td>\n",
              "      <td>Europa</td>\n",
              "      <td>False</td>\n",
              "      <td>B/0/P</td>\n",
              "      <td>TRAPPIST-1e</td>\n",
              "      <td>False</td>\n",
              "      <td>Maham Ofracculy</td>\n",
              "      <td>False</td>\n",
              "    </tr>\n",
              "    <tr>\n",
              "      <th>1</th>\n",
              "      <td>24.0</td>\n",
              "      <td>109.0</td>\n",
              "      <td>9.0</td>\n",
              "      <td>25.0</td>\n",
              "      <td>549.0</td>\n",
              "      <td>44.0</td>\n",
              "      <td>0002_01</td>\n",
              "      <td>Earth</td>\n",
              "      <td>False</td>\n",
              "      <td>F/0/S</td>\n",
              "      <td>TRAPPIST-1e</td>\n",
              "      <td>False</td>\n",
              "      <td>Juanna Vines</td>\n",
              "      <td>True</td>\n",
              "    </tr>\n",
              "    <tr>\n",
              "      <th>2</th>\n",
              "      <td>58.0</td>\n",
              "      <td>43.0</td>\n",
              "      <td>3576.0</td>\n",
              "      <td>0.0</td>\n",
              "      <td>6715.0</td>\n",
              "      <td>49.0</td>\n",
              "      <td>0003_01</td>\n",
              "      <td>Europa</td>\n",
              "      <td>False</td>\n",
              "      <td>A/0/S</td>\n",
              "      <td>TRAPPIST-1e</td>\n",
              "      <td>True</td>\n",
              "      <td>Altark Susent</td>\n",
              "      <td>False</td>\n",
              "    </tr>\n",
              "    <tr>\n",
              "      <th>3</th>\n",
              "      <td>33.0</td>\n",
              "      <td>0.0</td>\n",
              "      <td>1283.0</td>\n",
              "      <td>371.0</td>\n",
              "      <td>3329.0</td>\n",
              "      <td>193.0</td>\n",
              "      <td>0003_02</td>\n",
              "      <td>Europa</td>\n",
              "      <td>False</td>\n",
              "      <td>A/0/S</td>\n",
              "      <td>TRAPPIST-1e</td>\n",
              "      <td>False</td>\n",
              "      <td>Solam Susent</td>\n",
              "      <td>False</td>\n",
              "    </tr>\n",
              "    <tr>\n",
              "      <th>4</th>\n",
              "      <td>16.0</td>\n",
              "      <td>303.0</td>\n",
              "      <td>70.0</td>\n",
              "      <td>151.0</td>\n",
              "      <td>565.0</td>\n",
              "      <td>2.0</td>\n",
              "      <td>0004_01</td>\n",
              "      <td>Earth</td>\n",
              "      <td>False</td>\n",
              "      <td>F/1/S</td>\n",
              "      <td>TRAPPIST-1e</td>\n",
              "      <td>False</td>\n",
              "      <td>Willy Santantines</td>\n",
              "      <td>True</td>\n",
              "    </tr>\n",
              "  </tbody>\n",
              "</table>\n",
              "</div>\n",
              "      <button class=\"colab-df-convert\" onclick=\"convertToInteractive('df-07126212-b3ff-4bdb-b6fa-b8d3905eb00a')\"\n",
              "              title=\"Convert this dataframe to an interactive table.\"\n",
              "              style=\"display:none;\">\n",
              "        \n",
              "  <svg xmlns=\"http://www.w3.org/2000/svg\" height=\"24px\"viewBox=\"0 0 24 24\"\n",
              "       width=\"24px\">\n",
              "    <path d=\"M0 0h24v24H0V0z\" fill=\"none\"/>\n",
              "    <path d=\"M18.56 5.44l.94 2.06.94-2.06 2.06-.94-2.06-.94-.94-2.06-.94 2.06-2.06.94zm-11 1L8.5 8.5l.94-2.06 2.06-.94-2.06-.94L8.5 2.5l-.94 2.06-2.06.94zm10 10l.94 2.06.94-2.06 2.06-.94-2.06-.94-.94-2.06-.94 2.06-2.06.94z\"/><path d=\"M17.41 7.96l-1.37-1.37c-.4-.4-.92-.59-1.43-.59-.52 0-1.04.2-1.43.59L10.3 9.45l-7.72 7.72c-.78.78-.78 2.05 0 2.83L4 21.41c.39.39.9.59 1.41.59.51 0 1.02-.2 1.41-.59l7.78-7.78 2.81-2.81c.8-.78.8-2.07 0-2.86zM5.41 20L4 18.59l7.72-7.72 1.47 1.35L5.41 20z\"/>\n",
              "  </svg>\n",
              "      </button>\n",
              "      \n",
              "  <style>\n",
              "    .colab-df-container {\n",
              "      display:flex;\n",
              "      flex-wrap:wrap;\n",
              "      gap: 12px;\n",
              "    }\n",
              "\n",
              "    .colab-df-convert {\n",
              "      background-color: #E8F0FE;\n",
              "      border: none;\n",
              "      border-radius: 50%;\n",
              "      cursor: pointer;\n",
              "      display: none;\n",
              "      fill: #1967D2;\n",
              "      height: 32px;\n",
              "      padding: 0 0 0 0;\n",
              "      width: 32px;\n",
              "    }\n",
              "\n",
              "    .colab-df-convert:hover {\n",
              "      background-color: #E2EBFA;\n",
              "      box-shadow: 0px 1px 2px rgba(60, 64, 67, 0.3), 0px 1px 3px 1px rgba(60, 64, 67, 0.15);\n",
              "      fill: #174EA6;\n",
              "    }\n",
              "\n",
              "    [theme=dark] .colab-df-convert {\n",
              "      background-color: #3B4455;\n",
              "      fill: #D2E3FC;\n",
              "    }\n",
              "\n",
              "    [theme=dark] .colab-df-convert:hover {\n",
              "      background-color: #434B5C;\n",
              "      box-shadow: 0px 1px 3px 1px rgba(0, 0, 0, 0.15);\n",
              "      filter: drop-shadow(0px 1px 2px rgba(0, 0, 0, 0.3));\n",
              "      fill: #FFFFFF;\n",
              "    }\n",
              "  </style>\n",
              "\n",
              "      <script>\n",
              "        const buttonEl =\n",
              "          document.querySelector('#df-07126212-b3ff-4bdb-b6fa-b8d3905eb00a button.colab-df-convert');\n",
              "        buttonEl.style.display =\n",
              "          google.colab.kernel.accessAllowed ? 'block' : 'none';\n",
              "\n",
              "        async function convertToInteractive(key) {\n",
              "          const element = document.querySelector('#df-07126212-b3ff-4bdb-b6fa-b8d3905eb00a');\n",
              "          const dataTable =\n",
              "            await google.colab.kernel.invokeFunction('convertToInteractive',\n",
              "                                                     [key], {});\n",
              "          if (!dataTable) return;\n",
              "\n",
              "          const docLinkHtml = 'Like what you see? Visit the ' +\n",
              "            '<a target=\"_blank\" href=https://colab.research.google.com/notebooks/data_table.ipynb>data table notebook</a>'\n",
              "            + ' to learn more about interactive tables.';\n",
              "          element.innerHTML = '';\n",
              "          dataTable['output_type'] = 'display_data';\n",
              "          await google.colab.output.renderOutput(dataTable, element);\n",
              "          const docLink = document.createElement('div');\n",
              "          docLink.innerHTML = docLinkHtml;\n",
              "          element.appendChild(docLink);\n",
              "        }\n",
              "      </script>\n",
              "    </div>\n",
              "  </div>\n",
              "  "
            ]
          },
          "metadata": {},
          "execution_count": 31
        }
      ]
    },
    {
      "cell_type": "markdown",
      "source": [
        "### 2. Feature Engineering\n",
        "\n",
        "Just one thing needs to be done, that is to make the **Starboard** and **Pilot** thing. Should just take a minute."
      ],
      "metadata": {
        "id": "Q9bWaWolwSbr"
      }
    },
    {
      "cell_type": "code",
      "source": [
        "temp_df.Cabin"
      ],
      "metadata": {
        "colab": {
          "base_uri": "https://localhost:8080/"
        },
        "id": "DXd4DqAawSbs",
        "outputId": "359872ec-5eae-4718-a5ef-8ee000d6d5ab"
      },
      "execution_count": 32,
      "outputs": [
        {
          "output_type": "execute_result",
          "data": {
            "text/plain": [
              "0          B/0/P\n",
              "1          F/0/S\n",
              "2          A/0/S\n",
              "3          A/0/S\n",
              "4          F/1/S\n",
              "          ...   \n",
              "8688      A/98/P\n",
              "8689    G/1499/S\n",
              "8690    G/1500/S\n",
              "8691     E/608/S\n",
              "8692     E/608/S\n",
              "Name: Cabin, Length: 8693, dtype: object"
            ]
          },
          "metadata": {},
          "execution_count": 32
        }
      ]
    },
    {
      "cell_type": "code",
      "source": [
        "# Re-Arranging columns to their orignal format\n",
        "temp_df = temp_df[['PassengerId', 'HomePlanet', 'CryoSleep', 'Cabin', 'Destination', 'Age',\n",
        "       'VIP', 'RoomService', 'FoodCourt', 'ShoppingMall', 'Spa', 'VRDeck',\n",
        "       'Name', 'Transported']]"
      ],
      "metadata": {
        "id": "Zd18gitvwSbs"
      },
      "execution_count": 33,
      "outputs": []
    },
    {
      "cell_type": "code",
      "source": [
        "# Get the value counts of the P (Pilot Spot)\n",
        "temp_df.Cabin.str.contains(\"P\").value_counts()"
      ],
      "metadata": {
        "colab": {
          "base_uri": "https://localhost:8080/"
        },
        "id": "lpbehQjxwSbt",
        "outputId": "9e6d194d-0ece-402f-edf9-9096210db113"
      },
      "execution_count": 34,
      "outputs": [
        {
          "output_type": "execute_result",
          "data": {
            "text/plain": [
              "False    4487\n",
              "True     4206\n",
              "Name: Cabin, dtype: int64"
            ]
          },
          "metadata": {},
          "execution_count": 34
        }
      ]
    },
    {
      "cell_type": "code",
      "source": [
        "# Make a column **SPOT** per condition\n",
        "temp_df.loc[temp_df[\"Cabin\"].str.contains(\"P\"), 'Spot'] = \"Pilot\" if True else \"StarBoard\"\n",
        "temp_df.loc[temp_df[\"Cabin\"].str.contains(\"S\"), 'Spot'] = \"StarBoard\" if True else \"Pilot\"\n",
        "\n",
        "# Testing Set\n",
        "test_df_copy.loc[temp_df[\"Cabin\"].str.contains(\"P\"), 'Spot'] = \"Pilot\" if True else \"StarBoard\"\n",
        "test_df_copy.loc[temp_df[\"Cabin\"].str.contains(\"S\"), 'Spot'] = \"StarBoard\" if True else \"Pilot\""
      ],
      "metadata": {
        "id": "xaNx-oHfwSbu"
      },
      "execution_count": 35,
      "outputs": []
    },
    {
      "cell_type": "code",
      "source": [
        "# Let's remove some un-necessary columns like Name and Cabin\n",
        "temp_df.drop(['PassengerId', 'Name', 'Cabin'], axis=1, inplace=True)\n",
        "test_df_copy.drop(['Name', 'Cabin'], axis=1, inplace=True)"
      ],
      "metadata": {
        "id": "edKk1AX_wSbv"
      },
      "execution_count": 36,
      "outputs": []
    },
    {
      "cell_type": "markdown",
      "source": [
        "### 3. OneHotEncoding\n",
        "\n",
        "One last thing before we can move to the ML section is to covert our string/categorical columns to numbers, as it is required. You CANNOT pass string values into an ML algorithm. So let's get to it!"
      ],
      "metadata": {
        "id": "9GVYq35jwSbv"
      }
    },
    {
      "cell_type": "code",
      "source": [
        "num_cols = train_df.select_dtypes(\"float\").columns\n",
        "num_cols"
      ],
      "metadata": {
        "colab": {
          "base_uri": "https://localhost:8080/"
        },
        "id": "Fe3TCLomwSbw",
        "outputId": "326ea59d-2adb-4f65-d7e6-ba20986cc3d3"
      },
      "execution_count": 37,
      "outputs": [
        {
          "output_type": "execute_result",
          "data": {
            "text/plain": [
              "Index(['Age', 'RoomService', 'FoodCourt', 'ShoppingMall', 'Spa', 'VRDeck'], dtype='object')"
            ]
          },
          "metadata": {},
          "execution_count": 37
        }
      ]
    },
    {
      "cell_type": "code",
      "source": [
        "# Converting numeric columns to float\n",
        "num_cols = ['Age', 'RoomService', 'FoodCourt', 'ShoppingMall', 'Spa', 'VRDeck']\n",
        "for col in num_cols:\n",
        "    temp_df[col] = temp_df[col].astype(\"float64\") # Traning Set\n",
        "    test_df_copy[col] = test_df_copy[col].astype(\"float64\") # Test Set"
      ],
      "metadata": {
        "id": "-2Tnf6OqwSbw"
      },
      "execution_count": 38,
      "outputs": []
    },
    {
      "cell_type": "code",
      "source": [
        "test_df_copy"
      ],
      "metadata": {
        "colab": {
          "base_uri": "https://localhost:8080/",
          "height": 626
        },
        "id": "ipwVzNl5wSbx",
        "outputId": "a5a8060b-7c70-4dc0-800b-e2f8f43b4643"
      },
      "execution_count": 39,
      "outputs": [
        {
          "output_type": "execute_result",
          "data": {
            "text/plain": [
              "       Age  RoomService  FoodCourt  ShoppingMall     Spa  VRDeck PassengerId  \\\n",
              "0     27.0          0.0        0.0           0.0     0.0     0.0     0013_01   \n",
              "1     19.0          0.0        9.0           0.0  2823.0     0.0     0018_01   \n",
              "2     31.0          0.0        0.0           0.0     0.0     0.0     0019_01   \n",
              "3     38.0          0.0     6652.0           0.0   181.0   585.0     0021_01   \n",
              "4     20.0         10.0        0.0         635.0     0.0     0.0     0023_01   \n",
              "...    ...          ...        ...           ...     ...     ...         ...   \n",
              "4272  34.0          0.0        0.0           0.0     0.0     0.0     9266_02   \n",
              "4273  42.0          0.0      847.0          17.0    10.0   144.0     9269_01   \n",
              "4274  18.0          0.0        0.0           0.0     0.0     0.0     9271_01   \n",
              "4275  18.0          0.0     2680.0           0.0     0.0   523.0     9273_01   \n",
              "4276  43.0          0.0        0.0           0.0     0.0     0.0     9277_01   \n",
              "\n",
              "     HomePlanet CryoSleep    Destination    VIP       Spot  \n",
              "0         Earth      True    TRAPPIST-1e  False      Pilot  \n",
              "1         Earth     False    TRAPPIST-1e  False  StarBoard  \n",
              "2        Europa      True    55 Cancri e  False  StarBoard  \n",
              "3        Europa     False    TRAPPIST-1e  False  StarBoard  \n",
              "4         Earth     False    TRAPPIST-1e  False  StarBoard  \n",
              "...         ...       ...            ...    ...        ...  \n",
              "4272      Earth      True    TRAPPIST-1e  False  StarBoard  \n",
              "4273      Earth     False    TRAPPIST-1e  False  StarBoard  \n",
              "4274       Mars      True    55 Cancri e  False      Pilot  \n",
              "4275     Europa     False    TRAPPIST-1e  False      Pilot  \n",
              "4276      Earth      True  PSO J318.5-22  False  StarBoard  \n",
              "\n",
              "[4277 rows x 12 columns]"
            ],
            "text/html": [
              "\n",
              "  <div id=\"df-325ba763-feb4-4bb4-8ba9-2b8f73a4fba7\">\n",
              "    <div class=\"colab-df-container\">\n",
              "      <div>\n",
              "<style scoped>\n",
              "    .dataframe tbody tr th:only-of-type {\n",
              "        vertical-align: middle;\n",
              "    }\n",
              "\n",
              "    .dataframe tbody tr th {\n",
              "        vertical-align: top;\n",
              "    }\n",
              "\n",
              "    .dataframe thead th {\n",
              "        text-align: right;\n",
              "    }\n",
              "</style>\n",
              "<table border=\"1\" class=\"dataframe\">\n",
              "  <thead>\n",
              "    <tr style=\"text-align: right;\">\n",
              "      <th></th>\n",
              "      <th>Age</th>\n",
              "      <th>RoomService</th>\n",
              "      <th>FoodCourt</th>\n",
              "      <th>ShoppingMall</th>\n",
              "      <th>Spa</th>\n",
              "      <th>VRDeck</th>\n",
              "      <th>PassengerId</th>\n",
              "      <th>HomePlanet</th>\n",
              "      <th>CryoSleep</th>\n",
              "      <th>Destination</th>\n",
              "      <th>VIP</th>\n",
              "      <th>Spot</th>\n",
              "    </tr>\n",
              "  </thead>\n",
              "  <tbody>\n",
              "    <tr>\n",
              "      <th>0</th>\n",
              "      <td>27.0</td>\n",
              "      <td>0.0</td>\n",
              "      <td>0.0</td>\n",
              "      <td>0.0</td>\n",
              "      <td>0.0</td>\n",
              "      <td>0.0</td>\n",
              "      <td>0013_01</td>\n",
              "      <td>Earth</td>\n",
              "      <td>True</td>\n",
              "      <td>TRAPPIST-1e</td>\n",
              "      <td>False</td>\n",
              "      <td>Pilot</td>\n",
              "    </tr>\n",
              "    <tr>\n",
              "      <th>1</th>\n",
              "      <td>19.0</td>\n",
              "      <td>0.0</td>\n",
              "      <td>9.0</td>\n",
              "      <td>0.0</td>\n",
              "      <td>2823.0</td>\n",
              "      <td>0.0</td>\n",
              "      <td>0018_01</td>\n",
              "      <td>Earth</td>\n",
              "      <td>False</td>\n",
              "      <td>TRAPPIST-1e</td>\n",
              "      <td>False</td>\n",
              "      <td>StarBoard</td>\n",
              "    </tr>\n",
              "    <tr>\n",
              "      <th>2</th>\n",
              "      <td>31.0</td>\n",
              "      <td>0.0</td>\n",
              "      <td>0.0</td>\n",
              "      <td>0.0</td>\n",
              "      <td>0.0</td>\n",
              "      <td>0.0</td>\n",
              "      <td>0019_01</td>\n",
              "      <td>Europa</td>\n",
              "      <td>True</td>\n",
              "      <td>55 Cancri e</td>\n",
              "      <td>False</td>\n",
              "      <td>StarBoard</td>\n",
              "    </tr>\n",
              "    <tr>\n",
              "      <th>3</th>\n",
              "      <td>38.0</td>\n",
              "      <td>0.0</td>\n",
              "      <td>6652.0</td>\n",
              "      <td>0.0</td>\n",
              "      <td>181.0</td>\n",
              "      <td>585.0</td>\n",
              "      <td>0021_01</td>\n",
              "      <td>Europa</td>\n",
              "      <td>False</td>\n",
              "      <td>TRAPPIST-1e</td>\n",
              "      <td>False</td>\n",
              "      <td>StarBoard</td>\n",
              "    </tr>\n",
              "    <tr>\n",
              "      <th>4</th>\n",
              "      <td>20.0</td>\n",
              "      <td>10.0</td>\n",
              "      <td>0.0</td>\n",
              "      <td>635.0</td>\n",
              "      <td>0.0</td>\n",
              "      <td>0.0</td>\n",
              "      <td>0023_01</td>\n",
              "      <td>Earth</td>\n",
              "      <td>False</td>\n",
              "      <td>TRAPPIST-1e</td>\n",
              "      <td>False</td>\n",
              "      <td>StarBoard</td>\n",
              "    </tr>\n",
              "    <tr>\n",
              "      <th>...</th>\n",
              "      <td>...</td>\n",
              "      <td>...</td>\n",
              "      <td>...</td>\n",
              "      <td>...</td>\n",
              "      <td>...</td>\n",
              "      <td>...</td>\n",
              "      <td>...</td>\n",
              "      <td>...</td>\n",
              "      <td>...</td>\n",
              "      <td>...</td>\n",
              "      <td>...</td>\n",
              "      <td>...</td>\n",
              "    </tr>\n",
              "    <tr>\n",
              "      <th>4272</th>\n",
              "      <td>34.0</td>\n",
              "      <td>0.0</td>\n",
              "      <td>0.0</td>\n",
              "      <td>0.0</td>\n",
              "      <td>0.0</td>\n",
              "      <td>0.0</td>\n",
              "      <td>9266_02</td>\n",
              "      <td>Earth</td>\n",
              "      <td>True</td>\n",
              "      <td>TRAPPIST-1e</td>\n",
              "      <td>False</td>\n",
              "      <td>StarBoard</td>\n",
              "    </tr>\n",
              "    <tr>\n",
              "      <th>4273</th>\n",
              "      <td>42.0</td>\n",
              "      <td>0.0</td>\n",
              "      <td>847.0</td>\n",
              "      <td>17.0</td>\n",
              "      <td>10.0</td>\n",
              "      <td>144.0</td>\n",
              "      <td>9269_01</td>\n",
              "      <td>Earth</td>\n",
              "      <td>False</td>\n",
              "      <td>TRAPPIST-1e</td>\n",
              "      <td>False</td>\n",
              "      <td>StarBoard</td>\n",
              "    </tr>\n",
              "    <tr>\n",
              "      <th>4274</th>\n",
              "      <td>18.0</td>\n",
              "      <td>0.0</td>\n",
              "      <td>0.0</td>\n",
              "      <td>0.0</td>\n",
              "      <td>0.0</td>\n",
              "      <td>0.0</td>\n",
              "      <td>9271_01</td>\n",
              "      <td>Mars</td>\n",
              "      <td>True</td>\n",
              "      <td>55 Cancri e</td>\n",
              "      <td>False</td>\n",
              "      <td>Pilot</td>\n",
              "    </tr>\n",
              "    <tr>\n",
              "      <th>4275</th>\n",
              "      <td>18.0</td>\n",
              "      <td>0.0</td>\n",
              "      <td>2680.0</td>\n",
              "      <td>0.0</td>\n",
              "      <td>0.0</td>\n",
              "      <td>523.0</td>\n",
              "      <td>9273_01</td>\n",
              "      <td>Europa</td>\n",
              "      <td>False</td>\n",
              "      <td>TRAPPIST-1e</td>\n",
              "      <td>False</td>\n",
              "      <td>Pilot</td>\n",
              "    </tr>\n",
              "    <tr>\n",
              "      <th>4276</th>\n",
              "      <td>43.0</td>\n",
              "      <td>0.0</td>\n",
              "      <td>0.0</td>\n",
              "      <td>0.0</td>\n",
              "      <td>0.0</td>\n",
              "      <td>0.0</td>\n",
              "      <td>9277_01</td>\n",
              "      <td>Earth</td>\n",
              "      <td>True</td>\n",
              "      <td>PSO J318.5-22</td>\n",
              "      <td>False</td>\n",
              "      <td>StarBoard</td>\n",
              "    </tr>\n",
              "  </tbody>\n",
              "</table>\n",
              "<p>4277 rows × 12 columns</p>\n",
              "</div>\n",
              "      <button class=\"colab-df-convert\" onclick=\"convertToInteractive('df-325ba763-feb4-4bb4-8ba9-2b8f73a4fba7')\"\n",
              "              title=\"Convert this dataframe to an interactive table.\"\n",
              "              style=\"display:none;\">\n",
              "        \n",
              "  <svg xmlns=\"http://www.w3.org/2000/svg\" height=\"24px\"viewBox=\"0 0 24 24\"\n",
              "       width=\"24px\">\n",
              "    <path d=\"M0 0h24v24H0V0z\" fill=\"none\"/>\n",
              "    <path d=\"M18.56 5.44l.94 2.06.94-2.06 2.06-.94-2.06-.94-.94-2.06-.94 2.06-2.06.94zm-11 1L8.5 8.5l.94-2.06 2.06-.94-2.06-.94L8.5 2.5l-.94 2.06-2.06.94zm10 10l.94 2.06.94-2.06 2.06-.94-2.06-.94-.94-2.06-.94 2.06-2.06.94z\"/><path d=\"M17.41 7.96l-1.37-1.37c-.4-.4-.92-.59-1.43-.59-.52 0-1.04.2-1.43.59L10.3 9.45l-7.72 7.72c-.78.78-.78 2.05 0 2.83L4 21.41c.39.39.9.59 1.41.59.51 0 1.02-.2 1.41-.59l7.78-7.78 2.81-2.81c.8-.78.8-2.07 0-2.86zM5.41 20L4 18.59l7.72-7.72 1.47 1.35L5.41 20z\"/>\n",
              "  </svg>\n",
              "      </button>\n",
              "      \n",
              "  <style>\n",
              "    .colab-df-container {\n",
              "      display:flex;\n",
              "      flex-wrap:wrap;\n",
              "      gap: 12px;\n",
              "    }\n",
              "\n",
              "    .colab-df-convert {\n",
              "      background-color: #E8F0FE;\n",
              "      border: none;\n",
              "      border-radius: 50%;\n",
              "      cursor: pointer;\n",
              "      display: none;\n",
              "      fill: #1967D2;\n",
              "      height: 32px;\n",
              "      padding: 0 0 0 0;\n",
              "      width: 32px;\n",
              "    }\n",
              "\n",
              "    .colab-df-convert:hover {\n",
              "      background-color: #E2EBFA;\n",
              "      box-shadow: 0px 1px 2px rgba(60, 64, 67, 0.3), 0px 1px 3px 1px rgba(60, 64, 67, 0.15);\n",
              "      fill: #174EA6;\n",
              "    }\n",
              "\n",
              "    [theme=dark] .colab-df-convert {\n",
              "      background-color: #3B4455;\n",
              "      fill: #D2E3FC;\n",
              "    }\n",
              "\n",
              "    [theme=dark] .colab-df-convert:hover {\n",
              "      background-color: #434B5C;\n",
              "      box-shadow: 0px 1px 3px 1px rgba(0, 0, 0, 0.15);\n",
              "      filter: drop-shadow(0px 1px 2px rgba(0, 0, 0, 0.3));\n",
              "      fill: #FFFFFF;\n",
              "    }\n",
              "  </style>\n",
              "\n",
              "      <script>\n",
              "        const buttonEl =\n",
              "          document.querySelector('#df-325ba763-feb4-4bb4-8ba9-2b8f73a4fba7 button.colab-df-convert');\n",
              "        buttonEl.style.display =\n",
              "          google.colab.kernel.accessAllowed ? 'block' : 'none';\n",
              "\n",
              "        async function convertToInteractive(key) {\n",
              "          const element = document.querySelector('#df-325ba763-feb4-4bb4-8ba9-2b8f73a4fba7');\n",
              "          const dataTable =\n",
              "            await google.colab.kernel.invokeFunction('convertToInteractive',\n",
              "                                                     [key], {});\n",
              "          if (!dataTable) return;\n",
              "\n",
              "          const docLinkHtml = 'Like what you see? Visit the ' +\n",
              "            '<a target=\"_blank\" href=https://colab.research.google.com/notebooks/data_table.ipynb>data table notebook</a>'\n",
              "            + ' to learn more about interactive tables.';\n",
              "          element.innerHTML = '';\n",
              "          dataTable['output_type'] = 'display_data';\n",
              "          await google.colab.output.renderOutput(dataTable, element);\n",
              "          const docLink = document.createElement('div');\n",
              "          docLink.innerHTML = docLinkHtml;\n",
              "          element.appendChild(docLink);\n",
              "        }\n",
              "      </script>\n",
              "    </div>\n",
              "  </div>\n",
              "  "
            ]
          },
          "metadata": {},
          "execution_count": 39
        }
      ]
    },
    {
      "cell_type": "code",
      "source": [
        "# Creating some variables for easy use\n",
        "categorical_cols = temp_df.select_dtypes('object').columns.tolist()\n",
        "numeric_cols = temp_df.select_dtypes('float').columns.tolist()\n",
        "\n",
        "# Init the encoder object\n",
        "encoder = OneHotEncoder(sparse=False, handle_unknown='ignore')\n",
        "\n",
        "# Fit the encoder\n",
        "encoder.fit(temp_df.select_dtypes(\"object\"))\n",
        "\n",
        "# Get the Encoded column names\n",
        "encoded_cols = list(encoder.get_feature_names_out(categorical_cols))\n",
        "\n",
        "# Transform both train and test sets.\n",
        "temp_df[encoded_cols] = encoder.transform(temp_df[categorical_cols])\n",
        "test_df_copy[encoded_cols] = encoder.transform(test_df_copy[categorical_cols])"
      ],
      "metadata": {
        "id": "RbkDrkZewSbx"
      },
      "execution_count": 40,
      "outputs": []
    },
    {
      "cell_type": "markdown",
      "source": [
        "## Modelling - Machine Learning\n",
        "\n",
        "We'll try out different algorithms like\n",
        "1. Logistic Regression\n",
        "2. Naive Bayes\n",
        "3. K-Nearest Neighbors\n",
        "4. Decision Tree\n",
        "5. Support Vector Machines\n",
        "\n"
      ],
      "metadata": {
        "id": "wlTznZZlwSbx"
      }
    },
    {
      "cell_type": "markdown",
      "source": [
        "### Creating Train & Validation Sets\n",
        "We'll take around 20% of the training set, and use it as the validation set. This is what we'll use to validate our model and tune our model, before we go the real predictions & submission to Kaggle."
      ],
      "metadata": {
        "id": "VPsaTd97wSby"
      }
    },
    {
      "cell_type": "code",
      "source": [
        "temp_df"
      ],
      "metadata": {
        "colab": {
          "base_uri": "https://localhost:8080/",
          "height": 644
        },
        "id": "eRsIfO4WwSby",
        "outputId": "ec56c9af-b39e-4f3c-8a12-29645d259648"
      },
      "execution_count": 41,
      "outputs": [
        {
          "output_type": "execute_result",
          "data": {
            "text/plain": [
              "     HomePlanet CryoSleep    Destination   Age    VIP  RoomService  FoodCourt  \\\n",
              "0        Europa     False    TRAPPIST-1e  39.0  False          0.0        0.0   \n",
              "1         Earth     False    TRAPPIST-1e  24.0  False        109.0        9.0   \n",
              "2        Europa     False    TRAPPIST-1e  58.0   True         43.0     3576.0   \n",
              "3        Europa     False    TRAPPIST-1e  33.0  False          0.0     1283.0   \n",
              "4         Earth     False    TRAPPIST-1e  16.0  False        303.0       70.0   \n",
              "...         ...       ...            ...   ...    ...          ...        ...   \n",
              "8688     Europa     False    55 Cancri e  41.0   True          0.0     6819.0   \n",
              "8689      Earth      True  PSO J318.5-22  18.0  False          0.0        0.0   \n",
              "8690      Earth     False    TRAPPIST-1e  26.0  False          0.0        0.0   \n",
              "8691     Europa     False    55 Cancri e  32.0  False          0.0     1049.0   \n",
              "8692     Europa     False    TRAPPIST-1e  44.0  False        126.0     4688.0   \n",
              "\n",
              "      ShoppingMall     Spa  VRDeck  ...  HomePlanet_Mars CryoSleep_False  \\\n",
              "0              0.0     0.0     0.0  ...              0.0             1.0   \n",
              "1             25.0   549.0    44.0  ...              0.0             1.0   \n",
              "2              0.0  6715.0    49.0  ...              0.0             1.0   \n",
              "3            371.0  3329.0   193.0  ...              0.0             1.0   \n",
              "4            151.0   565.0     2.0  ...              0.0             1.0   \n",
              "...            ...     ...     ...  ...              ...             ...   \n",
              "8688           0.0  1643.0    74.0  ...              0.0             1.0   \n",
              "8689           0.0     0.0     0.0  ...              0.0             0.0   \n",
              "8690        1872.0     1.0     0.0  ...              0.0             1.0   \n",
              "8691           0.0   353.0  3235.0  ...              0.0             1.0   \n",
              "8692           0.0     0.0    12.0  ...              0.0             1.0   \n",
              "\n",
              "      CryoSleep_True  Destination_55 Cancri e  Destination_PSO J318.5-22  \\\n",
              "0                0.0                      0.0                        0.0   \n",
              "1                0.0                      0.0                        0.0   \n",
              "2                0.0                      0.0                        0.0   \n",
              "3                0.0                      0.0                        0.0   \n",
              "4                0.0                      0.0                        0.0   \n",
              "...              ...                      ...                        ...   \n",
              "8688             0.0                      1.0                        0.0   \n",
              "8689             1.0                      0.0                        1.0   \n",
              "8690             0.0                      0.0                        0.0   \n",
              "8691             0.0                      1.0                        0.0   \n",
              "8692             0.0                      0.0                        0.0   \n",
              "\n",
              "      Destination_TRAPPIST-1e  VIP_False  VIP_True  Spot_Pilot  Spot_StarBoard  \n",
              "0                         1.0        1.0       0.0         1.0             0.0  \n",
              "1                         1.0        1.0       0.0         0.0             1.0  \n",
              "2                         1.0        0.0       1.0         0.0             1.0  \n",
              "3                         1.0        1.0       0.0         0.0             1.0  \n",
              "4                         1.0        1.0       0.0         0.0             1.0  \n",
              "...                       ...        ...       ...         ...             ...  \n",
              "8688                      0.0        0.0       1.0         1.0             0.0  \n",
              "8689                      0.0        1.0       0.0         0.0             1.0  \n",
              "8690                      1.0        1.0       0.0         0.0             1.0  \n",
              "8691                      0.0        1.0       0.0         0.0             1.0  \n",
              "8692                      1.0        1.0       0.0         0.0             1.0  \n",
              "\n",
              "[8693 rows x 24 columns]"
            ],
            "text/html": [
              "\n",
              "  <div id=\"df-6db0f86a-c919-4f26-801c-86f92044581a\">\n",
              "    <div class=\"colab-df-container\">\n",
              "      <div>\n",
              "<style scoped>\n",
              "    .dataframe tbody tr th:only-of-type {\n",
              "        vertical-align: middle;\n",
              "    }\n",
              "\n",
              "    .dataframe tbody tr th {\n",
              "        vertical-align: top;\n",
              "    }\n",
              "\n",
              "    .dataframe thead th {\n",
              "        text-align: right;\n",
              "    }\n",
              "</style>\n",
              "<table border=\"1\" class=\"dataframe\">\n",
              "  <thead>\n",
              "    <tr style=\"text-align: right;\">\n",
              "      <th></th>\n",
              "      <th>HomePlanet</th>\n",
              "      <th>CryoSleep</th>\n",
              "      <th>Destination</th>\n",
              "      <th>Age</th>\n",
              "      <th>VIP</th>\n",
              "      <th>RoomService</th>\n",
              "      <th>FoodCourt</th>\n",
              "      <th>ShoppingMall</th>\n",
              "      <th>Spa</th>\n",
              "      <th>VRDeck</th>\n",
              "      <th>...</th>\n",
              "      <th>HomePlanet_Mars</th>\n",
              "      <th>CryoSleep_False</th>\n",
              "      <th>CryoSleep_True</th>\n",
              "      <th>Destination_55 Cancri e</th>\n",
              "      <th>Destination_PSO J318.5-22</th>\n",
              "      <th>Destination_TRAPPIST-1e</th>\n",
              "      <th>VIP_False</th>\n",
              "      <th>VIP_True</th>\n",
              "      <th>Spot_Pilot</th>\n",
              "      <th>Spot_StarBoard</th>\n",
              "    </tr>\n",
              "  </thead>\n",
              "  <tbody>\n",
              "    <tr>\n",
              "      <th>0</th>\n",
              "      <td>Europa</td>\n",
              "      <td>False</td>\n",
              "      <td>TRAPPIST-1e</td>\n",
              "      <td>39.0</td>\n",
              "      <td>False</td>\n",
              "      <td>0.0</td>\n",
              "      <td>0.0</td>\n",
              "      <td>0.0</td>\n",
              "      <td>0.0</td>\n",
              "      <td>0.0</td>\n",
              "      <td>...</td>\n",
              "      <td>0.0</td>\n",
              "      <td>1.0</td>\n",
              "      <td>0.0</td>\n",
              "      <td>0.0</td>\n",
              "      <td>0.0</td>\n",
              "      <td>1.0</td>\n",
              "      <td>1.0</td>\n",
              "      <td>0.0</td>\n",
              "      <td>1.0</td>\n",
              "      <td>0.0</td>\n",
              "    </tr>\n",
              "    <tr>\n",
              "      <th>1</th>\n",
              "      <td>Earth</td>\n",
              "      <td>False</td>\n",
              "      <td>TRAPPIST-1e</td>\n",
              "      <td>24.0</td>\n",
              "      <td>False</td>\n",
              "      <td>109.0</td>\n",
              "      <td>9.0</td>\n",
              "      <td>25.0</td>\n",
              "      <td>549.0</td>\n",
              "      <td>44.0</td>\n",
              "      <td>...</td>\n",
              "      <td>0.0</td>\n",
              "      <td>1.0</td>\n",
              "      <td>0.0</td>\n",
              "      <td>0.0</td>\n",
              "      <td>0.0</td>\n",
              "      <td>1.0</td>\n",
              "      <td>1.0</td>\n",
              "      <td>0.0</td>\n",
              "      <td>0.0</td>\n",
              "      <td>1.0</td>\n",
              "    </tr>\n",
              "    <tr>\n",
              "      <th>2</th>\n",
              "      <td>Europa</td>\n",
              "      <td>False</td>\n",
              "      <td>TRAPPIST-1e</td>\n",
              "      <td>58.0</td>\n",
              "      <td>True</td>\n",
              "      <td>43.0</td>\n",
              "      <td>3576.0</td>\n",
              "      <td>0.0</td>\n",
              "      <td>6715.0</td>\n",
              "      <td>49.0</td>\n",
              "      <td>...</td>\n",
              "      <td>0.0</td>\n",
              "      <td>1.0</td>\n",
              "      <td>0.0</td>\n",
              "      <td>0.0</td>\n",
              "      <td>0.0</td>\n",
              "      <td>1.0</td>\n",
              "      <td>0.0</td>\n",
              "      <td>1.0</td>\n",
              "      <td>0.0</td>\n",
              "      <td>1.0</td>\n",
              "    </tr>\n",
              "    <tr>\n",
              "      <th>3</th>\n",
              "      <td>Europa</td>\n",
              "      <td>False</td>\n",
              "      <td>TRAPPIST-1e</td>\n",
              "      <td>33.0</td>\n",
              "      <td>False</td>\n",
              "      <td>0.0</td>\n",
              "      <td>1283.0</td>\n",
              "      <td>371.0</td>\n",
              "      <td>3329.0</td>\n",
              "      <td>193.0</td>\n",
              "      <td>...</td>\n",
              "      <td>0.0</td>\n",
              "      <td>1.0</td>\n",
              "      <td>0.0</td>\n",
              "      <td>0.0</td>\n",
              "      <td>0.0</td>\n",
              "      <td>1.0</td>\n",
              "      <td>1.0</td>\n",
              "      <td>0.0</td>\n",
              "      <td>0.0</td>\n",
              "      <td>1.0</td>\n",
              "    </tr>\n",
              "    <tr>\n",
              "      <th>4</th>\n",
              "      <td>Earth</td>\n",
              "      <td>False</td>\n",
              "      <td>TRAPPIST-1e</td>\n",
              "      <td>16.0</td>\n",
              "      <td>False</td>\n",
              "      <td>303.0</td>\n",
              "      <td>70.0</td>\n",
              "      <td>151.0</td>\n",
              "      <td>565.0</td>\n",
              "      <td>2.0</td>\n",
              "      <td>...</td>\n",
              "      <td>0.0</td>\n",
              "      <td>1.0</td>\n",
              "      <td>0.0</td>\n",
              "      <td>0.0</td>\n",
              "      <td>0.0</td>\n",
              "      <td>1.0</td>\n",
              "      <td>1.0</td>\n",
              "      <td>0.0</td>\n",
              "      <td>0.0</td>\n",
              "      <td>1.0</td>\n",
              "    </tr>\n",
              "    <tr>\n",
              "      <th>...</th>\n",
              "      <td>...</td>\n",
              "      <td>...</td>\n",
              "      <td>...</td>\n",
              "      <td>...</td>\n",
              "      <td>...</td>\n",
              "      <td>...</td>\n",
              "      <td>...</td>\n",
              "      <td>...</td>\n",
              "      <td>...</td>\n",
              "      <td>...</td>\n",
              "      <td>...</td>\n",
              "      <td>...</td>\n",
              "      <td>...</td>\n",
              "      <td>...</td>\n",
              "      <td>...</td>\n",
              "      <td>...</td>\n",
              "      <td>...</td>\n",
              "      <td>...</td>\n",
              "      <td>...</td>\n",
              "      <td>...</td>\n",
              "      <td>...</td>\n",
              "    </tr>\n",
              "    <tr>\n",
              "      <th>8688</th>\n",
              "      <td>Europa</td>\n",
              "      <td>False</td>\n",
              "      <td>55 Cancri e</td>\n",
              "      <td>41.0</td>\n",
              "      <td>True</td>\n",
              "      <td>0.0</td>\n",
              "      <td>6819.0</td>\n",
              "      <td>0.0</td>\n",
              "      <td>1643.0</td>\n",
              "      <td>74.0</td>\n",
              "      <td>...</td>\n",
              "      <td>0.0</td>\n",
              "      <td>1.0</td>\n",
              "      <td>0.0</td>\n",
              "      <td>1.0</td>\n",
              "      <td>0.0</td>\n",
              "      <td>0.0</td>\n",
              "      <td>0.0</td>\n",
              "      <td>1.0</td>\n",
              "      <td>1.0</td>\n",
              "      <td>0.0</td>\n",
              "    </tr>\n",
              "    <tr>\n",
              "      <th>8689</th>\n",
              "      <td>Earth</td>\n",
              "      <td>True</td>\n",
              "      <td>PSO J318.5-22</td>\n",
              "      <td>18.0</td>\n",
              "      <td>False</td>\n",
              "      <td>0.0</td>\n",
              "      <td>0.0</td>\n",
              "      <td>0.0</td>\n",
              "      <td>0.0</td>\n",
              "      <td>0.0</td>\n",
              "      <td>...</td>\n",
              "      <td>0.0</td>\n",
              "      <td>0.0</td>\n",
              "      <td>1.0</td>\n",
              "      <td>0.0</td>\n",
              "      <td>1.0</td>\n",
              "      <td>0.0</td>\n",
              "      <td>1.0</td>\n",
              "      <td>0.0</td>\n",
              "      <td>0.0</td>\n",
              "      <td>1.0</td>\n",
              "    </tr>\n",
              "    <tr>\n",
              "      <th>8690</th>\n",
              "      <td>Earth</td>\n",
              "      <td>False</td>\n",
              "      <td>TRAPPIST-1e</td>\n",
              "      <td>26.0</td>\n",
              "      <td>False</td>\n",
              "      <td>0.0</td>\n",
              "      <td>0.0</td>\n",
              "      <td>1872.0</td>\n",
              "      <td>1.0</td>\n",
              "      <td>0.0</td>\n",
              "      <td>...</td>\n",
              "      <td>0.0</td>\n",
              "      <td>1.0</td>\n",
              "      <td>0.0</td>\n",
              "      <td>0.0</td>\n",
              "      <td>0.0</td>\n",
              "      <td>1.0</td>\n",
              "      <td>1.0</td>\n",
              "      <td>0.0</td>\n",
              "      <td>0.0</td>\n",
              "      <td>1.0</td>\n",
              "    </tr>\n",
              "    <tr>\n",
              "      <th>8691</th>\n",
              "      <td>Europa</td>\n",
              "      <td>False</td>\n",
              "      <td>55 Cancri e</td>\n",
              "      <td>32.0</td>\n",
              "      <td>False</td>\n",
              "      <td>0.0</td>\n",
              "      <td>1049.0</td>\n",
              "      <td>0.0</td>\n",
              "      <td>353.0</td>\n",
              "      <td>3235.0</td>\n",
              "      <td>...</td>\n",
              "      <td>0.0</td>\n",
              "      <td>1.0</td>\n",
              "      <td>0.0</td>\n",
              "      <td>1.0</td>\n",
              "      <td>0.0</td>\n",
              "      <td>0.0</td>\n",
              "      <td>1.0</td>\n",
              "      <td>0.0</td>\n",
              "      <td>0.0</td>\n",
              "      <td>1.0</td>\n",
              "    </tr>\n",
              "    <tr>\n",
              "      <th>8692</th>\n",
              "      <td>Europa</td>\n",
              "      <td>False</td>\n",
              "      <td>TRAPPIST-1e</td>\n",
              "      <td>44.0</td>\n",
              "      <td>False</td>\n",
              "      <td>126.0</td>\n",
              "      <td>4688.0</td>\n",
              "      <td>0.0</td>\n",
              "      <td>0.0</td>\n",
              "      <td>12.0</td>\n",
              "      <td>...</td>\n",
              "      <td>0.0</td>\n",
              "      <td>1.0</td>\n",
              "      <td>0.0</td>\n",
              "      <td>0.0</td>\n",
              "      <td>0.0</td>\n",
              "      <td>1.0</td>\n",
              "      <td>1.0</td>\n",
              "      <td>0.0</td>\n",
              "      <td>0.0</td>\n",
              "      <td>1.0</td>\n",
              "    </tr>\n",
              "  </tbody>\n",
              "</table>\n",
              "<p>8693 rows × 24 columns</p>\n",
              "</div>\n",
              "      <button class=\"colab-df-convert\" onclick=\"convertToInteractive('df-6db0f86a-c919-4f26-801c-86f92044581a')\"\n",
              "              title=\"Convert this dataframe to an interactive table.\"\n",
              "              style=\"display:none;\">\n",
              "        \n",
              "  <svg xmlns=\"http://www.w3.org/2000/svg\" height=\"24px\"viewBox=\"0 0 24 24\"\n",
              "       width=\"24px\">\n",
              "    <path d=\"M0 0h24v24H0V0z\" fill=\"none\"/>\n",
              "    <path d=\"M18.56 5.44l.94 2.06.94-2.06 2.06-.94-2.06-.94-.94-2.06-.94 2.06-2.06.94zm-11 1L8.5 8.5l.94-2.06 2.06-.94-2.06-.94L8.5 2.5l-.94 2.06-2.06.94zm10 10l.94 2.06.94-2.06 2.06-.94-2.06-.94-.94-2.06-.94 2.06-2.06.94z\"/><path d=\"M17.41 7.96l-1.37-1.37c-.4-.4-.92-.59-1.43-.59-.52 0-1.04.2-1.43.59L10.3 9.45l-7.72 7.72c-.78.78-.78 2.05 0 2.83L4 21.41c.39.39.9.59 1.41.59.51 0 1.02-.2 1.41-.59l7.78-7.78 2.81-2.81c.8-.78.8-2.07 0-2.86zM5.41 20L4 18.59l7.72-7.72 1.47 1.35L5.41 20z\"/>\n",
              "  </svg>\n",
              "      </button>\n",
              "      \n",
              "  <style>\n",
              "    .colab-df-container {\n",
              "      display:flex;\n",
              "      flex-wrap:wrap;\n",
              "      gap: 12px;\n",
              "    }\n",
              "\n",
              "    .colab-df-convert {\n",
              "      background-color: #E8F0FE;\n",
              "      border: none;\n",
              "      border-radius: 50%;\n",
              "      cursor: pointer;\n",
              "      display: none;\n",
              "      fill: #1967D2;\n",
              "      height: 32px;\n",
              "      padding: 0 0 0 0;\n",
              "      width: 32px;\n",
              "    }\n",
              "\n",
              "    .colab-df-convert:hover {\n",
              "      background-color: #E2EBFA;\n",
              "      box-shadow: 0px 1px 2px rgba(60, 64, 67, 0.3), 0px 1px 3px 1px rgba(60, 64, 67, 0.15);\n",
              "      fill: #174EA6;\n",
              "    }\n",
              "\n",
              "    [theme=dark] .colab-df-convert {\n",
              "      background-color: #3B4455;\n",
              "      fill: #D2E3FC;\n",
              "    }\n",
              "\n",
              "    [theme=dark] .colab-df-convert:hover {\n",
              "      background-color: #434B5C;\n",
              "      box-shadow: 0px 1px 3px 1px rgba(0, 0, 0, 0.15);\n",
              "      filter: drop-shadow(0px 1px 2px rgba(0, 0, 0, 0.3));\n",
              "      fill: #FFFFFF;\n",
              "    }\n",
              "  </style>\n",
              "\n",
              "      <script>\n",
              "        const buttonEl =\n",
              "          document.querySelector('#df-6db0f86a-c919-4f26-801c-86f92044581a button.colab-df-convert');\n",
              "        buttonEl.style.display =\n",
              "          google.colab.kernel.accessAllowed ? 'block' : 'none';\n",
              "\n",
              "        async function convertToInteractive(key) {\n",
              "          const element = document.querySelector('#df-6db0f86a-c919-4f26-801c-86f92044581a');\n",
              "          const dataTable =\n",
              "            await google.colab.kernel.invokeFunction('convertToInteractive',\n",
              "                                                     [key], {});\n",
              "          if (!dataTable) return;\n",
              "\n",
              "          const docLinkHtml = 'Like what you see? Visit the ' +\n",
              "            '<a target=\"_blank\" href=https://colab.research.google.com/notebooks/data_table.ipynb>data table notebook</a>'\n",
              "            + ' to learn more about interactive tables.';\n",
              "          element.innerHTML = '';\n",
              "          dataTable['output_type'] = 'display_data';\n",
              "          await google.colab.output.renderOutput(dataTable, element);\n",
              "          const docLink = document.createElement('div');\n",
              "          docLink.innerHTML = docLinkHtml;\n",
              "          element.appendChild(docLink);\n",
              "        }\n",
              "      </script>\n",
              "    </div>\n",
              "  </div>\n",
              "  "
            ]
          },
          "metadata": {},
          "execution_count": 41
        }
      ]
    },
    {
      "cell_type": "code",
      "source": [
        "df_temp_train = temp_df[:6700]\n",
        "df_temp_valid = temp_df[6700:]"
      ],
      "metadata": {
        "id": "NUHffqOhwSbz"
      },
      "execution_count": 42,
      "outputs": []
    },
    {
      "cell_type": "code",
      "source": [
        "temp_df.Transported"
      ],
      "metadata": {
        "colab": {
          "base_uri": "https://localhost:8080/"
        },
        "id": "kxWyYx0HwSbz",
        "outputId": "79c3c97b-fdb1-48b6-940e-976d110b20e3"
      },
      "execution_count": 43,
      "outputs": [
        {
          "output_type": "execute_result",
          "data": {
            "text/plain": [
              "0       False\n",
              "1        True\n",
              "2       False\n",
              "3       False\n",
              "4        True\n",
              "        ...  \n",
              "8688    False\n",
              "8689    False\n",
              "8690     True\n",
              "8691    False\n",
              "8692     True\n",
              "Name: Transported, Length: 8693, dtype: bool"
            ]
          },
          "metadata": {},
          "execution_count": 43
        }
      ]
    },
    {
      "cell_type": "code",
      "source": [
        "temp_df.shape"
      ],
      "metadata": {
        "colab": {
          "base_uri": "https://localhost:8080/"
        },
        "id": "vDxgkc7rwSb0",
        "outputId": "ea6fe094-90e4-4e3c-e95f-10196f299439"
      },
      "execution_count": 44,
      "outputs": [
        {
          "output_type": "execute_result",
          "data": {
            "text/plain": [
              "(8693, 24)"
            ]
          },
          "metadata": {},
          "execution_count": 44
        }
      ]
    },
    {
      "cell_type": "code",
      "source": [
        "X_train, y_train = temp_df.drop(\"Transported\", axis=1), temp_df.Transported\n",
        "# X_valid, y_valid = df_temp_valid.drop(\"Transported\", axis=1), df_temp_valid.Transported"
      ],
      "metadata": {
        "id": "G2gte-OlwSb0"
      },
      "execution_count": 45,
      "outputs": []
    },
    {
      "cell_type": "markdown",
      "source": [
        "### Train models"
      ],
      "metadata": {
        "id": "2XQ3TcdlwSb0"
      }
    },
    {
      "cell_type": "code",
      "source": [
        "modelclasses = [\n",
        "    [\"Logistic Regression\", LogisticRegression],\n",
        "    [\"Decision Tree Classifier\", DecisionTreeClassifier],\n",
        "    [\"Random Forest Classifier\", RandomForestClassifier],\n",
        "    [\"K Neighbors Classifier\", KNeighborsClassifier],\n",
        "    [\"Naive Bayes\", GaussianNB],\n",
        "    [\"Support Vector Machines\", SVC]\n",
        "]"
      ],
      "metadata": {
        "id": "s3iAs5rBwSb1"
      },
      "execution_count": 46,
      "outputs": []
    },
    {
      "cell_type": "code",
      "source": [
        "insights = []\n",
        "for modelname, Model in modelclasses:\n",
        "    model = Model()\n",
        "    model.fit(X_train[numeric_cols + encoded_cols], y_train)\n",
        "    score = model.score(X_train[numeric_cols + encoded_cols], y_train)        \n",
        "    insights.append((modelname, score))"
      ],
      "metadata": {
        "scrolled": true,
        "colab": {
          "base_uri": "https://localhost:8080/"
        },
        "id": "fOQxP4FHwSb1",
        "outputId": "fbb7a7b1-5fed-4666-9ae3-f2db4bdb770b"
      },
      "execution_count": 47,
      "outputs": [
        {
          "output_type": "stream",
          "name": "stderr",
          "text": [
            "/usr/local/lib/python3.7/dist-packages/sklearn/linear_model/_logistic.py:818: ConvergenceWarning:\n",
            "\n",
            "lbfgs failed to converge (status=1):\n",
            "STOP: TOTAL NO. of ITERATIONS REACHED LIMIT.\n",
            "\n",
            "Increase the number of iterations (max_iter) or scale the data as shown in:\n",
            "    https://scikit-learn.org/stable/modules/preprocessing.html\n",
            "Please also refer to the documentation for alternative solver options:\n",
            "    https://scikit-learn.org/stable/modules/linear_model.html#logistic-regression\n",
            "\n"
          ]
        }
      ]
    },
    {
      "cell_type": "code",
      "source": [
        "insights.sort(key=lambda x:x[-1], reverse=True)\n",
        "insights\n",
        "\n",
        "pd.DataFrame(insights, columns=[\"Model Name\", \"Score\"])"
      ],
      "metadata": {
        "colab": {
          "base_uri": "https://localhost:8080/",
          "height": 237
        },
        "id": "QVUxC7sPwSb2",
        "outputId": "a7681022-fd58-4e59-f470-8a6ee99f698a"
      },
      "execution_count": 48,
      "outputs": [
        {
          "output_type": "execute_result",
          "data": {
            "text/plain": [
              "                 Model Name     Score\n",
              "0  Decision Tree Classifier  0.937651\n",
              "1  Random Forest Classifier  0.937651\n",
              "2    K Neighbors Classifier  0.829633\n",
              "3       Logistic Regression  0.792017\n",
              "4   Support Vector Machines  0.789831\n",
              "5               Naive Bayes  0.738065"
            ],
            "text/html": [
              "\n",
              "  <div id=\"df-c097d544-c030-4e7c-898f-418350ddd1df\">\n",
              "    <div class=\"colab-df-container\">\n",
              "      <div>\n",
              "<style scoped>\n",
              "    .dataframe tbody tr th:only-of-type {\n",
              "        vertical-align: middle;\n",
              "    }\n",
              "\n",
              "    .dataframe tbody tr th {\n",
              "        vertical-align: top;\n",
              "    }\n",
              "\n",
              "    .dataframe thead th {\n",
              "        text-align: right;\n",
              "    }\n",
              "</style>\n",
              "<table border=\"1\" class=\"dataframe\">\n",
              "  <thead>\n",
              "    <tr style=\"text-align: right;\">\n",
              "      <th></th>\n",
              "      <th>Model Name</th>\n",
              "      <th>Score</th>\n",
              "    </tr>\n",
              "  </thead>\n",
              "  <tbody>\n",
              "    <tr>\n",
              "      <th>0</th>\n",
              "      <td>Decision Tree Classifier</td>\n",
              "      <td>0.937651</td>\n",
              "    </tr>\n",
              "    <tr>\n",
              "      <th>1</th>\n",
              "      <td>Random Forest Classifier</td>\n",
              "      <td>0.937651</td>\n",
              "    </tr>\n",
              "    <tr>\n",
              "      <th>2</th>\n",
              "      <td>K Neighbors Classifier</td>\n",
              "      <td>0.829633</td>\n",
              "    </tr>\n",
              "    <tr>\n",
              "      <th>3</th>\n",
              "      <td>Logistic Regression</td>\n",
              "      <td>0.792017</td>\n",
              "    </tr>\n",
              "    <tr>\n",
              "      <th>4</th>\n",
              "      <td>Support Vector Machines</td>\n",
              "      <td>0.789831</td>\n",
              "    </tr>\n",
              "    <tr>\n",
              "      <th>5</th>\n",
              "      <td>Naive Bayes</td>\n",
              "      <td>0.738065</td>\n",
              "    </tr>\n",
              "  </tbody>\n",
              "</table>\n",
              "</div>\n",
              "      <button class=\"colab-df-convert\" onclick=\"convertToInteractive('df-c097d544-c030-4e7c-898f-418350ddd1df')\"\n",
              "              title=\"Convert this dataframe to an interactive table.\"\n",
              "              style=\"display:none;\">\n",
              "        \n",
              "  <svg xmlns=\"http://www.w3.org/2000/svg\" height=\"24px\"viewBox=\"0 0 24 24\"\n",
              "       width=\"24px\">\n",
              "    <path d=\"M0 0h24v24H0V0z\" fill=\"none\"/>\n",
              "    <path d=\"M18.56 5.44l.94 2.06.94-2.06 2.06-.94-2.06-.94-.94-2.06-.94 2.06-2.06.94zm-11 1L8.5 8.5l.94-2.06 2.06-.94-2.06-.94L8.5 2.5l-.94 2.06-2.06.94zm10 10l.94 2.06.94-2.06 2.06-.94-2.06-.94-.94-2.06-.94 2.06-2.06.94z\"/><path d=\"M17.41 7.96l-1.37-1.37c-.4-.4-.92-.59-1.43-.59-.52 0-1.04.2-1.43.59L10.3 9.45l-7.72 7.72c-.78.78-.78 2.05 0 2.83L4 21.41c.39.39.9.59 1.41.59.51 0 1.02-.2 1.41-.59l7.78-7.78 2.81-2.81c.8-.78.8-2.07 0-2.86zM5.41 20L4 18.59l7.72-7.72 1.47 1.35L5.41 20z\"/>\n",
              "  </svg>\n",
              "      </button>\n",
              "      \n",
              "  <style>\n",
              "    .colab-df-container {\n",
              "      display:flex;\n",
              "      flex-wrap:wrap;\n",
              "      gap: 12px;\n",
              "    }\n",
              "\n",
              "    .colab-df-convert {\n",
              "      background-color: #E8F0FE;\n",
              "      border: none;\n",
              "      border-radius: 50%;\n",
              "      cursor: pointer;\n",
              "      display: none;\n",
              "      fill: #1967D2;\n",
              "      height: 32px;\n",
              "      padding: 0 0 0 0;\n",
              "      width: 32px;\n",
              "    }\n",
              "\n",
              "    .colab-df-convert:hover {\n",
              "      background-color: #E2EBFA;\n",
              "      box-shadow: 0px 1px 2px rgba(60, 64, 67, 0.3), 0px 1px 3px 1px rgba(60, 64, 67, 0.15);\n",
              "      fill: #174EA6;\n",
              "    }\n",
              "\n",
              "    [theme=dark] .colab-df-convert {\n",
              "      background-color: #3B4455;\n",
              "      fill: #D2E3FC;\n",
              "    }\n",
              "\n",
              "    [theme=dark] .colab-df-convert:hover {\n",
              "      background-color: #434B5C;\n",
              "      box-shadow: 0px 1px 3px 1px rgba(0, 0, 0, 0.15);\n",
              "      filter: drop-shadow(0px 1px 2px rgba(0, 0, 0, 0.3));\n",
              "      fill: #FFFFFF;\n",
              "    }\n",
              "  </style>\n",
              "\n",
              "      <script>\n",
              "        const buttonEl =\n",
              "          document.querySelector('#df-c097d544-c030-4e7c-898f-418350ddd1df button.colab-df-convert');\n",
              "        buttonEl.style.display =\n",
              "          google.colab.kernel.accessAllowed ? 'block' : 'none';\n",
              "\n",
              "        async function convertToInteractive(key) {\n",
              "          const element = document.querySelector('#df-c097d544-c030-4e7c-898f-418350ddd1df');\n",
              "          const dataTable =\n",
              "            await google.colab.kernel.invokeFunction('convertToInteractive',\n",
              "                                                     [key], {});\n",
              "          if (!dataTable) return;\n",
              "\n",
              "          const docLinkHtml = 'Like what you see? Visit the ' +\n",
              "            '<a target=\"_blank\" href=https://colab.research.google.com/notebooks/data_table.ipynb>data table notebook</a>'\n",
              "            + ' to learn more about interactive tables.';\n",
              "          element.innerHTML = '';\n",
              "          dataTable['output_type'] = 'display_data';\n",
              "          await google.colab.output.renderOutput(dataTable, element);\n",
              "          const docLink = document.createElement('div');\n",
              "          docLink.innerHTML = docLinkHtml;\n",
              "          element.appendChild(docLink);\n",
              "        }\n",
              "      </script>\n",
              "    </div>\n",
              "  </div>\n",
              "  "
            ]
          },
          "metadata": {},
          "execution_count": 48
        }
      ]
    },
    {
      "cell_type": "code",
      "source": [
        "final_model = RandomForestClassifier().fit(X_train[numeric_cols + encoded_cols], y_train)\n",
        "final_model.score(X_train[numeric_cols + encoded_cols], y_train)"
      ],
      "metadata": {
        "colab": {
          "base_uri": "https://localhost:8080/"
        },
        "id": "hSTpqyIMwSb3",
        "outputId": "cbb7b854-c1c2-4194-a44d-61292b43df8a"
      },
      "execution_count": 49,
      "outputs": [
        {
          "output_type": "execute_result",
          "data": {
            "text/plain": [
              "0.9376509835499828"
            ]
          },
          "metadata": {},
          "execution_count": 49
        }
      ]
    },
    {
      "cell_type": "code",
      "source": [
        "id_col = test_df.PassengerId\n",
        "predictions = pd.Series(final_model.predict(test_df_copy[numeric_cols + encoded_cols]), name='Transported')"
      ],
      "metadata": {
        "id": "ry6Ec4vEwSb3"
      },
      "execution_count": 50,
      "outputs": []
    },
    {
      "cell_type": "code",
      "source": [
        "df=pd.concat([id_col, predictions], axis=1)"
      ],
      "metadata": {
        "id": "0G66csc6wSb4"
      },
      "execution_count": 51,
      "outputs": []
    },
    {
      "cell_type": "code",
      "source": [
        "df.to_csv(\"RFC.csv\", index=False)"
      ],
      "metadata": {
        "id": "UlvVJU7BwSb4"
      },
      "execution_count": 53,
      "outputs": []
    },
    {
      "cell_type": "markdown",
      "source": [
        "And DONE! There we go, project SpaceShip Titanic is a go! The RandomForestClassifier, by far is the best model, which has the highest accuracy on Kaggle. PS. I tried em all!\n",
        "\n",
        "\n"
      ],
      "metadata": {
        "id": "RTjWLIudwSb5"
      }
    }
  ]
}