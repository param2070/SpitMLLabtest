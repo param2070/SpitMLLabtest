{
  "cells": [
    {
      "cell_type": "markdown",
      "metadata": {
        "id": "view-in-github",
        "colab_type": "text"
      },
      "source": [
        "<a href=\"https://colab.research.google.com/github/param2070/SpitMLLabtest/blob/main/MLExp2B.ipynb\" target=\"_parent\"><img src=\"https://colab.research.google.com/assets/colab-badge.svg\" alt=\"Open In Colab\"/></a>"
      ]
    },
    {
      "cell_type": "code",
      "execution_count": 23,
      "metadata": {
        "colab": {
          "base_uri": "https://localhost:8080/"
        },
        "id": "00gZIYwegcfQ",
        "outputId": "cee5c213-020a-47fa-8b3f-dcd64a3cbf33"
      },
      "outputs": [
        {
          "output_type": "stream",
          "name": "stdout",
          "text": [
            "Drive already mounted at /content/drive; to attempt to forcibly remount, call drive.mount(\"/content/drive\", force_remount=True).\n"
          ]
        }
      ],
      "source": [
        "from google.colab import drive\n",
        "drive.mount('/content/drive')"
      ]
    },
    {
      "cell_type": "code",
      "execution_count": 24,
      "metadata": {
        "id": "EhQMT074q-iN"
      },
      "outputs": [],
      "source": [
        "import numpy as np\n",
        "import pandas as pd\n",
        "import io\n"
      ]
    },
    {
      "cell_type": "code",
      "execution_count": 25,
      "metadata": {
        "id": "Nc6GFMKTDCN5"
      },
      "outputs": [],
      "source": [
        "df = pd.read_csv('/content/drive/MyDrive/Exp2b/train.csv', low_memory=False)\n",
        "#dftest = pd.read_csv(io.StringIO(data1['test.csv'].decode('utf-8')))"
      ]
    },
    {
      "cell_type": "code",
      "execution_count": 26,
      "metadata": {
        "id": "cqTBTOf6Dt8n",
        "outputId": "2ba760e7-32ae-4217-c576-5d232fb723d9",
        "colab": {
          "base_uri": "https://localhost:8080/"
        }
      },
      "outputs": [
        {
          "output_type": "execute_result",
          "data": {
            "text/plain": [
              "ID                           object\n",
              "Customer_ID                  object\n",
              "Month                        object\n",
              "Name                         object\n",
              "Age                          object\n",
              "SSN                          object\n",
              "Occupation                   object\n",
              "Annual_Income                object\n",
              "Monthly_Inhand_Salary       float64\n",
              "Num_Bank_Accounts             int64\n",
              "Num_Credit_Card               int64\n",
              "Interest_Rate                 int64\n",
              "Num_of_Loan                  object\n",
              "Type_of_Loan                 object\n",
              "Delay_from_due_date           int64\n",
              "Num_of_Delayed_Payment       object\n",
              "Changed_Credit_Limit         object\n",
              "Num_Credit_Inquiries        float64\n",
              "Credit_Mix                   object\n",
              "Outstanding_Debt             object\n",
              "Credit_Utilization_Ratio    float64\n",
              "Credit_History_Age           object\n",
              "Payment_of_Min_Amount        object\n",
              "Total_EMI_per_month         float64\n",
              "Amount_invested_monthly      object\n",
              "Payment_Behaviour            object\n",
              "Monthly_Balance              object\n",
              "Credit_Score                 object\n",
              "dtype: object"
            ]
          },
          "metadata": {},
          "execution_count": 26
        }
      ],
      "source": [
        "#print(dftrain.to_string())\n",
        "#df.head()\n",
        "df.dtypes"
      ]
    },
    {
      "cell_type": "code",
      "execution_count": 27,
      "metadata": {
        "id": "Hmqn_eW_D7HO",
        "outputId": "2ea30167-4e1c-4ba2-c140-04c42a18b2a8",
        "colab": {
          "base_uri": "https://localhost:8080/"
        }
      },
      "outputs": [
        {
          "output_type": "execute_result",
          "data": {
            "text/plain": [
              "ID                              0\n",
              "Customer_ID                     0\n",
              "Month                           0\n",
              "Name                         9985\n",
              "Age                             0\n",
              "SSN                             0\n",
              "Occupation                      0\n",
              "Annual_Income                   0\n",
              "Monthly_Inhand_Salary       15002\n",
              "Num_Bank_Accounts               0\n",
              "Num_Credit_Card                 0\n",
              "Interest_Rate                   0\n",
              "Num_of_Loan                     0\n",
              "Type_of_Loan                11408\n",
              "Delay_from_due_date             0\n",
              "Num_of_Delayed_Payment       7002\n",
              "Changed_Credit_Limit            0\n",
              "Num_Credit_Inquiries         1965\n",
              "Credit_Mix                      0\n",
              "Outstanding_Debt                0\n",
              "Credit_Utilization_Ratio        0\n",
              "Credit_History_Age           9030\n",
              "Payment_of_Min_Amount           0\n",
              "Total_EMI_per_month             0\n",
              "Amount_invested_monthly      4479\n",
              "Payment_Behaviour               0\n",
              "Monthly_Balance              1200\n",
              "Credit_Score                    0\n",
              "dtype: int64"
            ]
          },
          "metadata": {},
          "execution_count": 27
        }
      ],
      "source": [
        "# dftrain[\"source\"] = \"train\"\n",
        "# dftest[\"source\"] = \"test\"\n",
        "df.isnull().sum()\n",
        "#df.nunique()"
      ]
    },
    {
      "cell_type": "code",
      "execution_count": 28,
      "metadata": {
        "id": "2SbuuTclKHGj"
      },
      "outputs": [],
      "source": [
        "#df.drop(columns=['ID', 'Customer_ID', 'Month', 'Name', 'SSN'], inplace=True, axis=1)\n",
        "#print(dftrain['Annual_Income'].value_counts())"
      ]
    },
    {
      "cell_type": "code",
      "execution_count": 29,
      "metadata": {
        "id": "gDa6DJQVD-3g"
      },
      "outputs": [],
      "source": [
        "#df.isnull().sum()\n",
        "def fix_nums(num):\n",
        "    try : \n",
        "        return float(num.replace(\"_\",\"\"))\n",
        "    except :\n",
        "        return np.nan\n"
      ]
    },
    {
      "cell_type": "code",
      "execution_count": 30,
      "metadata": {
        "id": "ridgDSWqaIr9"
      },
      "outputs": [],
      "source": [
        "for col in ['Age', 'Annual_Income', 'Num_of_Loan', 'Num_of_Delayed_Payment', 'Changed_Credit_Limit', 'Amount_invested_monthly', 'Outstanding_Debt' , 'Monthly_Balance'] :\n",
        "    df[col] = df[col].apply(fix_nums)"
      ]
    },
    {
      "cell_type": "code",
      "execution_count": 31,
      "metadata": {
        "id": "aqkFBz6YNIjd"
      },
      "outputs": [],
      "source": [
        "for i in df['Type_of_Loan'].value_counts().head(9).index[1:] : \n",
        "    df[i] = df['Type_of_Loan'].str.contains(i)\n",
        "\n",
        "del df['Type_of_Loan']"
      ]
    },
    {
      "cell_type": "code",
      "execution_count": 32,
      "metadata": {
        "id": "op3ty9BcO6aV"
      },
      "outputs": [],
      "source": [
        "df['Num_Bank_Accounts'] = df['Num_Bank_Accounts'].apply(lambda x :abs (x))"
      ]
    },
    {
      "cell_type": "code",
      "source": [
        "df['Num_Credit_Card'].replace(0,1,inplace=True)\n"
      ],
      "metadata": {
        "id": "vTYYof3uv5LJ"
      },
      "execution_count": 33,
      "outputs": []
    },
    {
      "cell_type": "code",
      "source": [
        "def History_age(age):\n",
        "    try : \n",
        "        years = int(\"\".join(re.findall('[0-9]',''.join(age.split(\"and\")[0]))))\n",
        "        month = int(\"\".join(re.findall('[0-9]',''.join(age.split(\"and\")[1]))))\n",
        "        return years*12 + month\n",
        "    except :\n",
        "        return np.nan"
      ],
      "metadata": {
        "id": "MkwrLZMawC1c"
      },
      "execution_count": 34,
      "outputs": []
    },
    {
      "cell_type": "code",
      "source": [
        "df['Credit_History_Age'] = df['Credit_History_Age'].apply(History_age)"
      ],
      "metadata": {
        "id": "DAhGj51awGd9"
      },
      "execution_count": 35,
      "outputs": []
    },
    {
      "cell_type": "code",
      "source": [
        "df['Payment_of_Min_Amount'].replace(\"NM\",\"No\",inplace=True)\n",
        "df['Payment_of_Min_Amount'].value_counts()"
      ],
      "metadata": {
        "id": "uO_-jJZ1xZtK",
        "outputId": "098ff540-8579-4b98-8e0d-62bb58e18b57",
        "colab": {
          "base_uri": "https://localhost:8080/"
        }
      },
      "execution_count": 36,
      "outputs": [
        {
          "output_type": "execute_result",
          "data": {
            "text/plain": [
              "Yes    52326\n",
              "No     47674\n",
              "Name: Payment_of_Min_Amount, dtype: int64"
            ]
          },
          "metadata": {},
          "execution_count": 36
        }
      ]
    },
    {
      "cell_type": "code",
      "source": [
        "df['Payment_Behaviour']= df['Payment_Behaviour'].replace(\"!@9#%8\",np.nan)\n",
        "df['Payment_Behaviour'].value_counts()"
      ],
      "metadata": {
        "id": "0lWueuK3xrDz",
        "outputId": "1e3ac0c9-264f-4dc3-e4f7-e491e9b1251a",
        "colab": {
          "base_uri": "https://localhost:8080/"
        }
      },
      "execution_count": 37,
      "outputs": [
        {
          "output_type": "execute_result",
          "data": {
            "text/plain": [
              "Low_spent_Small_value_payments      25513\n",
              "High_spent_Medium_value_payments    17540\n",
              "Low_spent_Medium_value_payments     13861\n",
              "High_spent_Large_value_payments     13721\n",
              "High_spent_Small_value_payments     11340\n",
              "Low_spent_Large_value_payments      10425\n",
              "Name: Payment_Behaviour, dtype: int64"
            ]
          },
          "metadata": {},
          "execution_count": 37
        }
      ]
    },
    {
      "cell_type": "code",
      "execution_count": 38,
      "metadata": {
        "id": "bAyYqdgzO-ct",
        "outputId": "64dffb7a-6a0f-4293-fcf9-bc318ab39c3d",
        "colab": {
          "base_uri": "https://localhost:8080/",
          "height": 428
        }
      },
      "outputs": [
        {
          "output_type": "execute_result",
          "data": {
            "text/plain": [
              "        ID Customer_ID     Month    Name   Age          SSN    Occupation  \\\n",
              "24  0x1626  CUS_0xb891   January  Jasond  54.0  072-31-6145  Entrepreneur   \n",
              "25  0x1627  CUS_0xb891  February  Jasond  54.0  072-31-6145  Entrepreneur   \n",
              "26  0x1628  CUS_0xb891     March  Jasond  55.0  072-31-6145  Entrepreneur   \n",
              "27  0x1629  CUS_0xb891     April  Jasond  55.0  072-31-6145  Entrepreneur   \n",
              "28  0x162a  CUS_0xb891       May  Jasond  55.0  072-31-6145  Entrepreneur   \n",
              "29  0x162b  CUS_0xb891      June  Jasond  55.0    #F%$D@*&8  Entrepreneur   \n",
              "30  0x162c  CUS_0xb891      July  Jasond  55.0  072-31-6145  Entrepreneur   \n",
              "31  0x162d  CUS_0xb891    August  Jasond  55.0  072-31-6145  Entrepreneur   \n",
              "\n",
              "    Annual_Income  Monthly_Inhand_Salary  Num_Bank_Accounts  ...  \\\n",
              "24       30689.89            2612.490833                  2  ...   \n",
              "25       30689.89            2612.490833                  2  ...   \n",
              "26       30689.89            2612.490833                  2  ...   \n",
              "27       30689.89            2612.490833                  2  ...   \n",
              "28       30689.89            2612.490833                  2  ...   \n",
              "29       30689.89            2612.490833                  2  ...   \n",
              "30       30689.89            2612.490833                  2  ...   \n",
              "31       30689.89            2612.490833                  2  ...   \n",
              "\n",
              "    Monthly_Balance  Credit_Score  Credit-Builder Loan  Personal Loan  \\\n",
              "24       433.604773      Standard                False          False   \n",
              "25       409.951812      Standard                False          False   \n",
              "26       411.427123      Standard                False          False   \n",
              "27       262.499594      Standard                False          False   \n",
              "28       359.374916      Standard                False          False   \n",
              "29       419.880784      Standard                False          False   \n",
              "30       443.549957      Standard                False          False   \n",
              "31       379.216381      Standard                False          False   \n",
              "\n",
              "    Debt Consolidation Loan  Student Loan  Payday Loan Mortgage Loan  \\\n",
              "24                    False         False        False         False   \n",
              "25                    False         False        False         False   \n",
              "26                    False         False        False         False   \n",
              "27                    False         False        False         False   \n",
              "28                    False         False        False         False   \n",
              "29                    False         False        False         False   \n",
              "30                    False         False        False         False   \n",
              "31                    False         False        False         False   \n",
              "\n",
              "    Auto Loan  Home Equity Loan  \n",
              "24      False             False  \n",
              "25      False             False  \n",
              "26      False             False  \n",
              "27      False             False  \n",
              "28      False             False  \n",
              "29      False             False  \n",
              "30      False             False  \n",
              "31      False             False  \n",
              "\n",
              "[8 rows x 35 columns]"
            ],
            "text/html": [
              "\n",
              "  <div id=\"df-c348d015-2751-4e4c-9061-60ef51b3e063\">\n",
              "    <div class=\"colab-df-container\">\n",
              "      <div>\n",
              "<style scoped>\n",
              "    .dataframe tbody tr th:only-of-type {\n",
              "        vertical-align: middle;\n",
              "    }\n",
              "\n",
              "    .dataframe tbody tr th {\n",
              "        vertical-align: top;\n",
              "    }\n",
              "\n",
              "    .dataframe thead th {\n",
              "        text-align: right;\n",
              "    }\n",
              "</style>\n",
              "<table border=\"1\" class=\"dataframe\">\n",
              "  <thead>\n",
              "    <tr style=\"text-align: right;\">\n",
              "      <th></th>\n",
              "      <th>ID</th>\n",
              "      <th>Customer_ID</th>\n",
              "      <th>Month</th>\n",
              "      <th>Name</th>\n",
              "      <th>Age</th>\n",
              "      <th>SSN</th>\n",
              "      <th>Occupation</th>\n",
              "      <th>Annual_Income</th>\n",
              "      <th>Monthly_Inhand_Salary</th>\n",
              "      <th>Num_Bank_Accounts</th>\n",
              "      <th>...</th>\n",
              "      <th>Monthly_Balance</th>\n",
              "      <th>Credit_Score</th>\n",
              "      <th>Credit-Builder Loan</th>\n",
              "      <th>Personal Loan</th>\n",
              "      <th>Debt Consolidation Loan</th>\n",
              "      <th>Student Loan</th>\n",
              "      <th>Payday Loan</th>\n",
              "      <th>Mortgage Loan</th>\n",
              "      <th>Auto Loan</th>\n",
              "      <th>Home Equity Loan</th>\n",
              "    </tr>\n",
              "  </thead>\n",
              "  <tbody>\n",
              "    <tr>\n",
              "      <th>24</th>\n",
              "      <td>0x1626</td>\n",
              "      <td>CUS_0xb891</td>\n",
              "      <td>January</td>\n",
              "      <td>Jasond</td>\n",
              "      <td>54.0</td>\n",
              "      <td>072-31-6145</td>\n",
              "      <td>Entrepreneur</td>\n",
              "      <td>30689.89</td>\n",
              "      <td>2612.490833</td>\n",
              "      <td>2</td>\n",
              "      <td>...</td>\n",
              "      <td>433.604773</td>\n",
              "      <td>Standard</td>\n",
              "      <td>False</td>\n",
              "      <td>False</td>\n",
              "      <td>False</td>\n",
              "      <td>False</td>\n",
              "      <td>False</td>\n",
              "      <td>False</td>\n",
              "      <td>False</td>\n",
              "      <td>False</td>\n",
              "    </tr>\n",
              "    <tr>\n",
              "      <th>25</th>\n",
              "      <td>0x1627</td>\n",
              "      <td>CUS_0xb891</td>\n",
              "      <td>February</td>\n",
              "      <td>Jasond</td>\n",
              "      <td>54.0</td>\n",
              "      <td>072-31-6145</td>\n",
              "      <td>Entrepreneur</td>\n",
              "      <td>30689.89</td>\n",
              "      <td>2612.490833</td>\n",
              "      <td>2</td>\n",
              "      <td>...</td>\n",
              "      <td>409.951812</td>\n",
              "      <td>Standard</td>\n",
              "      <td>False</td>\n",
              "      <td>False</td>\n",
              "      <td>False</td>\n",
              "      <td>False</td>\n",
              "      <td>False</td>\n",
              "      <td>False</td>\n",
              "      <td>False</td>\n",
              "      <td>False</td>\n",
              "    </tr>\n",
              "    <tr>\n",
              "      <th>26</th>\n",
              "      <td>0x1628</td>\n",
              "      <td>CUS_0xb891</td>\n",
              "      <td>March</td>\n",
              "      <td>Jasond</td>\n",
              "      <td>55.0</td>\n",
              "      <td>072-31-6145</td>\n",
              "      <td>Entrepreneur</td>\n",
              "      <td>30689.89</td>\n",
              "      <td>2612.490833</td>\n",
              "      <td>2</td>\n",
              "      <td>...</td>\n",
              "      <td>411.427123</td>\n",
              "      <td>Standard</td>\n",
              "      <td>False</td>\n",
              "      <td>False</td>\n",
              "      <td>False</td>\n",
              "      <td>False</td>\n",
              "      <td>False</td>\n",
              "      <td>False</td>\n",
              "      <td>False</td>\n",
              "      <td>False</td>\n",
              "    </tr>\n",
              "    <tr>\n",
              "      <th>27</th>\n",
              "      <td>0x1629</td>\n",
              "      <td>CUS_0xb891</td>\n",
              "      <td>April</td>\n",
              "      <td>Jasond</td>\n",
              "      <td>55.0</td>\n",
              "      <td>072-31-6145</td>\n",
              "      <td>Entrepreneur</td>\n",
              "      <td>30689.89</td>\n",
              "      <td>2612.490833</td>\n",
              "      <td>2</td>\n",
              "      <td>...</td>\n",
              "      <td>262.499594</td>\n",
              "      <td>Standard</td>\n",
              "      <td>False</td>\n",
              "      <td>False</td>\n",
              "      <td>False</td>\n",
              "      <td>False</td>\n",
              "      <td>False</td>\n",
              "      <td>False</td>\n",
              "      <td>False</td>\n",
              "      <td>False</td>\n",
              "    </tr>\n",
              "    <tr>\n",
              "      <th>28</th>\n",
              "      <td>0x162a</td>\n",
              "      <td>CUS_0xb891</td>\n",
              "      <td>May</td>\n",
              "      <td>Jasond</td>\n",
              "      <td>55.0</td>\n",
              "      <td>072-31-6145</td>\n",
              "      <td>Entrepreneur</td>\n",
              "      <td>30689.89</td>\n",
              "      <td>2612.490833</td>\n",
              "      <td>2</td>\n",
              "      <td>...</td>\n",
              "      <td>359.374916</td>\n",
              "      <td>Standard</td>\n",
              "      <td>False</td>\n",
              "      <td>False</td>\n",
              "      <td>False</td>\n",
              "      <td>False</td>\n",
              "      <td>False</td>\n",
              "      <td>False</td>\n",
              "      <td>False</td>\n",
              "      <td>False</td>\n",
              "    </tr>\n",
              "    <tr>\n",
              "      <th>29</th>\n",
              "      <td>0x162b</td>\n",
              "      <td>CUS_0xb891</td>\n",
              "      <td>June</td>\n",
              "      <td>Jasond</td>\n",
              "      <td>55.0</td>\n",
              "      <td>#F%$D@*&amp;8</td>\n",
              "      <td>Entrepreneur</td>\n",
              "      <td>30689.89</td>\n",
              "      <td>2612.490833</td>\n",
              "      <td>2</td>\n",
              "      <td>...</td>\n",
              "      <td>419.880784</td>\n",
              "      <td>Standard</td>\n",
              "      <td>False</td>\n",
              "      <td>False</td>\n",
              "      <td>False</td>\n",
              "      <td>False</td>\n",
              "      <td>False</td>\n",
              "      <td>False</td>\n",
              "      <td>False</td>\n",
              "      <td>False</td>\n",
              "    </tr>\n",
              "    <tr>\n",
              "      <th>30</th>\n",
              "      <td>0x162c</td>\n",
              "      <td>CUS_0xb891</td>\n",
              "      <td>July</td>\n",
              "      <td>Jasond</td>\n",
              "      <td>55.0</td>\n",
              "      <td>072-31-6145</td>\n",
              "      <td>Entrepreneur</td>\n",
              "      <td>30689.89</td>\n",
              "      <td>2612.490833</td>\n",
              "      <td>2</td>\n",
              "      <td>...</td>\n",
              "      <td>443.549957</td>\n",
              "      <td>Standard</td>\n",
              "      <td>False</td>\n",
              "      <td>False</td>\n",
              "      <td>False</td>\n",
              "      <td>False</td>\n",
              "      <td>False</td>\n",
              "      <td>False</td>\n",
              "      <td>False</td>\n",
              "      <td>False</td>\n",
              "    </tr>\n",
              "    <tr>\n",
              "      <th>31</th>\n",
              "      <td>0x162d</td>\n",
              "      <td>CUS_0xb891</td>\n",
              "      <td>August</td>\n",
              "      <td>Jasond</td>\n",
              "      <td>55.0</td>\n",
              "      <td>072-31-6145</td>\n",
              "      <td>Entrepreneur</td>\n",
              "      <td>30689.89</td>\n",
              "      <td>2612.490833</td>\n",
              "      <td>2</td>\n",
              "      <td>...</td>\n",
              "      <td>379.216381</td>\n",
              "      <td>Standard</td>\n",
              "      <td>False</td>\n",
              "      <td>False</td>\n",
              "      <td>False</td>\n",
              "      <td>False</td>\n",
              "      <td>False</td>\n",
              "      <td>False</td>\n",
              "      <td>False</td>\n",
              "      <td>False</td>\n",
              "    </tr>\n",
              "  </tbody>\n",
              "</table>\n",
              "<p>8 rows × 35 columns</p>\n",
              "</div>\n",
              "      <button class=\"colab-df-convert\" onclick=\"convertToInteractive('df-c348d015-2751-4e4c-9061-60ef51b3e063')\"\n",
              "              title=\"Convert this dataframe to an interactive table.\"\n",
              "              style=\"display:none;\">\n",
              "        \n",
              "  <svg xmlns=\"http://www.w3.org/2000/svg\" height=\"24px\"viewBox=\"0 0 24 24\"\n",
              "       width=\"24px\">\n",
              "    <path d=\"M0 0h24v24H0V0z\" fill=\"none\"/>\n",
              "    <path d=\"M18.56 5.44l.94 2.06.94-2.06 2.06-.94-2.06-.94-.94-2.06-.94 2.06-2.06.94zm-11 1L8.5 8.5l.94-2.06 2.06-.94-2.06-.94L8.5 2.5l-.94 2.06-2.06.94zm10 10l.94 2.06.94-2.06 2.06-.94-2.06-.94-.94-2.06-.94 2.06-2.06.94z\"/><path d=\"M17.41 7.96l-1.37-1.37c-.4-.4-.92-.59-1.43-.59-.52 0-1.04.2-1.43.59L10.3 9.45l-7.72 7.72c-.78.78-.78 2.05 0 2.83L4 21.41c.39.39.9.59 1.41.59.51 0 1.02-.2 1.41-.59l7.78-7.78 2.81-2.81c.8-.78.8-2.07 0-2.86zM5.41 20L4 18.59l7.72-7.72 1.47 1.35L5.41 20z\"/>\n",
              "  </svg>\n",
              "      </button>\n",
              "      \n",
              "  <style>\n",
              "    .colab-df-container {\n",
              "      display:flex;\n",
              "      flex-wrap:wrap;\n",
              "      gap: 12px;\n",
              "    }\n",
              "\n",
              "    .colab-df-convert {\n",
              "      background-color: #E8F0FE;\n",
              "      border: none;\n",
              "      border-radius: 50%;\n",
              "      cursor: pointer;\n",
              "      display: none;\n",
              "      fill: #1967D2;\n",
              "      height: 32px;\n",
              "      padding: 0 0 0 0;\n",
              "      width: 32px;\n",
              "    }\n",
              "\n",
              "    .colab-df-convert:hover {\n",
              "      background-color: #E2EBFA;\n",
              "      box-shadow: 0px 1px 2px rgba(60, 64, 67, 0.3), 0px 1px 3px 1px rgba(60, 64, 67, 0.15);\n",
              "      fill: #174EA6;\n",
              "    }\n",
              "\n",
              "    [theme=dark] .colab-df-convert {\n",
              "      background-color: #3B4455;\n",
              "      fill: #D2E3FC;\n",
              "    }\n",
              "\n",
              "    [theme=dark] .colab-df-convert:hover {\n",
              "      background-color: #434B5C;\n",
              "      box-shadow: 0px 1px 3px 1px rgba(0, 0, 0, 0.15);\n",
              "      filter: drop-shadow(0px 1px 2px rgba(0, 0, 0, 0.3));\n",
              "      fill: #FFFFFF;\n",
              "    }\n",
              "  </style>\n",
              "\n",
              "      <script>\n",
              "        const buttonEl =\n",
              "          document.querySelector('#df-c348d015-2751-4e4c-9061-60ef51b3e063 button.colab-df-convert');\n",
              "        buttonEl.style.display =\n",
              "          google.colab.kernel.accessAllowed ? 'block' : 'none';\n",
              "\n",
              "        async function convertToInteractive(key) {\n",
              "          const element = document.querySelector('#df-c348d015-2751-4e4c-9061-60ef51b3e063');\n",
              "          const dataTable =\n",
              "            await google.colab.kernel.invokeFunction('convertToInteractive',\n",
              "                                                     [key], {});\n",
              "          if (!dataTable) return;\n",
              "\n",
              "          const docLinkHtml = 'Like what you see? Visit the ' +\n",
              "            '<a target=\"_blank\" href=https://colab.research.google.com/notebooks/data_table.ipynb>data table notebook</a>'\n",
              "            + ' to learn more about interactive tables.';\n",
              "          element.innerHTML = '';\n",
              "          dataTable['output_type'] = 'display_data';\n",
              "          await google.colab.output.renderOutput(dataTable, element);\n",
              "          const docLink = document.createElement('div');\n",
              "          docLink.innerHTML = docLinkHtml;\n",
              "          element.appendChild(docLink);\n",
              "        }\n",
              "      </script>\n",
              "    </div>\n",
              "  </div>\n",
              "  "
            ]
          },
          "metadata": {},
          "execution_count": 38
        }
      ],
      "source": [
        "id_ = \"CUS_0xb891\"\n",
        "oc = df[df['Customer_ID'] == id_]['Occupation'].mode()[0]\n",
        "df[df['Customer_ID'] == id_].replace(\"_______\",oc)"
      ]
    },
    {
      "cell_type": "code",
      "execution_count": 39,
      "metadata": {
        "id": "X9H6Uiosf37c"
      },
      "outputs": [],
      "source": [
        "for ID in df[df['Occupation'] == \"_______\"]['Customer_ID'] : \n",
        "    oc = df[df['Customer_ID'] == ID]['Occupation'].mode()[0]\n",
        "    df[df['Customer_ID'] == ID] = df[df['Customer_ID'] == ID].replace(\"_______\",oc)"
      ]
    },
    {
      "cell_type": "code",
      "execution_count": 40,
      "metadata": {
        "id": "OXiHcK9rqPjh"
      },
      "outputs": [],
      "source": [
        "df['Occupation'] = df['Occupation'].replace(\"_______\",df['Occupation'].mode()[0])"
      ]
    },
    {
      "cell_type": "code",
      "execution_count": 41,
      "metadata": {
        "id": "caQ3GYxemu3U"
      },
      "outputs": [],
      "source": [
        "m = {\n",
        "    \"Bad\":0,\n",
        "    \"Standard\":1,\n",
        "    \"Good\":2,\n",
        "    \"_\":np.nan\n",
        "}\n",
        "df['Credit_Mix'] = df['Credit_Mix'].map(m)"
      ]
    },
    {
      "cell_type": "code",
      "source": [
        "for col in list(df.columns[-8:]):\n",
        "    df[col] = df[col].astype(float)\n",
        "IDs = 1 \n",
        "for ID in df['Customer_ID'].unique() :\n",
        "    df['Customer_ID'] = df['Customer_ID'].replace(ID,IDs)\n",
        "    IDs += 1 "
      ],
      "metadata": {
        "id": "PU1CjKuWA0ED"
      },
      "execution_count": 42,
      "outputs": []
    },
    {
      "cell_type": "code",
      "source": [
        "from sklearn.impute import KNNImputer\n",
        "imputer = KNNImputer(n_neighbors=1)\n",
        "Numericals = df.select_dtypes(exclude='object').columns[1:]\n",
        "Numericals"
      ],
      "metadata": {
        "id": "MjIiEwp9Clzi",
        "outputId": "40150fae-4d7e-416d-9f90-fc1b0a5ba1fb",
        "colab": {
          "base_uri": "https://localhost:8080/"
        }
      },
      "execution_count": 43,
      "outputs": [
        {
          "output_type": "execute_result",
          "data": {
            "text/plain": [
              "Index(['Age', 'Annual_Income', 'Monthly_Inhand_Salary', 'Num_Bank_Accounts',\n",
              "       'Num_Credit_Card', 'Interest_Rate', 'Num_of_Loan',\n",
              "       'Delay_from_due_date', 'Num_of_Delayed_Payment', 'Changed_Credit_Limit',\n",
              "       'Num_Credit_Inquiries', 'Credit_Mix', 'Outstanding_Debt',\n",
              "       'Credit_Utilization_Ratio', 'Credit_History_Age', 'Total_EMI_per_month',\n",
              "       'Amount_invested_monthly', 'Monthly_Balance', 'Credit-Builder Loan',\n",
              "       'Personal Loan', 'Debt Consolidation Loan', 'Student Loan',\n",
              "       'Payday Loan', 'Mortgage Loan', 'Auto Loan', 'Home Equity Loan'],\n",
              "      dtype='object')"
            ]
          },
          "metadata": {},
          "execution_count": 43
        }
      ]
    },
    {
      "cell_type": "code",
      "source": [
        "for col in Numericals[1:]:\n",
        "    imputer.fit(df[['Customer_ID',col]])\n",
        "    df[['Customer_ID',col]] = imputer.transform(df[['Customer_ID',col]])"
      ],
      "metadata": {
        "id": "Q6s2btnMCpMd",
        "outputId": "d5c858ff-5162-45cd-e013-bf0f015a9561",
        "colab": {
          "base_uri": "https://localhost:8080/",
          "height": 345
        }
      },
      "execution_count": 44,
      "outputs": [
        {
          "output_type": "error",
          "ename": "ValueError",
          "evalue": "ignored",
          "traceback": [
            "\u001b[0;31m---------------------------------------------------------------------------\u001b[0m",
            "\u001b[0;31mValueError\u001b[0m                                Traceback (most recent call last)",
            "\u001b[0;32m<ipython-input-44-0a4e9860376d>\u001b[0m in \u001b[0;36m<module>\u001b[0;34m\u001b[0m\n\u001b[1;32m      1\u001b[0m \u001b[0;32mfor\u001b[0m \u001b[0mcol\u001b[0m \u001b[0;32min\u001b[0m \u001b[0mNumericals\u001b[0m\u001b[0;34m[\u001b[0m\u001b[0;36m1\u001b[0m\u001b[0;34m:\u001b[0m\u001b[0;34m]\u001b[0m\u001b[0;34m:\u001b[0m\u001b[0;34m\u001b[0m\u001b[0;34m\u001b[0m\u001b[0m\n\u001b[1;32m      2\u001b[0m     \u001b[0mimputer\u001b[0m\u001b[0;34m.\u001b[0m\u001b[0mfit\u001b[0m\u001b[0;34m(\u001b[0m\u001b[0mdf\u001b[0m\u001b[0;34m[\u001b[0m\u001b[0;34m[\u001b[0m\u001b[0;34m'Customer_ID'\u001b[0m\u001b[0;34m,\u001b[0m\u001b[0mcol\u001b[0m\u001b[0;34m]\u001b[0m\u001b[0;34m]\u001b[0m\u001b[0;34m)\u001b[0m\u001b[0;34m\u001b[0m\u001b[0;34m\u001b[0m\u001b[0m\n\u001b[0;32m----> 3\u001b[0;31m     \u001b[0mdf\u001b[0m\u001b[0;34m[\u001b[0m\u001b[0;34m[\u001b[0m\u001b[0;34m'Customer_ID'\u001b[0m\u001b[0;34m,\u001b[0m\u001b[0mcol\u001b[0m\u001b[0;34m]\u001b[0m\u001b[0;34m]\u001b[0m \u001b[0;34m=\u001b[0m \u001b[0mimputer\u001b[0m\u001b[0;34m.\u001b[0m\u001b[0mtransform\u001b[0m\u001b[0;34m(\u001b[0m\u001b[0mdf\u001b[0m\u001b[0;34m[\u001b[0m\u001b[0;34m[\u001b[0m\u001b[0;34m'Customer_ID'\u001b[0m\u001b[0;34m,\u001b[0m\u001b[0mcol\u001b[0m\u001b[0;34m]\u001b[0m\u001b[0;34m]\u001b[0m\u001b[0;34m)\u001b[0m\u001b[0;34m\u001b[0m\u001b[0;34m\u001b[0m\u001b[0m\n\u001b[0m",
            "\u001b[0;32m/usr/local/lib/python3.8/dist-packages/pandas/core/frame.py\u001b[0m in \u001b[0;36m__setitem__\u001b[0;34m(self, key, value)\u001b[0m\n\u001b[1;32m   3598\u001b[0m             \u001b[0mself\u001b[0m\u001b[0;34m.\u001b[0m\u001b[0m_setitem_frame\u001b[0m\u001b[0;34m(\u001b[0m\u001b[0mkey\u001b[0m\u001b[0;34m,\u001b[0m \u001b[0mvalue\u001b[0m\u001b[0;34m)\u001b[0m\u001b[0;34m\u001b[0m\u001b[0;34m\u001b[0m\u001b[0m\n\u001b[1;32m   3599\u001b[0m         \u001b[0;32melif\u001b[0m \u001b[0misinstance\u001b[0m\u001b[0;34m(\u001b[0m\u001b[0mkey\u001b[0m\u001b[0;34m,\u001b[0m \u001b[0;34m(\u001b[0m\u001b[0mSeries\u001b[0m\u001b[0;34m,\u001b[0m \u001b[0mnp\u001b[0m\u001b[0;34m.\u001b[0m\u001b[0mndarray\u001b[0m\u001b[0;34m,\u001b[0m \u001b[0mlist\u001b[0m\u001b[0;34m,\u001b[0m \u001b[0mIndex\u001b[0m\u001b[0;34m)\u001b[0m\u001b[0;34m)\u001b[0m\u001b[0;34m:\u001b[0m\u001b[0;34m\u001b[0m\u001b[0;34m\u001b[0m\u001b[0m\n\u001b[0;32m-> 3600\u001b[0;31m             \u001b[0mself\u001b[0m\u001b[0;34m.\u001b[0m\u001b[0m_setitem_array\u001b[0m\u001b[0;34m(\u001b[0m\u001b[0mkey\u001b[0m\u001b[0;34m,\u001b[0m \u001b[0mvalue\u001b[0m\u001b[0;34m)\u001b[0m\u001b[0;34m\u001b[0m\u001b[0;34m\u001b[0m\u001b[0m\n\u001b[0m\u001b[1;32m   3601\u001b[0m         \u001b[0;32melif\u001b[0m \u001b[0misinstance\u001b[0m\u001b[0;34m(\u001b[0m\u001b[0mvalue\u001b[0m\u001b[0;34m,\u001b[0m \u001b[0mDataFrame\u001b[0m\u001b[0;34m)\u001b[0m\u001b[0;34m:\u001b[0m\u001b[0;34m\u001b[0m\u001b[0;34m\u001b[0m\u001b[0m\n\u001b[1;32m   3602\u001b[0m             \u001b[0mself\u001b[0m\u001b[0;34m.\u001b[0m\u001b[0m_set_item_frame_value\u001b[0m\u001b[0;34m(\u001b[0m\u001b[0mkey\u001b[0m\u001b[0;34m,\u001b[0m \u001b[0mvalue\u001b[0m\u001b[0;34m)\u001b[0m\u001b[0;34m\u001b[0m\u001b[0;34m\u001b[0m\u001b[0m\n",
            "\u001b[0;32m/usr/local/lib/python3.8/dist-packages/pandas/core/frame.py\u001b[0m in \u001b[0;36m_setitem_array\u001b[0;34m(self, key, value)\u001b[0m\n\u001b[1;32m   3646\u001b[0m \u001b[0;34m\u001b[0m\u001b[0m\n\u001b[1;32m   3647\u001b[0m             \u001b[0;32melif\u001b[0m \u001b[0misinstance\u001b[0m\u001b[0;34m(\u001b[0m\u001b[0mvalue\u001b[0m\u001b[0;34m,\u001b[0m \u001b[0mnp\u001b[0m\u001b[0;34m.\u001b[0m\u001b[0mndarray\u001b[0m\u001b[0;34m)\u001b[0m \u001b[0;32mand\u001b[0m \u001b[0mvalue\u001b[0m\u001b[0;34m.\u001b[0m\u001b[0mndim\u001b[0m \u001b[0;34m==\u001b[0m \u001b[0;36m2\u001b[0m\u001b[0;34m:\u001b[0m\u001b[0;34m\u001b[0m\u001b[0;34m\u001b[0m\u001b[0m\n\u001b[0;32m-> 3648\u001b[0;31m                 \u001b[0mself\u001b[0m\u001b[0;34m.\u001b[0m\u001b[0m_iset_not_inplace\u001b[0m\u001b[0;34m(\u001b[0m\u001b[0mkey\u001b[0m\u001b[0;34m,\u001b[0m \u001b[0mvalue\u001b[0m\u001b[0;34m)\u001b[0m\u001b[0;34m\u001b[0m\u001b[0;34m\u001b[0m\u001b[0m\n\u001b[0m\u001b[1;32m   3649\u001b[0m \u001b[0;34m\u001b[0m\u001b[0m\n\u001b[1;32m   3650\u001b[0m             \u001b[0;32melif\u001b[0m \u001b[0mnp\u001b[0m\u001b[0;34m.\u001b[0m\u001b[0mndim\u001b[0m\u001b[0;34m(\u001b[0m\u001b[0mvalue\u001b[0m\u001b[0;34m)\u001b[0m \u001b[0;34m>\u001b[0m \u001b[0;36m1\u001b[0m\u001b[0;34m:\u001b[0m\u001b[0;34m\u001b[0m\u001b[0;34m\u001b[0m\u001b[0m\n",
            "\u001b[0;32m/usr/local/lib/python3.8/dist-packages/pandas/core/frame.py\u001b[0m in \u001b[0;36m_iset_not_inplace\u001b[0;34m(self, key, value)\u001b[0m\n\u001b[1;32m   3673\u001b[0m         \u001b[0;32mif\u001b[0m \u001b[0mself\u001b[0m\u001b[0;34m.\u001b[0m\u001b[0mcolumns\u001b[0m\u001b[0;34m.\u001b[0m\u001b[0mis_unique\u001b[0m\u001b[0;34m:\u001b[0m\u001b[0;34m\u001b[0m\u001b[0;34m\u001b[0m\u001b[0m\n\u001b[1;32m   3674\u001b[0m             \u001b[0;32mif\u001b[0m \u001b[0mnp\u001b[0m\u001b[0;34m.\u001b[0m\u001b[0mshape\u001b[0m\u001b[0;34m(\u001b[0m\u001b[0mvalue\u001b[0m\u001b[0;34m)\u001b[0m\u001b[0;34m[\u001b[0m\u001b[0;34m-\u001b[0m\u001b[0;36m1\u001b[0m\u001b[0;34m]\u001b[0m \u001b[0;34m!=\u001b[0m \u001b[0mlen\u001b[0m\u001b[0;34m(\u001b[0m\u001b[0mkey\u001b[0m\u001b[0;34m)\u001b[0m\u001b[0;34m:\u001b[0m\u001b[0;34m\u001b[0m\u001b[0;34m\u001b[0m\u001b[0m\n\u001b[0;32m-> 3675\u001b[0;31m                 \u001b[0;32mraise\u001b[0m \u001b[0mValueError\u001b[0m\u001b[0;34m(\u001b[0m\u001b[0;34m\"Columns must be same length as key\"\u001b[0m\u001b[0;34m)\u001b[0m\u001b[0;34m\u001b[0m\u001b[0;34m\u001b[0m\u001b[0m\n\u001b[0m\u001b[1;32m   3676\u001b[0m \u001b[0;34m\u001b[0m\u001b[0m\n\u001b[1;32m   3677\u001b[0m             \u001b[0;32mfor\u001b[0m \u001b[0mi\u001b[0m\u001b[0;34m,\u001b[0m \u001b[0mcol\u001b[0m \u001b[0;32min\u001b[0m \u001b[0menumerate\u001b[0m\u001b[0;34m(\u001b[0m\u001b[0mkey\u001b[0m\u001b[0;34m)\u001b[0m\u001b[0;34m:\u001b[0m\u001b[0;34m\u001b[0m\u001b[0;34m\u001b[0m\u001b[0m\n",
            "\u001b[0;31mValueError\u001b[0m: Columns must be same length as key"
          ]
        }
      ]
    }
  ],
  "metadata": {
    "colab": {
      "provenance": [],
      "include_colab_link": true
    },
    "kernelspec": {
      "display_name": "Python 3",
      "name": "python3"
    },
    "language_info": {
      "name": "python"
    }
  },
  "nbformat": 4,
  "nbformat_minor": 0
}